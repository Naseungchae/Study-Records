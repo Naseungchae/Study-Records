{
 "cells": [
  {
   "cell_type": "markdown",
   "id": "4e755882",
   "metadata": {},
   "source": [
    "# XGBoost\n",
    "\n",
    "- 트리 기반의 앙상블 기법\n",
    "- 분류에 있어서 다른 알고리즘보다 좋은 예측 성능을 보여준다.\n",
    "- XGBoost는 GBM 기반이지만, GBM의 단점인 느린 수행 시간과 과적합 규제 부재 등의 문제를 해결\n",
    "- 병렬 CPU 환경에서 빠르게 학습이 가능하다."
   ]
  },
  {
   "cell_type": "code",
   "execution_count": 40,
   "id": "694f7c5b",
   "metadata": {
    "ExecuteTime": {
     "end_time": "2022-02-17T12:18:53.027747Z",
     "start_time": "2022-02-17T12:18:52.972863Z"
    }
   },
   "outputs": [],
   "source": [
    "import warnings\n",
    "warnings.filterwarnings(action='ignore')\n",
    "import numpy as np\n",
    "import pandas as pd\n",
    "from sklearn.datasets import load_iris, load_boston\n",
    "from sklearn.model_selection import train_test_split, cross_validate\n",
    "from sklearn.metrics import accuracy_score, precision_score, recall_score\n",
    "import xgboost as xgb\n",
    "from xgboost import XGBClassifier, XGBRegressor\n",
    "from xgboost import plot_importance, plot_tree\n",
    "import matplotlib.pyplot as plt\n",
    "\n",
    "iris = load_iris()\n",
    "wine = load_wine()\n",
    "cancer = load_breast_cancer()\n",
    "boston = load_boston()\n",
    "diabetes = load_diabetes()"
   ]
  },
  {
   "cell_type": "markdown",
   "id": "003e60c3",
   "metadata": {},
   "source": [
    "## 파이썬 기반의 XGBoost"
   ]
  },
  {
   "cell_type": "code",
   "execution_count": 15,
   "id": "59e52e5d",
   "metadata": {
    "ExecuteTime": {
     "end_time": "2022-02-17T11:43:38.466364Z",
     "start_time": "2022-02-17T11:43:38.444424Z"
    }
   },
   "outputs": [],
   "source": [
    "X_train, X_test, y_train, y_test = train_test_split(cancer.data, cancer.target, test_size = 0.2, random_state = 123)\n",
    "\n",
    "dtrain = xgb.DMatrix(data = X_train, label = y_train)\n",
    "dtest = xgb.DMatrix(data = X_test, label = y_test)"
   ]
  },
  {
   "cell_type": "code",
   "execution_count": 19,
   "id": "c07ddee3",
   "metadata": {
    "ExecuteTime": {
     "end_time": "2022-02-17T11:50:34.328242Z",
     "start_time": "2022-02-17T11:50:34.318269Z"
    }
   },
   "outputs": [],
   "source": [
    "params = {\n",
    "    \"max_depth\" : 3,\n",
    "    \"eta\" : 0.1,\n",
    "    \"objective\" : \"binary:logistic\",\n",
    "    \"eval_metric\" : \"logloss\",\n",
    "    \"early_stopping\" : 100\n",
    "}\n",
    "\n",
    "num_rounds = 400\n",
    "\n",
    "evals = [(dtrain, \"train\"), (dtest, \"eval\")]"
   ]
  },
  {
   "cell_type": "code",
   "execution_count": 20,
   "id": "6cac1236",
   "metadata": {
    "ExecuteTime": {
     "end_time": "2022-02-17T11:50:36.258739Z",
     "start_time": "2022-02-17T11:50:35.592525Z"
    },
    "scrolled": true
   },
   "outputs": [
    {
     "name": "stdout",
     "output_type": "stream",
     "text": [
      "[20:50:35] WARNING: ..\\src\\learner.cc:576: \n",
      "Parameters: { \"early_stopping\" } might not be used.\n",
      "\n",
      "  This could be a false alarm, with some parameters getting used by language bindings but\n",
      "  then being mistakenly passed down to XGBoost core, or some parameter actually being used\n",
      "  but getting flagged wrongly here. Please open an issue if you find any such cases.\n",
      "\n",
      "\n",
      "[0]\ttrain-logloss:0.60944\teval-logloss:0.61010\n",
      "[1]\ttrain-logloss:0.54047\teval-logloss:0.54074\n",
      "[2]\ttrain-logloss:0.48211\teval-logloss:0.48490\n",
      "[3]\ttrain-logloss:0.43365\teval-logloss:0.43922\n",
      "[4]\ttrain-logloss:0.39072\teval-logloss:0.39791\n",
      "[5]\ttrain-logloss:0.35372\teval-logloss:0.36211\n",
      "[6]\ttrain-logloss:0.32222\teval-logloss:0.32996\n",
      "[7]\ttrain-logloss:0.29292\teval-logloss:0.30179\n",
      "[8]\ttrain-logloss:0.26731\teval-logloss:0.27801\n",
      "[9]\ttrain-logloss:0.24409\teval-logloss:0.25775\n",
      "[10]\ttrain-logloss:0.22517\teval-logloss:0.24037\n",
      "[11]\ttrain-logloss:0.20807\teval-logloss:0.22271\n",
      "[12]\ttrain-logloss:0.19177\teval-logloss:0.20795\n",
      "[13]\ttrain-logloss:0.17746\teval-logloss:0.19531\n",
      "[14]\ttrain-logloss:0.16408\teval-logloss:0.18460\n",
      "[15]\ttrain-logloss:0.15250\teval-logloss:0.17183\n",
      "[16]\ttrain-logloss:0.14198\teval-logloss:0.16152\n",
      "[17]\ttrain-logloss:0.13270\teval-logloss:0.15443\n",
      "[18]\ttrain-logloss:0.12326\teval-logloss:0.14913\n",
      "[19]\ttrain-logloss:0.11591\teval-logloss:0.14175\n",
      "[20]\ttrain-logloss:0.10884\teval-logloss:0.13378\n",
      "[21]\ttrain-logloss:0.10239\teval-logloss:0.12809\n",
      "[22]\ttrain-logloss:0.09642\teval-logloss:0.12310\n",
      "[23]\ttrain-logloss:0.09119\teval-logloss:0.11735\n",
      "[24]\ttrain-logloss:0.08610\teval-logloss:0.11254\n",
      "[25]\ttrain-logloss:0.08099\teval-logloss:0.11103\n",
      "[26]\ttrain-logloss:0.07652\teval-logloss:0.10784\n",
      "[27]\ttrain-logloss:0.07218\teval-logloss:0.10637\n",
      "[28]\ttrain-logloss:0.06852\teval-logloss:0.10329\n",
      "[29]\ttrain-logloss:0.06528\teval-logloss:0.10023\n",
      "[30]\ttrain-logloss:0.06210\teval-logloss:0.09734\n",
      "[31]\ttrain-logloss:0.05907\teval-logloss:0.09495\n",
      "[32]\ttrain-logloss:0.05643\teval-logloss:0.09249\n",
      "[33]\ttrain-logloss:0.05375\teval-logloss:0.09052\n",
      "[34]\ttrain-logloss:0.05139\teval-logloss:0.08892\n",
      "[35]\ttrain-logloss:0.04934\teval-logloss:0.08715\n",
      "[36]\ttrain-logloss:0.04722\teval-logloss:0.08596\n",
      "[37]\ttrain-logloss:0.04532\teval-logloss:0.08400\n",
      "[38]\ttrain-logloss:0.04353\teval-logloss:0.08311\n",
      "[39]\ttrain-logloss:0.04177\teval-logloss:0.08118\n",
      "[40]\ttrain-logloss:0.04024\teval-logloss:0.07966\n",
      "[41]\ttrain-logloss:0.03880\teval-logloss:0.07900\n",
      "[42]\ttrain-logloss:0.03753\teval-logloss:0.07877\n",
      "[43]\ttrain-logloss:0.03627\teval-logloss:0.07849\n",
      "[44]\ttrain-logloss:0.03508\teval-logloss:0.07727\n",
      "[45]\ttrain-logloss:0.03395\teval-logloss:0.07715\n",
      "[46]\ttrain-logloss:0.03276\teval-logloss:0.07628\n",
      "[47]\ttrain-logloss:0.03177\teval-logloss:0.07591\n",
      "[48]\ttrain-logloss:0.03083\teval-logloss:0.07610\n",
      "[49]\ttrain-logloss:0.02967\teval-logloss:0.07658\n",
      "[50]\ttrain-logloss:0.02871\teval-logloss:0.07621\n",
      "[51]\ttrain-logloss:0.02780\teval-logloss:0.07556\n",
      "[52]\ttrain-logloss:0.02694\teval-logloss:0.07539\n",
      "[53]\ttrain-logloss:0.02621\teval-logloss:0.07570\n",
      "[54]\ttrain-logloss:0.02551\teval-logloss:0.07568\n",
      "[55]\ttrain-logloss:0.02483\teval-logloss:0.07537\n",
      "[56]\ttrain-logloss:0.02424\teval-logloss:0.07557\n",
      "[57]\ttrain-logloss:0.02370\teval-logloss:0.07528\n",
      "[58]\ttrain-logloss:0.02305\teval-logloss:0.07551\n",
      "[59]\ttrain-logloss:0.02243\teval-logloss:0.07561\n",
      "[60]\ttrain-logloss:0.02186\teval-logloss:0.07556\n",
      "[61]\ttrain-logloss:0.02135\teval-logloss:0.07534\n",
      "[62]\ttrain-logloss:0.02087\teval-logloss:0.07603\n",
      "[63]\ttrain-logloss:0.02036\teval-logloss:0.07595\n",
      "[64]\ttrain-logloss:0.01988\teval-logloss:0.07646\n",
      "[65]\ttrain-logloss:0.01948\teval-logloss:0.07728\n",
      "[66]\ttrain-logloss:0.01905\teval-logloss:0.07730\n",
      "[67]\ttrain-logloss:0.01865\teval-logloss:0.07799\n",
      "[68]\ttrain-logloss:0.01826\teval-logloss:0.07806\n",
      "[69]\ttrain-logloss:0.01783\teval-logloss:0.07898\n",
      "[70]\ttrain-logloss:0.01752\teval-logloss:0.07841\n",
      "[71]\ttrain-logloss:0.01715\teval-logloss:0.07899\n",
      "[72]\ttrain-logloss:0.01678\teval-logloss:0.07991\n",
      "[73]\ttrain-logloss:0.01651\teval-logloss:0.08006\n",
      "[74]\ttrain-logloss:0.01615\teval-logloss:0.08071\n",
      "[75]\ttrain-logloss:0.01591\teval-logloss:0.08131\n",
      "[76]\ttrain-logloss:0.01563\teval-logloss:0.08158\n",
      "[77]\ttrain-logloss:0.01537\teval-logloss:0.08168\n",
      "[78]\ttrain-logloss:0.01509\teval-logloss:0.08221\n",
      "[79]\ttrain-logloss:0.01477\teval-logloss:0.08291\n",
      "[80]\ttrain-logloss:0.01453\teval-logloss:0.08235\n",
      "[81]\ttrain-logloss:0.01432\teval-logloss:0.08221\n",
      "[82]\ttrain-logloss:0.01413\teval-logloss:0.08198\n",
      "[83]\ttrain-logloss:0.01395\teval-logloss:0.08253\n",
      "[84]\ttrain-logloss:0.01374\teval-logloss:0.08292\n",
      "[85]\ttrain-logloss:0.01350\teval-logloss:0.08297\n",
      "[86]\ttrain-logloss:0.01329\teval-logloss:0.08268\n",
      "[87]\ttrain-logloss:0.01312\teval-logloss:0.08328\n",
      "[88]\ttrain-logloss:0.01295\teval-logloss:0.08334\n",
      "[89]\ttrain-logloss:0.01281\teval-logloss:0.08388\n",
      "[90]\ttrain-logloss:0.01263\teval-logloss:0.08419\n",
      "[91]\ttrain-logloss:0.01246\teval-logloss:0.08369\n",
      "[92]\ttrain-logloss:0.01224\teval-logloss:0.08380\n",
      "[93]\ttrain-logloss:0.01210\teval-logloss:0.08438\n",
      "[94]\ttrain-logloss:0.01196\teval-logloss:0.08443\n",
      "[95]\ttrain-logloss:0.01185\teval-logloss:0.08495\n",
      "[96]\ttrain-logloss:0.01169\teval-logloss:0.08533\n",
      "[97]\ttrain-logloss:0.01150\teval-logloss:0.08500\n",
      "[98]\ttrain-logloss:0.01137\teval-logloss:0.08553\n",
      "[99]\ttrain-logloss:0.01124\teval-logloss:0.08616\n",
      "[100]\ttrain-logloss:0.01114\teval-logloss:0.08635\n",
      "[101]\ttrain-logloss:0.01104\teval-logloss:0.08623\n",
      "[102]\ttrain-logloss:0.01094\teval-logloss:0.08689\n",
      "[103]\ttrain-logloss:0.01078\teval-logloss:0.08685\n",
      "[104]\ttrain-logloss:0.01069\teval-logloss:0.08633\n",
      "[105]\ttrain-logloss:0.01060\teval-logloss:0.08679\n",
      "[106]\ttrain-logloss:0.01051\teval-logloss:0.08744\n",
      "[107]\ttrain-logloss:0.01043\teval-logloss:0.08695\n",
      "[108]\ttrain-logloss:0.01034\teval-logloss:0.08737\n",
      "[109]\ttrain-logloss:0.01023\teval-logloss:0.08796\n",
      "[110]\ttrain-logloss:0.01015\teval-logloss:0.08771\n",
      "[111]\ttrain-logloss:0.01006\teval-logloss:0.08834\n",
      "[112]\ttrain-logloss:0.00995\teval-logloss:0.08863\n",
      "[113]\ttrain-logloss:0.00988\teval-logloss:0.08878\n",
      "[114]\ttrain-logloss:0.00980\teval-logloss:0.08831\n",
      "[115]\ttrain-logloss:0.00973\teval-logloss:0.08874\n",
      "[116]\ttrain-logloss:0.00965\teval-logloss:0.08865\n",
      "[117]\ttrain-logloss:0.00953\teval-logloss:0.08868\n",
      "[118]\ttrain-logloss:0.00945\teval-logloss:0.08930\n",
      "[119]\ttrain-logloss:0.00935\teval-logloss:0.08957\n",
      "[120]\ttrain-logloss:0.00932\teval-logloss:0.08968\n",
      "[121]\ttrain-logloss:0.00925\teval-logloss:0.08924\n",
      "[122]\ttrain-logloss:0.00918\teval-logloss:0.08966\n",
      "[123]\ttrain-logloss:0.00910\teval-logloss:0.09023\n",
      "[124]\ttrain-logloss:0.00903\teval-logloss:0.09082\n",
      "[125]\ttrain-logloss:0.00896\teval-logloss:0.09072\n",
      "[126]\ttrain-logloss:0.00893\teval-logloss:0.09083\n",
      "[127]\ttrain-logloss:0.00882\teval-logloss:0.09090\n",
      "[128]\ttrain-logloss:0.00876\teval-logloss:0.09052\n",
      "[129]\ttrain-logloss:0.00870\teval-logloss:0.09110\n",
      "[130]\ttrain-logloss:0.00865\teval-logloss:0.09069\n",
      "[131]\ttrain-logloss:0.00855\teval-logloss:0.09077\n",
      "[132]\ttrain-logloss:0.00850\teval-logloss:0.09134\n",
      "[133]\ttrain-logloss:0.00844\teval-logloss:0.09097\n",
      "[134]\ttrain-logloss:0.00835\teval-logloss:0.09124\n",
      "[135]\ttrain-logloss:0.00833\teval-logloss:0.09133\n",
      "[136]\ttrain-logloss:0.00826\teval-logloss:0.09125\n",
      "[137]\ttrain-logloss:0.00824\teval-logloss:0.09154\n",
      "[138]\ttrain-logloss:0.00819\teval-logloss:0.09176\n",
      "[139]\ttrain-logloss:0.00814\teval-logloss:0.09140\n",
      "[140]\ttrain-logloss:0.00812\teval-logloss:0.09168\n",
      "[141]\ttrain-logloss:0.00807\teval-logloss:0.09223\n",
      "[142]\ttrain-logloss:0.00801\teval-logloss:0.09277\n",
      "[143]\ttrain-logloss:0.00796\teval-logloss:0.09329\n",
      "[144]\ttrain-logloss:0.00793\teval-logloss:0.09322\n",
      "[145]\ttrain-logloss:0.00788\teval-logloss:0.09315\n",
      "[146]\ttrain-logloss:0.00784\teval-logloss:0.09336\n",
      "[147]\ttrain-logloss:0.00781\teval-logloss:0.09363\n",
      "[148]\ttrain-logloss:0.00777\teval-logloss:0.09328\n",
      "[149]\ttrain-logloss:0.00773\teval-logloss:0.09381\n",
      "[150]\ttrain-logloss:0.00771\teval-logloss:0.09407\n",
      "[151]\ttrain-logloss:0.00769\teval-logloss:0.09417\n",
      "[152]\ttrain-logloss:0.00763\teval-logloss:0.09438\n",
      "[153]\ttrain-logloss:0.00758\teval-logloss:0.09489\n",
      "[154]\ttrain-logloss:0.00755\teval-logloss:0.09527\n",
      "[155]\ttrain-logloss:0.00753\teval-logloss:0.09520\n",
      "[156]\ttrain-logloss:0.00751\teval-logloss:0.09506\n",
      "[157]\ttrain-logloss:0.00748\teval-logloss:0.09475\n"
     ]
    }
   ],
   "source": [
    "xgb_model = xgb.train(params = params, dtrain = dtrain, num_boost_round = num_rounds,\n",
    "                     early_stopping_rounds = 100, evals = evals)"
   ]
  },
  {
   "cell_type": "code",
   "execution_count": 26,
   "id": "f2efbfa3",
   "metadata": {
    "ExecuteTime": {
     "end_time": "2022-02-17T11:54:09.704063Z",
     "start_time": "2022-02-17T11:54:09.686110Z"
    }
   },
   "outputs": [
    {
     "name": "stdout",
     "output_type": "stream",
     "text": [
      "[1.    0.999 0.001 0.995 0.001]\n"
     ]
    }
   ],
   "source": [
    "predict = xgb_model.predict(dtest)\n",
    "print(np.round(predict[:5], 3))"
   ]
  },
  {
   "cell_type": "code",
   "execution_count": 30,
   "id": "6090c8a5",
   "metadata": {
    "ExecuteTime": {
     "end_time": "2022-02-17T11:58:58.466264Z",
     "start_time": "2022-02-17T11:58:58.460281Z"
    }
   },
   "outputs": [
    {
     "name": "stdout",
     "output_type": "stream",
     "text": [
      "[1, 1, 0, 1, 0]\n"
     ]
    }
   ],
   "source": [
    "preds = [1 if x > 0.5 else 0 for x in predict]\n",
    "print(preds[:5])"
   ]
  },
  {
   "cell_type": "code",
   "execution_count": 31,
   "id": "a9f38d53",
   "metadata": {
    "ExecuteTime": {
     "end_time": "2022-02-17T11:59:20.001598Z",
     "start_time": "2022-02-17T11:59:19.976660Z"
    }
   },
   "outputs": [
    {
     "name": "stdout",
     "output_type": "stream",
     "text": [
      "Accuracy : 0.9736842105263158\n",
      "Precision : 0.972972972972973\n",
      "Recall : 0.9863013698630136\n"
     ]
    }
   ],
   "source": [
    "print(\"Accuracy : {}\".format(accuracy_score(y_test, preds)))\n",
    "print(\"Precision : {}\".format(precision_score(y_test, preds)))\n",
    "print(\"Recall : {}\".format(recall_score(y_test, preds)))"
   ]
  },
  {
   "cell_type": "code",
   "execution_count": 32,
   "id": "395ce207",
   "metadata": {
    "ExecuteTime": {
     "end_time": "2022-02-17T12:00:57.980304Z",
     "start_time": "2022-02-17T12:00:57.379280Z"
    }
   },
   "outputs": [
    {
     "data": {
      "text/plain": [
       "<AxesSubplot:title={'center':'Feature importance'}, xlabel='F score', ylabel='Features'>"
      ]
     },
     "execution_count": 32,
     "metadata": {},
     "output_type": "execute_result"
    },
    {
     "data": {
      "image/png": "[encoded data removed]",
      "text/plain": [
       "<Figure size 720x864 with 1 Axes>"
      ]
     },
     "metadata": {
      "needs_background": "light"
     },
     "output_type": "display_data"
    }
   ],
   "source": [
    "fig, ax = plt.subplots(figsize = (10, 12))\n",
    "plot_importance(xgb_model, ax = ax)"
   ]
  },
  {
   "cell_type": "markdown",
   "id": "4ad2ddb7",
   "metadata": {},
   "source": [
    "## XGBClassifier"
   ]
  },
  {
   "cell_type": "code",
   "execution_count": 36,
   "id": "6672073c",
   "metadata": {
    "ExecuteTime": {
     "end_time": "2022-02-17T12:05:42.417883Z",
     "start_time": "2022-02-17T12:05:42.396940Z"
    }
   },
   "outputs": [],
   "source": [
    "X_train, X_test, y_train, y_test = train_test_split(iris.data, iris.target, test_size = 0.2, random_state = 123)"
   ]
  },
  {
   "cell_type": "code",
   "execution_count": 38,
   "id": "3d182ba7",
   "metadata": {
    "ExecuteTime": {
     "end_time": "2022-02-17T12:12:57.373381Z",
     "start_time": "2022-02-17T12:12:57.098154Z"
    }
   },
   "outputs": [
    {
     "name": "stdout",
     "output_type": "stream",
     "text": [
      "[21:12:57] WARNING: ..\\src\\learner.cc:1115: Starting in XGBoost 1.3.0, the default evaluation metric used with the objective 'multi:softprob' was changed from 'merror' to 'mlogloss'. Explicitly set eval_metric if you'd like to restore the old behavior.\n"
     ]
    }
   ],
   "source": [
    "iris_xgb_c = XGBClassifier(n_estimators = 400, learning_rate = 0.1, max_depth = 3)\n",
    "iris_xgb_c.fit(X_train, y_train)\n",
    "predict= iris_xgb_c.predict(X_test)\n",
    "preds_proba = iris_xgb_c.predict_proba(X_test)[:, 1]"
   ]
  },
  {
   "cell_type": "code",
   "execution_count": 39,
   "id": "58c49178",
   "metadata": {
    "ExecuteTime": {
     "end_time": "2022-02-17T12:16:08.168654Z",
     "start_time": "2022-02-17T12:16:06.883095Z"
    }
   },
   "outputs": [
    {
     "name": "stdout",
     "output_type": "stream",
     "text": [
      "[21:16:06] WARNING: ..\\src\\learner.cc:1115: Starting in XGBoost 1.3.0, the default evaluation metric used with the objective 'multi:softprob' was changed from 'merror' to 'mlogloss'. Explicitly set eval_metric if you'd like to restore the old behavior.\n",
      "[21:16:07] WARNING: ..\\src\\learner.cc:1115: Starting in XGBoost 1.3.0, the default evaluation metric used with the objective 'multi:softprob' was changed from 'merror' to 'mlogloss'. Explicitly set eval_metric if you'd like to restore the old behavior.\n",
      "[21:16:07] WARNING: ..\\src\\learner.cc:1115: Starting in XGBoost 1.3.0, the default evaluation metric used with the objective 'multi:softprob' was changed from 'merror' to 'mlogloss'. Explicitly set eval_metric if you'd like to restore the old behavior.\n",
      "[21:16:07] WARNING: ..\\src\\learner.cc:1115: Starting in XGBoost 1.3.0, the default evaluation metric used with the objective 'multi:softprob' was changed from 'merror' to 'mlogloss'. Explicitly set eval_metric if you'd like to restore the old behavior.\n",
      "[21:16:07] WARNING: ..\\src\\learner.cc:1115: Starting in XGBoost 1.3.0, the default evaluation metric used with the objective 'multi:softprob' was changed from 'merror' to 'mlogloss'. Explicitly set eval_metric if you'd like to restore the old behavior.\n",
      "average fit time : 0.24494524002075196 (+/- 0.016430454786757455)\n",
      "average score time : 0.004188346862792969 (+/- 0.0003996864419851642)\n",
      "average test score : 0.96 (+/- 0.024944382578492935)\n"
     ]
    }
   ],
   "source": [
    "cross_val = cross_validate(estimator = iris_xgb_c,\n",
    "                          X = iris.data, y =iris.target,\n",
    "                          cv = 5)\n",
    "\n",
    "print(\"average fit time : {} (+/- {})\".format(cross_val[\"fit_time\"].mean(), cross_val[\"fit_time\"].std()))\n",
    "print(\"average score time : {} (+/- {})\".format(cross_val[\"score_time\"].mean(), cross_val[\"score_time\"].std()))\n",
    "print(\"average test score : {} (+/- {})\".format(cross_val[\"test_score\"].mean(), cross_val[\"test_score\"].std()))"
   ]
  },
  {
   "cell_type": "markdown",
   "id": "e43dee00",
   "metadata": {},
   "source": [
    "## XGBRegressor"
   ]
  },
  {
   "cell_type": "code",
   "execution_count": 41,
   "id": "6a6be080",
   "metadata": {
    "ExecuteTime": {
     "end_time": "2022-02-17T12:20:15.434196Z",
     "start_time": "2022-02-17T12:20:15.424261Z"
    }
   },
   "outputs": [],
   "source": [
    "X_train, X_test, y_train, y_test = train_test_split(boston.data, boston.target, test_size = 0.2, random_state = 123)"
   ]
  },
  {
   "cell_type": "code",
   "execution_count": 47,
   "id": "c98dedce",
   "metadata": {
    "ExecuteTime": {
     "end_time": "2022-02-17T12:25:10.495341Z",
     "start_time": "2022-02-17T12:25:10.161236Z"
    }
   },
   "outputs": [],
   "source": [
    "boston_xgb_r = XGBRegressor(n_estimators = 400, learning_rate = 0.1, max_depth = 3, objective = \"reg:squarederror\")\n",
    "boston_xgb_r.fit(X_train, y_train)\n",
    "predict = boston_xgb_r.predict(X_test)"
   ]
  },
  {
   "cell_type": "code",
   "execution_count": 48,
   "id": "f0492457",
   "metadata": {
    "ExecuteTime": {
     "end_time": "2022-02-17T12:25:41.280439Z",
     "start_time": "2022-02-17T12:25:40.049767Z"
    }
   },
   "outputs": [
    {
     "name": "stdout",
     "output_type": "stream",
     "text": [
      "average fit time : 0.23576855659484863 (+/- 0.01052768634722715)\n",
      "average score time : 0.0043925285339355465 (+/- 0.0004937021339039942)\n",
      "average test score : 0.6884390736705599 (+/- 0.1649974770303876)\n"
     ]
    }
   ],
   "source": [
    "cross_val = cross_validate(estimator = boston_xgb_r,\n",
    "                          X = boston.data, y = boston.target,\n",
    "                          cv = 5)\n",
    "\n",
    "print(\"average fit time : {} (+/- {})\".format(cross_val[\"fit_time\"].mean(), cross_val[\"fit_time\"].std()))\n",
    "print(\"average score time : {} (+/- {})\".format(cross_val[\"score_time\"].mean(), cross_val[\"score_time\"].std()))\n",
    "print(\"average test score : {} (+/- {})\".format(cross_val[\"test_score\"].mean(), cross_val[\"test_score\"].std()))"
   ]
  },
  {
   "cell_type": "markdown",
   "id": "2aa3989a",
   "metadata": {},
   "source": [
    "# LightGBM\n",
    "\n",
    "- 빠른 학습과 예측 시간\n",
    "- 더 적은 메모리를 사용\n",
    "- 범주형 특징의 자동 변환과 최적 분할"
   ]
  },
  {
   "cell_type": "code",
   "execution_count": 49,
   "id": "177a82dd",
   "metadata": {
    "ExecuteTime": {
     "end_time": "2022-02-17T12:35:51.179567Z",
     "start_time": "2022-02-17T12:35:51.148645Z"
    }
   },
   "outputs": [],
   "source": [
    "from lightgbm import LGBMClassifier, LGBMRegressor"
   ]
  },
  {
   "cell_type": "markdown",
   "id": "d7ae96a2",
   "metadata": {},
   "source": [
    "## LGBMClassifier"
   ]
  },
  {
   "cell_type": "code",
   "execution_count": 50,
   "id": "0ca6a97a",
   "metadata": {
    "ExecuteTime": {
     "end_time": "2022-02-17T12:36:38.249167Z",
     "start_time": "2022-02-17T12:36:38.238197Z"
    }
   },
   "outputs": [],
   "source": [
    "X_train, X_test, y_train, y_test = train_test_split(iris.data, iris.target, test_size = 0.2, random_state = 123)"
   ]
  },
  {
   "cell_type": "code",
   "execution_count": 54,
   "id": "f4777810",
   "metadata": {
    "ExecuteTime": {
     "end_time": "2022-02-17T12:40:28.928732Z",
     "start_time": "2022-02-17T12:40:28.833988Z"
    }
   },
   "outputs": [
    {
     "name": "stdout",
     "output_type": "stream",
     "text": [
      "[1]\tvalid_0's multi_logloss: 0.95847\n",
      "[2]\tvalid_0's multi_logloss: 0.832184\n",
      "[3]\tvalid_0's multi_logloss: 0.731164\n",
      "[4]\tvalid_0's multi_logloss: 0.641056\n",
      "[5]\tvalid_0's multi_logloss: 0.571726\n",
      "[6]\tvalid_0's multi_logloss: 0.507286\n",
      "[7]\tvalid_0's multi_logloss: 0.454933\n",
      "[8]\tvalid_0's multi_logloss: 0.410205\n",
      "[9]\tvalid_0's multi_logloss: 0.372194\n",
      "[10]\tvalid_0's multi_logloss: 0.333919\n",
      "[11]\tvalid_0's multi_logloss: 0.310212\n",
      "[12]\tvalid_0's multi_logloss: 0.282326\n",
      "[13]\tvalid_0's multi_logloss: 0.257165\n",
      "[14]\tvalid_0's multi_logloss: 0.240836\n",
      "[15]\tvalid_0's multi_logloss: 0.225383\n",
      "[16]\tvalid_0's multi_logloss: 0.211583\n",
      "[17]\tvalid_0's multi_logloss: 0.199289\n",
      "[18]\tvalid_0's multi_logloss: 0.186269\n",
      "[19]\tvalid_0's multi_logloss: 0.171556\n",
      "[20]\tvalid_0's multi_logloss: 0.168245\n",
      "[21]\tvalid_0's multi_logloss: 0.161065\n",
      "[22]\tvalid_0's multi_logloss: 0.151371\n",
      "[23]\tvalid_0's multi_logloss: 0.148081\n",
      "[24]\tvalid_0's multi_logloss: 0.143843\n",
      "[25]\tvalid_0's multi_logloss: 0.140169\n",
      "[26]\tvalid_0's multi_logloss: 0.138303\n",
      "[27]\tvalid_0's multi_logloss: 0.134058\n",
      "[28]\tvalid_0's multi_logloss: 0.130884\n",
      "[29]\tvalid_0's multi_logloss: 0.128082\n",
      "[30]\tvalid_0's multi_logloss: 0.124975\n",
      "[31]\tvalid_0's multi_logloss: 0.122225\n",
      "[32]\tvalid_0's multi_logloss: 0.120298\n",
      "[33]\tvalid_0's multi_logloss: 0.117257\n",
      "[34]\tvalid_0's multi_logloss: 0.115021\n",
      "[35]\tvalid_0's multi_logloss: 0.115037\n",
      "[36]\tvalid_0's multi_logloss: 0.115831\n",
      "[37]\tvalid_0's multi_logloss: 0.113318\n",
      "[38]\tvalid_0's multi_logloss: 0.115651\n",
      "[39]\tvalid_0's multi_logloss: 0.115772\n",
      "[40]\tvalid_0's multi_logloss: 0.114953\n",
      "[41]\tvalid_0's multi_logloss: 0.117056\n",
      "[42]\tvalid_0's multi_logloss: 0.115412\n",
      "[43]\tvalid_0's multi_logloss: 0.118359\n",
      "[44]\tvalid_0's multi_logloss: 0.117129\n",
      "[45]\tvalid_0's multi_logloss: 0.119174\n",
      "[46]\tvalid_0's multi_logloss: 0.117789\n",
      "[47]\tvalid_0's multi_logloss: 0.121333\n",
      "[48]\tvalid_0's multi_logloss: 0.120375\n",
      "[49]\tvalid_0's multi_logloss: 0.124128\n",
      "[50]\tvalid_0's multi_logloss: 0.123394\n",
      "[51]\tvalid_0's multi_logloss: 0.126631\n",
      "[52]\tvalid_0's multi_logloss: 0.129833\n",
      "[53]\tvalid_0's multi_logloss: 0.129069\n",
      "[54]\tvalid_0's multi_logloss: 0.135166\n",
      "[55]\tvalid_0's multi_logloss: 0.134996\n",
      "[56]\tvalid_0's multi_logloss: 0.13912\n",
      "[57]\tvalid_0's multi_logloss: 0.138818\n",
      "[58]\tvalid_0's multi_logloss: 0.142758\n",
      "[59]\tvalid_0's multi_logloss: 0.142228\n",
      "[60]\tvalid_0's multi_logloss: 0.142928\n",
      "[61]\tvalid_0's multi_logloss: 0.142513\n",
      "[62]\tvalid_0's multi_logloss: 0.143485\n",
      "[63]\tvalid_0's multi_logloss: 0.143408\n",
      "[64]\tvalid_0's multi_logloss: 0.148199\n",
      "[65]\tvalid_0's multi_logloss: 0.148074\n",
      "[66]\tvalid_0's multi_logloss: 0.156199\n",
      "[67]\tvalid_0's multi_logloss: 0.15898\n",
      "[68]\tvalid_0's multi_logloss: 0.157612\n",
      "[69]\tvalid_0's multi_logloss: 0.162526\n",
      "[70]\tvalid_0's multi_logloss: 0.166269\n",
      "[71]\tvalid_0's multi_logloss: 0.168114\n",
      "[72]\tvalid_0's multi_logloss: 0.173203\n",
      "[73]\tvalid_0's multi_logloss: 0.181871\n",
      "[74]\tvalid_0's multi_logloss: 0.181307\n",
      "[75]\tvalid_0's multi_logloss: 0.186251\n",
      "[76]\tvalid_0's multi_logloss: 0.185765\n",
      "[77]\tvalid_0's multi_logloss: 0.190847\n",
      "[78]\tvalid_0's multi_logloss: 0.190228\n",
      "[79]\tvalid_0's multi_logloss: 0.195371\n",
      "[80]\tvalid_0's multi_logloss: 0.199459\n",
      "[81]\tvalid_0's multi_logloss: 0.198517\n",
      "[82]\tvalid_0's multi_logloss: 0.203972\n",
      "[83]\tvalid_0's multi_logloss: 0.213262\n",
      "[84]\tvalid_0's multi_logloss: 0.212185\n",
      "[85]\tvalid_0's multi_logloss: 0.217603\n",
      "[86]\tvalid_0's multi_logloss: 0.227068\n",
      "[87]\tvalid_0's multi_logloss: 0.225914\n",
      "[88]\tvalid_0's multi_logloss: 0.230099\n",
      "[89]\tvalid_0's multi_logloss: 0.229018\n",
      "[90]\tvalid_0's multi_logloss: 0.23464\n",
      "[91]\tvalid_0's multi_logloss: 0.24434\n",
      "[92]\tvalid_0's multi_logloss: 0.243782\n",
      "[93]\tvalid_0's multi_logloss: 0.24814\n",
      "[94]\tvalid_0's multi_logloss: 0.25793\n",
      "[95]\tvalid_0's multi_logloss: 0.257366\n",
      "[96]\tvalid_0's multi_logloss: 0.261762\n",
      "[97]\tvalid_0's multi_logloss: 0.260774\n",
      "[98]\tvalid_0's multi_logloss: 0.270632\n",
      "[99]\tvalid_0's multi_logloss: 0.269316\n",
      "[100]\tvalid_0's multi_logloss: 0.269535\n",
      "[101]\tvalid_0's multi_logloss: 0.279374\n",
      "[102]\tvalid_0's multi_logloss: 0.278105\n",
      "[103]\tvalid_0's multi_logloss: 0.279826\n",
      "[104]\tvalid_0's multi_logloss: 0.282811\n",
      "[105]\tvalid_0's multi_logloss: 0.29269\n",
      "[106]\tvalid_0's multi_logloss: 0.297696\n",
      "[107]\tvalid_0's multi_logloss: 0.297028\n",
      "[108]\tvalid_0's multi_logloss: 0.29694\n",
      "[109]\tvalid_0's multi_logloss: 0.30682\n",
      "[110]\tvalid_0's multi_logloss: 0.306206\n",
      "[111]\tvalid_0's multi_logloss: 0.303895\n",
      "[112]\tvalid_0's multi_logloss: 0.300907\n",
      "[113]\tvalid_0's multi_logloss: 0.304274\n",
      "[114]\tvalid_0's multi_logloss: 0.314218\n",
      "[115]\tvalid_0's multi_logloss: 0.312988\n",
      "[116]\tvalid_0's multi_logloss: 0.317589\n",
      "[117]\tvalid_0's multi_logloss: 0.323073\n",
      "[118]\tvalid_0's multi_logloss: 0.333026\n",
      "[119]\tvalid_0's multi_logloss: 0.332652\n",
      "[120]\tvalid_0's multi_logloss: 0.337212\n",
      "[121]\tvalid_0's multi_logloss: 0.334481\n",
      "[122]\tvalid_0's multi_logloss: 0.340022\n",
      "[123]\tvalid_0's multi_logloss: 0.350061\n",
      "[124]\tvalid_0's multi_logloss: 0.351676\n",
      "[125]\tvalid_0's multi_logloss: 0.348515\n",
      "[126]\tvalid_0's multi_logloss: 0.358595\n",
      "[127]\tvalid_0's multi_logloss: 0.356737\n",
      "[128]\tvalid_0's multi_logloss: 0.351512\n",
      "[129]\tvalid_0's multi_logloss: 0.361591\n",
      "[130]\tvalid_0's multi_logloss: 0.35978\n",
      "[131]\tvalid_0's multi_logloss: 0.357317\n",
      "[132]\tvalid_0's multi_logloss: 0.367439\n",
      "[133]\tvalid_0's multi_logloss: 0.365665\n",
      "[134]\tvalid_0's multi_logloss: 0.365745\n",
      "[135]\tvalid_0's multi_logloss: 0.375832\n",
      "[136]\tvalid_0's multi_logloss: 0.374115\n",
      "[137]\tvalid_0's multi_logloss: 0.376748\n"
     ]
    }
   ],
   "source": [
    "iris_lgbm_c = LGBMClassifier(n_estimators = 400)\n",
    "evals = [(X_test, y_test)]\n",
    "\n",
    "iris_lgbm_c.fit(X_train, y_train, early_stopping_rounds = 100, eval_metric = \"logloss\",\n",
    "               eval_set = evals, verbose = True)\n",
    "\n",
    "preds = iris_lgbm_c.predict(X_test)"
   ]
  },
  {
   "cell_type": "code",
   "execution_count": 55,
   "id": "37cef070",
   "metadata": {
    "ExecuteTime": {
     "end_time": "2022-02-17T12:41:17.470497Z",
     "start_time": "2022-02-17T12:41:16.997762Z"
    }
   },
   "outputs": [
    {
     "name": "stdout",
     "output_type": "stream",
     "text": [
      "average fit time : 0.08836226463317871 (+/- 0.022800041188044403)\n",
      "average score time : 0.0011981964111328126 (+/- 0.00039904127199602926)\n",
      "average test score : 0.9600000000000002 (+/- 0.04898979485566355)\n"
     ]
    }
   ],
   "source": [
    "cross_val = cross_validate(estimator = iris_lgbm_c,\n",
    "                          X = iris.data, y = iris.target,\n",
    "                          cv = 5)\n",
    "\n",
    "print(\"average fit time : {} (+/- {})\".format(cross_val[\"fit_time\"].mean(), cross_val[\"fit_time\"].std()))\n",
    "print(\"average score time : {} (+/- {})\".format(cross_val[\"score_time\"].mean(), cross_val[\"score_time\"].std()))\n",
    "print(\"average test score : {} (+/- {})\".format(cross_val[\"test_score\"].mean(), cross_val[\"test_score\"].std()))"
   ]
  },
  {
   "cell_type": "markdown",
   "id": "59fcb8f3",
   "metadata": {},
   "source": [
    "## LGBMRegressor"
   ]
  },
  {
   "cell_type": "code",
   "execution_count": 56,
   "id": "b7770aa8",
   "metadata": {
    "ExecuteTime": {
     "end_time": "2022-02-17T12:43:11.879076Z",
     "start_time": "2022-02-17T12:43:11.872094Z"
    }
   },
   "outputs": [],
   "source": [
    "X_train, X_test, y_train, y_test = train_test_split(boston.data, boston.target, test_size = 0.2, random_state = 123)"
   ]
  },
  {
   "cell_type": "code",
   "execution_count": 62,
   "id": "26123176",
   "metadata": {
    "ExecuteTime": {
     "end_time": "2022-02-17T12:47:07.426030Z",
     "start_time": "2022-02-17T12:47:07.254489Z"
    }
   },
   "outputs": [
    {
     "name": "stdout",
     "output_type": "stream",
     "text": [
      "[1]\tvalid_0's l2: 71.4897\n",
      "[2]\tvalid_0's l2: 61.8603\n",
      "[3]\tvalid_0's l2: 54.0848\n",
      "[4]\tvalid_0's l2: 47.9263\n",
      "[5]\tvalid_0's l2: 43.0702\n",
      "[6]\tvalid_0's l2: 39.268\n",
      "[7]\tvalid_0's l2: 36.2667\n",
      "[8]\tvalid_0's l2: 33.8931\n",
      "[9]\tvalid_0's l2: 31.7028\n",
      "[10]\tvalid_0's l2: 30.082\n",
      "[11]\tvalid_0's l2: 29.1638\n",
      "[12]\tvalid_0's l2: 27.9059\n",
      "[13]\tvalid_0's l2: 27.2503\n",
      "[14]\tvalid_0's l2: 26.3942\n",
      "[15]\tvalid_0's l2: 26.0862\n",
      "[16]\tvalid_0's l2: 25.6483\n",
      "[17]\tvalid_0's l2: 25.0221\n",
      "[18]\tvalid_0's l2: 24.919\n",
      "[19]\tvalid_0's l2: 24.5501\n",
      "[20]\tvalid_0's l2: 24.2858\n",
      "[21]\tvalid_0's l2: 23.9636\n",
      "[22]\tvalid_0's l2: 23.8872\n",
      "[23]\tvalid_0's l2: 23.676\n",
      "[24]\tvalid_0's l2: 23.5907\n",
      "[25]\tvalid_0's l2: 23.4353\n",
      "[26]\tvalid_0's l2: 23.1653\n",
      "[27]\tvalid_0's l2: 23.0198\n",
      "[28]\tvalid_0's l2: 22.8605\n",
      "[29]\tvalid_0's l2: 22.8311\n",
      "[30]\tvalid_0's l2: 22.8943\n",
      "[31]\tvalid_0's l2: 22.8056\n",
      "[32]\tvalid_0's l2: 22.9915\n",
      "[33]\tvalid_0's l2: 22.9286\n",
      "[34]\tvalid_0's l2: 23.0395\n",
      "[35]\tvalid_0's l2: 22.76\n",
      "[36]\tvalid_0's l2: 22.6387\n",
      "[37]\tvalid_0's l2: 22.4443\n",
      "[38]\tvalid_0's l2: 22.2704\n",
      "[39]\tvalid_0's l2: 22.3006\n",
      "[40]\tvalid_0's l2: 22.2952\n",
      "[41]\tvalid_0's l2: 22.1307\n",
      "[42]\tvalid_0's l2: 22.1636\n",
      "[43]\tvalid_0's l2: 22.1141\n",
      "[44]\tvalid_0's l2: 22.0672\n",
      "[45]\tvalid_0's l2: 22.1321\n",
      "[46]\tvalid_0's l2: 22.0597\n",
      "[47]\tvalid_0's l2: 22.0474\n",
      "[48]\tvalid_0's l2: 22.0256\n",
      "[49]\tvalid_0's l2: 22.035\n",
      "[50]\tvalid_0's l2: 22.0159\n",
      "[51]\tvalid_0's l2: 22.065\n",
      "[52]\tvalid_0's l2: 22.0541\n",
      "[53]\tvalid_0's l2: 22.0814\n",
      "[54]\tvalid_0's l2: 22.0893\n",
      "[55]\tvalid_0's l2: 22.0479\n",
      "[56]\tvalid_0's l2: 22.1003\n",
      "[57]\tvalid_0's l2: 22.0557\n",
      "[58]\tvalid_0's l2: 21.7922\n",
      "[59]\tvalid_0's l2: 21.8189\n",
      "[60]\tvalid_0's l2: 21.7386\n",
      "[61]\tvalid_0's l2: 21.7168\n",
      "[62]\tvalid_0's l2: 21.7115\n",
      "[63]\tvalid_0's l2: 21.701\n",
      "[64]\tvalid_0's l2: 21.7014\n",
      "[65]\tvalid_0's l2: 21.7404\n",
      "[66]\tvalid_0's l2: 21.6789\n",
      "[67]\tvalid_0's l2: 21.7204\n",
      "[68]\tvalid_0's l2: 21.5777\n",
      "[69]\tvalid_0's l2: 21.6198\n",
      "[70]\tvalid_0's l2: 21.5839\n",
      "[71]\tvalid_0's l2: 21.6884\n",
      "[72]\tvalid_0's l2: 21.6015\n",
      "[73]\tvalid_0's l2: 21.5699\n",
      "[74]\tvalid_0's l2: 21.4858\n",
      "[75]\tvalid_0's l2: 21.5765\n",
      "[76]\tvalid_0's l2: 21.6031\n",
      "[77]\tvalid_0's l2: 21.6219\n",
      "[78]\tvalid_0's l2: 21.6301\n",
      "[79]\tvalid_0's l2: 21.612\n",
      "[80]\tvalid_0's l2: 21.5436\n",
      "[81]\tvalid_0's l2: 21.5194\n",
      "[82]\tvalid_0's l2: 21.5417\n",
      "[83]\tvalid_0's l2: 21.4946\n",
      "[84]\tvalid_0's l2: 21.4425\n",
      "[85]\tvalid_0's l2: 21.4233\n",
      "[86]\tvalid_0's l2: 21.3872\n",
      "[87]\tvalid_0's l2: 21.3762\n",
      "[88]\tvalid_0's l2: 21.4272\n",
      "[89]\tvalid_0's l2: 21.438\n",
      "[90]\tvalid_0's l2: 21.344\n",
      "[91]\tvalid_0's l2: 21.345\n",
      "[92]\tvalid_0's l2: 21.3186\n",
      "[93]\tvalid_0's l2: 21.3274\n",
      "[94]\tvalid_0's l2: 21.2957\n",
      "[95]\tvalid_0's l2: 21.26\n",
      "[96]\tvalid_0's l2: 21.2603\n",
      "[97]\tvalid_0's l2: 21.2827\n",
      "[98]\tvalid_0's l2: 21.3051\n",
      "[99]\tvalid_0's l2: 21.2834\n",
      "[100]\tvalid_0's l2: 21.3165\n",
      "[101]\tvalid_0's l2: 21.3023\n",
      "[102]\tvalid_0's l2: 21.2676\n",
      "[103]\tvalid_0's l2: 21.2176\n",
      "[104]\tvalid_0's l2: 21.2177\n",
      "[105]\tvalid_0's l2: 21.1807\n",
      "[106]\tvalid_0's l2: 21.2001\n",
      "[107]\tvalid_0's l2: 21.1118\n",
      "[108]\tvalid_0's l2: 21.0817\n",
      "[109]\tvalid_0's l2: 21.1013\n",
      "[110]\tvalid_0's l2: 21.1094\n",
      "[111]\tvalid_0's l2: 21.101\n",
      "[112]\tvalid_0's l2: 21.101\n",
      "[113]\tvalid_0's l2: 21.1094\n",
      "[114]\tvalid_0's l2: 21.0509\n",
      "[115]\tvalid_0's l2: 21.0995\n",
      "[116]\tvalid_0's l2: 21.0609\n",
      "[117]\tvalid_0's l2: 21.0941\n",
      "[118]\tvalid_0's l2: 21.0647\n",
      "[119]\tvalid_0's l2: 21.0699\n",
      "[120]\tvalid_0's l2: 21.0765\n",
      "[121]\tvalid_0's l2: 21.037\n",
      "[122]\tvalid_0's l2: 21.0465\n",
      "[123]\tvalid_0's l2: 21.0126\n",
      "[124]\tvalid_0's l2: 20.9742\n",
      "[125]\tvalid_0's l2: 20.9642\n",
      "[126]\tvalid_0's l2: 20.8796\n",
      "[127]\tvalid_0's l2: 20.9024\n",
      "[128]\tvalid_0's l2: 20.8774\n",
      "[129]\tvalid_0's l2: 20.9096\n",
      "[130]\tvalid_0's l2: 20.8805\n",
      "[131]\tvalid_0's l2: 20.8545\n",
      "[132]\tvalid_0's l2: 20.8279\n",
      "[133]\tvalid_0's l2: 20.8158\n",
      "[134]\tvalid_0's l2: 20.8172\n",
      "[135]\tvalid_0's l2: 20.8382\n",
      "[136]\tvalid_0's l2: 20.7792\n",
      "[137]\tvalid_0's l2: 20.7777\n",
      "[138]\tvalid_0's l2: 20.7954\n",
      "[139]\tvalid_0's l2: 20.7684\n",
      "[140]\tvalid_0's l2: 20.7466\n",
      "[141]\tvalid_0's l2: 20.7187\n",
      "[142]\tvalid_0's l2: 20.7391\n",
      "[143]\tvalid_0's l2: 20.7233\n",
      "[144]\tvalid_0's l2: 20.7127\n",
      "[145]\tvalid_0's l2: 20.7507\n",
      "[146]\tvalid_0's l2: 20.7377\n",
      "[147]\tvalid_0's l2: 20.7573\n",
      "[148]\tvalid_0's l2: 20.7568\n",
      "[149]\tvalid_0's l2: 20.7379\n",
      "[150]\tvalid_0's l2: 20.7688\n",
      "[151]\tvalid_0's l2: 20.7569\n",
      "[152]\tvalid_0's l2: 20.7445\n",
      "[153]\tvalid_0's l2: 20.6999\n",
      "[154]\tvalid_0's l2: 20.708\n",
      "[155]\tvalid_0's l2: 20.6977\n",
      "[156]\tvalid_0's l2: 20.6999\n",
      "[157]\tvalid_0's l2: 20.6145\n",
      "[158]\tvalid_0's l2: 20.5975\n",
      "[159]\tvalid_0's l2: 20.6301\n",
      "[160]\tvalid_0's l2: 20.629\n",
      "[161]\tvalid_0's l2: 20.6649\n",
      "[162]\tvalid_0's l2: 20.665\n",
      "[163]\tvalid_0's l2: 20.6886\n",
      "[164]\tvalid_0's l2: 20.6037\n",
      "[165]\tvalid_0's l2: 20.6318\n",
      "[166]\tvalid_0's l2: 20.6459\n",
      "[167]\tvalid_0's l2: 20.6932\n",
      "[168]\tvalid_0's l2: 20.6919\n",
      "[169]\tvalid_0's l2: 20.6104\n",
      "[170]\tvalid_0's l2: 20.6265\n",
      "[171]\tvalid_0's l2: 20.6282\n",
      "[172]\tvalid_0's l2: 20.6417\n",
      "[173]\tvalid_0's l2: 20.6553\n",
      "[174]\tvalid_0's l2: 20.6323\n",
      "[175]\tvalid_0's l2: 20.6443\n",
      "[176]\tvalid_0's l2: 20.6543\n",
      "[177]\tvalid_0's l2: 20.7008\n",
      "[178]\tvalid_0's l2: 20.723\n",
      "[179]\tvalid_0's l2: 20.7306\n",
      "[180]\tvalid_0's l2: 20.736\n",
      "[181]\tvalid_0's l2: 20.7294\n",
      "[182]\tvalid_0's l2: 20.755\n",
      "[183]\tvalid_0's l2: 20.755\n",
      "[184]\tvalid_0's l2: 20.771\n",
      "[185]\tvalid_0's l2: 20.786\n",
      "[186]\tvalid_0's l2: 20.7358\n",
      "[187]\tvalid_0's l2: 20.7542\n",
      "[188]\tvalid_0's l2: 20.7231\n",
      "[189]\tvalid_0's l2: 20.727\n",
      "[190]\tvalid_0's l2: 20.6867\n",
      "[191]\tvalid_0's l2: 20.6892\n",
      "[192]\tvalid_0's l2: 20.657\n",
      "[193]\tvalid_0's l2: 20.6814\n",
      "[194]\tvalid_0's l2: 20.6621\n",
      "[195]\tvalid_0's l2: 20.669\n",
      "[196]\tvalid_0's l2: 20.6609\n",
      "[197]\tvalid_0's l2: 20.6772\n",
      "[198]\tvalid_0's l2: 20.6936\n",
      "[199]\tvalid_0's l2: 20.704\n",
      "[200]\tvalid_0's l2: 20.7257\n",
      "[201]\tvalid_0's l2: 20.7344\n",
      "[202]\tvalid_0's l2: 20.7444\n",
      "[203]\tvalid_0's l2: 20.7411\n",
      "[204]\tvalid_0's l2: 20.739\n",
      "[205]\tvalid_0's l2: 20.7553\n",
      "[206]\tvalid_0's l2: 20.7255\n",
      "[207]\tvalid_0's l2: 20.7147\n",
      "[208]\tvalid_0's l2: 20.6989\n",
      "[209]\tvalid_0's l2: 20.7302\n",
      "[210]\tvalid_0's l2: 20.7634\n",
      "[211]\tvalid_0's l2: 20.7711\n",
      "[212]\tvalid_0's l2: 20.7673\n",
      "[213]\tvalid_0's l2: 20.7859\n",
      "[214]\tvalid_0's l2: 20.8151\n",
      "[215]\tvalid_0's l2: 20.7938\n",
      "[216]\tvalid_0's l2: 20.8109\n",
      "[217]\tvalid_0's l2: 20.8195\n",
      "[218]\tvalid_0's l2: 20.7878\n",
      "[219]\tvalid_0's l2: 20.7897\n",
      "[220]\tvalid_0's l2: 20.7873\n",
      "[221]\tvalid_0's l2: 20.786\n",
      "[222]\tvalid_0's l2: 20.7639\n",
      "[223]\tvalid_0's l2: 20.7955\n",
      "[224]\tvalid_0's l2: 20.7977\n",
      "[225]\tvalid_0's l2: 20.7981\n",
      "[226]\tvalid_0's l2: 20.7879\n",
      "[227]\tvalid_0's l2: 20.7896\n",
      "[228]\tvalid_0's l2: 20.7986\n",
      "[229]\tvalid_0's l2: 20.7632\n",
      "[230]\tvalid_0's l2: 20.7138\n",
      "[231]\tvalid_0's l2: 20.7391\n",
      "[232]\tvalid_0's l2: 20.7311\n",
      "[233]\tvalid_0's l2: 20.7151\n",
      "[234]\tvalid_0's l2: 20.7238\n",
      "[235]\tvalid_0's l2: 20.7354\n",
      "[236]\tvalid_0's l2: 20.6997\n",
      "[237]\tvalid_0's l2: 20.7018\n",
      "[238]\tvalid_0's l2: 20.727\n",
      "[239]\tvalid_0's l2: 20.7073\n",
      "[240]\tvalid_0's l2: 20.7222\n",
      "[241]\tvalid_0's l2: 20.7264\n",
      "[242]\tvalid_0's l2: 20.7468\n",
      "[243]\tvalid_0's l2: 20.7343\n",
      "[244]\tvalid_0's l2: 20.7042\n",
      "[245]\tvalid_0's l2: 20.7047\n",
      "[246]\tvalid_0's l2: 20.719\n",
      "[247]\tvalid_0's l2: 20.7051\n",
      "[248]\tvalid_0's l2: 20.7341\n",
      "[249]\tvalid_0's l2: 20.7014\n",
      "[250]\tvalid_0's l2: 20.6835\n",
      "[251]\tvalid_0's l2: 20.7053\n",
      "[252]\tvalid_0's l2: 20.7308\n",
      "[253]\tvalid_0's l2: 20.7218\n",
      "[254]\tvalid_0's l2: 20.728\n",
      "[255]\tvalid_0's l2: 20.7079\n",
      "[256]\tvalid_0's l2: 20.6756\n",
      "[257]\tvalid_0's l2: 20.6701\n",
      "[258]\tvalid_0's l2: 20.6967\n"
     ]
    }
   ],
   "source": [
    "iris_lgbm_r = LGBMRegressor(n_estimators = 400)\n",
    "evals = [(X_test, y_test)]\n",
    "\n",
    "iris_lgbm_r.fit(X_train, y_train, early_stopping_rounds = 100, eval_metric = \"logloss\",\n",
    "               eval_set = evals, verbose = True)\n",
    "\n",
    "preds = iris_lgbm_r.predict(X_test)"
   ]
  },
  {
   "cell_type": "code",
   "execution_count": 63,
   "id": "9d3d78de",
   "metadata": {
    "ExecuteTime": {
     "end_time": "2022-02-17T12:47:08.802377Z",
     "start_time": "2022-02-17T12:47:08.571029Z"
    }
   },
   "outputs": [
    {
     "name": "stdout",
     "output_type": "stream",
     "text": [
      "average fit time : 0.040889549255371097 (+/- 0.011544457810488554)\n",
      "average score time : 0.001197481155395508 (+/- 0.00039939917374915297)\n",
      "average test score : 0.33774514353971224 (+/- 0.4161241862637303)\n"
     ]
    }
   ],
   "source": [
    "cross_val = cross_validate(estimator = iris_lgbm_r,\n",
    "                          X = iris.data, y = iris.target,\n",
    "                          cv = 5)\n",
    "\n",
    "print(\"average fit time : {} (+/- {})\".format(cross_val[\"fit_time\"].mean(), cross_val[\"fit_time\"].std()))\n",
    "print(\"average score time : {} (+/- {})\".format(cross_val[\"score_time\"].mean(), cross_val[\"score_time\"].std()))\n",
    "print(\"average test score : {} (+/- {})\".format(cross_val[\"test_score\"].mean(), cross_val[\"test_score\"].std()))"
   ]
  }
 ],
 "metadata": {
  "kernelspec": {
   "display_name": "Python 3 (ipykernel)",
   "language": "python",
   "name": "python3"
  },
  "language_info": {
   "codemirror_mode": {
    "name": "ipython",
    "version": 3
   },
   "file_extension": ".py",
   "mimetype": "text/x-python",
   "name": "python",
   "nbconvert_exporter": "python",
   "pygments_lexer": "ipython3",
   "version": "3.8.12"
  },
  "toc": {
   "base_numbering": 1,
   "nav_menu": {},
   "number_sections": true,
   "sideBar": true,
   "skip_h1_title": false,
   "title_cell": "Table of Contents",
   "title_sidebar": "Contents",
   "toc_cell": false,
   "toc_position": {
    "height": "calc(100% - 180px)",
    "left": "10px",
    "top": "150px",
    "width": "384px"
   },
   "toc_section_display": true,
   "toc_window_display": true
  },
  "varInspector": {
   "cols": {
    "lenName": 16,
    "lenType": 16,
    "lenVar": 40
   },
   "kernels_config": {
    "python": {
     "delete_cmd_postfix": "",
     "delete_cmd_prefix": "del ",
     "library": "var_list.py",
     "varRefreshCmd": "print(var_dic_list())"
    },
    "r": {
     "delete_cmd_postfix": ") ",
     "delete_cmd_prefix": "rm(",
     "library": "var_list.r",
     "varRefreshCmd": "cat(var_dic_list()) "
    }
   },
   "types_to_exclude": [
    "module",
    "function",
    "builtin_function_or_method",
    "instance",
    "_Feature"
   ],
   "window_display": false
  }
 },
 "nbformat": 4,
 "nbformat_minor": 5
}
