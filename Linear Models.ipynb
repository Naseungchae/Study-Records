{
 "cells": [
  {
   "cell_type": "markdown",
   "id": "f18cdf1f",
   "metadata": {},
   "source": [
    "# Linear Models\n"
   ]
  },
  {
   "cell_type": "markdown",
   "id": "dcc34335",
   "metadata": {},
   "source": [
    "## Linear Regression\n",
    "\n",
    ": 선형 회귀는 모델의 예측과 정답 사이의 **평균제곱오차(=Mean Squared Error)**를 치소화하는 학습파라미터를 찾는다.\n",
    "\n",
    "> **선형 회귀 모델에서 사용하는 다양한 오류 측정의 방법**\n",
    "> - MAE(Mean Absoulte Error)\n",
    "> - MAPE(Mean Absoulte Percentage Error)\n",
    "> - MSE(Mean Squared Error)\n",
    "> - MPE(Mean Percentage Error)\n",
    "\n",
    "\n",
    "> **장단점**\n",
    "> - 장점 : 매개변수가 없다.\n",
    "> - 단점 : 모델의 복잡도를 제어할 방법이 없다."
   ]
  },
  {
   "cell_type": "code",
   "execution_count": 10,
   "id": "364bf506",
   "metadata": {
    "ExecuteTime": {
     "end_time": "2022-01-27T01:46:41.742967Z",
     "start_time": "2022-01-27T01:46:40.680810Z"
    }
   },
   "outputs": [
    {
     "data": {
      "text/html": [
       "<div>\n",
       "<style scoped>\n",
       "    .dataframe tbody tr th:only-of-type {\n",
       "        vertical-align: middle;\n",
       "    }\n",
       "\n",
       "    .dataframe tbody tr th {\n",
       "        vertical-align: top;\n",
       "    }\n",
       "\n",
       "    .dataframe thead th {\n",
       "        text-align: right;\n",
       "    }\n",
       "</style>\n",
       "<table border=\"1\" class=\"dataframe\">\n",
       "  <thead>\n",
       "    <tr style=\"text-align: right;\">\n",
       "      <th></th>\n",
       "      <th>CRIM</th>\n",
       "      <th>ZN</th>\n",
       "      <th>INDUS</th>\n",
       "      <th>CHAS</th>\n",
       "      <th>NOX</th>\n",
       "      <th>RM</th>\n",
       "      <th>AGE</th>\n",
       "      <th>DIS</th>\n",
       "      <th>RAD</th>\n",
       "      <th>TAX</th>\n",
       "      <th>PTRATIO</th>\n",
       "      <th>B</th>\n",
       "      <th>LSTAT</th>\n",
       "    </tr>\n",
       "  </thead>\n",
       "  <tbody>\n",
       "    <tr>\n",
       "      <th>0</th>\n",
       "      <td>0.00632</td>\n",
       "      <td>18.0</td>\n",
       "      <td>2.31</td>\n",
       "      <td>0.0</td>\n",
       "      <td>0.538</td>\n",
       "      <td>6.575</td>\n",
       "      <td>65.2</td>\n",
       "      <td>4.0900</td>\n",
       "      <td>1.0</td>\n",
       "      <td>296.0</td>\n",
       "      <td>15.3</td>\n",
       "      <td>396.90</td>\n",
       "      <td>4.98</td>\n",
       "    </tr>\n",
       "    <tr>\n",
       "      <th>1</th>\n",
       "      <td>0.02731</td>\n",
       "      <td>0.0</td>\n",
       "      <td>7.07</td>\n",
       "      <td>0.0</td>\n",
       "      <td>0.469</td>\n",
       "      <td>6.421</td>\n",
       "      <td>78.9</td>\n",
       "      <td>4.9671</td>\n",
       "      <td>2.0</td>\n",
       "      <td>242.0</td>\n",
       "      <td>17.8</td>\n",
       "      <td>396.90</td>\n",
       "      <td>9.14</td>\n",
       "    </tr>\n",
       "    <tr>\n",
       "      <th>2</th>\n",
       "      <td>0.02729</td>\n",
       "      <td>0.0</td>\n",
       "      <td>7.07</td>\n",
       "      <td>0.0</td>\n",
       "      <td>0.469</td>\n",
       "      <td>7.185</td>\n",
       "      <td>61.1</td>\n",
       "      <td>4.9671</td>\n",
       "      <td>2.0</td>\n",
       "      <td>242.0</td>\n",
       "      <td>17.8</td>\n",
       "      <td>392.83</td>\n",
       "      <td>4.03</td>\n",
       "    </tr>\n",
       "    <tr>\n",
       "      <th>3</th>\n",
       "      <td>0.03237</td>\n",
       "      <td>0.0</td>\n",
       "      <td>2.18</td>\n",
       "      <td>0.0</td>\n",
       "      <td>0.458</td>\n",
       "      <td>6.998</td>\n",
       "      <td>45.8</td>\n",
       "      <td>6.0622</td>\n",
       "      <td>3.0</td>\n",
       "      <td>222.0</td>\n",
       "      <td>18.7</td>\n",
       "      <td>394.63</td>\n",
       "      <td>2.94</td>\n",
       "    </tr>\n",
       "    <tr>\n",
       "      <th>4</th>\n",
       "      <td>0.06905</td>\n",
       "      <td>0.0</td>\n",
       "      <td>2.18</td>\n",
       "      <td>0.0</td>\n",
       "      <td>0.458</td>\n",
       "      <td>7.147</td>\n",
       "      <td>54.2</td>\n",
       "      <td>6.0622</td>\n",
       "      <td>3.0</td>\n",
       "      <td>222.0</td>\n",
       "      <td>18.7</td>\n",
       "      <td>396.90</td>\n",
       "      <td>5.33</td>\n",
       "    </tr>\n",
       "    <tr>\n",
       "      <th>...</th>\n",
       "      <td>...</td>\n",
       "      <td>...</td>\n",
       "      <td>...</td>\n",
       "      <td>...</td>\n",
       "      <td>...</td>\n",
       "      <td>...</td>\n",
       "      <td>...</td>\n",
       "      <td>...</td>\n",
       "      <td>...</td>\n",
       "      <td>...</td>\n",
       "      <td>...</td>\n",
       "      <td>...</td>\n",
       "      <td>...</td>\n",
       "    </tr>\n",
       "    <tr>\n",
       "      <th>501</th>\n",
       "      <td>0.06263</td>\n",
       "      <td>0.0</td>\n",
       "      <td>11.93</td>\n",
       "      <td>0.0</td>\n",
       "      <td>0.573</td>\n",
       "      <td>6.593</td>\n",
       "      <td>69.1</td>\n",
       "      <td>2.4786</td>\n",
       "      <td>1.0</td>\n",
       "      <td>273.0</td>\n",
       "      <td>21.0</td>\n",
       "      <td>391.99</td>\n",
       "      <td>9.67</td>\n",
       "    </tr>\n",
       "    <tr>\n",
       "      <th>502</th>\n",
       "      <td>0.04527</td>\n",
       "      <td>0.0</td>\n",
       "      <td>11.93</td>\n",
       "      <td>0.0</td>\n",
       "      <td>0.573</td>\n",
       "      <td>6.120</td>\n",
       "      <td>76.7</td>\n",
       "      <td>2.2875</td>\n",
       "      <td>1.0</td>\n",
       "      <td>273.0</td>\n",
       "      <td>21.0</td>\n",
       "      <td>396.90</td>\n",
       "      <td>9.08</td>\n",
       "    </tr>\n",
       "    <tr>\n",
       "      <th>503</th>\n",
       "      <td>0.06076</td>\n",
       "      <td>0.0</td>\n",
       "      <td>11.93</td>\n",
       "      <td>0.0</td>\n",
       "      <td>0.573</td>\n",
       "      <td>6.976</td>\n",
       "      <td>91.0</td>\n",
       "      <td>2.1675</td>\n",
       "      <td>1.0</td>\n",
       "      <td>273.0</td>\n",
       "      <td>21.0</td>\n",
       "      <td>396.90</td>\n",
       "      <td>5.64</td>\n",
       "    </tr>\n",
       "    <tr>\n",
       "      <th>504</th>\n",
       "      <td>0.10959</td>\n",
       "      <td>0.0</td>\n",
       "      <td>11.93</td>\n",
       "      <td>0.0</td>\n",
       "      <td>0.573</td>\n",
       "      <td>6.794</td>\n",
       "      <td>89.3</td>\n",
       "      <td>2.3889</td>\n",
       "      <td>1.0</td>\n",
       "      <td>273.0</td>\n",
       "      <td>21.0</td>\n",
       "      <td>393.45</td>\n",
       "      <td>6.48</td>\n",
       "    </tr>\n",
       "    <tr>\n",
       "      <th>505</th>\n",
       "      <td>0.04741</td>\n",
       "      <td>0.0</td>\n",
       "      <td>11.93</td>\n",
       "      <td>0.0</td>\n",
       "      <td>0.573</td>\n",
       "      <td>6.030</td>\n",
       "      <td>80.8</td>\n",
       "      <td>2.5050</td>\n",
       "      <td>1.0</td>\n",
       "      <td>273.0</td>\n",
       "      <td>21.0</td>\n",
       "      <td>396.90</td>\n",
       "      <td>7.88</td>\n",
       "    </tr>\n",
       "  </tbody>\n",
       "</table>\n",
       "<p>506 rows × 13 columns</p>\n",
       "</div>"
      ],
      "text/plain": [
       "        CRIM    ZN  INDUS  CHAS    NOX     RM   AGE     DIS  RAD    TAX  \\\n",
       "0    0.00632  18.0   2.31   0.0  0.538  6.575  65.2  4.0900  1.0  296.0   \n",
       "1    0.02731   0.0   7.07   0.0  0.469  6.421  78.9  4.9671  2.0  242.0   \n",
       "2    0.02729   0.0   7.07   0.0  0.469  7.185  61.1  4.9671  2.0  242.0   \n",
       "3    0.03237   0.0   2.18   0.0  0.458  6.998  45.8  6.0622  3.0  222.0   \n",
       "4    0.06905   0.0   2.18   0.0  0.458  7.147  54.2  6.0622  3.0  222.0   \n",
       "..       ...   ...    ...   ...    ...    ...   ...     ...  ...    ...   \n",
       "501  0.06263   0.0  11.93   0.0  0.573  6.593  69.1  2.4786  1.0  273.0   \n",
       "502  0.04527   0.0  11.93   0.0  0.573  6.120  76.7  2.2875  1.0  273.0   \n",
       "503  0.06076   0.0  11.93   0.0  0.573  6.976  91.0  2.1675  1.0  273.0   \n",
       "504  0.10959   0.0  11.93   0.0  0.573  6.794  89.3  2.3889  1.0  273.0   \n",
       "505  0.04741   0.0  11.93   0.0  0.573  6.030  80.8  2.5050  1.0  273.0   \n",
       "\n",
       "     PTRATIO       B  LSTAT  \n",
       "0       15.3  396.90   4.98  \n",
       "1       17.8  396.90   9.14  \n",
       "2       17.8  392.83   4.03  \n",
       "3       18.7  394.63   2.94  \n",
       "4       18.7  396.90   5.33  \n",
       "..       ...     ...    ...  \n",
       "501     21.0  391.99   9.67  \n",
       "502     21.0  396.90   9.08  \n",
       "503     21.0  396.90   5.64  \n",
       "504     21.0  393.45   6.48  \n",
       "505     21.0  396.90   7.88  \n",
       "\n",
       "[506 rows x 13 columns]"
      ]
     },
     "execution_count": 10,
     "metadata": {},
     "output_type": "execute_result"
    }
   ],
   "source": [
    "import warnings\n",
    "warnings.filterwarnings(action='ignore') #warnings.filterwarnings(action='default')\n",
    "import matplotlib.pyplot as plt\n",
    "import pandas as pd\n",
    "from sklearn.datasets import load_boston\n",
    "from sklearn.model_selection import train_test_split\n",
    "from sklearn.linear_model import LinearRegression\n",
    "boston = load_boston()\n",
    "boston_df = pd.DataFrame(data = boston.data, columns = boston.feature_names)\n",
    "boston_df"
   ]
  },
  {
   "cell_type": "code",
   "execution_count": 11,
   "id": "319cba39",
   "metadata": {
    "ExecuteTime": {
     "end_time": "2022-01-27T01:46:44.556814Z",
     "start_time": "2022-01-27T01:46:44.534876Z"
    }
   },
   "outputs": [
    {
     "name": "stdout",
     "output_type": "stream",
     "text": [
      "train score = 0.756\n",
      "test score = 0.659\n"
     ]
    }
   ],
   "source": [
    "X_train, X_test, y_train, y_test = train_test_split(boston.data, boston.target, test_size = 0.2, random_state = 123)\n",
    "lr = LinearRegression(normalize = True).fit(X_train, y_train)\n",
    "\n",
    "print(\"train score = {:.3f}\".format(lr.score(X_train, y_train)))\n",
    "print(\"test score = {:.3f}\".format(lr.score(X_test, y_test)))"
   ]
  },
  {
   "cell_type": "markdown",
   "id": "140854ac",
   "metadata": {},
   "source": [
    "### 생성된 회귀 모델에 대한 수식\n",
    "\n",
    "> - **coef_** : 추정된 가중치 벡터 \n",
    "> - **intercept_** : 추정된 상수항"
   ]
  },
  {
   "cell_type": "code",
   "execution_count": 12,
   "id": "d8ec58b5",
   "metadata": {
    "ExecuteTime": {
     "end_time": "2022-01-27T01:46:45.833103Z",
     "start_time": "2022-01-27T01:46:45.824128Z"
    }
   },
   "outputs": [
    {
     "name": "stdout",
     "output_type": "stream",
     "text": [
      "y = 31.83516412120641 \n",
      "-0.09879316957681174 x0\n",
      "0.04750271023770873 x1\n",
      "0.06694918405498221 x2\n",
      "1.2695414993876384 x3\n",
      "-15.469774659508765 x4\n",
      "4.319684124958681 x5\n",
      "-0.0009801679369872837 x6\n",
      "-1.3659795259243277 x7\n",
      "0.28452183792127284 x8\n",
      "-0.012753360613762957 x9\n",
      "-0.9134875985014326 x10\n",
      "0.007225535065935824 x11\n",
      "-0.5437902451653297 x12\n"
     ]
    }
   ],
   "source": [
    "print(\"y = \" + str(lr.intercept_) + \" \")\n",
    "for i, c in enumerate(lr.coef_):\n",
    "    print(str(c) + \" x\" + str(i))\n",
    "    \n",
    "# 13개의 feature에 대한 가중치의 곱으로 선형함수가 구성된다."
   ]
  },
  {
   "cell_type": "markdown",
   "id": "40c075a6",
   "metadata": {},
   "source": [
    "### 평가\n",
    "\n",
    "- Regression에서는 보통 RMSE와 R2를 비교한다."
   ]
  },
  {
   "cell_type": "code",
   "execution_count": 13,
   "id": "bf02681c",
   "metadata": {
    "ExecuteTime": {
     "end_time": "2022-01-27T01:46:47.229560Z",
     "start_time": "2022-01-27T01:46:47.219589Z"
    }
   },
   "outputs": [
    {
     "name": "stdout",
     "output_type": "stream",
     "text": [
      "RMSE : 4.547\n",
      "R2 score : 0.756\n"
     ]
    }
   ],
   "source": [
    "from sklearn.metrics import mean_squared_error, r2_score\n",
    "\n",
    "y_train_predict = lr.predict(X_train)\n",
    "RMSE = (np.sqrt(mean_squared_error(y_train, y_train_predict)))\n",
    "R2 = r2_score(y_train, y_train_predict)\n",
    "\n",
    "print(\"RMSE : {:.3f}\".format(RMSE)) #  낮을수록 좋다\n",
    "print(\"R2 score : {:.3f}\".format(R2)) # 높을수록 좋다"
   ]
  },
  {
   "cell_type": "code",
   "execution_count": 14,
   "id": "78e153ab",
   "metadata": {
    "ExecuteTime": {
     "end_time": "2022-01-27T01:46:48.226339Z",
     "start_time": "2022-01-27T01:46:48.211377Z"
    }
   },
   "outputs": [
    {
     "name": "stdout",
     "output_type": "stream",
     "text": [
      "RMSE : 5.310\n",
      "R2 score : 0.659\n"
     ]
    }
   ],
   "source": [
    "y_test_predict = lr.predict(X_test)\n",
    "RMSE = (np.sqrt(mean_squared_error(y_test, y_test_predict)))\n",
    "R2 = r2_score(y_test, y_test_predict)\n",
    "\n",
    "print(\"RMSE : {:.3f}\".format(RMSE)) #  낮을수록 좋다\n",
    "print(\"R2 score : {:.3f}\".format(R2)) # 높을수록 좋다"
   ]
  },
  {
   "cell_type": "markdown",
   "id": "96880526",
   "metadata": {},
   "source": [
    "### 시각화"
   ]
  },
  {
   "cell_type": "code",
   "execution_count": 15,
   "id": "4da0a449",
   "metadata": {
    "ExecuteTime": {
     "end_time": "2022-01-27T01:46:49.838443Z",
     "start_time": "2022-01-27T01:46:49.822485Z"
    }
   },
   "outputs": [],
   "source": [
    "def plot_boston(expected, predicted):\n",
    "    plt.figure(figsize = (8, 4))\n",
    "    plt.scatter(expected, predicted)\n",
    "    plt.plot([5, 50], [5, 50], \"--r\")\n",
    "    plt.xlabel(\"True price ($1,000)\")\n",
    "    plt.ylabel(\"Predicted price($1,000)\")\n",
    "    plt.tight_layout()"
   ]
  },
  {
   "cell_type": "code",
   "execution_count": 16,
   "id": "471beee7",
   "metadata": {
    "ExecuteTime": {
     "end_time": "2022-01-27T01:46:51.143469Z",
     "start_time": "2022-01-27T01:46:50.906106Z"
    }
   },
   "outputs": [
    {
     "data": {
      "image/png": "[encoded data removed]",
      "text/plain": [
       "<Figure size 576x288 with 1 Axes>"
      ]
     },
     "metadata": {
      "needs_background": "light"
     },
     "output_type": "display_data"
    }
   ],
   "source": [
    "predicted = lr.predict(X_test)\n",
    "expected = y_test\n",
    "\n",
    "plot_boston(expected, predicted)"
   ]
  },
  {
   "cell_type": "markdown",
   "id": "bc87396f",
   "metadata": {},
   "source": [
    "## Ridge Regression\n",
    "\n",
    ": L2규제를 두어 다중공상성의 문제를 방지하기 때문에 모델의 과대적합을 막을 수 있게 된다.\n",
    "\n",
    "> ***parameter***  \n",
    "> - *alpha  \n",
    ": 값이 크면 규제의 효과가 커지고, 값이 작으면 규제의 효과가 작아지게 된다.*\n",
    "\n",
    "> ***conclusion***\n",
    ">- *Ridge Regression은 가중치에 제약을 두기 때문에 Linear Regression보다 훈련데이터 점수가 낮을 수 있다.*\n",
    ">- *일반화 성능은 Ridge가 더 높기 때문에 평가 데이터 점수는 Ridge 가 더 좋다.*\n",
    ">- *일반화 성능에 영향을 주는 매개변수인 alpha값을 조정해 보면서 Ridge의 성능이 어떻게 변하는지 확인가능하다.*"
   ]
  },
  {
   "cell_type": "code",
   "execution_count": 17,
   "id": "a7cd2b71",
   "metadata": {
    "ExecuteTime": {
     "end_time": "2022-01-27T01:46:52.812218Z",
     "start_time": "2022-01-27T01:46:52.808227Z"
    }
   },
   "outputs": [],
   "source": [
    "from sklearn.linear_model import Ridge\n",
    "from sklearn.datasets import load_boston\n",
    "from sklearn.model_selection import train_test_split"
   ]
  },
  {
   "cell_type": "code",
   "execution_count": 18,
   "id": "16059482",
   "metadata": {
    "ExecuteTime": {
     "end_time": "2022-01-27T01:46:53.998743Z",
     "start_time": "2022-01-27T01:46:53.956859Z"
    }
   },
   "outputs": [
    {
     "name": "stdout",
     "output_type": "stream",
     "text": [
      "train score = 0.752\n",
      "test score = 0.685\n"
     ]
    }
   ],
   "source": [
    "X, y = load_boston(return_X_y = True)\n",
    "X_train, X_test, y_train, y_test = train_test_split(X, y, random_state = 123)\n",
    "\n",
    "ridge = Ridge(alpha = 0.1).fit(X_train, y_train)\n",
    "\n",
    "print(\"train score = {:.3f}\".format(ridge.score(X_train, y_train)))\n",
    "print(\"test score = {:.3f}\".format(ridge.score(X_test, y_test)))\n",
    "# LinearRegression에 비해 test score가 조금 향상됨"
   ]
  },
  {
   "cell_type": "markdown",
   "id": "c9ba3f0f",
   "metadata": {},
   "source": [
    "## Lasso Regression\n",
    "\n",
    ": L1규제를 두어 다중공상성의 문제를 방지하기 때문에 모델의 과대적합을 막을 수 있게 된다.\n",
    "\n",
    "> ***parameter***  \n",
    "> - ***alpha***  \n",
    ": *값이 크면 규제의 효과가 커지고, 값이 작으면 규제의 효과가 작아지게 된다.*\n"
   ]
  },
  {
   "cell_type": "code",
   "execution_count": 19,
   "id": "eaf88b33",
   "metadata": {
    "ExecuteTime": {
     "end_time": "2022-01-27T01:46:55.377145Z",
     "start_time": "2022-01-27T01:46:55.367173Z"
    }
   },
   "outputs": [],
   "source": [
    "from sklearn.linear_model import Lasso\n",
    "from sklearn.datasets import load_boston\n",
    "from sklearn.model_selection import train_test_split"
   ]
  },
  {
   "cell_type": "code",
   "execution_count": 20,
   "id": "0e7be695",
   "metadata": {
    "ExecuteTime": {
     "end_time": "2022-01-27T01:46:56.384467Z",
     "start_time": "2022-01-27T01:46:56.354548Z"
    }
   },
   "outputs": [
    {
     "name": "stdout",
     "output_type": "stream",
     "text": [
      "train score = 0.752\n",
      "test score = 0.686\n"
     ]
    }
   ],
   "source": [
    "X, y = load_boston(return_X_y = True)\n",
    "X_train, X_test, y_train, y_test = train_test_split(X, y, random_state = 123)\n",
    "\n",
    "lasso = Lasso(alpha = 0.001).fit(X_train, y_train)\n",
    "\n",
    "print(\"train score = {:.3f}\".format(lasso.score(X_train, y_train)))\n",
    "print(\"test score = {:.3f}\".format(lasso.score(X_test, y_test)))\n",
    "# LinearRegression, RidgeRegression에 비해 test score가 조금 향상됨"
   ]
  },
  {
   "cell_type": "markdown",
   "id": "9753848b",
   "metadata": {},
   "source": [
    "## Elastic-Net\n",
    "\n",
    "- Ridge와 Lasso의 모든 규제를 사용하는 선형 모델로, 두 모델의 장점을 갖기 때문에 좋은 성능을 보인다.\n",
    "- 데이터 featrue가 많거나, 서로 상관관계가 높은 feature가 존재할 때 좋은 성능을 보인다.\n",
    "\n",
    "> ***parameter***  \n",
    "> - ***alpha***  \n",
    ": *값이 크면 규제의 효과가 커지고, 값이 작으면 규제의 효과가 작아지게 된다.*\n",
    "> - ***l1_ratio***  \n",
    ": *라쏘 규제(L1)와 릿지 규제(L2)간의 가중치를 조절하는 역할을 수행한다.*"
   ]
  },
  {
   "cell_type": "code",
   "execution_count": 21,
   "id": "450678a9",
   "metadata": {
    "ExecuteTime": {
     "end_time": "2022-01-27T01:46:57.618427Z",
     "start_time": "2022-01-27T01:46:57.613440Z"
    }
   },
   "outputs": [],
   "source": [
    "from sklearn.linear_model import ElasticNet\n",
    "from sklearn.datasets import load_boston\n",
    "from sklearn.model_selection import train_test_split"
   ]
  },
  {
   "cell_type": "code",
   "execution_count": 22,
   "id": "ab4573d3",
   "metadata": {
    "ExecuteTime": {
     "end_time": "2022-01-27T01:46:58.751395Z",
     "start_time": "2022-01-27T01:46:58.726463Z"
    }
   },
   "outputs": [
    {
     "name": "stdout",
     "output_type": "stream",
     "text": [
      "train score = 0.752\n",
      "test score = 0.684\n"
     ]
    }
   ],
   "source": [
    "X, y = load_boston(return_X_y = True)\n",
    "X_train, X_test, y_train, y_test = train_test_split(X, y, random_state = 123)\n",
    "\n",
    "elastic = ElasticNet(alpha = 0.001, l1_ratio = 0.5).fit(X_train, y_train)\n",
    "\n",
    "print(\"train score = {:.3f}\".format(elastic.score(X_train, y_train)))\n",
    "print(\"test score = {:.3f}\".format(elastic.score(X_test, y_test)))"
   ]
  },
  {
   "cell_type": "markdown",
   "id": "f6c1e918",
   "metadata": {},
   "source": [
    "## Orthogonal Matchin Pursuit\n",
    "\n",
    "- 모델에 존재하는 가중치 벡터에 특별한 제약을 거는 방법으로 모델을 훈련시키는 과정에서 불필요한 feature을 필터링이 가능하다.\n",
    "\n",
    "> ***parameter***  \n",
    "> - ***n_nonzero_coefs***  \n",
    ": *사용할 feature의 개수를 지정하여 필터링이 가능하게한다.*"
   ]
  },
  {
   "cell_type": "code",
   "execution_count": 23,
   "id": "f75f2054",
   "metadata": {
    "ExecuteTime": {
     "end_time": "2022-01-27T01:46:59.868198Z",
     "start_time": "2022-01-27T01:46:59.863212Z"
    }
   },
   "outputs": [],
   "source": [
    "from sklearn.linear_model import OrthogonalMatchingPursuit\n",
    "from sklearn.datasets import load_boston\n",
    "from sklearn.model_selection import train_test_split"
   ]
  },
  {
   "cell_type": "code",
   "execution_count": 24,
   "id": "f9dd4d93",
   "metadata": {
    "ExecuteTime": {
     "end_time": "2022-01-27T01:47:00.954597Z",
     "start_time": "2022-01-27T01:47:00.925676Z"
    }
   },
   "outputs": [
    {
     "name": "stdout",
     "output_type": "stream",
     "text": [
      "train score : 0.736\n",
      "test score : 0.659\n"
     ]
    }
   ],
   "source": [
    "X, y = load_boston(return_X_y = True)\n",
    "X_train, X_test, y_train, y_test = train_test_split(X, y, random_state = 123)\n",
    "\n",
    "orthogonal = OrthogonalMatchingPursuit(n_nonzero_coefs = 7) #  13개중 7개\n",
    "orthogonal.fit(X_train, y_train)\n",
    "\n",
    "print(\"train score : {:.3}\".format(orthogonal.score(X_train, y_train)))\n",
    "print(\"test score : {:.3}\".format(orthogonal.score(X_test, y_test)))"
   ]
  },
  {
   "cell_type": "markdown",
   "id": "17b392fb",
   "metadata": {},
   "source": [
    "## Polynomial Regression\n",
    "\n",
    "- 입력데이터를 비선형으로 변환하여 사용하는 방법으로 차수가 높아질수록 더 복잡합 데이터 학습이 가능하다.\n",
    "- 모델 자체는 선형 모델이다."
   ]
  },
  {
   "cell_type": "code",
   "execution_count": 25,
   "id": "8f9872b5",
   "metadata": {
    "ExecuteTime": {
     "end_time": "2022-01-27T01:47:02.073039Z",
     "start_time": "2022-01-27T01:47:02.053092Z"
    }
   },
   "outputs": [],
   "source": [
    "from sklearn.preprocessing import PolynomialFeatures, StandardScaler\n",
    "from sklearn.linear_model import LinearRegression\n",
    "from sklearn.pipeline import make_pipeline\n",
    "from sklearn.model_selection import train_test_split\n",
    "from sklearn.datasets import load_boston"
   ]
  },
  {
   "cell_type": "code",
   "execution_count": 26,
   "id": "479db5a9",
   "metadata": {
    "ExecuteTime": {
     "end_time": "2022-01-27T01:47:03.034684Z",
     "start_time": "2022-01-27T01:47:02.994793Z"
    }
   },
   "outputs": [
    {
     "name": "stdout",
     "output_type": "stream",
     "text": [
      "train score : 0.935\n",
      "test score : 0.826\n"
     ]
    }
   ],
   "source": [
    "X, y = load_boston(return_X_y = True)\n",
    "X_train, X_test, y_train, y_test = train_test_split(X, y, random_state = 123)\n",
    "\n",
    "poly_lr = make_pipeline(\n",
    "    PolynomialFeatures(degree = 2),\n",
    "    StandardScaler(),\n",
    "    LinearRegression()\n",
    ")\n",
    "\n",
    "poly_lr.fit(X_train, y_train)\n",
    "\n",
    "print(\"train score : {:.3}\".format(poly_lr.score(X_train, y_train)))\n",
    "print(\"test score : {:.3}\".format(poly_lr.score(X_test, y_test)))"
   ]
  },
  {
   "cell_type": "markdown",
   "id": "fa0aee5a",
   "metadata": {},
   "source": [
    "## Logistic Regression\n",
    "\n",
    "- regression이라는 단어가 들어가지만, 가능한 클래스가 2개인 이진분류를 위한 모델이다.\n",
    "- 로지스틱 회귀 모델은 선형 회귀 모델에 시기모이드 함수가 적용된 꼴을 취한다.\n",
    "\n",
    "> ***parameter***  \n",
    "> - ***C***  \n",
    ": *C값에 따라 경계가 유연해지고(높), 유연해지지 않는다(낮).*"
   ]
  },
  {
   "cell_type": "code",
   "execution_count": 27,
   "id": "d6721185",
   "metadata": {
    "ExecuteTime": {
     "end_time": "2022-01-27T01:47:04.132566Z",
     "start_time": "2022-01-27T01:47:04.117607Z"
    }
   },
   "outputs": [],
   "source": [
    "import numpy as np\n",
    "import matplotlib.pyplot as plt\n",
    "from sklearn.datasets import make_classification\n",
    "from sklearn.model_selection import train_test_split, cross_val_score\n",
    "from sklearn.linear_model import LogisticRegression"
   ]
  },
  {
   "cell_type": "code",
   "execution_count": 28,
   "id": "0413022c",
   "metadata": {
    "ExecuteTime": {
     "end_time": "2022-01-27T01:47:05.078713Z",
     "start_time": "2022-01-27T01:47:05.064748Z"
    }
   },
   "outputs": [],
   "source": [
    "samples = 1000\n",
    "X, y = make_classification(n_samples = samples, n_features = 2,\n",
    "                           n_informative = 2, n_redundant = 0, n_clusters_per_class = 1)"
   ]
  },
  {
   "cell_type": "code",
   "execution_count": 29,
   "id": "89b97c23",
   "metadata": {
    "ExecuteTime": {
     "end_time": "2022-01-27T01:47:14.515510Z",
     "start_time": "2022-01-27T01:47:06.053150Z"
    }
   },
   "outputs": [
    {
     "data": {
      "image/png": "[encoded data removed]",
      "text/plain": [
       "<Figure size 720x432 with 1 Axes>"
      ]
     },
     "metadata": {
      "needs_background": "light"
     },
     "output_type": "display_data"
    }
   ],
   "source": [
    "fig, ax = plt.subplots(1, 1, figsize = (10, 6))\n",
    "\n",
    "ax.grid()\n",
    "ax.set_xlabel(\"X\")\n",
    "ax.set_ylabel(\"y\")\n",
    "\n",
    "for i in range(samples):\n",
    "    if y[i] == 0:\n",
    "        ax.scatter(X[i, 0], X[i, 1], edgecolors = \"k\", alpha = 0.5, marker = \"^\", color = \"r\")\n",
    "    else:\n",
    "        ax.scatter(X[i, 0], X[i, 1], edgecolors = \"k\", alpha = 0.5, marker = \"o\", color = \"b\")\n",
    "                   \n",
    "plt.show()"
   ]
  },
  {
   "cell_type": "code",
   "execution_count": 37,
   "id": "bda43568",
   "metadata": {
    "ExecuteTime": {
     "end_time": "2022-01-25T13:25:27.608919Z",
     "start_time": "2022-01-25T13:25:27.582987Z"
    }
   },
   "outputs": [
    {
     "name": "stdout",
     "output_type": "stream",
     "text": [
      "train score : 0.927\n",
      "test score : 0.930\n"
     ]
    }
   ],
   "source": [
    "X_train, X_test, y_train, y_test = train_test_split(X, y, test_size = 0.2)\n",
    "\n",
    "lr = LogisticRegression().fit(X_train, y_train)\n",
    "\n",
    "print(\"train score : {:.3f}\".format(lr.score(X_train, y_train)))\n",
    "print(\"test score : {:.3f}\".format(lr.score(X_test, y_test)))"
   ]
  },
  {
   "cell_type": "code",
   "execution_count": 30,
   "id": "9ab8e05e",
   "metadata": {
    "ExecuteTime": {
     "end_time": "2022-01-27T01:47:16.650884Z",
     "start_time": "2022-01-27T01:47:16.586058Z"
    }
   },
   "outputs": [
    {
     "name": "stdout",
     "output_type": "stream",
     "text": [
      "교차검증 평균 점수 : nan\n"
     ]
    }
   ],
   "source": [
    "cv_scores = cross_val_score(lr, X, y, scoring = \"accuracy\", cv = 10)\n",
    "print(\"교차검증 평균 점수 : {:.3f}\".format(cv_scores.mean()))"
   ]
  },
  {
   "cell_type": "code",
   "execution_count": 31,
   "id": "5a8553e1",
   "metadata": {
    "ExecuteTime": {
     "end_time": "2022-01-27T01:47:17.570958Z",
     "start_time": "2022-01-27T01:47:17.529070Z"
    }
   },
   "outputs": [
    {
     "data": {
      "text/html": [
       "<div>\n",
       "<style scoped>\n",
       "    .dataframe tbody tr th:only-of-type {\n",
       "        vertical-align: middle;\n",
       "    }\n",
       "\n",
       "    .dataframe tbody tr th {\n",
       "        vertical-align: top;\n",
       "    }\n",
       "\n",
       "    .dataframe thead th {\n",
       "        text-align: right;\n",
       "    }\n",
       "</style>\n",
       "<table border=\"1\" class=\"dataframe\">\n",
       "  <thead>\n",
       "    <tr style=\"text-align: right;\">\n",
       "      <th></th>\n",
       "      <th>sepal length (cm)</th>\n",
       "      <th>sepal width (cm)</th>\n",
       "      <th>petal length (cm)</th>\n",
       "      <th>petal width (cm)</th>\n",
       "      <th>species</th>\n",
       "    </tr>\n",
       "  </thead>\n",
       "  <tbody>\n",
       "    <tr>\n",
       "      <th>0</th>\n",
       "      <td>5.1</td>\n",
       "      <td>3.5</td>\n",
       "      <td>1.4</td>\n",
       "      <td>0.2</td>\n",
       "      <td>setosa</td>\n",
       "    </tr>\n",
       "    <tr>\n",
       "      <th>1</th>\n",
       "      <td>4.9</td>\n",
       "      <td>3.0</td>\n",
       "      <td>1.4</td>\n",
       "      <td>0.2</td>\n",
       "      <td>setosa</td>\n",
       "    </tr>\n",
       "    <tr>\n",
       "      <th>2</th>\n",
       "      <td>4.7</td>\n",
       "      <td>3.2</td>\n",
       "      <td>1.3</td>\n",
       "      <td>0.2</td>\n",
       "      <td>setosa</td>\n",
       "    </tr>\n",
       "    <tr>\n",
       "      <th>3</th>\n",
       "      <td>4.6</td>\n",
       "      <td>3.1</td>\n",
       "      <td>1.5</td>\n",
       "      <td>0.2</td>\n",
       "      <td>setosa</td>\n",
       "    </tr>\n",
       "    <tr>\n",
       "      <th>4</th>\n",
       "      <td>5.0</td>\n",
       "      <td>3.6</td>\n",
       "      <td>1.4</td>\n",
       "      <td>0.2</td>\n",
       "      <td>setosa</td>\n",
       "    </tr>\n",
       "  </tbody>\n",
       "</table>\n",
       "</div>"
      ],
      "text/plain": [
       "   sepal length (cm)  sepal width (cm)  petal length (cm)  petal width (cm)  \\\n",
       "0                5.1               3.5                1.4               0.2   \n",
       "1                4.9               3.0                1.4               0.2   \n",
       "2                4.7               3.2                1.3               0.2   \n",
       "3                4.6               3.1                1.5               0.2   \n",
       "4                5.0               3.6                1.4               0.2   \n",
       "\n",
       "  species  \n",
       "0  setosa  \n",
       "1  setosa  \n",
       "2  setosa  \n",
       "3  setosa  \n",
       "4  setosa  "
      ]
     },
     "execution_count": 31,
     "metadata": {},
     "output_type": "execute_result"
    }
   ],
   "source": [
    "import pandas as pd\n",
    "from sklearn.datasets import load_iris\n",
    "iris = load_iris()\n",
    "\n",
    "iris_df = pd.DataFrame(iris.data, columns = iris.feature_names)\n",
    "species = pd.Series(iris.target, dtype = \"category\")\n",
    "species = species.cat.rename_categories(iris.target_names)\n",
    "iris_df[\"species\"] = species\n",
    "\n",
    "iris_df.head()"
   ]
  },
  {
   "cell_type": "code",
   "execution_count": 32,
   "id": "20085ac3",
   "metadata": {
    "ExecuteTime": {
     "end_time": "2022-01-27T01:47:19.283408Z",
     "start_time": "2022-01-27T01:47:19.196639Z"
    }
   },
   "outputs": [
    {
     "name": "stdout",
     "output_type": "stream",
     "text": [
      "train score : 0.983\n",
      "test score : 1.000\n"
     ]
    }
   ],
   "source": [
    "from sklearn.model_selection import train_test_split\n",
    "from sklearn.linear_model import LogisticRegression\n",
    "\n",
    "X_train, X_test, y_train, y_test = train_test_split(iris.data, iris.target, test_size = 0.2,\n",
    "                                                    random_state = 1, stratify = iris.target)\n",
    "\n",
    "lg = LogisticRegression(C = 50).fit(X_train, y_train)\n",
    "\n",
    "print(\"train score : {:.3f}\".format(lg.score(X_train, y_train)))\n",
    "print(\"test score : {:.3f}\".format(lg.score(X_test, y_test)))"
   ]
  }
 ],
 "metadata": {
  "kernelspec": {
   "display_name": "Python 3 (ipykernel)",
   "language": "python",
   "name": "python3"
  },
  "language_info": {
   "codemirror_mode": {
    "name": "ipython",
    "version": 3
   },
   "file_extension": ".py",
   "mimetype": "text/x-python",
   "name": "python",
   "nbconvert_exporter": "python",
   "pygments_lexer": "ipython3",
   "version": "3.8.12"
  },
  "toc": {
   "base_numbering": 1,
   "nav_menu": {},
   "number_sections": true,
   "sideBar": true,
   "skip_h1_title": false,
   "title_cell": "Table of Contents",
   "title_sidebar": "Contents",
   "toc_cell": false,
   "toc_position": {},
   "toc_section_display": true,
   "toc_window_display": true
  },
  "varInspector": {
   "cols": {
    "lenName": 16,
    "lenType": 16,
    "lenVar": 40
   },
   "kernels_config": {
    "python": {
     "delete_cmd_postfix": "",
     "delete_cmd_prefix": "del ",
     "library": "var_list.py",
     "varRefreshCmd": "print(var_dic_list())"
    },
    "r": {
     "delete_cmd_postfix": ") ",
     "delete_cmd_prefix": "rm(",
     "library": "var_list.r",
     "varRefreshCmd": "cat(var_dic_list()) "
    }
   },
   "types_to_exclude": [
    "module",
    "function",
    "builtin_function_or_method",
    "instance",
    "_Feature"
   ],
   "window_display": false
  }
 },
 "nbformat": 4,
 "nbformat_minor": 5
}
