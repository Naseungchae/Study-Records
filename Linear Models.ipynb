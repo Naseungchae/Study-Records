{
 "cells": [
  {
   "cell_type": "markdown",
   "id": "f18cdf1f",
   "metadata": {},
   "source": [
    "# Linear Models\n"
   ]
  },
  {
   "cell_type": "markdown",
   "id": "dcc34335",
   "metadata": {},
   "source": [
    "## Linear Regression\n",
    "\n",
    ": 선형 회귀는 모델의 예측과 정답 사이의 **평균제곱오차(=Mean Squared Error)**를 치소화하는 학습파라미터를 찾는다.\n",
    "\n",
    "> **선형 회귀 모델에서 사용하는 다양한 오류 측정의 방법**\n",
    "> - MAE(Mean Absoulte Error)\n",
    "> - MAPE(Mean Absoulte Percentage Error)\n",
    "> - MSE(Mean Squared Error)\n",
    "> - MPE(Mean Percentage Error)\n",
    "\n",
    "\n",
    "> **장단점**\n",
    "> - 장점 : 매개변수가 없다.\n",
    "> - 단점 : 모델의 복잡도를 제어할 방법이 없다."
   ]
  },
  {
   "cell_type": "code",
   "execution_count": 14,
   "id": "364bf506",
   "metadata": {
    "ExecuteTime": {
     "end_time": "2022-01-24T08:25:22.440413Z",
     "start_time": "2022-01-24T08:25:22.387370Z"
    }
   },
   "outputs": [
    {
     "name": "stderr",
     "output_type": "stream",
     "text": [
      "C:\\anaconda3\\lib\\site-packages\\sklearn\\utils\\deprecation.py:87: FutureWarning: Function load_boston is deprecated; `load_boston` is deprecated in 1.0 and will be removed in 1.2.\n",
      "\n",
      "    The Boston housing prices dataset has an ethical problem. You can refer to\n",
      "    the documentation of this function for further details.\n",
      "\n",
      "    The scikit-learn maintainers therefore strongly discourage the use of this\n",
      "    dataset unless the purpose of the code is to study and educate about\n",
      "    ethical issues in data science and machine learning.\n",
      "\n",
      "    In this special case, you can fetch the dataset from the original\n",
      "    source::\n",
      "\n",
      "        import pandas as pd\n",
      "        import numpy as np\n",
      "\n",
      "\n",
      "        data_url = \"http://lib.stat.cmu.edu/datasets/boston\"\n",
      "        raw_df = pd.read_csv(data_url, sep=\"\\s+\", skiprows=22, header=None)\n",
      "        data = np.hstack([raw_df.values[::2, :], raw_df.values[1::2, :2]])\n",
      "        target = raw_df.values[1::2, 2]\n",
      "\n",
      "    Alternative datasets include the California housing dataset (i.e.\n",
      "    :func:`~sklearn.datasets.fetch_california_housing`) and the Ames housing\n",
      "    dataset. You can load the datasets as follows::\n",
      "\n",
      "        from sklearn.datasets import fetch_california_housing\n",
      "        housing = fetch_california_housing()\n",
      "\n",
      "    for the California housing dataset and::\n",
      "\n",
      "        from sklearn.datasets import fetch_openml\n",
      "        housing = fetch_openml(name=\"house_prices\", as_frame=True)\n",
      "\n",
      "    for the Ames housing dataset.\n",
      "    \n",
      "  warnings.warn(msg, category=FutureWarning)\n"
     ]
    },
    {
     "data": {
      "text/html": [
       "<div>\n",
       "<style scoped>\n",
       "    .dataframe tbody tr th:only-of-type {\n",
       "        vertical-align: middle;\n",
       "    }\n",
       "\n",
       "    .dataframe tbody tr th {\n",
       "        vertical-align: top;\n",
       "    }\n",
       "\n",
       "    .dataframe thead th {\n",
       "        text-align: right;\n",
       "    }\n",
       "</style>\n",
       "<table border=\"1\" class=\"dataframe\">\n",
       "  <thead>\n",
       "    <tr style=\"text-align: right;\">\n",
       "      <th></th>\n",
       "      <th>CRIM</th>\n",
       "      <th>ZN</th>\n",
       "      <th>INDUS</th>\n",
       "      <th>CHAS</th>\n",
       "      <th>NOX</th>\n",
       "      <th>RM</th>\n",
       "      <th>AGE</th>\n",
       "      <th>DIS</th>\n",
       "      <th>RAD</th>\n",
       "      <th>TAX</th>\n",
       "      <th>PTRATIO</th>\n",
       "      <th>B</th>\n",
       "      <th>LSTAT</th>\n",
       "    </tr>\n",
       "  </thead>\n",
       "  <tbody>\n",
       "    <tr>\n",
       "      <th>0</th>\n",
       "      <td>0.00632</td>\n",
       "      <td>18.0</td>\n",
       "      <td>2.31</td>\n",
       "      <td>0.0</td>\n",
       "      <td>0.538</td>\n",
       "      <td>6.575</td>\n",
       "      <td>65.2</td>\n",
       "      <td>4.0900</td>\n",
       "      <td>1.0</td>\n",
       "      <td>296.0</td>\n",
       "      <td>15.3</td>\n",
       "      <td>396.90</td>\n",
       "      <td>4.98</td>\n",
       "    </tr>\n",
       "    <tr>\n",
       "      <th>1</th>\n",
       "      <td>0.02731</td>\n",
       "      <td>0.0</td>\n",
       "      <td>7.07</td>\n",
       "      <td>0.0</td>\n",
       "      <td>0.469</td>\n",
       "      <td>6.421</td>\n",
       "      <td>78.9</td>\n",
       "      <td>4.9671</td>\n",
       "      <td>2.0</td>\n",
       "      <td>242.0</td>\n",
       "      <td>17.8</td>\n",
       "      <td>396.90</td>\n",
       "      <td>9.14</td>\n",
       "    </tr>\n",
       "    <tr>\n",
       "      <th>2</th>\n",
       "      <td>0.02729</td>\n",
       "      <td>0.0</td>\n",
       "      <td>7.07</td>\n",
       "      <td>0.0</td>\n",
       "      <td>0.469</td>\n",
       "      <td>7.185</td>\n",
       "      <td>61.1</td>\n",
       "      <td>4.9671</td>\n",
       "      <td>2.0</td>\n",
       "      <td>242.0</td>\n",
       "      <td>17.8</td>\n",
       "      <td>392.83</td>\n",
       "      <td>4.03</td>\n",
       "    </tr>\n",
       "    <tr>\n",
       "      <th>3</th>\n",
       "      <td>0.03237</td>\n",
       "      <td>0.0</td>\n",
       "      <td>2.18</td>\n",
       "      <td>0.0</td>\n",
       "      <td>0.458</td>\n",
       "      <td>6.998</td>\n",
       "      <td>45.8</td>\n",
       "      <td>6.0622</td>\n",
       "      <td>3.0</td>\n",
       "      <td>222.0</td>\n",
       "      <td>18.7</td>\n",
       "      <td>394.63</td>\n",
       "      <td>2.94</td>\n",
       "    </tr>\n",
       "    <tr>\n",
       "      <th>4</th>\n",
       "      <td>0.06905</td>\n",
       "      <td>0.0</td>\n",
       "      <td>2.18</td>\n",
       "      <td>0.0</td>\n",
       "      <td>0.458</td>\n",
       "      <td>7.147</td>\n",
       "      <td>54.2</td>\n",
       "      <td>6.0622</td>\n",
       "      <td>3.0</td>\n",
       "      <td>222.0</td>\n",
       "      <td>18.7</td>\n",
       "      <td>396.90</td>\n",
       "      <td>5.33</td>\n",
       "    </tr>\n",
       "    <tr>\n",
       "      <th>...</th>\n",
       "      <td>...</td>\n",
       "      <td>...</td>\n",
       "      <td>...</td>\n",
       "      <td>...</td>\n",
       "      <td>...</td>\n",
       "      <td>...</td>\n",
       "      <td>...</td>\n",
       "      <td>...</td>\n",
       "      <td>...</td>\n",
       "      <td>...</td>\n",
       "      <td>...</td>\n",
       "      <td>...</td>\n",
       "      <td>...</td>\n",
       "    </tr>\n",
       "    <tr>\n",
       "      <th>501</th>\n",
       "      <td>0.06263</td>\n",
       "      <td>0.0</td>\n",
       "      <td>11.93</td>\n",
       "      <td>0.0</td>\n",
       "      <td>0.573</td>\n",
       "      <td>6.593</td>\n",
       "      <td>69.1</td>\n",
       "      <td>2.4786</td>\n",
       "      <td>1.0</td>\n",
       "      <td>273.0</td>\n",
       "      <td>21.0</td>\n",
       "      <td>391.99</td>\n",
       "      <td>9.67</td>\n",
       "    </tr>\n",
       "    <tr>\n",
       "      <th>502</th>\n",
       "      <td>0.04527</td>\n",
       "      <td>0.0</td>\n",
       "      <td>11.93</td>\n",
       "      <td>0.0</td>\n",
       "      <td>0.573</td>\n",
       "      <td>6.120</td>\n",
       "      <td>76.7</td>\n",
       "      <td>2.2875</td>\n",
       "      <td>1.0</td>\n",
       "      <td>273.0</td>\n",
       "      <td>21.0</td>\n",
       "      <td>396.90</td>\n",
       "      <td>9.08</td>\n",
       "    </tr>\n",
       "    <tr>\n",
       "      <th>503</th>\n",
       "      <td>0.06076</td>\n",
       "      <td>0.0</td>\n",
       "      <td>11.93</td>\n",
       "      <td>0.0</td>\n",
       "      <td>0.573</td>\n",
       "      <td>6.976</td>\n",
       "      <td>91.0</td>\n",
       "      <td>2.1675</td>\n",
       "      <td>1.0</td>\n",
       "      <td>273.0</td>\n",
       "      <td>21.0</td>\n",
       "      <td>396.90</td>\n",
       "      <td>5.64</td>\n",
       "    </tr>\n",
       "    <tr>\n",
       "      <th>504</th>\n",
       "      <td>0.10959</td>\n",
       "      <td>0.0</td>\n",
       "      <td>11.93</td>\n",
       "      <td>0.0</td>\n",
       "      <td>0.573</td>\n",
       "      <td>6.794</td>\n",
       "      <td>89.3</td>\n",
       "      <td>2.3889</td>\n",
       "      <td>1.0</td>\n",
       "      <td>273.0</td>\n",
       "      <td>21.0</td>\n",
       "      <td>393.45</td>\n",
       "      <td>6.48</td>\n",
       "    </tr>\n",
       "    <tr>\n",
       "      <th>505</th>\n",
       "      <td>0.04741</td>\n",
       "      <td>0.0</td>\n",
       "      <td>11.93</td>\n",
       "      <td>0.0</td>\n",
       "      <td>0.573</td>\n",
       "      <td>6.030</td>\n",
       "      <td>80.8</td>\n",
       "      <td>2.5050</td>\n",
       "      <td>1.0</td>\n",
       "      <td>273.0</td>\n",
       "      <td>21.0</td>\n",
       "      <td>396.90</td>\n",
       "      <td>7.88</td>\n",
       "    </tr>\n",
       "  </tbody>\n",
       "</table>\n",
       "<p>506 rows × 13 columns</p>\n",
       "</div>"
      ],
      "text/plain": [
       "        CRIM    ZN  INDUS  CHAS    NOX     RM   AGE     DIS  RAD    TAX  \\\n",
       "0    0.00632  18.0   2.31   0.0  0.538  6.575  65.2  4.0900  1.0  296.0   \n",
       "1    0.02731   0.0   7.07   0.0  0.469  6.421  78.9  4.9671  2.0  242.0   \n",
       "2    0.02729   0.0   7.07   0.0  0.469  7.185  61.1  4.9671  2.0  242.0   \n",
       "3    0.03237   0.0   2.18   0.0  0.458  6.998  45.8  6.0622  3.0  222.0   \n",
       "4    0.06905   0.0   2.18   0.0  0.458  7.147  54.2  6.0622  3.0  222.0   \n",
       "..       ...   ...    ...   ...    ...    ...   ...     ...  ...    ...   \n",
       "501  0.06263   0.0  11.93   0.0  0.573  6.593  69.1  2.4786  1.0  273.0   \n",
       "502  0.04527   0.0  11.93   0.0  0.573  6.120  76.7  2.2875  1.0  273.0   \n",
       "503  0.06076   0.0  11.93   0.0  0.573  6.976  91.0  2.1675  1.0  273.0   \n",
       "504  0.10959   0.0  11.93   0.0  0.573  6.794  89.3  2.3889  1.0  273.0   \n",
       "505  0.04741   0.0  11.93   0.0  0.573  6.030  80.8  2.5050  1.0  273.0   \n",
       "\n",
       "     PTRATIO       B  LSTAT  \n",
       "0       15.3  396.90   4.98  \n",
       "1       17.8  396.90   9.14  \n",
       "2       17.8  392.83   4.03  \n",
       "3       18.7  394.63   2.94  \n",
       "4       18.7  396.90   5.33  \n",
       "..       ...     ...    ...  \n",
       "501     21.0  391.99   9.67  \n",
       "502     21.0  396.90   9.08  \n",
       "503     21.0  396.90   5.64  \n",
       "504     21.0  393.45   6.48  \n",
       "505     21.0  396.90   7.88  \n",
       "\n",
       "[506 rows x 13 columns]"
      ]
     },
     "execution_count": 14,
     "metadata": {},
     "output_type": "execute_result"
    }
   ],
   "source": [
    "import pandas as pd\n",
    "from sklearn.datasets import load_boston\n",
    "from sklearn.model_selection import train_test_split\n",
    "from sklearn.linear_model import LinearRegression\n",
    "boston = load_boston()\n",
    "boston_df = pd.DataFrame(data = boston.data, columns = boston.feature_names)\n",
    "boston_df"
   ]
  },
  {
   "cell_type": "code",
   "execution_count": 135,
   "id": "319cba39",
   "metadata": {
    "ExecuteTime": {
     "end_time": "2022-01-24T12:43:31.440022Z",
     "start_time": "2022-01-24T12:43:31.415094Z"
    }
   },
   "outputs": [
    {
     "name": "stdout",
     "output_type": "stream",
     "text": [
      "train score = 0.756\n",
      "test score = 0.659\n"
     ]
    },
    {
     "name": "stderr",
     "output_type": "stream",
     "text": [
      "C:\\anaconda3\\lib\\site-packages\\sklearn\\linear_model\\_base.py:141: FutureWarning: 'normalize' was deprecated in version 1.0 and will be removed in 1.2.\n",
      "If you wish to scale the data, use Pipeline with a StandardScaler in a preprocessing stage. To reproduce the previous behavior:\n",
      "\n",
      "from sklearn.pipeline import make_pipeline\n",
      "\n",
      "model = make_pipeline(StandardScaler(with_mean=False), LinearRegression())\n",
      "\n",
      "If you wish to pass a sample_weight parameter, you need to pass it as a fit parameter to each step of the pipeline as follows:\n",
      "\n",
      "kwargs = {s[0] + '__sample_weight': sample_weight for s in model.steps}\n",
      "model.fit(X, y, **kwargs)\n",
      "\n",
      "\n",
      "  warnings.warn(\n"
     ]
    }
   ],
   "source": [
    "X_train, X_test, y_train, y_test = train_test_split(boston.data, boston.target, test_size = 0.2, random_state = 123)\n",
    "lr = LinearRegression(normalize = True).fit(X_train, y_train)\n",
    "\n",
    "print(\"train score = {:.3f}\".format(lr.score(X_train, y_train)))\n",
    "print(\"test score = {:.3f}\".format(lr.score(X_test, y_test)))"
   ]
  },
  {
   "cell_type": "markdown",
   "id": "140854ac",
   "metadata": {},
   "source": [
    "### 생성된 회귀 모델에 대한 수식\n",
    "\n",
    "> - **coef_** : 추정된 가중치 벡터 \n",
    "> - **intercept_** : 추정된 상수항"
   ]
  },
  {
   "cell_type": "code",
   "execution_count": 86,
   "id": "d8ec58b5",
   "metadata": {
    "ExecuteTime": {
     "end_time": "2022-01-24T12:27:20.373968Z",
     "start_time": "2022-01-24T12:27:20.362000Z"
    }
   },
   "outputs": [
    {
     "name": "stdout",
     "output_type": "stream",
     "text": [
      "y = 37.25273639045374 \n",
      "-0.10705868923517943 x0\n",
      "0.04410315520368784 x1\n",
      "0.01204740123620207 x2\n",
      "4.44171387732314 x3\n",
      "-19.700890961530177 x4\n",
      "3.8200076462786954 x5\n",
      "0.006071548867564997 x6\n",
      "-1.5734415489935076 x7\n",
      "0.2971078670549717 x8\n",
      "-0.01207962186844646 x9\n",
      "-0.9446586828303412 x10\n",
      "0.009504190277893646 x11\n",
      "-0.5284123042554161 x12\n"
     ]
    }
   ],
   "source": [
    "print(\"y = \" + str(lr.intercept_) + \" \")\n",
    "for i, c in enumerate(lr.coef_):\n",
    "    print(str(c) + \" x\" + str(i))\n",
    "    \n",
    "# 13개의 feature에 대한 가중치의 곱으로 선형함수가 구성된다."
   ]
  },
  {
   "cell_type": "markdown",
   "id": "40c075a6",
   "metadata": {},
   "source": [
    "### 평가\n",
    "\n",
    "- Regression에서는 보통 RMSE와 R2를 비교한다."
   ]
  },
  {
   "cell_type": "code",
   "execution_count": 87,
   "id": "bf02681c",
   "metadata": {
    "ExecuteTime": {
     "end_time": "2022-01-24T12:27:22.336635Z",
     "start_time": "2022-01-24T12:27:22.315649Z"
    }
   },
   "outputs": [
    {
     "name": "stdout",
     "output_type": "stream",
     "text": [
      "RMSE : 4.564\n",
      "R2 score : 0.754\n"
     ]
    }
   ],
   "source": [
    "from sklearn.metrics import mean_squared_error, r2_score\n",
    "\n",
    "y_train_predict = lr.predict(X_train)\n",
    "RMSE = (np.sqrt(mean_squared_error(y_train, y_train_predict)))\n",
    "R2 = r2_score(y_train, y_train_predict)\n",
    "\n",
    "print(\"RMSE : {:.3f}\".format(RMSE)) #  낮을수록 좋다\n",
    "print(\"R2 score : {:.3f}\".format(R2)) # 높을수록 좋다"
   ]
  },
  {
   "cell_type": "code",
   "execution_count": 88,
   "id": "78e153ab",
   "metadata": {
    "ExecuteTime": {
     "end_time": "2022-01-24T12:27:22.810004Z",
     "start_time": "2022-01-24T12:27:22.799029Z"
    }
   },
   "outputs": [
    {
     "name": "stdout",
     "output_type": "stream",
     "text": [
      "RMSE : 5.235\n",
      "R2 score : 0.656\n"
     ]
    }
   ],
   "source": [
    "y_test_predict = lr.predict(X_test)\n",
    "RMSE = (np.sqrt(mean_squared_error(y_test, y_test_predict)))\n",
    "R2 = r2_score(y_test, y_test_predict)\n",
    "\n",
    "print(\"RMSE : {:.3f}\".format(RMSE)) #  낮을수록 좋다\n",
    "print(\"R2 score : {:.3f}\".format(R2)) # 높을수록 좋다"
   ]
  },
  {
   "cell_type": "markdown",
   "id": "96880526",
   "metadata": {},
   "source": [
    "### 시각화"
   ]
  },
  {
   "cell_type": "code",
   "execution_count": 89,
   "id": "4da0a449",
   "metadata": {
    "ExecuteTime": {
     "end_time": "2022-01-24T12:27:23.809568Z",
     "start_time": "2022-01-24T12:27:23.795601Z"
    }
   },
   "outputs": [],
   "source": [
    "def plot_boston(expected, predicted):\n",
    "    plt.figure(figsize = (8, 4))\n",
    "    plt.scatter(expected, predicted)\n",
    "    plt.plot([5, 50], [5, 50], \"--r\")\n",
    "    plt.xlabel(\"True price ($1,000)\")\n",
    "    plt.ylabel(\"Predicted price($1,000)\")\n",
    "    plt.tight_layout()"
   ]
  },
  {
   "cell_type": "code",
   "execution_count": 90,
   "id": "471beee7",
   "metadata": {
    "ExecuteTime": {
     "end_time": "2022-01-24T12:27:24.496725Z",
     "start_time": "2022-01-24T12:27:24.284294Z"
    }
   },
   "outputs": [
    {
     "data": {
      "image/png": "[encoded data removed]",
      "text/plain": [
       "<Figure size 576x288 with 1 Axes>"
      ]
     },
     "metadata": {
      "needs_background": "light"
     },
     "output_type": "display_data"
    }
   ],
   "source": [
    "predicted = lr.predict(X_test)\n",
    "expected = y_test\n",
    "\n",
    "plot_boston(expected, predicted)"
   ]
  },
  {
   "cell_type": "markdown",
   "id": "bc87396f",
   "metadata": {},
   "source": [
    "## Ridge Regression\n",
    "\n",
    ": L2규제를 두어 다중공상성의 문제를 방지하기 때문에 모델의 과대적합을 막을 수 있게 된다.\n",
    "\n",
    "> ***parameter***  \n",
    "> - *alpha  \n",
    ": 값이 크면 규제의 효과가 커지고, 값이 작으면 규제의 효과가 작아지게 된다.*\n",
    "\n",
    "> ***conclusion***\n",
    ">- *Ridge Regression은 가중치에 제약을 두기 때문에 Linear Regression보다 훈련데이터 점수가 낮을 수 있다.*\n",
    ">- *일반화 성능은 Ridge가 더 높기 때문에 평가 데이터 점수는 Ridge 가 더 좋다.*\n",
    ">- *일반화 성능에 영향을 주는 매개변수인 alpha값을 조정해 보면서 Ridge의 성능이 어떻게 변하는지 확인가능하다.*"
   ]
  },
  {
   "cell_type": "code",
   "execution_count": 91,
   "id": "a7cd2b71",
   "metadata": {
    "ExecuteTime": {
     "end_time": "2022-01-24T12:27:25.471655Z",
     "start_time": "2022-01-24T12:27:25.452706Z"
    }
   },
   "outputs": [],
   "source": [
    "from sklearn.linear_model import Ridge\n",
    "from sklearn.datasets import load_boston\n",
    "from sklearn.model_selection import train_test_split"
   ]
  },
  {
   "cell_type": "code",
   "execution_count": 134,
   "id": "16059482",
   "metadata": {
    "ExecuteTime": {
     "end_time": "2022-01-24T12:43:04.683745Z",
     "start_time": "2022-01-24T12:43:04.654824Z"
    }
   },
   "outputs": [
    {
     "name": "stdout",
     "output_type": "stream",
     "text": [
      "train score = 0.752\n",
      "test score = 0.685\n"
     ]
    },
    {
     "name": "stderr",
     "output_type": "stream",
     "text": [
      "C:\\anaconda3\\lib\\site-packages\\sklearn\\utils\\deprecation.py:87: FutureWarning: Function load_boston is deprecated; `load_boston` is deprecated in 1.0 and will be removed in 1.2.\n",
      "\n",
      "    The Boston housing prices dataset has an ethical problem. You can refer to\n",
      "    the documentation of this function for further details.\n",
      "\n",
      "    The scikit-learn maintainers therefore strongly discourage the use of this\n",
      "    dataset unless the purpose of the code is to study and educate about\n",
      "    ethical issues in data science and machine learning.\n",
      "\n",
      "    In this special case, you can fetch the dataset from the original\n",
      "    source::\n",
      "\n",
      "        import pandas as pd\n",
      "        import numpy as np\n",
      "\n",
      "\n",
      "        data_url = \"http://lib.stat.cmu.edu/datasets/boston\"\n",
      "        raw_df = pd.read_csv(data_url, sep=\"\\s+\", skiprows=22, header=None)\n",
      "        data = np.hstack([raw_df.values[::2, :], raw_df.values[1::2, :2]])\n",
      "        target = raw_df.values[1::2, 2]\n",
      "\n",
      "    Alternative datasets include the California housing dataset (i.e.\n",
      "    :func:`~sklearn.datasets.fetch_california_housing`) and the Ames housing\n",
      "    dataset. You can load the datasets as follows::\n",
      "\n",
      "        from sklearn.datasets import fetch_california_housing\n",
      "        housing = fetch_california_housing()\n",
      "\n",
      "    for the California housing dataset and::\n",
      "\n",
      "        from sklearn.datasets import fetch_openml\n",
      "        housing = fetch_openml(name=\"house_prices\", as_frame=True)\n",
      "\n",
      "    for the Ames housing dataset.\n",
      "    \n",
      "  warnings.warn(msg, category=FutureWarning)\n"
     ]
    }
   ],
   "source": [
    "X, y = load_boston(return_X_y = True)\n",
    "X_train, X_test, y_train, y_test = train_test_split(X, y, random_state = 123)\n",
    "\n",
    "ridge = Ridge(alpha = 0.1).fit(X_train, y_train)\n",
    "\n",
    "print(\"train score = {:.3f}\".format(ridge.score(X_train, y_train)))\n",
    "print(\"test score = {:.3f}\".format(ridge.score(X_test, y_test)))\n",
    "# LinearRegression에 비해 test score가 조금 향상됨"
   ]
  },
  {
   "cell_type": "markdown",
   "id": "c9ba3f0f",
   "metadata": {},
   "source": [
    "## Lasso Regression\n",
    "\n",
    ": L1규제를 두어 다중공상성의 문제를 방지하기 때문에 모델의 과대적합을 막을 수 있게 된다.\n",
    "\n",
    "> ***parameter***  \n",
    "> - ***alpha***  \n",
    ": *값이 크면 규제의 효과가 커지고, 값이 작으면 규제의 효과가 작아지게 된다.*\n"
   ]
  },
  {
   "cell_type": "code",
   "execution_count": 93,
   "id": "eaf88b33",
   "metadata": {
    "ExecuteTime": {
     "end_time": "2022-01-24T12:27:34.340281Z",
     "start_time": "2022-01-24T12:27:34.330272Z"
    }
   },
   "outputs": [],
   "source": [
    "from sklearn.linear_model import Lasso\n",
    "from sklearn.datasets import load_boston\n",
    "from sklearn.model_selection import train_test_split"
   ]
  },
  {
   "cell_type": "code",
   "execution_count": 133,
   "id": "0e7be695",
   "metadata": {
    "ExecuteTime": {
     "end_time": "2022-01-24T12:42:59.447522Z",
     "start_time": "2022-01-24T12:42:59.412057Z"
    }
   },
   "outputs": [
    {
     "name": "stdout",
     "output_type": "stream",
     "text": [
      "train score = 0.752\n",
      "test score = 0.686\n"
     ]
    },
    {
     "name": "stderr",
     "output_type": "stream",
     "text": [
      "C:\\anaconda3\\lib\\site-packages\\sklearn\\utils\\deprecation.py:87: FutureWarning: Function load_boston is deprecated; `load_boston` is deprecated in 1.0 and will be removed in 1.2.\n",
      "\n",
      "    The Boston housing prices dataset has an ethical problem. You can refer to\n",
      "    the documentation of this function for further details.\n",
      "\n",
      "    The scikit-learn maintainers therefore strongly discourage the use of this\n",
      "    dataset unless the purpose of the code is to study and educate about\n",
      "    ethical issues in data science and machine learning.\n",
      "\n",
      "    In this special case, you can fetch the dataset from the original\n",
      "    source::\n",
      "\n",
      "        import pandas as pd\n",
      "        import numpy as np\n",
      "\n",
      "\n",
      "        data_url = \"http://lib.stat.cmu.edu/datasets/boston\"\n",
      "        raw_df = pd.read_csv(data_url, sep=\"\\s+\", skiprows=22, header=None)\n",
      "        data = np.hstack([raw_df.values[::2, :], raw_df.values[1::2, :2]])\n",
      "        target = raw_df.values[1::2, 2]\n",
      "\n",
      "    Alternative datasets include the California housing dataset (i.e.\n",
      "    :func:`~sklearn.datasets.fetch_california_housing`) and the Ames housing\n",
      "    dataset. You can load the datasets as follows::\n",
      "\n",
      "        from sklearn.datasets import fetch_california_housing\n",
      "        housing = fetch_california_housing()\n",
      "\n",
      "    for the California housing dataset and::\n",
      "\n",
      "        from sklearn.datasets import fetch_openml\n",
      "        housing = fetch_openml(name=\"house_prices\", as_frame=True)\n",
      "\n",
      "    for the Ames housing dataset.\n",
      "    \n",
      "  warnings.warn(msg, category=FutureWarning)\n"
     ]
    }
   ],
   "source": [
    "X, y = load_boston(return_X_y = True)\n",
    "X_train, X_test, y_train, y_test = train_test_split(X, y, random_state = 123)\n",
    "\n",
    "lasso = Lasso(alpha = 0.001).fit(X_train, y_train)\n",
    "\n",
    "print(\"train score = {:.3f}\".format(lasso.score(X_train, y_train)))\n",
    "print(\"test score = {:.3f}\".format(lasso.score(X_test, y_test)))\n",
    "# LinearRegression, RidgeRegression에 비해 test score가 조금 향상됨"
   ]
  },
  {
   "cell_type": "markdown",
   "id": "9753848b",
   "metadata": {},
   "source": [
    "## Elastic-Net\n",
    "\n",
    "- Ridge와 Lasso의 모든 규제를 사용하는 선형 모델로, 두 모델의 장점을 갖기 때문에 좋은 성능을 보인다.\n",
    "- 데이터 featrue가 많거나, 서로 상관관계가 높은 feature가 존재할 때 좋은 성능을 보인다.\n",
    "\n",
    "> ***parameter***  \n",
    "> - ***alpha***  \n",
    ": *값이 크면 규제의 효과가 커지고, 값이 작으면 규제의 효과가 작아지게 된다.*\n",
    "> - ***l1_ratio***  \n",
    ": *라쏘 규제(L1)와 릿지 규제(L2)간의 가중치를 조절하는 역할을 수행한다.*"
   ]
  },
  {
   "cell_type": "code",
   "execution_count": 95,
   "id": "450678a9",
   "metadata": {
    "ExecuteTime": {
     "end_time": "2022-01-24T12:27:36.497110Z",
     "start_time": "2022-01-24T12:27:36.490127Z"
    }
   },
   "outputs": [],
   "source": [
    "from sklearn.linear_model import ElasticNet\n",
    "from sklearn.datasets import load_boston\n",
    "from sklearn.model_selection import train_test_split"
   ]
  },
  {
   "cell_type": "code",
   "execution_count": 132,
   "id": "ab4573d3",
   "metadata": {
    "ExecuteTime": {
     "end_time": "2022-01-24T12:42:54.722947Z",
     "start_time": "2022-01-24T12:42:54.695020Z"
    }
   },
   "outputs": [
    {
     "name": "stdout",
     "output_type": "stream",
     "text": [
      "train score = 0.752\n",
      "test score = 0.684\n"
     ]
    },
    {
     "name": "stderr",
     "output_type": "stream",
     "text": [
      "C:\\anaconda3\\lib\\site-packages\\sklearn\\utils\\deprecation.py:87: FutureWarning: Function load_boston is deprecated; `load_boston` is deprecated in 1.0 and will be removed in 1.2.\n",
      "\n",
      "    The Boston housing prices dataset has an ethical problem. You can refer to\n",
      "    the documentation of this function for further details.\n",
      "\n",
      "    The scikit-learn maintainers therefore strongly discourage the use of this\n",
      "    dataset unless the purpose of the code is to study and educate about\n",
      "    ethical issues in data science and machine learning.\n",
      "\n",
      "    In this special case, you can fetch the dataset from the original\n",
      "    source::\n",
      "\n",
      "        import pandas as pd\n",
      "        import numpy as np\n",
      "\n",
      "\n",
      "        data_url = \"http://lib.stat.cmu.edu/datasets/boston\"\n",
      "        raw_df = pd.read_csv(data_url, sep=\"\\s+\", skiprows=22, header=None)\n",
      "        data = np.hstack([raw_df.values[::2, :], raw_df.values[1::2, :2]])\n",
      "        target = raw_df.values[1::2, 2]\n",
      "\n",
      "    Alternative datasets include the California housing dataset (i.e.\n",
      "    :func:`~sklearn.datasets.fetch_california_housing`) and the Ames housing\n",
      "    dataset. You can load the datasets as follows::\n",
      "\n",
      "        from sklearn.datasets import fetch_california_housing\n",
      "        housing = fetch_california_housing()\n",
      "\n",
      "    for the California housing dataset and::\n",
      "\n",
      "        from sklearn.datasets import fetch_openml\n",
      "        housing = fetch_openml(name=\"house_prices\", as_frame=True)\n",
      "\n",
      "    for the Ames housing dataset.\n",
      "    \n",
      "  warnings.warn(msg, category=FutureWarning)\n"
     ]
    }
   ],
   "source": [
    "X, y = load_boston(return_X_y = True)\n",
    "X_train, X_test, y_train, y_test = train_test_split(X, y, random_state = 123)\n",
    "\n",
    "elastic = ElasticNet(alpha = 0.001, l1_ratio = 0.5).fit(X_train, y_train)\n",
    "\n",
    "print(\"train score = {:.3f}\".format(elastic.score(X_train, y_train)))\n",
    "print(\"test score = {:.3f}\".format(elastic.score(X_test, y_test)))"
   ]
  },
  {
   "cell_type": "markdown",
   "id": "f6c1e918",
   "metadata": {},
   "source": [
    "## Orthogonal Matchin Pursuit\n",
    "\n",
    "- 모델에 존재하는 가중치 벡터에 특별한 제약을 거는 방법으로 모델을 훈련시키는 과정에서 불필요한 feature을 필터링이 가능하다.\n",
    "\n",
    "> ***parameter***  \n",
    "> - ***n_nonzero_coefs***  \n",
    ": *사용할 feature의 개수를 지정하여 필터링이 가능하게한다.*"
   ]
  },
  {
   "cell_type": "code",
   "execution_count": 97,
   "id": "f75f2054",
   "metadata": {
    "ExecuteTime": {
     "end_time": "2022-01-24T12:27:37.549827Z",
     "start_time": "2022-01-24T12:27:37.541850Z"
    }
   },
   "outputs": [],
   "source": [
    "from sklearn.linear_model import OrthogonalMatchingPursuit\n",
    "from sklearn.datasets import load_boston\n",
    "from sklearn.model_selection import train_test_split"
   ]
  },
  {
   "cell_type": "code",
   "execution_count": 131,
   "id": "f9dd4d93",
   "metadata": {
    "ExecuteTime": {
     "end_time": "2022-01-24T12:42:47.168762Z",
     "start_time": "2022-01-24T12:42:47.131860Z"
    }
   },
   "outputs": [
    {
     "name": "stdout",
     "output_type": "stream",
     "text": [
      "train score : 0.736\n",
      "test score : 0.659\n"
     ]
    },
    {
     "name": "stderr",
     "output_type": "stream",
     "text": [
      "C:\\anaconda3\\lib\\site-packages\\sklearn\\utils\\deprecation.py:87: FutureWarning: Function load_boston is deprecated; `load_boston` is deprecated in 1.0 and will be removed in 1.2.\n",
      "\n",
      "    The Boston housing prices dataset has an ethical problem. You can refer to\n",
      "    the documentation of this function for further details.\n",
      "\n",
      "    The scikit-learn maintainers therefore strongly discourage the use of this\n",
      "    dataset unless the purpose of the code is to study and educate about\n",
      "    ethical issues in data science and machine learning.\n",
      "\n",
      "    In this special case, you can fetch the dataset from the original\n",
      "    source::\n",
      "\n",
      "        import pandas as pd\n",
      "        import numpy as np\n",
      "\n",
      "\n",
      "        data_url = \"http://lib.stat.cmu.edu/datasets/boston\"\n",
      "        raw_df = pd.read_csv(data_url, sep=\"\\s+\", skiprows=22, header=None)\n",
      "        data = np.hstack([raw_df.values[::2, :], raw_df.values[1::2, :2]])\n",
      "        target = raw_df.values[1::2, 2]\n",
      "\n",
      "    Alternative datasets include the California housing dataset (i.e.\n",
      "    :func:`~sklearn.datasets.fetch_california_housing`) and the Ames housing\n",
      "    dataset. You can load the datasets as follows::\n",
      "\n",
      "        from sklearn.datasets import fetch_california_housing\n",
      "        housing = fetch_california_housing()\n",
      "\n",
      "    for the California housing dataset and::\n",
      "\n",
      "        from sklearn.datasets import fetch_openml\n",
      "        housing = fetch_openml(name=\"house_prices\", as_frame=True)\n",
      "\n",
      "    for the Ames housing dataset.\n",
      "    \n",
      "  warnings.warn(msg, category=FutureWarning)\n",
      "C:\\anaconda3\\lib\\site-packages\\sklearn\\linear_model\\_base.py:133: FutureWarning: The default of 'normalize' will be set to False in version 1.2 and deprecated in version 1.4.\n",
      "If you wish to scale the data, use Pipeline with a StandardScaler in a preprocessing stage. To reproduce the previous behavior:\n",
      "\n",
      "from sklearn.pipeline import make_pipeline\n",
      "\n",
      "model = make_pipeline(StandardScaler(with_mean=False), OrthogonalMatchingPursuit())\n",
      "\n",
      "If you wish to pass a sample_weight parameter, you need to pass it as a fit parameter to each step of the pipeline as follows:\n",
      "\n",
      "kwargs = {s[0] + '__sample_weight': sample_weight for s in model.steps}\n",
      "model.fit(X, y, **kwargs)\n",
      "\n",
      "\n",
      "  warnings.warn(\n"
     ]
    }
   ],
   "source": [
    "X, y = load_boston(return_X_y = True)\n",
    "X_train, X_test, y_train, y_test = train_test_split(X, y, random_state = 123)\n",
    "\n",
    "orthogonal = OrthogonalMatchingPursuit(n_nonzero_coefs = 7) #  13개중 7개\n",
    "orthogonal.fit(X_train, y_train)\n",
    "\n",
    "print(\"train score : {:.3}\".format(orthogonal.score(X_train, y_train)))\n",
    "print(\"test score : {:.3}\".format(orthogonal.score(X_test, y_test)))"
   ]
  },
  {
   "cell_type": "markdown",
   "id": "17b392fb",
   "metadata": {},
   "source": [
    "## Polynomial Regression\n",
    "\n",
    "- 입력데이터를 비선형으로 변환하여 사용하는 방법으로 차수가 높아질수록 더 복잡합 데이터 학습이 가능하다.\n",
    "- 모델 자체는 선형 모델이다."
   ]
  },
  {
   "cell_type": "code",
   "execution_count": 128,
   "id": "8f9872b5",
   "metadata": {
    "ExecuteTime": {
     "end_time": "2022-01-24T12:39:44.040049Z",
     "start_time": "2022-01-24T12:39:44.030077Z"
    }
   },
   "outputs": [],
   "source": [
    "from sklearn.preprocessing import PolynomialFeatures, StandardScaler\n",
    "from sklearn.linear_model import LinearRegression\n",
    "from sklearn.pipeline import make_pipeline\n",
    "from sklearn.model_selection import train_test_split\n",
    "from sklearn.datasets import load_boston"
   ]
  },
  {
   "cell_type": "code",
   "execution_count": 130,
   "id": "479db5a9",
   "metadata": {
    "ExecuteTime": {
     "end_time": "2022-01-24T12:42:25.977268Z",
     "start_time": "2022-01-24T12:42:25.943359Z"
    }
   },
   "outputs": [
    {
     "name": "stdout",
     "output_type": "stream",
     "text": [
      "train score : 0.935\n",
      "test score : 0.826\n"
     ]
    },
    {
     "name": "stderr",
     "output_type": "stream",
     "text": [
      "C:\\anaconda3\\lib\\site-packages\\sklearn\\utils\\deprecation.py:87: FutureWarning: Function load_boston is deprecated; `load_boston` is deprecated in 1.0 and will be removed in 1.2.\n",
      "\n",
      "    The Boston housing prices dataset has an ethical problem. You can refer to\n",
      "    the documentation of this function for further details.\n",
      "\n",
      "    The scikit-learn maintainers therefore strongly discourage the use of this\n",
      "    dataset unless the purpose of the code is to study and educate about\n",
      "    ethical issues in data science and machine learning.\n",
      "\n",
      "    In this special case, you can fetch the dataset from the original\n",
      "    source::\n",
      "\n",
      "        import pandas as pd\n",
      "        import numpy as np\n",
      "\n",
      "\n",
      "        data_url = \"http://lib.stat.cmu.edu/datasets/boston\"\n",
      "        raw_df = pd.read_csv(data_url, sep=\"\\s+\", skiprows=22, header=None)\n",
      "        data = np.hstack([raw_df.values[::2, :], raw_df.values[1::2, :2]])\n",
      "        target = raw_df.values[1::2, 2]\n",
      "\n",
      "    Alternative datasets include the California housing dataset (i.e.\n",
      "    :func:`~sklearn.datasets.fetch_california_housing`) and the Ames housing\n",
      "    dataset. You can load the datasets as follows::\n",
      "\n",
      "        from sklearn.datasets import fetch_california_housing\n",
      "        housing = fetch_california_housing()\n",
      "\n",
      "    for the California housing dataset and::\n",
      "\n",
      "        from sklearn.datasets import fetch_openml\n",
      "        housing = fetch_openml(name=\"house_prices\", as_frame=True)\n",
      "\n",
      "    for the Ames housing dataset.\n",
      "    \n",
      "  warnings.warn(msg, category=FutureWarning)\n"
     ]
    }
   ],
   "source": [
    "X, y = load_boston(return_X_y = True)\n",
    "X_train, X_test, y_train, y_test = train_test_split(X, y, random_state = 123)\n",
    "\n",
    "poly_lr = make_pipeline(\n",
    "    PolynomialFeatures(degree = 2),\n",
    "    StandardScaler(),\n",
    "    LinearRegression()\n",
    ")\n",
    "\n",
    "poly_lr.fit(X_train, y_train)\n",
    "\n",
    "print(\"train score : {:.3}\".format(poly_lr.score(X_train, y_train)))\n",
    "print(\"test score : {:.3}\".format(poly_lr.score(X_test, y_test)))"
   ]
  },
  {
   "cell_type": "markdown",
   "id": "fa0aee5a",
   "metadata": {},
   "source": [
    "## Logistic Regression\n",
    "\n",
    "- regression이라는 단어가 들어가지만, 가능한 클래스가 2개인 이진분류를 위한 모델이다.\n",
    "- 로지스틱 회귀 모델은 선형 회귀 모델에 시기모이드 함수가 적용된 꼴을 취한다.\n",
    "\n",
    "> ***parameter***  \n",
    "> - ***C***  \n",
    ": *C값에 따라 경계가 유연해지고(높), 유연해지지 않는다(낮).*"
   ]
  },
  {
   "cell_type": "code",
   "execution_count": 1,
   "id": "d6721185",
   "metadata": {
    "ExecuteTime": {
     "end_time": "2022-01-25T13:08:00.198807Z",
     "start_time": "2022-01-25T13:07:58.929168Z"
    }
   },
   "outputs": [],
   "source": [
    "import numpy as np\n",
    "import matplotlib.pyplot as plt\n",
    "from sklearn.datasets import make_classification\n",
    "from sklearn.model_selection import train_test_split, cross_val_score\n",
    "from sklearn.linear_model import LogisticRegression"
   ]
  },
  {
   "cell_type": "code",
   "execution_count": 26,
   "id": "0413022c",
   "metadata": {
    "ExecuteTime": {
     "end_time": "2022-01-25T13:19:59.511170Z",
     "start_time": "2022-01-25T13:19:59.503152Z"
    }
   },
   "outputs": [],
   "source": [
    "samples = 1000\n",
    "X, y = make_classification(n_samples = samples, n_features = 2,\n",
    "                           n_informative = 2, n_redundant = 0, n_clusters_per_class = 1)"
   ]
  },
  {
   "cell_type": "code",
   "execution_count": 27,
   "id": "89b97c23",
   "metadata": {
    "ExecuteTime": {
     "end_time": "2022-01-25T13:20:07.740755Z",
     "start_time": "2022-01-25T13:20:00.283852Z"
    }
   },
   "outputs": [
    {
     "data": {
      "image/png": "[encoded data removed]",
      "text/plain": [
       "<Figure size 720x432 with 1 Axes>"
      ]
     },
     "metadata": {
      "needs_background": "light"
     },
     "output_type": "display_data"
    }
   ],
   "source": [
    "fig, ax = plt.subplots(1, 1, figsize = (10, 6))\n",
    "\n",
    "ax.grid()\n",
    "ax.set_xlabel(\"X\")\n",
    "ax.set_ylabel(\"y\")\n",
    "\n",
    "for i in range(samples):\n",
    "    if y[i] == 0:\n",
    "        ax.scatter(X[i, 0], X[i, 1], edgecolors = \"k\", alpha = 0.5, marker = \"^\", color = \"r\")\n",
    "    else:\n",
    "        ax.scatter(X[i, 0], X[i, 1], edgecolors = \"k\", alpha = 0.5, marker = \"o\", color = \"b\")\n",
    "                   \n",
    "plt.show()"
   ]
  },
  {
   "cell_type": "code",
   "execution_count": 37,
   "id": "bda43568",
   "metadata": {
    "ExecuteTime": {
     "end_time": "2022-01-25T13:25:27.608919Z",
     "start_time": "2022-01-25T13:25:27.582987Z"
    }
   },
   "outputs": [
    {
     "name": "stdout",
     "output_type": "stream",
     "text": [
      "train score : 0.927\n",
      "test score : 0.930\n"
     ]
    }
   ],
   "source": [
    "X_train, X_test, y_train, y_test = train_test_split(X, y, test_size = 0.2)\n",
    "\n",
    "lr = LogisticRegression().fit(X_train, y_train)\n",
    "\n",
    "print(\"train score : {:.3f}\".format(lr.score(X_train, y_train)))\n",
    "print(\"test score : {:.3f}\".format(lr.score(X_test, y_test)))"
   ]
  },
  {
   "cell_type": "code",
   "execution_count": 38,
   "id": "9ab8e05e",
   "metadata": {
    "ExecuteTime": {
     "end_time": "2022-01-25T13:25:33.357795Z",
     "start_time": "2022-01-25T13:25:33.271973Z"
    }
   },
   "outputs": [
    {
     "name": "stdout",
     "output_type": "stream",
     "text": [
      "교차검증 평균 점수 : 0.927\n"
     ]
    }
   ],
   "source": [
    "cv_scores = cross_val_score(lr, X, y, scoring = \"accuracy\", cv = 10)\n",
    "print(\"교차검증 평균 점수 : {:.3f}\".format(cv_scores.mean()))"
   ]
  },
  {
   "cell_type": "code",
   "execution_count": 46,
   "id": "5a8553e1",
   "metadata": {
    "ExecuteTime": {
     "end_time": "2022-01-25T13:36:11.921273Z",
     "start_time": "2022-01-25T13:36:11.882326Z"
    }
   },
   "outputs": [
    {
     "data": {
      "text/html": [
       "<div>\n",
       "<style scoped>\n",
       "    .dataframe tbody tr th:only-of-type {\n",
       "        vertical-align: middle;\n",
       "    }\n",
       "\n",
       "    .dataframe tbody tr th {\n",
       "        vertical-align: top;\n",
       "    }\n",
       "\n",
       "    .dataframe thead th {\n",
       "        text-align: right;\n",
       "    }\n",
       "</style>\n",
       "<table border=\"1\" class=\"dataframe\">\n",
       "  <thead>\n",
       "    <tr style=\"text-align: right;\">\n",
       "      <th></th>\n",
       "      <th>sepal length (cm)</th>\n",
       "      <th>sepal width (cm)</th>\n",
       "      <th>petal length (cm)</th>\n",
       "      <th>petal width (cm)</th>\n",
       "      <th>species</th>\n",
       "    </tr>\n",
       "  </thead>\n",
       "  <tbody>\n",
       "    <tr>\n",
       "      <th>0</th>\n",
       "      <td>5.1</td>\n",
       "      <td>3.5</td>\n",
       "      <td>1.4</td>\n",
       "      <td>0.2</td>\n",
       "      <td>setosa</td>\n",
       "    </tr>\n",
       "    <tr>\n",
       "      <th>1</th>\n",
       "      <td>4.9</td>\n",
       "      <td>3.0</td>\n",
       "      <td>1.4</td>\n",
       "      <td>0.2</td>\n",
       "      <td>setosa</td>\n",
       "    </tr>\n",
       "    <tr>\n",
       "      <th>2</th>\n",
       "      <td>4.7</td>\n",
       "      <td>3.2</td>\n",
       "      <td>1.3</td>\n",
       "      <td>0.2</td>\n",
       "      <td>setosa</td>\n",
       "    </tr>\n",
       "    <tr>\n",
       "      <th>3</th>\n",
       "      <td>4.6</td>\n",
       "      <td>3.1</td>\n",
       "      <td>1.5</td>\n",
       "      <td>0.2</td>\n",
       "      <td>setosa</td>\n",
       "    </tr>\n",
       "    <tr>\n",
       "      <th>4</th>\n",
       "      <td>5.0</td>\n",
       "      <td>3.6</td>\n",
       "      <td>1.4</td>\n",
       "      <td>0.2</td>\n",
       "      <td>setosa</td>\n",
       "    </tr>\n",
       "  </tbody>\n",
       "</table>\n",
       "</div>"
      ],
      "text/plain": [
       "   sepal length (cm)  sepal width (cm)  petal length (cm)  petal width (cm)  \\\n",
       "0                5.1               3.5                1.4               0.2   \n",
       "1                4.9               3.0                1.4               0.2   \n",
       "2                4.7               3.2                1.3               0.2   \n",
       "3                4.6               3.1                1.5               0.2   \n",
       "4                5.0               3.6                1.4               0.2   \n",
       "\n",
       "  species  \n",
       "0  setosa  \n",
       "1  setosa  \n",
       "2  setosa  \n",
       "3  setosa  \n",
       "4  setosa  "
      ]
     },
     "execution_count": 46,
     "metadata": {},
     "output_type": "execute_result"
    }
   ],
   "source": [
    "import pandas as pd\n",
    "from sklearn.datasets import load_iris\n",
    "iris = load_iris()\n",
    "\n",
    "iris_df = pd.DataFrame(iris.data, columns = iris.feature_names)\n",
    "species = pd.Series(iris.target, dtype = \"category\")\n",
    "species = species.cat.rename_categories(iris.target_names)\n",
    "iris_df[\"species\"] = species\n",
    "\n",
    "iris_df.head()"
   ]
  },
  {
   "cell_type": "code",
   "execution_count": 51,
   "id": "20085ac3",
   "metadata": {
    "ExecuteTime": {
     "end_time": "2022-01-25T13:45:40.829386Z",
     "start_time": "2022-01-25T13:45:40.765557Z"
    }
   },
   "outputs": [
    {
     "name": "stdout",
     "output_type": "stream",
     "text": [
      "train score : 0.983\n",
      "test score : 1.000\n"
     ]
    },
    {
     "name": "stderr",
     "output_type": "stream",
     "text": [
      "C:\\anaconda3\\lib\\site-packages\\sklearn\\linear_model\\_logistic.py:814: ConvergenceWarning: lbfgs failed to converge (status=1):\n",
      "STOP: TOTAL NO. of ITERATIONS REACHED LIMIT.\n",
      "\n",
      "Increase the number of iterations (max_iter) or scale the data as shown in:\n",
      "    https://scikit-learn.org/stable/modules/preprocessing.html\n",
      "Please also refer to the documentation for alternative solver options:\n",
      "    https://scikit-learn.org/stable/modules/linear_model.html#logistic-regression\n",
      "  n_iter_i = _check_optimize_result(\n"
     ]
    }
   ],
   "source": [
    "from sklearn.model_selection import train_test_split\n",
    "from sklearn.linear_model import LogisticRegression\n",
    "\n",
    "X_train, X_test, y_train, y_test = train_test_split(iris.data, iris.target, test_size = 0.2,\n",
    "                                                    random_state = 1, stratify = iris.target)\n",
    "\n",
    "lg = LogisticRegression(C = 50).fit(X_train, y_train)\n",
    "\n",
    "print(\"train score : {:.3f}\".format(lg.score(X_train, y_train)))\n",
    "print(\"test score : {:.3f}\".format(lg.score(X_test, y_test)))"
   ]
  }
 ],
 "metadata": {
  "kernelspec": {
   "display_name": "Python 3 (ipykernel)",
   "language": "python",
   "name": "python3"
  },
  "language_info": {
   "codemirror_mode": {
    "name": "ipython",
    "version": 3
   },
   "file_extension": ".py",
   "mimetype": "text/x-python",
   "name": "python",
   "nbconvert_exporter": "python",
   "pygments_lexer": "ipython3",
   "version": "3.8.12"
  },
  "toc": {
   "base_numbering": 1,
   "nav_menu": {},
   "number_sections": true,
   "sideBar": true,
   "skip_h1_title": false,
   "title_cell": "Table of Contents",
   "title_sidebar": "Contents",
   "toc_cell": false,
   "toc_position": {},
   "toc_section_display": true,
   "toc_window_display": true
  },
  "varInspector": {
   "cols": {
    "lenName": 16,
    "lenType": 16,
    "lenVar": 40
   },
   "kernels_config": {
    "python": {
     "delete_cmd_postfix": "",
     "delete_cmd_prefix": "del ",
     "library": "var_list.py",
     "varRefreshCmd": "print(var_dic_list())"
    },
    "r": {
     "delete_cmd_postfix": ") ",
     "delete_cmd_prefix": "rm(",
     "library": "var_list.r",
     "varRefreshCmd": "cat(var_dic_list()) "
    }
   },
   "types_to_exclude": [
    "module",
    "function",
    "builtin_function_or_method",
    "instance",
    "_Feature"
   ],
   "window_display": false
  }
 },
 "nbformat": 4,
 "nbformat_minor": 5
}
