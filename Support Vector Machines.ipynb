{
 "cells": [
  {
   "cell_type": "markdown",
   "id": "28822a9c",
   "metadata": {},
   "source": [
    "# SVM\n",
    "\n",
    "= 클래스 사이의 경계에 위치한 데이터 포인트를 서폭트 벡터라고하는데,  \n",
    "각 서포트 벡터가 클래스 사이의 결정 경계를 구분하는데 얼마나 중요한지를 학습하며    \n",
    "각 서포트 벡터 사이의 마진이 가장 큰 방향으로 학습된다.\n",
    "\n",
    "- 회귀와 분류, 이상치 탐지 등에 사용되는 지도학습 방법이다.\n",
    "- SVM은 입력데이터가 정규화되어야 좋은 성능을 보인다.  \n",
    "    (=주로 모든 feature에 대한 값을 [0, 1]의 범위로 맞추는 방식을 사용)  \n",
    "    sklearn의 StandardScaler 또는 MinMaxScaler을 사용하면 될것.\n",
    "    "
   ]
  },
  {
   "cell_type": "code",
   "execution_count": 28,
   "id": "9c3bb93e",
   "metadata": {
    "ExecuteTime": {
     "end_time": "2022-01-27T01:23:38.708178Z",
     "start_time": "2022-01-27T01:23:38.695213Z"
    }
   },
   "outputs": [],
   "source": [
    "import warnings\n",
    "warnings.filterwarnings(action='ignore') #warnings.filterwarnings(action='default')\n",
    "import multiprocessing\n",
    "import pandas as pd\n",
    "import numpy as np\n",
    "import matplotlib.pyplot as plt\n",
    "\n",
    "from sklearn.svm import SVR, SVC #회귀, 분류\n",
    "from sklearn.datasets import load_boston, load_diabetes\n",
    "from sklearn.datasets import load_breast_cancer, load_iris, load_wine\n",
    "from sklearn.pipeline import make_pipeline, Pipeline\n",
    "from sklearn.model_selection import train_test_split, cross_validate, GridSearchCV\n",
    "from sklearn.preprocessing import StandardScaler, MinMaxScaler\n",
    "from sklearn.manifold import TSNE"
   ]
  },
  {
   "cell_type": "markdown",
   "id": "ca872a8d",
   "metadata": {},
   "source": [
    "## Support vector Regression"
   ]
  },
  {
   "cell_type": "code",
   "execution_count": 24,
   "id": "2fdbcaea",
   "metadata": {
    "ExecuteTime": {
     "end_time": "2022-01-27T01:22:06.647286Z",
     "start_time": "2022-01-27T01:22:06.567500Z"
    }
   },
   "outputs": [
    {
     "name": "stdout",
     "output_type": "stream",
     "text": [
      "train score : 0.218\n",
      "test score : 0.135\n"
     ]
    }
   ],
   "source": [
    "X, y =load_boston(return_X_y = True)\n",
    "X_train, X_test, y_train, y_test = train_test_split(X, y, random_state = 123)\n",
    "\n",
    "svr = SVR().fit(X_train, y_train)\n",
    "\n",
    "print(\"train score : {:.3f}\".format(svr.score(X_train, y_train)))\n",
    "print(\"test score : {:.3f}\".format(svr.score(X_test, y_test)))"
   ]
  },
  {
   "cell_type": "markdown",
   "id": "ea614be1",
   "metadata": {},
   "source": [
    "## Support Vector Clssification"
   ]
  },
  {
   "cell_type": "code",
   "execution_count": 25,
   "id": "ffbae1ce",
   "metadata": {
    "ExecuteTime": {
     "end_time": "2022-01-27T01:22:09.045869Z",
     "start_time": "2022-01-27T01:22:08.984035Z"
    }
   },
   "outputs": [
    {
     "name": "stdout",
     "output_type": "stream",
     "text": [
      "train score : 0.901\n",
      "test score : 0.923\n"
     ]
    }
   ],
   "source": [
    "X, y =load_breast_cancer(return_X_y = True)\n",
    "X_train, X_test, y_train, y_test = train_test_split(X, y, random_state = 123)\n",
    "\n",
    "svc = SVC().fit(X_train, y_train)\n",
    "\n",
    "print(\"train score : {:.3f}\".format(svc.score(X_train, y_train)))\n",
    "print(\"test score : {:.3f}\".format(svc.score(X_test, y_test)))"
   ]
  },
  {
   "cell_type": "markdown",
   "id": "c90fcb4a",
   "metadata": {},
   "source": [
    "# Kernel SVM\n",
    "\n",
    ": 입력 데이터를 고차원 공간에 사상해서 비선형 특징을 학습할 수 있도록 확장하는 방법이다.\n",
    "\n",
    "- sklearn에서는 Linear(선형), Polynomial(비선형), RBF 등 다양한 커널 기법이 지원된다."
   ]
  },
  {
   "cell_type": "markdown",
   "id": "f2450b0a",
   "metadata": {},
   "source": [
    "## kernel SVR"
   ]
  },
  {
   "cell_type": "code",
   "execution_count": 26,
   "id": "1a70f16d",
   "metadata": {
    "ExecuteTime": {
     "end_time": "2022-01-27T01:22:17.319737Z",
     "start_time": "2022-01-27T01:22:12.489657Z"
    }
   },
   "outputs": [
    {
     "name": "stdout",
     "output_type": "stream",
     "text": [
      "linear_train score : 0.716\n",
      "linear_test score : 0.638\n",
      "\n",
      "polynomial_train score : 0.202\n",
      "polynomial_test score : 0.134\n",
      "\n",
      "RBF_train score : 0.218\n",
      "RBF_test score : 0.135\n"
     ]
    }
   ],
   "source": [
    "X, y =load_boston(return_X_y = True)\n",
    "X_train, X_test, y_train, y_test = train_test_split(X, y, random_state = 123)\n",
    "\n",
    "linear_svr = SVR(kernel = \"linear\").fit(X_train, y_train)\n",
    "\n",
    "print(\"linear_train score : {:.3f}\".format(linear_svr.score(X_train, y_train)))\n",
    "print(\"linear_test score : {:.3f}\".format(linear_svr.score(X_test, y_test)))\n",
    "\n",
    "print()\n",
    "\n",
    "X, y =load_boston(return_X_y = True)\n",
    "X_train, X_test, y_train, y_test = train_test_split(X, y, random_state = 123)\n",
    "\n",
    "polynomial_svr = SVR(kernel = \"poly\").fit(X_train, y_train)\n",
    "\n",
    "print(\"polynomial_train score : {:.3f}\".format(polynomial_svr.score(X_train, y_train)))\n",
    "print(\"polynomial_test score : {:.3f}\".format(polynomial_svr.score(X_test, y_test)))\n",
    "\n",
    "print()\n",
    "\n",
    "X, y =load_boston(return_X_y = True)\n",
    "X_train, X_test, y_train, y_test = train_test_split(X, y, random_state = 123)\n",
    "\n",
    "RBF_svr = SVR(kernel = \"rbf\").fit(X_train, y_train)\n",
    "\n",
    "print(\"RBF_train score : {:.3f}\".format(RBF_svr.score(X_train, y_train)))\n",
    "print(\"RBF_test score : {:.3f}\".format(RBF_svr.score(X_test, y_test)))\n",
    "\n",
    "# Kernel SVR에서는 linear kerneal이 가장 성능이 좋다."
   ]
  },
  {
   "cell_type": "markdown",
   "id": "2155a611",
   "metadata": {},
   "source": [
    "## kernel SVC"
   ]
  },
  {
   "cell_type": "code",
   "execution_count": 29,
   "id": "f52b145c",
   "metadata": {
    "ExecuteTime": {
     "end_time": "2022-01-27T01:24:52.561258Z",
     "start_time": "2022-01-27T01:24:51.886066Z"
    }
   },
   "outputs": [
    {
     "name": "stdout",
     "output_type": "stream",
     "text": [
      "linear_train score : 0.960\n",
      "linear_test score : 0.986\n",
      "\n",
      "polynomial_train score : 0.901\n",
      "polynomial_test score : 0.923\n",
      "\n",
      "RBF_train score : 0.901\n",
      "RBF_test score : 0.923\n"
     ]
    }
   ],
   "source": [
    "X, y =load_breast_cancer(return_X_y = True)\n",
    "X_train, X_test, y_train, y_test = train_test_split(X, y, random_state = 123)\n",
    "\n",
    "linear_svc = SVC(kernel = \"linear\").fit(X_train, y_train)\n",
    "\n",
    "print(\"linear_train score : {:.3f}\".format(linear_svc.score(X_train, y_train)))\n",
    "print(\"linear_test score : {:.3f}\".format(linear_svc.score(X_test, y_test)))\n",
    "\n",
    "print()\n",
    "\n",
    "X, y =load_breast_cancer(return_X_y = True)\n",
    "X_train, X_test, y_train, y_test = train_test_split(X, y, random_state = 123)\n",
    "\n",
    "polynomial_svc = SVC(kernel = \"poly\").fit(X_train, y_train)\n",
    "\n",
    "print(\"polynomial_train score : {:.3f}\".format(polynomial_svc.score(X_train, y_train)))\n",
    "print(\"polynomial_test score : {:.3f}\".format(polynomial_svc.score(X_test, y_test)))\n",
    "\n",
    "print()\n",
    "\n",
    "X, y =load_breast_cancer(return_X_y = True)\n",
    "X_train, X_test, y_train, y_test = train_test_split(X, y, random_state = 123)\n",
    "\n",
    "RBF_svc = SVC(kernel = \"rbf\").fit(X_train, y_train)\n",
    "\n",
    "print(\"RBF_train score : {:.3f}\".format(RBF_svc.score(X_train, y_train)))\n",
    "print(\"RBF_test score : {:.3f}\".format(RBF_svc.score(X_test, y_test)))\n",
    "\n",
    "# Kernel SVC에서도 linear kernel이 가장 성능이 좋다."
   ]
  },
  {
   "cell_type": "markdown",
   "id": "3b41d5e0",
   "metadata": {},
   "source": [
    "# parameter\n",
    "\n",
    "- SVM은 사용하는 Kernel에 따라 다양한 매개변수 설정이 가능하다.\n",
    "- 매개변수를 변경하면서 성능변화를 관찰할 수 있다.\n",
    "  \n",
    "> ***Kernel***  \n",
    "> ***degree***  \n",
    "> ***C***  \n",
    "> ***gamma***"
   ]
  },
  {
   "cell_type": "code",
   "execution_count": 35,
   "id": "3e0fa20e",
   "metadata": {
    "ExecuteTime": {
     "end_time": "2022-01-27T01:36:11.257790Z",
     "start_time": "2022-01-27T01:35:45.805884Z"
    }
   },
   "outputs": [
    {
     "name": "stdout",
     "output_type": "stream",
     "text": [
      "Kernel = Polynomial, degree = 2, C = 0.1, gammer = auto\n",
      "polynomial_train score : 0.984\n",
      "polynomial_test score : 0.993\n"
     ]
    }
   ],
   "source": [
    "X, y =load_breast_cancer(return_X_y = True)\n",
    "X_train, X_test, y_train, y_test = train_test_split(X, y, random_state = 123)\n",
    "\n",
    "polynomial_svc = SVC(kernel = \"poly\", degree = 2, C = 0.1, gamma = \"auto\").fit(X_train, y_train)\n",
    "\n",
    "print(\"Kernel = Polynomial, degree = {}, C = {}, gammer = {}\".format(2, 0.1, \"auto\"))\n",
    "print(\"polynomial_train score : {:.3f}\".format(polynomial_svc.score(X_train, y_train)))\n",
    "print(\"polynomial_test score : {:.3f}\".format(polynomial_svc.score(X_test, y_test)))\n",
    "\n",
    "# hyper parameter를 설정하니 기존의 성능보다 향상되었다."
   ]
  },
  {
   "cell_type": "code",
   "execution_count": 34,
   "id": "106bc560",
   "metadata": {
    "ExecuteTime": {
     "end_time": "2022-01-27T01:35:43.036284Z",
     "start_time": "2022-01-27T01:35:42.983426Z"
    }
   },
   "outputs": [
    {
     "name": "stdout",
     "output_type": "stream",
     "text": [
      "Kernel = RBF, C = 2.0, gammer = scale\n",
      "RBF_train score : 0.915\n",
      "RBF_test score : 0.937\n"
     ]
    }
   ],
   "source": [
    "X, y =load_breast_cancer(return_X_y = True)\n",
    "X_train, X_test, y_train, y_test = train_test_split(X, y, random_state = 123)\n",
    "\n",
    "RBF_svc = SVC(kernel = \"rbf\", C = 2.0, gamma = \"scale\").fit(X_train, y_train)\n",
    "\n",
    "print(\"Kernel = RBF, C = {}, gammer = {}\".format(2.0, \"scale\"))\n",
    "print(\"RBF_train score : {:.3f}\".format(RBF_svc.score(X_train, y_train)))\n",
    "print(\"RBF_test score : {:.3f}\".format(RBF_svc.score(X_test, y_test)))\n",
    "\n",
    "# hyper parameter를 설정하니 기존의 성능보다 향상되었다."
   ]
  }
 ],
 "metadata": {
  "kernelspec": {
   "display_name": "Python 3 (ipykernel)",
   "language": "python",
   "name": "python3"
  },
  "language_info": {
   "codemirror_mode": {
    "name": "ipython",
    "version": 3
   },
   "file_extension": ".py",
   "mimetype": "text/x-python",
   "name": "python",
   "nbconvert_exporter": "python",
   "pygments_lexer": "ipython3",
   "version": "3.8.12"
  },
  "toc": {
   "base_numbering": 1,
   "nav_menu": {},
   "number_sections": true,
   "sideBar": true,
   "skip_h1_title": false,
   "title_cell": "Table of Contents",
   "title_sidebar": "Contents",
   "toc_cell": false,
   "toc_position": {},
   "toc_section_display": true,
   "toc_window_display": true
  },
  "varInspector": {
   "cols": {
    "lenName": 16,
    "lenType": 16,
    "lenVar": 40
   },
   "kernels_config": {
    "python": {
     "delete_cmd_postfix": "",
     "delete_cmd_prefix": "del ",
     "library": "var_list.py",
     "varRefreshCmd": "print(var_dic_list())"
    },
    "r": {
     "delete_cmd_postfix": ") ",
     "delete_cmd_prefix": "rm(",
     "library": "var_list.r",
     "varRefreshCmd": "cat(var_dic_list()) "
    }
   },
   "types_to_exclude": [
    "module",
    "function",
    "builtin_function_or_method",
    "instance",
    "_Feature"
   ],
   "window_display": false
  }
 },
 "nbformat": 4,
 "nbformat_minor": 5
}
