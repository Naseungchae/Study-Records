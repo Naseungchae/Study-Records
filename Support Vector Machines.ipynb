{
 "cells": [
  {
   "cell_type": "markdown",
   "id": "28822a9c",
   "metadata": {},
   "source": [
    "# SVM\n",
    "\n",
    "= 클래스 사이의 경계에 위치한 데이터 포인트를 서폭트 벡터라고하는데,  \n",
    "각 서포트 벡터가 클래스 사이의 결정 경계를 구분하는데 얼마나 중요한지를 학습하며    \n",
    "각 서포트 벡터 사이의 마진이 가장 큰 방향으로 학습된다.\n",
    "\n",
    "- 회귀와 분류, 이상치 탐지 등에 사용되는 지도학습 방법이다.\n",
    "- SVM은 입력데이터가 정규화되어야 좋은 성능을 보인다.  \n",
    "    (=주로 모든 feature에 대한 값을 [0, 1]의 범위로 맞추는 방식을 사용)  \n",
    "    sklearn의 StandardScaler 또는 MinMaxScaler을 사용하면 될것.\n",
    "    "
   ]
  },
  {
   "cell_type": "code",
   "execution_count": 38,
   "id": "9c3bb93e",
   "metadata": {
    "ExecuteTime": {
     "end_time": "2022-01-28T08:06:09.893672Z",
     "start_time": "2022-01-28T08:06:09.879666Z"
    }
   },
   "outputs": [],
   "source": [
    "import warnings\n",
    "warnings.filterwarnings(action='ignore') #warnings.filterwarnings(action='default')\n",
    "import multiprocessing\n",
    "import pandas as pd\n",
    "import numpy as np\n",
    "import matplotlib.pyplot as plt\n",
    "\n",
    "from sklearn.svm import SVR, SVC #회귀, 분류\n",
    "from sklearn.datasets import load_boston, load_diabetes\n",
    "from sklearn.datasets import load_breast_cancer, load_iris, load_wine\n",
    "from sklearn.pipeline import make_pipeline, Pipeline\n",
    "from sklearn.model_selection import train_test_split, cross_validate, GridSearchCV\n",
    "from sklearn.preprocessing import StandardScaler, MinMaxScaler\n",
    "from sklearn.manifold import TSNE"
   ]
  },
  {
   "cell_type": "markdown",
   "id": "ca872a8d",
   "metadata": {},
   "source": [
    "## Support vector Regression"
   ]
  },
  {
   "cell_type": "code",
   "execution_count": 2,
   "id": "2fdbcaea",
   "metadata": {
    "ExecuteTime": {
     "end_time": "2022-01-28T07:13:03.092058Z",
     "start_time": "2022-01-28T07:13:03.020885Z"
    }
   },
   "outputs": [
    {
     "name": "stdout",
     "output_type": "stream",
     "text": [
      "train score : 0.218\n",
      "test score : 0.135\n"
     ]
    }
   ],
   "source": [
    "X, y =load_boston(return_X_y = True)\n",
    "X_train, X_test, y_train, y_test = train_test_split(X, y, random_state = 123)\n",
    "\n",
    "svr = SVR().fit(X_train, y_train)\n",
    "\n",
    "print(\"train score : {:.3f}\".format(svr.score(X_train, y_train)))\n",
    "print(\"test score : {:.3f}\".format(svr.score(X_test, y_test)))"
   ]
  },
  {
   "cell_type": "markdown",
   "id": "ea614be1",
   "metadata": {},
   "source": [
    "## Support Vector Clssification"
   ]
  },
  {
   "cell_type": "code",
   "execution_count": 3,
   "id": "ffbae1ce",
   "metadata": {
    "ExecuteTime": {
     "end_time": "2022-01-28T07:13:04.365336Z",
     "start_time": "2022-01-28T07:13:04.309082Z"
    }
   },
   "outputs": [
    {
     "name": "stdout",
     "output_type": "stream",
     "text": [
      "train score : 0.901\n",
      "test score : 0.923\n"
     ]
    }
   ],
   "source": [
    "X, y =load_breast_cancer(return_X_y = True)\n",
    "X_train, X_test, y_train, y_test = train_test_split(X, y, random_state = 123)\n",
    "\n",
    "svc = SVC().fit(X_train, y_train)\n",
    "\n",
    "print(\"train score : {:.3f}\".format(svc.score(X_train, y_train)))\n",
    "print(\"test score : {:.3f}\".format(svc.score(X_test, y_test)))"
   ]
  },
  {
   "cell_type": "markdown",
   "id": "c90fcb4a",
   "metadata": {},
   "source": [
    "# Kernel SVM\n",
    "\n",
    ": 입력 데이터를 고차원 공간에 사상해서 비선형 특징을 학습할 수 있도록 확장하는 방법이다.\n",
    "\n",
    "- sklearn에서는 Linear(선형), Polynomial(비선형), RBF 등 다양한 커널 기법이 지원된다."
   ]
  },
  {
   "cell_type": "markdown",
   "id": "f2450b0a",
   "metadata": {},
   "source": [
    "## kernel SVR"
   ]
  },
  {
   "cell_type": "code",
   "execution_count": 4,
   "id": "1a70f16d",
   "metadata": {
    "ExecuteTime": {
     "end_time": "2022-01-28T07:13:09.569816Z",
     "start_time": "2022-01-28T07:13:06.268078Z"
    }
   },
   "outputs": [
    {
     "name": "stdout",
     "output_type": "stream",
     "text": [
      "linear_train score : 0.716\n",
      "linear_test score : 0.638\n",
      "\n",
      "polynomial_train score : 0.202\n",
      "polynomial_test score : 0.134\n",
      "\n",
      "RBF_train score : 0.218\n",
      "RBF_test score : 0.135\n"
     ]
    }
   ],
   "source": [
    "X, y =load_boston(return_X_y = True)\n",
    "X_train, X_test, y_train, y_test = train_test_split(X, y, random_state = 123)\n",
    "\n",
    "linear_svr = SVR(kernel = \"linear\").fit(X_train, y_train)\n",
    "\n",
    "print(\"linear_train score : {:.3f}\".format(linear_svr.score(X_train, y_train)))\n",
    "print(\"linear_test score : {:.3f}\".format(linear_svr.score(X_test, y_test)))\n",
    "\n",
    "print()\n",
    "\n",
    "X, y =load_boston(return_X_y = True)\n",
    "X_train, X_test, y_train, y_test = train_test_split(X, y, random_state = 123)\n",
    "\n",
    "polynomial_svr = SVR(kernel = \"poly\").fit(X_train, y_train)\n",
    "\n",
    "print(\"polynomial_train score : {:.3f}\".format(polynomial_svr.score(X_train, y_train)))\n",
    "print(\"polynomial_test score : {:.3f}\".format(polynomial_svr.score(X_test, y_test)))\n",
    "\n",
    "print()\n",
    "\n",
    "X, y =load_boston(return_X_y = True)\n",
    "X_train, X_test, y_train, y_test = train_test_split(X, y, random_state = 123)\n",
    "\n",
    "RBF_svr = SVR(kernel = \"rbf\").fit(X_train, y_train)\n",
    "\n",
    "print(\"RBF_train score : {:.3f}\".format(RBF_svr.score(X_train, y_train)))\n",
    "print(\"RBF_test score : {:.3f}\".format(RBF_svr.score(X_test, y_test)))\n",
    "\n",
    "# Kernel SVR에서는 linear kerneal이 가장 성능이 좋다."
   ]
  },
  {
   "cell_type": "markdown",
   "id": "2155a611",
   "metadata": {},
   "source": [
    "## kernel SVC"
   ]
  },
  {
   "cell_type": "code",
   "execution_count": 5,
   "id": "f52b145c",
   "metadata": {
    "ExecuteTime": {
     "end_time": "2022-01-28T07:13:10.276687Z",
     "start_time": "2022-01-28T07:13:09.617366Z"
    }
   },
   "outputs": [
    {
     "name": "stdout",
     "output_type": "stream",
     "text": [
      "linear_train score : 0.960\n",
      "linear_test score : 0.986\n",
      "\n",
      "polynomial_train score : 0.901\n",
      "polynomial_test score : 0.923\n",
      "\n",
      "RBF_train score : 0.901\n",
      "RBF_test score : 0.923\n"
     ]
    }
   ],
   "source": [
    "X, y =load_breast_cancer(return_X_y = True)\n",
    "X_train, X_test, y_train, y_test = train_test_split(X, y, random_state = 123)\n",
    "\n",
    "linear_svc = SVC(kernel = \"linear\").fit(X_train, y_train)\n",
    "\n",
    "print(\"linear_train score : {:.3f}\".format(linear_svc.score(X_train, y_train)))\n",
    "print(\"linear_test score : {:.3f}\".format(linear_svc.score(X_test, y_test)))\n",
    "\n",
    "print()\n",
    "\n",
    "X, y =load_breast_cancer(return_X_y = True)\n",
    "X_train, X_test, y_train, y_test = train_test_split(X, y, random_state = 123)\n",
    "\n",
    "polynomial_svc = SVC(kernel = \"poly\").fit(X_train, y_train)\n",
    "\n",
    "print(\"polynomial_train score : {:.3f}\".format(polynomial_svc.score(X_train, y_train)))\n",
    "print(\"polynomial_test score : {:.3f}\".format(polynomial_svc.score(X_test, y_test)))\n",
    "\n",
    "print()\n",
    "\n",
    "X, y =load_breast_cancer(return_X_y = True)\n",
    "X_train, X_test, y_train, y_test = train_test_split(X, y, random_state = 123)\n",
    "\n",
    "RBF_svc = SVC(kernel = \"rbf\").fit(X_train, y_train)\n",
    "\n",
    "print(\"RBF_train score : {:.3f}\".format(RBF_svc.score(X_train, y_train)))\n",
    "print(\"RBF_test score : {:.3f}\".format(RBF_svc.score(X_test, y_test)))\n",
    "\n",
    "# Kernel SVC에서도 linear kernel이 가장 성능이 좋다."
   ]
  },
  {
   "cell_type": "markdown",
   "id": "3b41d5e0",
   "metadata": {},
   "source": [
    "# parameter\n",
    "\n",
    "- SVM은 사용하는 Kernel에 따라 다양한 매개변수 설정이 가능하다.\n",
    "- 매개변수를 변경하면서 성능변화를 관찰할 수 있다.\n",
    "\n",
    "> ***parameter***  \n",
    "> - ***C***  : 모델이 오류를 어느정도 허용할 것인지를 조정이 가능하다.\n",
    "> - ***gamma***  : 결정 경계를 얼마나 유연하게 그을 것인지 정해줄 수 있다."
   ]
  },
  {
   "cell_type": "code",
   "execution_count": 6,
   "id": "3e0fa20e",
   "metadata": {
    "ExecuteTime": {
     "end_time": "2022-01-28T07:13:34.218019Z",
     "start_time": "2022-01-28T07:13:10.308933Z"
    }
   },
   "outputs": [
    {
     "name": "stdout",
     "output_type": "stream",
     "text": [
      "Kernel = Polynomial, degree = 2, C = 0.1, gammer = auto\n",
      "polynomial_train score : 0.984\n",
      "polynomial_test score : 0.993\n"
     ]
    }
   ],
   "source": [
    "X, y =load_breast_cancer(return_X_y = True)\n",
    "X_train, X_test, y_train, y_test = train_test_split(X, y, random_state = 123)\n",
    "\n",
    "polynomial_svc = SVC(kernel = \"poly\", degree = 2, C = 0.1, gamma = \"auto\").fit(X_train, y_train)\n",
    "\n",
    "print(\"Kernel = Polynomial, degree = {}, C = {}, gammer = {}\".format(2, 0.1, \"auto\"))\n",
    "print(\"polynomial_train score : {:.3f}\".format(polynomial_svc.score(X_train, y_train)))\n",
    "print(\"polynomial_test score : {:.3f}\".format(polynomial_svc.score(X_test, y_test)))\n",
    "\n",
    "# hyper parameter를 설정하니 기존의 성능보다 향상되었다."
   ]
  },
  {
   "cell_type": "code",
   "execution_count": 7,
   "id": "106bc560",
   "metadata": {
    "ExecuteTime": {
     "end_time": "2022-01-28T07:13:34.294803Z",
     "start_time": "2022-01-28T07:13:34.253911Z"
    }
   },
   "outputs": [
    {
     "name": "stdout",
     "output_type": "stream",
     "text": [
      "Kernel = RBF, C = 2.0, gammer = scale\n",
      "RBF_train score : 0.915\n",
      "RBF_test score : 0.937\n"
     ]
    }
   ],
   "source": [
    "X, y =load_breast_cancer(return_X_y = True)\n",
    "X_train, X_test, y_train, y_test = train_test_split(X, y, random_state = 123)\n",
    "\n",
    "RBF_svc = SVC(kernel = \"rbf\", C = 2.0, gamma = \"scale\").fit(X_train, y_train)\n",
    "\n",
    "print(\"Kernel = RBF, C = {}, gammer = {}\".format(2.0, \"scale\"))\n",
    "print(\"RBF_train score : {:.3f}\".format(RBF_svc.score(X_train, y_train)))\n",
    "print(\"RBF_test score : {:.3f}\".format(RBF_svc.score(X_test, y_test)))\n",
    "\n",
    "# hyper parameter를 설정하니 기존의 성능보다 향상되었다."
   ]
  },
  {
   "cell_type": "markdown",
   "id": "a9f6fa15",
   "metadata": {},
   "source": [
    "# SVM 활용시 데이터 전처리의 중요성"
   ]
  },
  {
   "cell_type": "code",
   "execution_count": 22,
   "id": "ce2ad39f",
   "metadata": {
    "ExecuteTime": {
     "end_time": "2022-01-28T07:38:40.733821Z",
     "start_time": "2022-01-28T07:38:40.682125Z"
    }
   },
   "outputs": [
    {
     "name": "stdout",
     "output_type": "stream",
     "text": [
      "train score : 0.901\n",
      "test score : 0.923\n"
     ]
    }
   ],
   "source": [
    "X, y =load_breast_cancer(return_X_y = True)\n",
    "X_train, X_test, y_train, y_test = train_test_split(X, y, random_state = 123)\n",
    "\n",
    "svc = SVC().fit(X_train, y_train)\n",
    "\n",
    "print(\"train score : {:.3f}\".format(svc.score(X_train, y_train)))\n",
    "print(\"test score : {:.3f}\".format(svc.score(X_test, y_test)))"
   ]
  },
  {
   "cell_type": "markdown",
   "id": "d9d65473",
   "metadata": {},
   "source": [
    "## StandardScaler"
   ]
  },
  {
   "cell_type": "code",
   "execution_count": 24,
   "id": "5b9405f8",
   "metadata": {
    "ExecuteTime": {
     "end_time": "2022-01-28T07:42:31.968772Z",
     "start_time": "2022-01-28T07:42:31.930869Z"
    }
   },
   "outputs": [
    {
     "name": "stdout",
     "output_type": "stream",
     "text": [
      "train score : 0.984\n",
      "test score : 0.986\n"
     ]
    }
   ],
   "source": [
    "scaler = StandardScaler()\n",
    "\n",
    "X_train = scaler.fit_transform(X_train)\n",
    "X_test = scaler.transform(X_test)\n",
    "\n",
    "svc = SVC().fit(X_train, y_train)\n",
    "\n",
    "print(\"train score : {:.3f}\".format(svc.score(X_train, y_train)))\n",
    "print(\"test score : {:.3f}\".format(svc.score(X_test, y_test)))\n",
    "\n",
    "# 표준화를 진행하고 모델을 만든결과 기존보다 성능이 향상함"
   ]
  },
  {
   "cell_type": "markdown",
   "id": "31218ace",
   "metadata": {},
   "source": [
    "## MinMaxScaler"
   ]
  },
  {
   "cell_type": "code",
   "execution_count": 25,
   "id": "c7e404f9",
   "metadata": {
    "ExecuteTime": {
     "end_time": "2022-01-28T07:45:15.120404Z",
     "start_time": "2022-01-28T07:45:15.080472Z"
    }
   },
   "outputs": [
    {
     "name": "stdout",
     "output_type": "stream",
     "text": [
      "train score : 0.981\n",
      "test score : 0.986\n"
     ]
    }
   ],
   "source": [
    "scaler = MinMaxScaler()\n",
    "\n",
    "X_train = scaler.fit_transform(X_train)\n",
    "X_test = scaler.transform(X_test)\n",
    "\n",
    "svc = SVC().fit(X_train, y_train)\n",
    "\n",
    "print(\"train score : {:.3f}\".format(svc.score(X_train, y_train)))\n",
    "print(\"test score : {:.3f}\".format(svc.score(X_test, y_test)))\n",
    "\n",
    "# 정규화를 진행하고 모델을 만든결과 기존보다 성능이 향상함"
   ]
  },
  {
   "cell_type": "markdown",
   "id": "9b6cdcef",
   "metadata": {},
   "source": [
    "# Example"
   ]
  },
  {
   "cell_type": "code",
   "execution_count": 26,
   "id": "f08e1668",
   "metadata": {
    "ExecuteTime": {
     "end_time": "2022-01-28T07:47:09.630163Z",
     "start_time": "2022-01-28T07:47:09.601242Z"
    }
   },
   "outputs": [],
   "source": [
    "X,  y = load_boston(return_X_y = True)\n",
    "X_train, X_test, y_train, y_test = train_test_split(X, y, test_size = 0.2) #분할"
   ]
  },
  {
   "cell_type": "code",
   "execution_count": 28,
   "id": "d24a519b",
   "metadata": {
    "ExecuteTime": {
     "end_time": "2022-01-28T07:48:57.486999Z",
     "start_time": "2022-01-28T07:48:57.468050Z"
    }
   },
   "outputs": [],
   "source": [
    "scaler = StandardScaler() #표준화\n",
    "scaler.fit(X_train)\n",
    "X_train = scaler.fit_transform(X_train)\n",
    "X_test = scaler.transform(X_test)"
   ]
  },
  {
   "cell_type": "code",
   "execution_count": 29,
   "id": "8d19c1e3",
   "metadata": {
    "ExecuteTime": {
     "end_time": "2022-01-28T07:50:11.485602Z",
     "start_time": "2022-01-28T07:50:11.441718Z"
    }
   },
   "outputs": [
    {
     "name": "stdout",
     "output_type": "stream",
     "text": [
      "train score : 0.726\n",
      "test score : 0.579\n"
     ]
    }
   ],
   "source": [
    "svr = SVR(kernel = \"linear\").fit(X_train, y_train)\n",
    "\n",
    "print(\"train score : {:.3f}\".format(svr.score(X_train, y_train)))\n",
    "print(\"test score : {:.3f}\".format(svr.score(X_test, y_test))) # 성능이 좋지 못한 결과"
   ]
  },
  {
   "cell_type": "code",
   "execution_count": 32,
   "id": "beccc9b0",
   "metadata": {
    "ExecuteTime": {
     "end_time": "2022-01-28T07:58:16.106713Z",
     "start_time": "2022-01-28T07:58:14.094084Z"
    }
   },
   "outputs": [
    {
     "name": "stderr",
     "output_type": "stream",
     "text": [
      "[Parallel(n_jobs=4)]: Using backend LokyBackend with 4 concurrent workers.\n",
      "[Parallel(n_jobs=4)]: Done   5 out of   5 | elapsed:    1.9s finished\n"
     ]
    },
    {
     "data": {
      "text/plain": [
       "{'fit_time': array([0.04089141, 0.03690267, 0.02493429, 0.01396108, 0.04288435]),\n",
       " 'score_time': array([0.00299072, 0.00698233, 0.00399041, 0.00199485, 0.00399113]),\n",
       " 'test_score': array([0.76908568, 0.72180141, 0.56428426, 0.14083339, 0.07810211])}"
      ]
     },
     "execution_count": 32,
     "metadata": {},
     "output_type": "execute_result"
    }
   ],
   "source": [
    "estimator = make_pipeline(StandardScaler(), SVR(kernel = \"linear\"))\n",
    "\n",
    "cross_validate(estimator = estimator,\n",
    "              X = X,\n",
    "              y = y,\n",
    "              cv = 5,\n",
    "              n_jobs = multiprocessing.cpu_count(),\n",
    "              verbose = True\n",
    "              )"
   ]
  },
  {
   "cell_type": "code",
   "execution_count": 34,
   "id": "fb6edda5",
   "metadata": {
    "ExecuteTime": {
     "end_time": "2022-01-28T08:04:23.448879Z",
     "start_time": "2022-01-28T08:04:21.182960Z"
    }
   },
   "outputs": [
    {
     "name": "stdout",
     "output_type": "stream",
     "text": [
      "Fitting 5 folds for each of 18 candidates, totalling 90 fits\n"
     ]
    },
    {
     "data": {
      "text/plain": [
       "GridSearchCV(cv=5,\n",
       "             estimator=Pipeline(steps=[('scaler', StandardScaler()),\n",
       "                                       ('model', SVR(kernel='linear'))]),\n",
       "             n_jobs=4,\n",
       "             param_grid=[{'model__C': [1.0, 0.1, 0.01],\n",
       "                          'model__epsilon': [1.0, 0.1, 0.01],\n",
       "                          'model__gamma': ['scale', 'auto']}],\n",
       "             verbose=True)"
      ]
     },
     "execution_count": 34,
     "metadata": {},
     "output_type": "execute_result"
    }
   ],
   "source": [
    "pipe = Pipeline([(\"scaler\", StandardScaler()),\n",
    "                (\"model\", SVR(kernel = \"linear\"))])\n",
    "\n",
    "param_grid = [{\"model__gamma\" : [\"scale\", \"auto\"],\n",
    "              \"model__C\" : [1.0, 0.1, 0.01],\n",
    "              \"model__epsilon\" : [1.0, 0.1, 0.01]}]\n",
    "\n",
    "gs = GridSearchCV(estimator = pipe,\n",
    "                 param_grid = param_grid,\n",
    "                 n_jobs = multiprocessing.cpu_count(),\n",
    "                 cv = 5,\n",
    "                 verbose = True\n",
    "                 )\n",
    "\n",
    "gs.fit(X, y)"
   ]
  },
  {
   "cell_type": "code",
   "execution_count": 37,
   "id": "3d11e462",
   "metadata": {
    "ExecuteTime": {
     "end_time": "2022-01-28T08:05:59.001689Z",
     "start_time": "2022-01-28T08:05:58.982738Z"
    }
   },
   "outputs": [
    {
     "data": {
      "text/plain": [
       "Pipeline(steps=[('scaler', StandardScaler()),\n",
       "                ('model', SVR(C=0.1, epsilon=1.0, kernel='linear'))])"
      ]
     },
     "execution_count": 37,
     "metadata": {},
     "output_type": "execute_result"
    }
   ],
   "source": [
    "gs.best_estimator_"
   ]
  }
 ],
 "metadata": {
  "kernelspec": {
   "display_name": "Python 3 (ipykernel)",
   "language": "python",
   "name": "python3"
  },
  "language_info": {
   "codemirror_mode": {
    "name": "ipython",
    "version": 3
   },
   "file_extension": ".py",
   "mimetype": "text/x-python",
   "name": "python",
   "nbconvert_exporter": "python",
   "pygments_lexer": "ipython3",
   "version": "3.8.12"
  },
  "toc": {
   "base_numbering": 1,
   "nav_menu": {},
   "number_sections": true,
   "sideBar": true,
   "skip_h1_title": false,
   "title_cell": "Table of Contents",
   "title_sidebar": "Contents",
   "toc_cell": false,
   "toc_position": {},
   "toc_section_display": true,
   "toc_window_display": true
  },
  "varInspector": {
   "cols": {
    "lenName": 16,
    "lenType": 16,
    "lenVar": 40
   },
   "kernels_config": {
    "python": {
     "delete_cmd_postfix": "",
     "delete_cmd_prefix": "del ",
     "library": "var_list.py",
     "varRefreshCmd": "print(var_dic_list())"
    },
    "r": {
     "delete_cmd_postfix": ") ",
     "delete_cmd_prefix": "rm(",
     "library": "var_list.r",
     "varRefreshCmd": "cat(var_dic_list()) "
    }
   },
   "types_to_exclude": [
    "module",
    "function",
    "builtin_function_or_method",
    "instance",
    "_Feature"
   ],
   "window_display": false
  }
 },
 "nbformat": 4,
 "nbformat_minor": 5
}
