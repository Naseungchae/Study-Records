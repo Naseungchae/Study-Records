{
 "cells": [
  {
   "cell_type": "markdown",
   "id": "d502b354",
   "metadata": {},
   "source": [
    "# Neural Networks"
   ]
  },
  {
   "cell_type": "code",
   "execution_count": 1,
   "id": "b5a092d1",
   "metadata": {
    "ExecuteTime": {
     "end_time": "2022-02-25T11:18:14.557990Z",
     "start_time": "2022-02-25T11:18:10.770648Z"
    }
   },
   "outputs": [],
   "source": [
    "import numpy as np\n",
    "import tensorflow as tf\n",
    "import matplotlib.pyplot as plt"
   ]
  },
  {
   "cell_type": "markdown",
   "id": "50e3a1b2",
   "metadata": {},
   "source": [
    "## AND"
   ]
  },
  {
   "cell_type": "code",
   "execution_count": 2,
   "id": "19e6de5e",
   "metadata": {
    "ExecuteTime": {
     "end_time": "2022-02-25T11:21:09.601895Z",
     "start_time": "2022-02-25T11:21:09.591919Z"
    }
   },
   "outputs": [],
   "source": [
    "def AND(a, b):\n",
    "    inputs = np.array([a, b])\n",
    "    weights = np.array([0.4, 0.4])\n",
    "    bias = -0.6\n",
    "    value = np.sum(inputs * weights) + bias\n",
    "    \n",
    "    if value <= 0:\n",
    "        return 0\n",
    "    else:\n",
    "        return 1"
   ]
  },
  {
   "cell_type": "code",
   "execution_count": 3,
   "id": "393532b9",
   "metadata": {
    "ExecuteTime": {
     "end_time": "2022-02-25T11:21:52.858776Z",
     "start_time": "2022-02-25T11:21:52.835297Z"
    }
   },
   "outputs": [
    {
     "name": "stdout",
     "output_type": "stream",
     "text": [
      "0\n",
      "0\n",
      "0\n",
      "1\n"
     ]
    }
   ],
   "source": [
    "print(AND(0, 0))\n",
    "print(AND(0, 1))\n",
    "print(AND(1, 0))\n",
    "print(AND(1, 1))"
   ]
  },
  {
   "cell_type": "markdown",
   "id": "a25a2e56",
   "metadata": {},
   "source": [
    "## OR"
   ]
  },
  {
   "cell_type": "code",
   "execution_count": 6,
   "id": "803ca5d3",
   "metadata": {
    "ExecuteTime": {
     "end_time": "2022-02-25T11:25:15.786531Z",
     "start_time": "2022-02-25T11:25:15.762603Z"
    }
   },
   "outputs": [],
   "source": [
    "def OR(a, b):\n",
    "    inputs = np.array([a, b])\n",
    "    weights = np.array([0.4, 0.5])\n",
    "    bias = -0.3\n",
    "    value = np.sum(inputs * weights) + bias\n",
    "    \n",
    "    if value <= 0:\n",
    "        return 0\n",
    "    else:\n",
    "        return 1"
   ]
  },
  {
   "cell_type": "code",
   "execution_count": 7,
   "id": "bc9b7727",
   "metadata": {
    "ExecuteTime": {
     "end_time": "2022-02-25T11:25:33.900863Z",
     "start_time": "2022-02-25T11:25:33.892735Z"
    }
   },
   "outputs": [
    {
     "name": "stdout",
     "output_type": "stream",
     "text": [
      "0\n",
      "1\n",
      "1\n",
      "1\n"
     ]
    }
   ],
   "source": [
    "print(OR(0, 0))\n",
    "print(OR(0, 1))\n",
    "print(OR(1, 0))\n",
    "print(OR(1, 1))"
   ]
  },
  {
   "cell_type": "markdown",
   "id": "b0b356bd",
   "metadata": {},
   "source": [
    "## NAND"
   ]
  },
  {
   "cell_type": "code",
   "execution_count": 8,
   "id": "9c7f6d97",
   "metadata": {
    "ExecuteTime": {
     "end_time": "2022-02-25T11:32:50.266848Z",
     "start_time": "2022-02-25T11:32:50.243529Z"
    }
   },
   "outputs": [],
   "source": [
    "def NAND(a, b):\n",
    "    inputs = np.array([a, b])\n",
    "    weights = np.array([-0.6, -0.5])\n",
    "    bias = 0.7\n",
    "    value = np.sum(inputs * weights) + bias\n",
    "    \n",
    "    if value <= 0:\n",
    "        return 0\n",
    "    else:\n",
    "        return 1"
   ]
  },
  {
   "cell_type": "code",
   "execution_count": 9,
   "id": "995d4e8e",
   "metadata": {
    "ExecuteTime": {
     "end_time": "2022-02-25T11:33:08.263803Z",
     "start_time": "2022-02-25T11:33:08.240236Z"
    }
   },
   "outputs": [
    {
     "name": "stdout",
     "output_type": "stream",
     "text": [
      "1\n",
      "1\n",
      "1\n",
      "0\n"
     ]
    }
   ],
   "source": [
    "print(NAND(0, 0))\n",
    "print(NAND(0, 1))\n",
    "print(NAND(1, 0))\n",
    "print(NAND(1, 1))"
   ]
  },
  {
   "cell_type": "markdown",
   "id": "63b3aed2",
   "metadata": {},
   "source": [
    "## XOR\n",
    "\n",
    "> ***Multi Layer Perceptron***\n",
    "> - input layer\n",
    "> - hidden layer\n",
    "> - output layer"
   ]
  },
  {
   "cell_type": "code",
   "execution_count": 10,
   "id": "c296047e",
   "metadata": {
    "ExecuteTime": {
     "end_time": "2022-02-25T11:34:00.090783Z",
     "start_time": "2022-02-25T11:34:00.082782Z"
    }
   },
   "outputs": [],
   "source": [
    "def XOR(x1, x2):\n",
    "    s1 = NAND(x1,x2)\n",
    "    s2 = OR(x1, x2)\n",
    "    y = AND(s1, s2)\n",
    "    return y"
   ]
  },
  {
   "cell_type": "code",
   "execution_count": 13,
   "id": "9be27652",
   "metadata": {
    "ExecuteTime": {
     "end_time": "2022-02-25T11:34:33.327143Z",
     "start_time": "2022-02-25T11:34:33.315803Z"
    }
   },
   "outputs": [
    {
     "name": "stdout",
     "output_type": "stream",
     "text": [
      "0\n",
      "1\n",
      "1\n",
      "0\n"
     ]
    }
   ],
   "source": [
    "print(XOR(0, 0))\n",
    "print(XOR(0, 1))\n",
    "print(XOR(1, 0))\n",
    "print(XOR(1, 1))"
   ]
  },
  {
   "cell_type": "markdown",
   "id": "228046b6",
   "metadata": {},
   "source": [
    "# Activation Function\n",
    "\n",
    "- 입력 신호의 총 합을 출력 신호로 변환하는 함수이다.\n",
    "- 활성화 함수에따라 출력값이 결정된다.\n",
    "- 단층, 다층 퍼셉트론에 모두 사용된다.\n",
    "- 하나의 층에서 다음 층으로 넘어갈 때에는 항상 활성화함수를 통과한다.\n",
    "\n",
    "> ***Best Activation Function***  \n",
    "> - Sigmoid  \n",
    "> - ReLU  \n",
    "> - tanh  \n",
    "> - Identitiy Function  \n",
    "> - Softmax"
   ]
  },
  {
   "cell_type": "markdown",
   "id": "978d4114",
   "metadata": {},
   "source": [
    "## Step Function"
   ]
  },
  {
   "cell_type": "code",
   "execution_count": 14,
   "id": "ba3dce4d",
   "metadata": {
    "ExecuteTime": {
     "end_time": "2022-02-25T11:40:23.242739Z",
     "start_time": "2022-02-25T11:40:23.227741Z"
    }
   },
   "outputs": [],
   "source": [
    "def step_function(x):\n",
    "    if x > 0:\n",
    "        return 1\n",
    "    else:\n",
    "        return 0"
   ]
  },
  {
   "cell_type": "markdown",
   "id": "d32490ab",
   "metadata": {},
   "source": [
    "## Sigmoid\n",
    "\n",
    "- binary classification에 주로 사용\n",
    "- 출력값이 0 ~ 1의 값이며, 이는 확률로 표현이 가능하다."
   ]
  },
  {
   "cell_type": "code",
   "execution_count": 17,
   "id": "065d3451",
   "metadata": {
    "ExecuteTime": {
     "end_time": "2022-02-25T11:45:32.874238Z",
     "start_time": "2022-02-25T11:45:32.867173Z"
    }
   },
   "outputs": [],
   "source": [
    "def sigmoid(x):\n",
    "    return 1 / (1 + np.exp(-x))"
   ]
  },
  {
   "cell_type": "markdown",
   "id": "aa72b019",
   "metadata": {},
   "source": [
    "## ReLU"
   ]
  },
  {
   "cell_type": "code",
   "execution_count": 16,
   "id": "563b5085",
   "metadata": {
    "ExecuteTime": {
     "end_time": "2022-02-25T11:44:46.925554Z",
     "start_time": "2022-02-25T11:44:46.912313Z"
    }
   },
   "outputs": [],
   "source": [
    "def ReLU(x):\n",
    "    if x > 0:\n",
    "        return x\n",
    "    else:\n",
    "        return 0"
   ]
  },
  {
   "cell_type": "markdown",
   "id": "d80ef33b",
   "metadata": {},
   "source": [
    "## LeakyReLU"
   ]
  },
  {
   "cell_type": "code",
   "execution_count": 22,
   "id": "732e3f7c",
   "metadata": {
    "ExecuteTime": {
     "end_time": "2022-02-25T11:54:46.223746Z",
     "start_time": "2022-02-25T11:54:46.208412Z"
    }
   },
   "outputs": [],
   "source": [
    "def LeakyReLU(x):\n",
    "    a = 0.01\n",
    "    return np.maximum(a*x, x)"
   ]
  },
  {
   "cell_type": "markdown",
   "id": "117f2fbf",
   "metadata": {},
   "source": [
    "## ELU"
   ]
  },
  {
   "cell_type": "code",
   "execution_count": 23,
   "id": "14a9d402",
   "metadata": {
    "ExecuteTime": {
     "end_time": "2022-02-25T11:56:12.458627Z",
     "start_time": "2022-02-25T11:56:12.429335Z"
    }
   },
   "outputs": [],
   "source": [
    "def ELU(x):\n",
    "    alpha = 1.0\n",
    "    return (x >= 0) * x + (x < 0) * alpha * (np.exp(x) - 1)"
   ]
  },
  {
   "cell_type": "markdown",
   "id": "600a2d90",
   "metadata": {},
   "source": [
    "## tanh"
   ]
  },
  {
   "cell_type": "code",
   "execution_count": 18,
   "id": "eb0a1a59",
   "metadata": {
    "ExecuteTime": {
     "end_time": "2022-02-25T11:46:41.795368Z",
     "start_time": "2022-02-25T11:46:41.787366Z"
    }
   },
   "outputs": [],
   "source": [
    "def tanh(x):\n",
    "    return (np.exp(x) - np.exp(-x)) / (np.exp(x) + np.exp(-x))"
   ]
  },
  {
   "cell_type": "markdown",
   "id": "5e82ea23",
   "metadata": {},
   "source": [
    "## Identitiy Function\n",
    "\n",
    "- regression의 문제에서 주로 사용"
   ]
  },
  {
   "cell_type": "code",
   "execution_count": 19,
   "id": "96060378",
   "metadata": {
    "ExecuteTime": {
     "end_time": "2022-02-25T11:47:57.022262Z",
     "start_time": "2022-02-25T11:47:57.009565Z"
    }
   },
   "outputs": [],
   "source": [
    "def identitiy_function(x):\n",
    "    return x"
   ]
  },
  {
   "cell_type": "markdown",
   "id": "7fee6017",
   "metadata": {},
   "source": [
    "## Softmax\n",
    "\n",
    "- multi class clssification에 사용\n",
    "- 입력값의 영향을 크게 받으며, 입력값이 크면 출력값도 커진다.\n",
    "- overflow의 문제"
   ]
  },
  {
   "cell_type": "code",
   "execution_count": 20,
   "id": "a7c04896",
   "metadata": {
    "ExecuteTime": {
     "end_time": "2022-02-25T11:50:13.891544Z",
     "start_time": "2022-02-25T11:50:13.883544Z"
    }
   },
   "outputs": [],
   "source": [
    "def softmax(a):\n",
    "    exp_a = np.exp(a)\n",
    "    sum_exp_a = np.sum(exp_a)\n",
    "    y = exp_a / sum_exp_a\n",
    "    return y"
   ]
  },
  {
   "cell_type": "code",
   "execution_count": 21,
   "id": "a7732740",
   "metadata": {
    "ExecuteTime": {
     "end_time": "2022-02-25T11:53:05.479050Z",
     "start_time": "2022-02-25T11:53:05.467407Z"
    }
   },
   "outputs": [],
   "source": [
    "def softmax(a):\n",
    "    C = np.max(a)\n",
    "    return (np.exp(a - C) / np.sum(np.exp(a - C)))"
   ]
  },
  {
   "cell_type": "markdown",
   "id": "68a3f446",
   "metadata": {},
   "source": [
    "# 3 layer Neural Networks\n",
    "\n",
    "- ***binary classification***\n",
    "\n",
    "> ***input layer***\n",
    ">    - 뉴런의 수 3개  \n",
    "\n",
    "> ***hidden layer***  \n",
    ">    - 뉴런의 수 3개  \n",
    ">    - 뉴런의 수 2개  \n",
    "\n",
    "> ***output layer***  \n",
    ">    - 뉴런의 수 2개  "
   ]
  },
  {
   "cell_type": "code",
   "execution_count": 26,
   "id": "6b90a421",
   "metadata": {
    "ExecuteTime": {
     "end_time": "2022-02-25T12:21:47.988805Z",
     "start_time": "2022-02-25T12:21:47.964714Z"
    }
   },
   "outputs": [
    {
     "name": "stdout",
     "output_type": "stream",
     "text": [
      "(3,)\n",
      "(3, 3)\n",
      "(3,)\n",
      "[1.32 1.7  2.08]\n",
      "[0.78918171 0.84553473 0.88894403]\n"
     ]
    }
   ],
   "source": [
    "X = np.array([1.0, 0.5, 0.4]) \n",
    "W1 = np.array([[0.1, 0.3, 0.5], [0.2, 0.4, 0.6], [0.3, 0.5, 0.7]])\n",
    "B1 = np.array([1, 1, 1])\n",
    "\n",
    "print(X.shape)\n",
    "print(W1.shape)\n",
    "print(B1.shape)\n",
    "\n",
    "A1 = np.dot(X, W1) + B1\n",
    "Z1 = sigmoid(A1)\n",
    "\n",
    "print(A1)\n",
    "print(Z1)"
   ]
  },
  {
   "cell_type": "code",
   "execution_count": 27,
   "id": "8279592c",
   "metadata": {
    "ExecuteTime": {
     "end_time": "2022-02-25T12:25:07.245730Z",
     "start_time": "2022-02-25T12:25:07.221664Z"
    }
   },
   "outputs": [
    {
     "name": "stdout",
     "output_type": "stream",
     "text": [
      "(3, 3)\n",
      "(3,)\n",
      "[2.266 3.286 4.306]\n",
      "[0.90602176 0.96394539 0.9866921 ]\n"
     ]
    }
   ],
   "source": [
    "W2 = np.array([[0.2, 0.4, 0.6], [0.1, 0.3, 0.5], [0.4, 0.6, 0.8]])\n",
    "B2 = np.array([1, 1, 1])\n",
    "\n",
    "print(W2.shape)\n",
    "print(B2.shape)\n",
    "\n",
    "A2 = np.dot(A1, W2) + B2\n",
    "Z2 = sigmoid(A2)\n",
    "\n",
    "print(A2)\n",
    "print(Z2)"
   ]
  },
  {
   "cell_type": "code",
   "execution_count": 28,
   "id": "fa1b504a",
   "metadata": {
    "ExecuteTime": {
     "end_time": "2022-02-25T12:27:59.324755Z",
     "start_time": "2022-02-25T12:27:59.301589Z"
    }
   },
   "outputs": [
    {
     "name": "stdout",
     "output_type": "stream",
     "text": [
      "(3, 2)\n",
      "(2,)\n",
      "[2.1898 2.1898]\n",
      "[0.8993298 0.8993298]\n"
     ]
    }
   ],
   "source": [
    "W3 = np.array([[0.1, 0.3], [-0.1,-0.5], [0.3, 0.5]])\n",
    "B3 = np.array([1, 1])\n",
    "\n",
    "print(W3.shape)\n",
    "print(B3.shape)\n",
    "\n",
    "A3 = np.dot(A2, W3) + B3\n",
    "Z3 = sigmoid(A3)\n",
    "\n",
    "print(A3)\n",
    "print(Z3)"
   ]
  },
  {
   "cell_type": "code",
   "execution_count": 29,
   "id": "5d22c491",
   "metadata": {
    "ExecuteTime": {
     "end_time": "2022-02-25T12:29:48.234388Z",
     "start_time": "2022-02-25T12:29:48.210915Z"
    }
   },
   "outputs": [
    {
     "name": "stdout",
     "output_type": "stream",
     "text": [
      "(2, 2)\n",
      "(2,)\n",
      "[1.87592 2.53286]\n",
      "[0.86714179 0.92641356]\n"
     ]
    }
   ],
   "source": [
    "W4 = np.array([[0.1, 0.2], [0.3, 0.5]])\n",
    "B4 = np.array([1, 1])\n",
    "\n",
    "print(W4.shape)\n",
    "print(B4.shape)\n",
    "\n",
    "A4 = np.dot(A3, W4) + B4\n",
    "Y = sigmoid(A4)\n",
    "\n",
    "print(A4)\n",
    "print(Y)"
   ]
  },
  {
   "cell_type": "code",
   "execution_count": null,
   "id": "3daf2be5",
   "metadata": {},
   "outputs": [],
   "source": []
  },
  {
   "cell_type": "code",
   "execution_count": 30,
   "id": "24599098",
   "metadata": {
    "ExecuteTime": {
     "end_time": "2022-02-25T12:36:18.766625Z",
     "start_time": "2022-02-25T12:36:18.743666Z"
    }
   },
   "outputs": [],
   "source": [
    "def networks():\n",
    "    \n",
    "    networks = {}\n",
    "    \n",
    "    # 첫번째 레이어\n",
    "    networks[\"W1\"] = np.array([[0.1, 0.3, 0.5], [0.2, 0.4, 0.6], [0.3, 0.5, 0.7]])\n",
    "    networks[\"B1\"] = np.array([1, 1, 1])\n",
    "    \n",
    "    # 두번째 레이어\n",
    "    networks[\"W2\"] = np.array([[0.2, 0.4, 0.6], [0.1, 0.3, 0.5], [0.4, 0.6, 0.8]])\n",
    "    networks[\"B2\"] = np.array([1, 1, 1])\n",
    "    \n",
    "    # 세번째 레이어\n",
    "    networks[\"W3\"] = np.array([[0.1, 0.3], [-0.1,-0.5], [0.3, 0.5]])\n",
    "    networks[\"B3\"] = np.array([1, 1])\n",
    "\n",
    "    # 네번째 레이어\n",
    "    networks[\"W4\"] = W4 = np.array([[0.1, 0.2], [0.3, 0.5]])\n",
    "    networks[\"B4\"] = np.array([1, 1])\n",
    "    \n",
    "    return networks"
   ]
  },
  {
   "cell_type": "code",
   "execution_count": 32,
   "id": "f6c4328e",
   "metadata": {
    "ExecuteTime": {
     "end_time": "2022-02-25T12:41:11.473401Z",
     "start_time": "2022-02-25T12:41:11.450062Z"
    }
   },
   "outputs": [],
   "source": [
    "def forward(networks, x):\n",
    "    W1, W2, W3, W4 = networks[\"W1\"], networks[\"W2\"], networks[\"W3\"],networks[\"W4\"]\n",
    "    B1, B2, B3, B4 = networks[\"B1\"], networks[\"B2\"], networks[\"B3\"],networks[\"B4\"]\n",
    "    \n",
    "    A1 = np.dot(x, W1) + B1\n",
    "    Z1 = sigmoid(A1)\n",
    "    \n",
    "    A2 = np.dot(Z1, W2) + B2\n",
    "    Z2 = sigmoid(A1)\n",
    "                 \n",
    "    A3 = np.dot(Z2, W3) + B3\n",
    "    Z3 = sigmoid(A3)\n",
    "                 \n",
    "    A4 = np.dot(Z3, W4) + B4\n",
    "    y = sigmoid(A4)\n",
    "    \n",
    "    return y"
   ]
  },
  {
   "cell_type": "code",
   "execution_count": 33,
   "id": "dc26073d",
   "metadata": {
    "ExecuteTime": {
     "end_time": "2022-02-25T12:42:41.070610Z",
     "start_time": "2022-02-25T12:42:41.047309Z"
    }
   },
   "outputs": [
    {
     "name": "stdout",
     "output_type": "stream",
     "text": [
      "[0.78685795 0.8228324 ]\n"
     ]
    }
   ],
   "source": [
    "net = networks()\n",
    "x = np.array([0.3, 1.3, -2.2])\n",
    "y = forward(net, x)\n",
    "print(y)"
   ]
  }
 ],
 "metadata": {
  "kernelspec": {
   "display_name": "Python 3 (ipykernel)",
   "language": "python",
   "name": "python3"
  },
  "language_info": {
   "codemirror_mode": {
    "name": "ipython",
    "version": 3
   },
   "file_extension": ".py",
   "mimetype": "text/x-python",
   "name": "python",
   "nbconvert_exporter": "python",
   "pygments_lexer": "ipython3",
   "version": "3.8.12"
  },
  "toc": {
   "base_numbering": 1,
   "nav_menu": {},
   "number_sections": true,
   "sideBar": true,
   "skip_h1_title": false,
   "title_cell": "Table of Contents",
   "title_sidebar": "Contents",
   "toc_cell": false,
   "toc_position": {},
   "toc_section_display": true,
   "toc_window_display": true
  },
  "varInspector": {
   "cols": {
    "lenName": 16,
    "lenType": 16,
    "lenVar": 40
   },
   "kernels_config": {
    "python": {
     "delete_cmd_postfix": "",
     "delete_cmd_prefix": "del ",
     "library": "var_list.py",
     "varRefreshCmd": "print(var_dic_list())"
    },
    "r": {
     "delete_cmd_postfix": ") ",
     "delete_cmd_prefix": "rm(",
     "library": "var_list.r",
     "varRefreshCmd": "cat(var_dic_list()) "
    }
   },
   "types_to_exclude": [
    "module",
    "function",
    "builtin_function_or_method",
    "instance",
    "_Feature"
   ],
   "window_display": false
  }
 },
 "nbformat": 4,
 "nbformat_minor": 5
}
