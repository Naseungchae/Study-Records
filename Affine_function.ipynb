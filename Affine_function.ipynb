{
  "nbformat": 4,
  "nbformat_minor": 0,
  "metadata": {
    "colab": {
      "name": "Affine function.ipynb",
      "provenance": [],
      "collapsed_sections": [],
      "authorship_tag": "ABX9TyOe5iGbwnYUgIYovmftBlJR",
      "include_colab_link": true
    },
    "kernelspec": {
      "name": "python3",
      "display_name": "Python 3"
    },
    "language_info": {
      "name": "python"
    }
  },
  "cells": [
    {
      "cell_type": "markdown",
      "metadata": {
        "id": "view-in-github",
        "colab_type": "text"
      },
      "source": [
        "<a href=\"https://colab.research.google.com/github/Naseungchae/Study-Records/blob/main/Affine_function.ipynb\" target=\"_parent\"><img src=\"https://colab.research.google.com/assets/colab-badge.svg\" alt=\"Open In Colab\"/></a>"
      ]
    },
    {
      "cell_type": "markdown",
      "source": [
        "# **Affine Functions with 1 Feature**"
      ],
      "metadata": {
        "id": "Amd_JkD37PAy"
      }
    },
    {
      "cell_type": "code",
      "source": [
        "import tensorflow as tf\n",
        "from tensorflow.keras.layers import Dense\n",
        "\n",
        "# input\n",
        "x = tf.constant([[10.]]) # column matrix(=column vector)의 형태\n",
        "\n",
        "# affine function\n",
        "dense = Dense(units=1, activation='linear') # 1층, activation function의 경우 linear로 설정\n",
        "\n",
        "# output in TF\n",
        "z = dense(x) # affine function을 통과하면서 W와 B 초기화된다.\n",
        "\n",
        "# affine function의 parameter 확인\n",
        "W, B = dense.get_weights()\n",
        "\n",
        "# output self : Wx + b의 꼴\n",
        "z_self = tf.linalg.matmul(x, W) + B\n",
        "\n",
        "# 결과확인\n",
        "print('-'*25)\n",
        "print(f'input : {x}\\ninput shape : {x.shape}')\n",
        "print('-'*25)\n",
        "print(f'output : {z}\\noutput shape : {z.shape}')\n",
        "print('-'*25)\n",
        "print(f'output_self : {z_self}\\noutput_self shape : {z_self.shape}')\n",
        "print('-'*25)\n",
        "print(f'weight : {W}\\nweight shape : {W.shape}')\n",
        "print('-'*25)\n",
        "print(f'bias : {B}\\nbias shape : {B.shape}')\n",
        "print('-'*25)"
      ],
      "metadata": {
        "colab": {
          "base_uri": "https://localhost:8080/"
        },
        "id": "5kJEN0A17XF2",
        "outputId": "19a92874-5c8b-4e46-85a6-5c31b8c82873"
      },
      "execution_count": null,
      "outputs": [
        {
          "output_type": "stream",
          "name": "stdout",
          "text": [
            "-------------------------\n",
            "input : [[10.]]\n",
            "input shape : (1, 1)\n",
            "-------------------------\n",
            "output : [[9.511515]]\n",
            "output shape : (1, 1)\n",
            "-------------------------\n",
            "output_self : [[9.511515]]\n",
            "output_self shape : (1, 1)\n",
            "-------------------------\n",
            "weight : [[0.9511515]]\n",
            "weight shape : (1, 1)\n",
            "-------------------------\n",
            "bias : [0.]\n",
            "bias shape : (1,)\n",
            "-------------------------\n"
          ]
        }
      ]
    },
    {
      "cell_type": "markdown",
      "source": [
        "# Affine Functions with n Feature"
      ],
      "metadata": {
        "id": "ALE5GE06NV9q"
      }
    },
    {
      "cell_type": "code",
      "source": [
        "import tensorflow as tf\n",
        "from tensorflow.keras.layers import Dense\n",
        "\n",
        "# input\n",
        "x = tf.random.uniform(shape=(1, 10)) # row matrix(=row vector)의 형태\n",
        "\n",
        "# affine function\n",
        "dense = Dense(units=1, activation='linear')\n",
        "\n",
        "# output in TF\n",
        "z = dense(x)\n",
        "\n",
        "# affine function의 parameter 확인\n",
        "W, B = dense.get_weights() # W의 경우 column vector으로 생성되어진다, B의 경우 스칼라값을 갖는다.\n",
        "\n",
        "# output self\n",
        "z_self = tf.linalg.matmul(x, W) + B\n",
        "\n",
        "# 결과확인\n",
        "print('-'*25)\n",
        "print(f'input : {x}\\ninput shape : {x.shape}')\n",
        "print('-'*25)\n",
        "print(f'output : {z}\\noutput shape : {z.shape}')\n",
        "print('-'*25)\n",
        "print(f'output_self : {z_self}\\noutput_self shape : {z_self.shape}')\n",
        "print('-'*25)\n",
        "print(f'weight : {W}\\nweight shape : {W.shape}')\n",
        "print('-'*25)\n",
        "print(f'bias : {B}\\nbias shape : {B.shape}')\n",
        "print('-'*25)"
      ],
      "metadata": {
        "colab": {
          "base_uri": "https://localhost:8080/"
        },
        "id": "A8e2KeslNcza",
        "outputId": "1281ced4-7862-4ad7-8f9a-0b17a8628f09"
      },
      "execution_count": null,
      "outputs": [
        {
          "output_type": "stream",
          "name": "stdout",
          "text": [
            "-------------------------\n",
            "input : [[0.01272798 0.84293544 0.16196394 0.9970597  0.8536402  0.8928263\n",
            "  0.01254404 0.06608093 0.6712377  0.20613551]]\n",
            "input shape : (1, 10)\n",
            "-------------------------\n",
            "output : [[-1.055025]]\n",
            "output shape : (1, 1)\n",
            "-------------------------\n",
            "output_self : [[-1.055025]]\n",
            "output_self shape : (1, 1)\n",
            "-------------------------\n",
            "weight : [[ 0.0647437 ]\n",
            " [ 0.07531261]\n",
            " [ 0.2618584 ]\n",
            " [-0.21239543]\n",
            " [-0.37518454]\n",
            " [-0.3342375 ]\n",
            " [-0.04998088]\n",
            " [ 0.60062605]\n",
            " [-0.32890463]\n",
            " [-0.7256126 ]]\n",
            "weight shape : (10, 1)\n",
            "-------------------------\n",
            "bias : [0.]\n",
            "bias shape : (1,)\n",
            "-------------------------\n"
          ]
        }
      ]
    },
    {
      "cell_type": "markdown",
      "source": [
        "# Parameter Initialization"
      ],
      "metadata": {
        "id": "_3Gl-3wMQ6v0"
      }
    },
    {
      "cell_type": "code",
      "source": [
        "import tensorflow as tf\n",
        "from tensorflow.keras.layers import Dense\n",
        "from tensorflow.keras.initializers import Constant # 사용자가 원하는 값으로 파라미터 초기화가 가능\n",
        "\n",
        "w, b = tf.constant(10.), tf.constant(25.) # TF의 경우 기본적으로 float32 \n",
        "w_init, b_init = Constant(w), Constant(b)\n",
        "\n",
        "# 초기화한 파라미터값으로 affine function 생성하기\n",
        "dense = Dense(units = 1,\n",
        "              activation = 'linear',\n",
        "              kernel_initializer = w_init,\n",
        "              bias_initializer = b_init)\n",
        "\n",
        "# input\n",
        "x = tf.constant([[10.]])\n",
        "\n",
        "# affine function\n",
        "z = dense(x)\n",
        "\n",
        "# params\n",
        "W, B = dense.get_weights()\n",
        "\n",
        "# 결과확인\n",
        "print(f'input : {x}\\ninput shape : {x.shape}')\n",
        "print(f'output : {z}\\noutput shape : {z.shape}') # 125 = 10*10 + 25\n",
        "print(f'weight : {W}') # 초기화된 값\n",
        "print(f'bias : {B}') # 초기화된 값"
      ],
      "metadata": {
        "colab": {
          "base_uri": "https://localhost:8080/"
        },
        "id": "9IaVS77mQ75s",
        "outputId": "0e1a792b-863e-4e45-f86a-eb7e7fe6e41d"
      },
      "execution_count": null,
      "outputs": [
        {
          "output_type": "stream",
          "name": "stdout",
          "text": [
            "input : [[10.]]\n",
            "input shape : (1, 1)\n",
            "output : [[125.]]\n",
            "output shape : (1, 1)\n",
            "weight : [[10.]]\n",
            "bias : [25.]\n"
          ]
        }
      ]
    }
  ]
}