{
 "cells": [
  {
   "cell_type": "markdown",
   "id": "f4b89add",
   "metadata": {},
   "source": [
    "# Numpy\n",
    "\n",
    ": Numerical Python\n",
    "\n",
    "* numpy에서 for문을 이용하지 않도록 하기!\n",
    "* 자세한 기능을 기억할수는 없지만, 이러한 기능도 있다는것을 알아두는것이 유용하게 적용될것!"
   ]
  },
  {
   "cell_type": "markdown",
   "id": "3049473d",
   "metadata": {},
   "source": [
    "## import"
   ]
  },
  {
   "cell_type": "code",
   "execution_count": 3,
   "id": "cf74d3cf",
   "metadata": {
    "ExecuteTime": {
     "end_time": "2022-01-07T04:20:09.207296Z",
     "start_time": "2022-01-07T04:20:08.512956Z"
    }
   },
   "outputs": [],
   "source": [
    "import numpy as np"
   ]
  },
  {
   "cell_type": "markdown",
   "id": "13a4c95a",
   "metadata": {},
   "source": [
    "## Array creation\n",
    "\n",
    "* numpy는 **하나의 데이터 타입**만을 배열에 생성할 수 있다."
   ]
  },
  {
   "cell_type": "code",
   "execution_count": 4,
   "id": "85f0399a",
   "metadata": {
    "ExecuteTime": {
     "end_time": "2022-01-07T04:20:09.390060Z",
     "start_time": "2022-01-07T04:20:09.350176Z"
    }
   },
   "outputs": [
    {
     "name": "stdout",
     "output_type": "stream",
     "text": [
      "[1.  3.  5.3 7.  9. ]\n"
     ]
    },
    {
     "data": {
      "text/plain": [
       "numpy.float64"
      ]
     },
     "execution_count": 4,
     "metadata": {},
     "output_type": "execute_result"
    }
   ],
   "source": [
    "example = np.array([\"1\", 3, 5.3, \"7\", 9], float) \n",
    "\n",
    "print(example)\n",
    "\n",
    "type(example[0]) # == example_1[0].dtype"
   ]
  },
  {
   "cell_type": "markdown",
   "id": "804b245c",
   "metadata": {},
   "source": [
    "### arrange\n",
    "\n",
    ": 배열의 범위를 지정하여 설정이 가능하다.\n",
    "\n",
    "* step을 **소수점** 단위로도 설정이 가능하다. (=list에서는 불가능하기때문에 .tolist()를 사용하는것도 방법)\n",
    "* 1.4.1의 reshape와 함께 사용하면 메트릭스표현이 가능하다."
   ]
  },
  {
   "cell_type": "code",
   "execution_count": 5,
   "id": "8ba7fb18",
   "metadata": {
    "ExecuteTime": {
     "end_time": "2022-01-07T04:20:10.014334Z",
     "start_time": "2022-01-07T04:20:09.993388Z"
    }
   },
   "outputs": [
    {
     "data": {
      "text/plain": [
       "array([ 1. ,  1.5,  2. ,  2.5,  3. ,  3.5,  4. ,  4.5,  5. ,  5.5,  6. ,\n",
       "        6.5,  7. ,  7.5,  8. ,  8.5,  9. ,  9.5, 10. , 10.5])"
      ]
     },
     "execution_count": 5,
     "metadata": {},
     "output_type": "execute_result"
    }
   ],
   "source": [
    "np.arange(1, 11, .5)"
   ]
  },
  {
   "cell_type": "code",
   "execution_count": 6,
   "id": "ddb3024c",
   "metadata": {
    "ExecuteTime": {
     "end_time": "2022-01-07T04:20:10.257512Z",
     "start_time": "2022-01-07T04:20:10.235574Z"
    }
   },
   "outputs": [
    {
     "data": {
      "text/plain": [
       "array([[[ 1,  2,  3,  4,  5],\n",
       "        [ 6,  7,  8,  9, 10]],\n",
       "\n",
       "       [[11, 12, 13, 14, 15],\n",
       "        [16, 17, 18, 19, 20]],\n",
       "\n",
       "       [[21, 22, 23, 24, 25],\n",
       "        [26, 27, 28, 29, 30]]])"
      ]
     },
     "execution_count": 6,
     "metadata": {},
     "output_type": "execute_result"
    }
   ],
   "source": [
    "np.arange(1, 31).reshape(3, 2, 5)"
   ]
  },
  {
   "cell_type": "markdown",
   "id": "cec8fdb0",
   "metadata": {},
   "source": [
    "### zeros, ones, empty\n",
    "\n",
    ": 특정한 값 또는 메모리만을 갖는 배열을 생성한다."
   ]
  },
  {
   "cell_type": "code",
   "execution_count": 7,
   "id": "48df2bda",
   "metadata": {
    "ExecuteTime": {
     "end_time": "2022-01-07T04:20:10.703293Z",
     "start_time": "2022-01-07T04:20:10.693322Z"
    }
   },
   "outputs": [
    {
     "data": {
      "text/plain": [
       "array([0., 0., 0., 0., 0., 0., 0., 0., 0., 0.])"
      ]
     },
     "execution_count": 7,
     "metadata": {},
     "output_type": "execute_result"
    }
   ],
   "source": [
    "np.zeros(shape = 10)"
   ]
  },
  {
   "cell_type": "code",
   "execution_count": 8,
   "id": "62e321e3",
   "metadata": {
    "ExecuteTime": {
     "end_time": "2022-01-07T04:20:10.933058Z",
     "start_time": "2022-01-07T04:20:10.922086Z"
    }
   },
   "outputs": [
    {
     "data": {
      "text/plain": [
       "array([[0., 0., 0., 0., 0., 0.],\n",
       "       [0., 0., 0., 0., 0., 0.],\n",
       "       [0., 0., 0., 0., 0., 0.]])"
      ]
     },
     "execution_count": 8,
     "metadata": {},
     "output_type": "execute_result"
    }
   ],
   "source": [
    "np.zeros((3, 6))"
   ]
  },
  {
   "cell_type": "markdown",
   "id": "ad4dad59",
   "metadata": {},
   "source": [
    "### something_like\n",
    "\n",
    ": 기존의 배열의 모양의 크기만큼 zeros, ones 또는 empty 배열을 반환한다."
   ]
  },
  {
   "cell_type": "code",
   "execution_count": 9,
   "id": "b2979636",
   "metadata": {
    "ExecuteTime": {
     "end_time": "2022-01-07T04:20:11.375737Z",
     "start_time": "2022-01-07T04:20:11.359779Z"
    }
   },
   "outputs": [],
   "source": [
    "example_1 = np.arange(1, 31).reshape(2, 3, 5)"
   ]
  },
  {
   "cell_type": "code",
   "execution_count": 10,
   "id": "66a07604",
   "metadata": {
    "ExecuteTime": {
     "end_time": "2022-01-07T04:20:11.588902Z",
     "start_time": "2022-01-07T04:20:11.580924Z"
    }
   },
   "outputs": [
    {
     "data": {
      "text/plain": [
       "array([[[0, 0, 0, 0, 0],\n",
       "        [0, 0, 0, 0, 0],\n",
       "        [0, 0, 0, 0, 0]],\n",
       "\n",
       "       [[0, 0, 0, 0, 0],\n",
       "        [0, 0, 0, 0, 0],\n",
       "        [0, 0, 0, 0, 0]]])"
      ]
     },
     "execution_count": 10,
     "metadata": {},
     "output_type": "execute_result"
    }
   ],
   "source": [
    "np.zeros_like(example_1)"
   ]
  },
  {
   "cell_type": "markdown",
   "id": "6632324b",
   "metadata": {},
   "source": [
    "### identity (=단위 행렬)\n",
    "\n",
    "* 디폴트값으로 n * n의 단위행렬을 생성한다."
   ]
  },
  {
   "cell_type": "code",
   "execution_count": 11,
   "id": "bbd2cdbc",
   "metadata": {
    "ExecuteTime": {
     "end_time": "2022-01-07T04:20:12.014467Z",
     "start_time": "2022-01-07T04:20:11.991526Z"
    }
   },
   "outputs": [
    {
     "data": {
      "text/plain": [
       "array([[1., 0., 0., 0., 0., 0.],\n",
       "       [0., 1., 0., 0., 0., 0.],\n",
       "       [0., 0., 1., 0., 0., 0.],\n",
       "       [0., 0., 0., 1., 0., 0.],\n",
       "       [0., 0., 0., 0., 1., 0.],\n",
       "       [0., 0., 0., 0., 0., 1.]])"
      ]
     },
     "execution_count": 11,
     "metadata": {},
     "output_type": "execute_result"
    }
   ],
   "source": [
    "np.identity(6)"
   ]
  },
  {
   "cell_type": "markdown",
   "id": "351dca1e",
   "metadata": {},
   "source": [
    "### eye (=대각선이 1인 행렬)\n",
    "\n",
    "* 디폴트 값으로 k(대각선)는 0번째 위치에 생성되지만, k의 값을 임의로 조정이 가능하다."
   ]
  },
  {
   "cell_type": "code",
   "execution_count": 12,
   "id": "5acf513f",
   "metadata": {
    "ExecuteTime": {
     "end_time": "2022-01-07T04:20:12.424936Z",
     "start_time": "2022-01-07T04:20:12.411972Z"
    }
   },
   "outputs": [
    {
     "data": {
      "text/plain": [
       "array([[0., 0., 1., 0., 0.],\n",
       "       [0., 0., 0., 1., 0.],\n",
       "       [0., 0., 0., 0., 1.],\n",
       "       [0., 0., 0., 0., 0.],\n",
       "       [0., 0., 0., 0., 0.]])"
      ]
     },
     "execution_count": 12,
     "metadata": {},
     "output_type": "execute_result"
    }
   ],
   "source": [
    "np.eye(5, k=2)"
   ]
  },
  {
   "cell_type": "markdown",
   "id": "507fb0de",
   "metadata": {},
   "source": [
    "### 전치 행렬"
   ]
  },
  {
   "cell_type": "code",
   "execution_count": 13,
   "id": "2b06efa4",
   "metadata": {
    "ExecuteTime": {
     "end_time": "2022-01-07T04:20:12.898352Z",
     "start_time": "2022-01-07T04:20:12.818914Z"
    }
   },
   "outputs": [
    {
     "ename": "NameError",
     "evalue": "name 'example_4' is not defined",
     "output_type": "error",
     "traceback": [
      "\u001b[1;31m---------------------------------------------------------------------------\u001b[0m",
      "\u001b[1;31mNameError\u001b[0m                                 Traceback (most recent call last)",
      "\u001b[1;32m~\\AppData\\Local\\Temp/ipykernel_20688/3568254373.py\u001b[0m in \u001b[0;36m<module>\u001b[1;34m\u001b[0m\n\u001b[1;32m----> 1\u001b[1;33m \u001b[0mexample_4\u001b[0m\u001b[1;33m\u001b[0m\u001b[1;33m\u001b[0m\u001b[0m\n\u001b[0m",
      "\u001b[1;31mNameError\u001b[0m: name 'example_4' is not defined"
     ]
    }
   ],
   "source": [
    "example_4"
   ]
  },
  {
   "cell_type": "code",
   "execution_count": 14,
   "id": "893f72ca",
   "metadata": {
    "ExecuteTime": {
     "end_time": "2022-01-07T04:20:13.051565Z",
     "start_time": "2022-01-07T04:20:13.029616Z"
    }
   },
   "outputs": [
    {
     "ename": "NameError",
     "evalue": "name 'example_4' is not defined",
     "output_type": "error",
     "traceback": [
      "\u001b[1;31m---------------------------------------------------------------------------\u001b[0m",
      "\u001b[1;31mNameError\u001b[0m                                 Traceback (most recent call last)",
      "\u001b[1;32m~\\AppData\\Local\\Temp/ipykernel_20688/446340463.py\u001b[0m in \u001b[0;36m<module>\u001b[1;34m\u001b[0m\n\u001b[1;32m----> 1\u001b[1;33m \u001b[0mexample_4\u001b[0m\u001b[1;33m.\u001b[0m\u001b[0mtranspose\u001b[0m\u001b[1;33m(\u001b[0m\u001b[1;33m)\u001b[0m\u001b[1;33m\u001b[0m\u001b[1;33m\u001b[0m\u001b[0m\n\u001b[0m",
      "\u001b[1;31mNameError\u001b[0m: name 'example_4' is not defined"
     ]
    }
   ],
   "source": [
    "example_4.transpose()"
   ]
  },
  {
   "cell_type": "markdown",
   "id": "b0f41b21",
   "metadata": {},
   "source": [
    "### diag\n",
    "\n",
    ": 대각 행렬의 값을 추출한다."
   ]
  },
  {
   "cell_type": "code",
   "execution_count": 15,
   "id": "a9529a87",
   "metadata": {
    "ExecuteTime": {
     "end_time": "2022-01-07T04:20:13.444707Z",
     "start_time": "2022-01-07T04:20:13.422766Z"
    }
   },
   "outputs": [
    {
     "data": {
      "text/plain": [
       "array([ 0,  6, 12, 18, 24])"
      ]
     },
     "execution_count": 15,
     "metadata": {},
     "output_type": "execute_result"
    }
   ],
   "source": [
    "example_3 = np.arange(25).reshape(5, 5)\n",
    "\n",
    "np.diag(example_3)"
   ]
  },
  {
   "cell_type": "markdown",
   "id": "2d03e457",
   "metadata": {},
   "source": [
    "### random sampling\n",
    "\n",
    ": 데이터의 분포에 맞는 샘플링으로 배열을 생성 가능하다.\n",
    "\n",
    "* uniform은 균등분포\n",
    "* normal은 정규분포"
   ]
  },
  {
   "cell_type": "code",
   "execution_count": 16,
   "id": "bc3314df",
   "metadata": {
    "ExecuteTime": {
     "end_time": "2022-01-07T04:20:13.841030Z",
     "start_time": "2022-01-07T04:20:13.821084Z"
    }
   },
   "outputs": [
    {
     "data": {
      "text/plain": [
       "array([[0.97912466, 0.74424735, 0.92021783, 0.66933871, 0.63953463],\n",
       "       [0.23207366, 0.82487683, 0.04015884, 0.97628743, 0.7312318 ]])"
      ]
     },
     "execution_count": 16,
     "metadata": {},
     "output_type": "execute_result"
    }
   ],
   "source": [
    "np.random.uniform(0, 1, 10).reshape(2, 5)"
   ]
  },
  {
   "cell_type": "code",
   "execution_count": 17,
   "id": "2e72c19c",
   "metadata": {
    "ExecuteTime": {
     "end_time": "2022-01-07T04:20:14.038714Z",
     "start_time": "2022-01-07T04:20:14.016773Z"
    }
   },
   "outputs": [
    {
     "data": {
      "text/plain": [
       "array([[-0.74919858, -1.0386688 ,  0.23702281,  1.31476478,  0.09217967],\n",
       "       [ 1.01033657,  1.92075966, -0.26796407,  0.76337544,  0.42080934]])"
      ]
     },
     "execution_count": 17,
     "metadata": {},
     "output_type": "execute_result"
    }
   ],
   "source": [
    "np.random.normal(0, 1, 10).reshape(2, 5)"
   ]
  },
  {
   "cell_type": "markdown",
   "id": "02723c49",
   "metadata": {},
   "source": [
    "## Array Shape\n",
    ": 생성된 배열의 shape를 확인 할 수 있다.\n",
    "\n",
    "* vector = (row,)\n",
    "* matrix = (column, row)\n",
    "* 3rd order tensor = (depth, column, row)"
   ]
  },
  {
   "cell_type": "code",
   "execution_count": 18,
   "id": "e9902d5b",
   "metadata": {
    "ExecuteTime": {
     "end_time": "2022-01-07T04:20:14.448951Z",
     "start_time": "2022-01-07T04:20:14.435986Z"
    }
   },
   "outputs": [
    {
     "data": {
      "text/plain": [
       "(5,)"
      ]
     },
     "execution_count": 18,
     "metadata": {},
     "output_type": "execute_result"
    }
   ],
   "source": [
    "example.shape"
   ]
  },
  {
   "cell_type": "markdown",
   "id": "5ce6a4a3",
   "metadata": {},
   "source": [
    "### number of demension\n",
    "\n",
    ": 차원의 수를 반환한다."
   ]
  },
  {
   "cell_type": "code",
   "execution_count": 19,
   "id": "3300ab08",
   "metadata": {
    "ExecuteTime": {
     "end_time": "2022-01-07T04:20:14.875016Z",
     "start_time": "2022-01-07T04:20:14.858063Z"
    }
   },
   "outputs": [
    {
     "data": {
      "text/plain": [
       "1"
      ]
     },
     "execution_count": 19,
     "metadata": {},
     "output_type": "execute_result"
    }
   ],
   "source": [
    "example.ndim"
   ]
  },
  {
   "cell_type": "markdown",
   "id": "c40fa4d4",
   "metadata": {},
   "source": [
    "### size\n",
    "\n",
    ": 전체 데이터의 수를 반환한다."
   ]
  },
  {
   "cell_type": "code",
   "execution_count": 20,
   "id": "974d2297",
   "metadata": {
    "ExecuteTime": {
     "end_time": "2022-01-07T04:20:15.286929Z",
     "start_time": "2022-01-07T04:20:15.265986Z"
    }
   },
   "outputs": [
    {
     "data": {
      "text/plain": [
       "5"
      ]
     },
     "execution_count": 20,
     "metadata": {},
     "output_type": "execute_result"
    }
   ],
   "source": [
    "example.size"
   ]
  },
  {
   "cell_type": "markdown",
   "id": "eca2f298",
   "metadata": {},
   "source": [
    "## Shape Handling\n",
    "\n",
    ": 배열의 크기는 같지만, 차원의 수를 변경하는 방법\n",
    "\n",
    "- 전체 데이터의 수를 고려해서 활용해야 한다."
   ]
  },
  {
   "cell_type": "code",
   "execution_count": 21,
   "id": "d3887664",
   "metadata": {
    "ExecuteTime": {
     "end_time": "2022-01-07T04:20:15.698464Z",
     "start_time": "2022-01-07T04:20:15.690486Z"
    }
   },
   "outputs": [
    {
     "data": {
      "text/plain": [
       "(2, 6)"
      ]
     },
     "execution_count": 21,
     "metadata": {},
     "output_type": "execute_result"
    }
   ],
   "source": [
    "example_2 = [[1, 2, 3, 4, 5, 6],\n",
    "            [7, 8, 9, 10, 11, 12]]\n",
    "\n",
    "np.array(example_2).shape"
   ]
  },
  {
   "cell_type": "markdown",
   "id": "09439203",
   "metadata": {
    "ExecuteTime": {
     "end_time": "2022-01-05T09:47:05.175290Z",
     "start_time": "2022-01-05T09:47:05.159333Z"
    }
   },
   "source": [
    "### reshape\n",
    "\n",
    ": 데이터의 수를 고려하여 차원에 반영이 가능하다. (vector -> matrix)\n",
    "\n",
    "- 특정 row나 column의 수는 알 수 없지만, 하나의 row, column에 대한 수를 알고 있을때에는 **-1**을 활용하면\n",
    "  데이터의 수에 맞게 reshpe이 된다."
   ]
  },
  {
   "cell_type": "code",
   "execution_count": 22,
   "id": "df4bbf31",
   "metadata": {
    "ExecuteTime": {
     "end_time": "2022-01-07T04:20:16.113090Z",
     "start_time": "2022-01-07T04:20:16.102119Z"
    }
   },
   "outputs": [
    {
     "data": {
      "text/plain": [
       "array([[[ 1,  2],\n",
       "        [ 3,  4]],\n",
       "\n",
       "       [[ 5,  6],\n",
       "        [ 7,  8]],\n",
       "\n",
       "       [[ 9, 10],\n",
       "        [11, 12]]])"
      ]
     },
     "execution_count": 22,
     "metadata": {},
     "output_type": "execute_result"
    }
   ],
   "source": [
    "np.array(example_2).reshape(3,2,2)"
   ]
  },
  {
   "cell_type": "code",
   "execution_count": 23,
   "id": "ce60e4fe",
   "metadata": {
    "ExecuteTime": {
     "end_time": "2022-01-07T04:20:16.327792Z",
     "start_time": "2022-01-07T04:20:16.317820Z"
    }
   },
   "outputs": [
    {
     "data": {
      "text/plain": [
       "array([[ 1,  2],\n",
       "       [ 3,  4],\n",
       "       [ 5,  6],\n",
       "       [ 7,  8],\n",
       "       [ 9, 10],\n",
       "       [11, 12]])"
      ]
     },
     "execution_count": 23,
     "metadata": {},
     "output_type": "execute_result"
    }
   ],
   "source": [
    "np.array(example_2).reshape(-1, 2)"
   ]
  },
  {
   "cell_type": "markdown",
   "id": "40f3ac7c",
   "metadata": {},
   "source": [
    "### flatten\n",
    "\n",
    ": 다차원의 배열을 1차원의 배열로 변환한다."
   ]
  },
  {
   "cell_type": "code",
   "execution_count": 24,
   "id": "190b8f4a",
   "metadata": {
    "ExecuteTime": {
     "end_time": "2022-01-07T04:20:16.740810Z",
     "start_time": "2022-01-07T04:20:16.730838Z"
    }
   },
   "outputs": [
    {
     "data": {
      "text/plain": [
       "array([ 1,  2,  3,  4,  5,  6,  7,  8,  9, 10, 11, 12])"
      ]
     },
     "execution_count": 24,
     "metadata": {},
     "output_type": "execute_result"
    }
   ],
   "source": [
    "np.array(example_2).flatten() # == np,array(example_2).reshape(1, -1)"
   ]
  },
  {
   "cell_type": "markdown",
   "id": "8df5a81f",
   "metadata": {},
   "source": [
    "## Indexing\n",
    "\n",
    "- list와 유사하지만 더 편리한 접근이 가능하다.\n",
    "- 새로운 값의 할당도 가능하다.\n",
    "- 마지막은 n-1임에 유의하기"
   ]
  },
  {
   "cell_type": "code",
   "execution_count": 25,
   "id": "393377f3",
   "metadata": {
    "ExecuteTime": {
     "end_time": "2022-01-07T04:20:17.166510Z",
     "start_time": "2022-01-07T04:20:17.161522Z"
    }
   },
   "outputs": [],
   "source": [
    "a = np.array(example_2)"
   ]
  },
  {
   "cell_type": "code",
   "execution_count": 26,
   "id": "b6b1c76c",
   "metadata": {
    "ExecuteTime": {
     "end_time": "2022-01-07T04:20:17.378994Z",
     "start_time": "2022-01-07T04:20:17.367027Z"
    }
   },
   "outputs": [
    {
     "data": {
      "text/plain": [
       "3"
      ]
     },
     "execution_count": 26,
     "metadata": {},
     "output_type": "execute_result"
    }
   ],
   "source": [
    "a[0, 2] # == a[0][2] "
   ]
  },
  {
   "cell_type": "markdown",
   "id": "5161f2ef",
   "metadata": {},
   "source": [
    "## Slicing\n",
    "\n",
    ": [row, column]의 순서로 슬라이싱된다.\n",
    "\n",
    "* :와 함께 [start, stop, step]의 순서로 접근도 가능하다.\n",
    "* 마지막은 n-1임에 유의하기"
   ]
  },
  {
   "cell_type": "code",
   "execution_count": 27,
   "id": "49c18a4d",
   "metadata": {
    "ExecuteTime": {
     "end_time": "2022-01-07T04:20:17.803200Z",
     "start_time": "2022-01-07T04:20:17.796219Z"
    }
   },
   "outputs": [
    {
     "data": {
      "text/plain": [
       "array([[ 3,  4,  5,  6],\n",
       "       [ 9, 10, 11, 12]])"
      ]
     },
     "execution_count": 27,
     "metadata": {},
     "output_type": "execute_result"
    }
   ],
   "source": [
    "a[:, 2:]"
   ]
  },
  {
   "cell_type": "code",
   "execution_count": 28,
   "id": "e26258fe",
   "metadata": {
    "ExecuteTime": {
     "end_time": "2022-01-07T04:20:18.033450Z",
     "start_time": "2022-01-07T04:20:18.015500Z"
    }
   },
   "outputs": [
    {
     "data": {
      "text/plain": [
       "array([ 7,  8,  9, 10, 11, 12])"
      ]
     },
     "execution_count": 28,
     "metadata": {},
     "output_type": "execute_result"
    }
   ],
   "source": [
    "a[1, :]"
   ]
  },
  {
   "cell_type": "code",
   "execution_count": 29,
   "id": "e766be9d",
   "metadata": {
    "ExecuteTime": {
     "end_time": "2022-01-07T04:20:18.249039Z",
     "start_time": "2022-01-07T04:20:18.228095Z"
    }
   },
   "outputs": [
    {
     "data": {
      "text/plain": [
       "array([[ 1,  3,  5],\n",
       "       [ 7,  9, 11]])"
      ]
     },
     "execution_count": 29,
     "metadata": {},
     "output_type": "execute_result"
    }
   ],
   "source": [
    "a[:, ::2]"
   ]
  },
  {
   "cell_type": "markdown",
   "id": "88c13666",
   "metadata": {},
   "source": [
    "## 연산\n",
    "\n",
    ": 배열의 **모든 요소**들간의 연산을 수행 할 수 있다.\n",
    "\n",
    "* sum, mean, std, sin, cos, tan, log 외에도 다양한 연산수행이 가능하다."
   ]
  },
  {
   "cell_type": "code",
   "execution_count": 30,
   "id": "ddc3e035",
   "metadata": {
    "ExecuteTime": {
     "end_time": "2022-01-07T04:20:18.678466Z",
     "start_time": "2022-01-07T04:20:18.660501Z"
    }
   },
   "outputs": [
    {
     "data": {
      "text/plain": [
       "465"
      ]
     },
     "execution_count": 30,
     "metadata": {},
     "output_type": "execute_result"
    }
   ],
   "source": [
    "example_1.sum()"
   ]
  },
  {
   "cell_type": "markdown",
   "id": "193f3b45",
   "metadata": {},
   "source": [
    "### matrix내의 연산\n",
    "\n",
    "* shape가 같은 경우에 연산을 수행하는 방식.\n",
    "* matrix.dot(n)은 각각의 matrix에 n만큼의 수를 곱한다(=선형대수)"
   ]
  },
  {
   "cell_type": "code",
   "execution_count": 31,
   "id": "51275a0b",
   "metadata": {
    "ExecuteTime": {
     "end_time": "2022-01-07T04:20:19.092413Z",
     "start_time": "2022-01-07T04:20:19.082438Z"
    }
   },
   "outputs": [
    {
     "data": {
      "text/plain": [
       "array([[ 2,  6, 10],\n",
       "       [ 8, 10, 12]])"
      ]
     },
     "execution_count": 31,
     "metadata": {},
     "output_type": "execute_result"
    }
   ],
   "source": [
    "qp = np.array([[1, 3, 5], [4, 5, 6]])\n",
    "\n",
    "qp + qp # + - * / // % 모두 가능하다."
   ]
  },
  {
   "cell_type": "code",
   "execution_count": 32,
   "id": "87329773",
   "metadata": {
    "ExecuteTime": {
     "end_time": "2022-01-07T04:20:19.304399Z",
     "start_time": "2022-01-07T04:20:19.289436Z"
    }
   },
   "outputs": [
    {
     "data": {
      "text/plain": [
       "array([[ 3,  9, 15],\n",
       "       [12, 15, 18]])"
      ]
     },
     "execution_count": 32,
     "metadata": {},
     "output_type": "execute_result"
    }
   ],
   "source": [
    "qp.dot(3)"
   ]
  },
  {
   "cell_type": "markdown",
   "id": "fc602766",
   "metadata": {},
   "source": [
    "### broadcasting\n",
    "\n",
    "* shape가 다른 경우에 연산을 수행하는 방식"
   ]
  },
  {
   "cell_type": "code",
   "execution_count": 33,
   "id": "90acd806",
   "metadata": {
    "ExecuteTime": {
     "end_time": "2022-01-07T04:20:19.747035Z",
     "start_time": "2022-01-07T04:20:19.735067Z"
    }
   },
   "outputs": [
    {
     "data": {
      "text/plain": [
       "array([[11, 12, 13, 14, 15, 16],\n",
       "       [17, 18, 19, 20, 21, 22],\n",
       "       [23, 24, 25, 26, 27, 28],\n",
       "       [29, 30, 31, 32, 33, 34]])"
      ]
     },
     "execution_count": 33,
     "metadata": {},
     "output_type": "execute_result"
    }
   ],
   "source": [
    "test_matrix = np.arange(1, 25).reshape(4, 6)\n",
    "test_scalar = 10\n",
    "\n",
    "test_matrix + test_scalar"
   ]
  },
  {
   "cell_type": "markdown",
   "id": "06f90896",
   "metadata": {},
   "source": [
    "### axis 연산\n",
    "\n",
    ": **축**을 지정하여 부분연산을 수행 할 수 있다.\n",
    "\n",
    "* 새롭게 생성되는 axis가 0이되고 기존의 axis가 존재할 경우 1씩 밀려나게 된다.\n",
    "* (0, )  ->  (0, 1)  ->  (0, 1, 2)"
   ]
  },
  {
   "cell_type": "code",
   "execution_count": 34,
   "id": "cd94485a",
   "metadata": {
    "ExecuteTime": {
     "end_time": "2022-01-07T04:20:20.171952Z",
     "start_time": "2022-01-07T04:20:20.164970Z"
    }
   },
   "outputs": [
    {
     "data": {
      "text/plain": [
       "array([[ 1,  2,  3,  4],\n",
       "       [ 5,  6,  7,  8],\n",
       "       [ 9, 10, 11, 12]])"
      ]
     },
     "execution_count": 34,
     "metadata": {},
     "output_type": "execute_result"
    }
   ],
   "source": [
    "example_4 = np.arange(1, 13).reshape(3, 4)\n",
    "example_4"
   ]
  },
  {
   "cell_type": "code",
   "execution_count": 35,
   "id": "bbb440fc",
   "metadata": {
    "ExecuteTime": {
     "end_time": "2022-01-07T04:20:20.399236Z",
     "start_time": "2022-01-07T04:20:20.391258Z"
    }
   },
   "outputs": [
    {
     "data": {
      "text/plain": [
       "array([10, 26, 42])"
      ]
     },
     "execution_count": 35,
     "metadata": {},
     "output_type": "execute_result"
    }
   ],
   "source": [
    "example_4.sum(axis = 1)"
   ]
  },
  {
   "cell_type": "code",
   "execution_count": 36,
   "id": "30c19f5e",
   "metadata": {
    "ExecuteTime": {
     "end_time": "2022-01-07T04:20:20.614660Z",
     "start_time": "2022-01-07T04:20:20.595711Z"
    }
   },
   "outputs": [
    {
     "data": {
      "text/plain": [
       "array([15, 18, 21, 24])"
      ]
     },
     "execution_count": 36,
     "metadata": {},
     "output_type": "execute_result"
    }
   ],
   "source": [
    "example_4.sum(axis = 0)"
   ]
  },
  {
   "cell_type": "markdown",
   "id": "b715d53d",
   "metadata": {},
   "source": [
    "## CONCATENATE\n",
    "\n",
    "- vstack : x축 기준으로 합하는 기능을 수행\n",
    "- hstack : y축 기준으로 합하는 기능을 수행\n",
    "- concatenate(axis=)방식으로도 합할 수 있다.\n",
    "- 추가적인 메모리를 확보해야하기 때문에 연산이 느리다."
   ]
  },
  {
   "cell_type": "code",
   "execution_count": 37,
   "id": "b2e45964",
   "metadata": {
    "ExecuteTime": {
     "end_time": "2022-01-07T04:20:21.044535Z",
     "start_time": "2022-01-07T04:20:21.033540Z"
    }
   },
   "outputs": [
    {
     "data": {
      "text/plain": [
       "array([[1, 3, 5],\n",
       "       [2, 4, 6]])"
      ]
     },
     "execution_count": 37,
     "metadata": {},
     "output_type": "execute_result"
    }
   ],
   "source": [
    "q = np.array([1, 3, 5])\n",
    "p = np.array([2, 4, 6])\n",
    "\n",
    "np.vstack((q, p))"
   ]
  },
  {
   "cell_type": "code",
   "execution_count": 38,
   "id": "e07a13e0",
   "metadata": {
    "ExecuteTime": {
     "end_time": "2022-01-07T04:20:21.259934Z",
     "start_time": "2022-01-07T04:20:21.250960Z"
    }
   },
   "outputs": [
    {
     "data": {
      "text/plain": [
       "array([1, 3, 5, 2, 4, 6])"
      ]
     },
     "execution_count": 38,
     "metadata": {},
     "output_type": "execute_result"
    }
   ],
   "source": [
    "np.hstack((q, p))"
   ]
  },
  {
   "cell_type": "markdown",
   "id": "5df7e571",
   "metadata": {},
   "source": [
    "##  COMPARE"
   ]
  },
  {
   "cell_type": "markdown",
   "id": "a92390f1",
   "metadata": {},
   "source": [
    "### all\n",
    "\n",
    ": 특정 조건을 모두 만족해야 True, 하나라도 만족하지 못한다면 False를 return한다."
   ]
  },
  {
   "cell_type": "code",
   "execution_count": 65,
   "id": "5a023856",
   "metadata": {
    "ExecuteTime": {
     "end_time": "2022-01-07T04:41:37.728069Z",
     "start_time": "2022-01-07T04:41:37.719092Z"
    }
   },
   "outputs": [
    {
     "data": {
      "text/plain": [
       "array([False, False, False, False, False,  True,  True,  True,  True,\n",
       "        True])"
      ]
     },
     "execution_count": 65,
     "metadata": {},
     "output_type": "execute_result"
    }
   ],
   "source": [
    "exam = np.arange(1, 11)\n",
    "\n",
    "exam > 5"
   ]
  },
  {
   "cell_type": "code",
   "execution_count": 66,
   "id": "3d8e576d",
   "metadata": {
    "ExecuteTime": {
     "end_time": "2022-01-07T04:41:38.636854Z",
     "start_time": "2022-01-07T04:41:38.624923Z"
    }
   },
   "outputs": [
    {
     "data": {
      "text/plain": [
       "True"
      ]
     },
     "execution_count": 66,
     "metadata": {},
     "output_type": "execute_result"
    }
   ],
   "source": [
    "np.all(exam)"
   ]
  },
  {
   "cell_type": "markdown",
   "id": "993f680d",
   "metadata": {},
   "source": [
    "### any \n",
    "\n",
    ": 하나라도 특정 조건을 만족한다면 True, 모두 만족하지 않는다면 False를 return한다."
   ]
  },
  {
   "cell_type": "code",
   "execution_count": 67,
   "id": "41465f43",
   "metadata": {
    "ExecuteTime": {
     "end_time": "2022-01-07T04:41:39.412318Z",
     "start_time": "2022-01-07T04:41:39.395364Z"
    }
   },
   "outputs": [
    {
     "data": {
      "text/plain": [
       "True"
      ]
     },
     "execution_count": 67,
     "metadata": {},
     "output_type": "execute_result"
    }
   ],
   "source": [
    "np.any(exam)"
   ]
  },
  {
   "cell_type": "markdown",
   "id": "9c754dfc",
   "metadata": {},
   "source": [
    "### logical_and\n",
    "\n",
    ": 2가지의 조건을 모두 만족해야 True를 return한다. (=and)"
   ]
  },
  {
   "cell_type": "code",
   "execution_count": 68,
   "id": "c7e233d1",
   "metadata": {
    "ExecuteTime": {
     "end_time": "2022-01-07T04:41:40.205756Z",
     "start_time": "2022-01-07T04:41:40.190797Z"
    }
   },
   "outputs": [
    {
     "data": {
      "text/plain": [
       "array([ True,  True,  True,  True,  True,  True,  True,  True,  True,\n",
       "        True])"
      ]
     },
     "execution_count": 68,
     "metadata": {},
     "output_type": "execute_result"
    }
   ],
   "source": [
    "np.logical_and(exam > 0, exam < 11)"
   ]
  },
  {
   "cell_type": "markdown",
   "id": "579d6e53",
   "metadata": {},
   "source": [
    "### logical_not\n",
    "\n",
    ": 특정 조건을 모두 만족하지 않은 경우 False를 return"
   ]
  },
  {
   "cell_type": "code",
   "execution_count": 69,
   "id": "70eb940f",
   "metadata": {
    "ExecuteTime": {
     "end_time": "2022-01-07T04:41:41.120762Z",
     "start_time": "2022-01-07T04:41:41.112783Z"
    }
   },
   "outputs": [
    {
     "data": {
      "text/plain": [
       "array([ True,  True,  True,  True,  True,  True,  True,  True,  True,\n",
       "        True])"
      ]
     },
     "execution_count": 69,
     "metadata": {},
     "output_type": "execute_result"
    }
   ],
   "source": [
    "np.logical_not(exam<0)"
   ]
  },
  {
   "cell_type": "markdown",
   "id": "eaa8e802",
   "metadata": {},
   "source": [
    "### logical_or\n",
    "\n",
    ": 두가지 조건중 하나의 조건이라도 True라면 True (=or)"
   ]
  },
  {
   "cell_type": "code",
   "execution_count": 70,
   "id": "82e28831",
   "metadata": {
    "ExecuteTime": {
     "end_time": "2022-01-07T04:41:41.951099Z",
     "start_time": "2022-01-07T04:41:41.938095Z"
    }
   },
   "outputs": [
    {
     "data": {
      "text/plain": [
       "array([False, False, False, False, False,  True,  True,  True,  True,\n",
       "        True])"
      ]
     },
     "execution_count": 70,
     "metadata": {},
     "output_type": "execute_result"
    }
   ],
   "source": [
    "np.logical_or(exam<0, exam>5)"
   ]
  },
  {
   "cell_type": "markdown",
   "id": "f2d6032b",
   "metadata": {},
   "source": [
    "### np.whrere\n",
    "\n",
    ": 조건에 맞는 **index**값을 return\n",
    "\n",
    "* np.where(condition, True일 경우 return값, False일 경우 return값) : True, False의 경우를 조정할 수 있다."
   ]
  },
  {
   "cell_type": "code",
   "execution_count": 74,
   "id": "3f212382",
   "metadata": {
    "ExecuteTime": {
     "end_time": "2022-01-07T04:44:17.687720Z",
     "start_time": "2022-01-07T04:44:17.679738Z"
    }
   },
   "outputs": [
    {
     "data": {
      "text/plain": [
       "(array([6, 7, 8, 9], dtype=int64),)"
      ]
     },
     "execution_count": 74,
     "metadata": {},
     "output_type": "execute_result"
    }
   ],
   "source": [
    "np.where(exam > 6)"
   ]
  },
  {
   "cell_type": "code",
   "execution_count": 72,
   "id": "34ad7767",
   "metadata": {
    "ExecuteTime": {
     "end_time": "2022-01-07T04:42:04.519322Z",
     "start_time": "2022-01-07T04:42:04.507357Z"
    }
   },
   "outputs": [
    {
     "data": {
      "text/plain": [
       "array([1, 1, 1, 1, 1, 1, 0, 0, 0, 0])"
      ]
     },
     "execution_count": 72,
     "metadata": {},
     "output_type": "execute_result"
    }
   ],
   "source": [
    "np.where(exam>6, 0, 1)"
   ]
  },
  {
   "cell_type": "markdown",
   "id": "ba6fae6a",
   "metadata": {},
   "source": [
    "### np.isnan\n",
    "\n",
    ": NaN(Not a Number)을 찾아 True를 return한다.\n",
    "\n",
    "* Inf의 경우 False를 return"
   ]
  },
  {
   "cell_type": "code",
   "execution_count": 77,
   "id": "96be4265",
   "metadata": {
    "ExecuteTime": {
     "end_time": "2022-01-07T04:50:00.356639Z",
     "start_time": "2022-01-07T04:50:00.348658Z"
    }
   },
   "outputs": [
    {
     "data": {
      "text/plain": [
       "array([ 1., nan,  3., nan,  5., nan,  7., inf,  9.])"
      ]
     },
     "execution_count": 77,
     "metadata": {},
     "output_type": "execute_result"
    }
   ],
   "source": [
    "exam = np.array([1, np.NaN, 3, np.NaN, 5, np.NaN, 7, np.Inf, 9])\n",
    "\n",
    "exam"
   ]
  },
  {
   "cell_type": "code",
   "execution_count": 78,
   "id": "44c4c3c9",
   "metadata": {
    "ExecuteTime": {
     "end_time": "2022-01-07T04:50:17.856040Z",
     "start_time": "2022-01-07T04:50:17.836039Z"
    }
   },
   "outputs": [
    {
     "data": {
      "text/plain": [
       "array([False,  True, False,  True, False,  True, False, False, False])"
      ]
     },
     "execution_count": 78,
     "metadata": {},
     "output_type": "execute_result"
    }
   ],
   "source": [
    "np.isnan(exam)"
   ]
  },
  {
   "cell_type": "markdown",
   "id": "9a165bd4",
   "metadata": {},
   "source": [
    "### np.isfinite\n",
    "\n",
    ": finite number을 찾아 return한다."
   ]
  },
  {
   "cell_type": "code",
   "execution_count": 79,
   "id": "2963ee10",
   "metadata": {
    "ExecuteTime": {
     "end_time": "2022-01-07T04:51:33.892592Z",
     "start_time": "2022-01-07T04:51:33.879627Z"
    }
   },
   "outputs": [
    {
     "data": {
      "text/plain": [
       "array([ True, False,  True, False,  True, False,  True, False,  True])"
      ]
     },
     "execution_count": 79,
     "metadata": {},
     "output_type": "execute_result"
    }
   ],
   "source": [
    "np.isfinite(exam)"
   ]
  },
  {
   "cell_type": "markdown",
   "id": "51378b24",
   "metadata": {},
   "source": [
    "### argmax & argmin\n",
    "\n",
    ": 가장 큰값과 작은값의index를 return한다.\n",
    "\n",
    "* 축 (=axis)를 지정하면 해당 축에서 조건을 만족하는 값을 return한다"
   ]
  },
  {
   "cell_type": "code",
   "execution_count": 80,
   "id": "453b1571",
   "metadata": {
    "ExecuteTime": {
     "end_time": "2022-01-07T04:54:12.093415Z",
     "start_time": "2022-01-07T04:54:12.072432Z"
    }
   },
   "outputs": [
    {
     "data": {
      "text/plain": [
       "(4, 5)"
      ]
     },
     "execution_count": 80,
     "metadata": {},
     "output_type": "execute_result"
    }
   ],
   "source": [
    "exam = [1, 3, 5 ,77, 99, 0]\n",
    "\n",
    "np.argmax(exam), np.argmin(exam)"
   ]
  },
  {
   "cell_type": "code",
   "execution_count": 83,
   "id": "2d27e457",
   "metadata": {
    "ExecuteTime": {
     "end_time": "2022-01-07T04:56:30.345118Z",
     "start_time": "2022-01-07T04:56:30.327166Z"
    }
   },
   "outputs": [
    {
     "data": {
      "text/plain": [
       "array([[ 1,  2,  3,  4,  5,  6],\n",
       "       [ 7,  8,  9, 10, 11, 12]])"
      ]
     },
     "execution_count": 83,
     "metadata": {},
     "output_type": "execute_result"
    }
   ],
   "source": [
    "a"
   ]
  },
  {
   "cell_type": "code",
   "execution_count": 86,
   "id": "996e5e43",
   "metadata": {
    "ExecuteTime": {
     "end_time": "2022-01-07T04:57:32.605230Z",
     "start_time": "2022-01-07T04:57:32.595290Z"
    }
   },
   "outputs": [
    {
     "data": {
      "text/plain": [
       "array([5, 5], dtype=int64)"
      ]
     },
     "execution_count": 86,
     "metadata": {},
     "output_type": "execute_result"
    }
   ],
   "source": [
    "np.argmax(a, axis = 1)"
   ]
  },
  {
   "cell_type": "markdown",
   "id": "ca8dbbbf",
   "metadata": {},
   "source": [
    "## boolean index \n",
    "\n",
    ": 배열에서 특정 조건에 맞는 값을 배열 형태로 추출할 수 있다.\n",
    "\n",
    "* 조건이 True인 index의 element만을 추출한다.\n",
    "* where절과 같이 활용하면 유용하게 사용 가능할 듯"
   ]
  },
  {
   "cell_type": "code",
   "execution_count": 100,
   "id": "dd1ff88f",
   "metadata": {
    "ExecuteTime": {
     "end_time": "2022-01-07T05:05:38.732169Z",
     "start_time": "2022-01-07T05:05:38.713252Z"
    }
   },
   "outputs": [
    {
     "data": {
      "text/plain": [
       "array([False,  True, False,  True, False,  True, False,  True, False,\n",
       "        True, False,  True, False,  True, False,  True, False,  True,\n",
       "       False,  True, False,  True, False,  True, False,  True, False,\n",
       "        True, False,  True, False,  True, False,  True, False,  True,\n",
       "       False,  True, False,  True, False,  True, False,  True, False,\n",
       "        True, False,  True, False,  True])"
      ]
     },
     "execution_count": 100,
     "metadata": {},
     "output_type": "execute_result"
    }
   ],
   "source": [
    "exam = np.arange(1, 51)\n",
    "\n",
    "exam % 2 == 0"
   ]
  },
  {
   "cell_type": "code",
   "execution_count": 102,
   "id": "a4e0dcc3",
   "metadata": {
    "ExecuteTime": {
     "end_time": "2022-01-07T05:06:01.180357Z",
     "start_time": "2022-01-07T05:06:01.167393Z"
    }
   },
   "outputs": [
    {
     "data": {
      "text/plain": [
       "array([ 2,  4,  6,  8, 10, 12, 14, 16, 18, 20, 22, 24, 26, 28, 30, 32, 34,\n",
       "       36, 38, 40, 42, 44, 46, 48, 50])"
      ]
     },
     "execution_count": 102,
     "metadata": {},
     "output_type": "execute_result"
    }
   ],
   "source": [
    "exam[exam%2==0]"
   ]
  },
  {
   "cell_type": "markdown",
   "id": "50a15d48",
   "metadata": {},
   "source": [
    "## fancy index\n",
    "\n",
    ": 배열을 index value로 시용해서 값을 추출하는 방법이다.\n",
    "* matrix의 형태로도 활용이 가능하다."
   ]
  },
  {
   "cell_type": "code",
   "execution_count": 104,
   "id": "9fb341f7",
   "metadata": {
    "ExecuteTime": {
     "end_time": "2022-01-07T05:10:20.404643Z",
     "start_time": "2022-01-07T05:10:20.383663Z"
    }
   },
   "outputs": [
    {
     "data": {
      "text/plain": [
       "array([ 1,  2,  3,  4,  5,  6,  7,  8,  9, 10])"
      ]
     },
     "execution_count": 104,
     "metadata": {},
     "output_type": "execute_result"
    }
   ],
   "source": [
    "a = np.arange(1, 11)\n",
    "\n",
    "a"
   ]
  },
  {
   "cell_type": "code",
   "execution_count": 108,
   "id": "f60c56f8",
   "metadata": {
    "ExecuteTime": {
     "end_time": "2022-01-07T05:12:10.224608Z",
     "start_time": "2022-01-07T05:12:10.213641Z"
    }
   },
   "outputs": [],
   "source": [
    "b = np.array([9, 8, 7, 6, 5, 4, 3, 2, 1, 0], int) # 반드시 integer로 선언해야 한다."
   ]
  },
  {
   "cell_type": "code",
   "execution_count": 107,
   "id": "289294e5",
   "metadata": {
    "ExecuteTime": {
     "end_time": "2022-01-07T05:11:50.788482Z",
     "start_time": "2022-01-07T05:11:50.771529Z"
    }
   },
   "outputs": [
    {
     "data": {
      "text/plain": [
       "array([10,  9,  8,  7,  6,  5,  4,  3,  2,  1])"
      ]
     },
     "execution_count": 107,
     "metadata": {},
     "output_type": "execute_result"
    }
   ],
   "source": [
    "a[b] # == a.take[b]"
   ]
  },
  {
   "cell_type": "code",
   "execution_count": 112,
   "id": "cea1a8ec",
   "metadata": {
    "ExecuteTime": {
     "end_time": "2022-01-07T05:14:10.769714Z",
     "start_time": "2022-01-07T05:14:10.753755Z"
    }
   },
   "outputs": [],
   "source": [
    "c = np.array([9, 8, 7, 6, 5, 4, 0, 0, 0, 0], int) # 인덱스를 중복으로 주어 같은 값을 설정할 수 있다."
   ]
  },
  {
   "cell_type": "code",
   "execution_count": 111,
   "id": "6ee97f03",
   "metadata": {
    "ExecuteTime": {
     "end_time": "2022-01-07T05:13:38.859530Z",
     "start_time": "2022-01-07T05:13:38.850588Z"
    }
   },
   "outputs": [
    {
     "data": {
      "text/plain": [
       "array([10,  9,  8,  7,  6,  5,  1,  1,  1,  1])"
      ]
     },
     "execution_count": 111,
     "metadata": {},
     "output_type": "execute_result"
    }
   ],
   "source": [
    "a[c] # == a.take[c]"
   ]
  }
 ],
 "metadata": {
  "kernelspec": {
   "display_name": "Python 3 (ipykernel)",
   "language": "python",
   "name": "python3"
  },
  "language_info": {
   "codemirror_mode": {
    "name": "ipython",
    "version": 3
   },
   "file_extension": ".py",
   "mimetype": "text/x-python",
   "name": "python",
   "nbconvert_exporter": "python",
   "pygments_lexer": "ipython3",
   "version": "3.8.12"
  },
  "toc": {
   "base_numbering": 1,
   "nav_menu": {},
   "number_sections": true,
   "sideBar": true,
   "skip_h1_title": false,
   "title_cell": "Table of Contents",
   "title_sidebar": "Python Modules",
   "toc_cell": false,
   "toc_position": {
    "height": "calc(100% - 180px)",
    "left": "10px",
    "top": "150px",
    "width": "303.825px"
   },
   "toc_section_display": true,
   "toc_window_display": true
  }
 },
 "nbformat": 4,
 "nbformat_minor": 5
}
