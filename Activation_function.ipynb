{
  "nbformat": 4,
  "nbformat_minor": 0,
  "metadata": {
    "colab": {
      "name": "Activation function.ipynb",
      "provenance": [],
      "collapsed_sections": [],
      "toc_visible": true,
      "authorship_tag": "ABX9TyNSu5TlsZlNX4hqWVN4sDUl",
      "include_colab_link": true
    },
    "kernelspec": {
      "name": "python3",
      "display_name": "Python 3"
    },
    "language_info": {
      "name": "python"
    }
  },
  "cells": [
    {
      "cell_type": "markdown",
      "metadata": {
        "id": "view-in-github",
        "colab_type": "text"
      },
      "source": [
        "<a href=\"https://colab.research.google.com/github/Naseungchae/Study-Records/blob/main/Activation_function.ipynb\" target=\"_parent\"><img src=\"https://colab.research.google.com/assets/colab-badge.svg\" alt=\"Open In Colab\"/></a>"
      ]
    },
    {
      "cell_type": "markdown",
      "source": [
        "# Activation Layers"
      ],
      "metadata": {
        "id": "XD3LcxADYwHx"
      }
    },
    {
      "cell_type": "code",
      "source": [
        "import tensorflow as tf\n",
        "from tensorflow.math import exp, maximum\n",
        "from tensorflow.keras.layers import Activation\n",
        "\n",
        "sigmoid = Activation('sigmoid')\n",
        "tanh = Activation('tanh')\n",
        "relu = Activation('relu')\n",
        "\n",
        "# input\n",
        "x = tf.random.normal(shape=(1, 5))\n",
        "\n",
        "# activation function in TF\n",
        "a_sigmoid = sigmoid(x)\n",
        "a_tanh = tanh(x)\n",
        "a_relu = relu(x)\n",
        "\n",
        "# activation function self\n",
        "a_sigmoid_self = 1/(1+exp(-x))\n",
        "a_tanh_self = (exp(x)-exp(-x))/(exp(x)+exp(-x))\n",
        "a_relu_self = maximum(x, 0)\n",
        "\n",
        "# 결과확인\n",
        "print('-'*100)\n",
        "print(f'input : {x}\\ninput shape : {x.shape}')\n",
        "print('-'*100)\n",
        "print(f'sigmoid : {a_sigmoid}\\nshape : {a_sigmoid.shape}')\n",
        "print(f'sigmoid self : {a_sigmoid_self}\\nshape : {a_sigmoid_self.shape}')\n",
        "print('-'*100)\n",
        "print(f'tanh : {a_tanh}\\nshape : {a_tanh.shape}')\n",
        "print(f'tanh self : {a_tanh_self}\\nshape : {a_tanh_self.shape}')\n",
        "print('-'*100)\n",
        "print(f'ReLU : {a_relu}\\nshape : {a_relu.shape}')\n",
        "print(f'ReLU self : {a_relu_self}\\nshape : {a_relu_self.shape}')\n",
        "print('-'*100)"
      ],
      "metadata": {
        "colab": {
          "base_uri": "https://localhost:8080/"
        },
        "id": "9bQLMAPAYz-4",
        "outputId": "a391f266-9ed0-4784-ae3b-7bbd7f25ed28"
      },
      "execution_count": 21,
      "outputs": [
        {
          "output_type": "stream",
          "name": "stdout",
          "text": [
            "----------------------------------------------------------------------------------------------------\n",
            "input : [[-1.1684254 -1.0924305 -0.1009689  1.296544  -0.7701441]]\n",
            "input shape : (1, 5)\n",
            "----------------------------------------------------------------------------------------------------\n",
            "sigmoid : [[0.23713973 0.25116092 0.4747792  0.7852528  0.31644794]]\n",
            "shape : (1, 5)\n",
            "sigmoid self : [[0.23713969 0.2511609  0.47477922 0.78525275 0.3164479 ]]\n",
            "shape : (1, 5)\n",
            "----------------------------------------------------------------------------------------------------\n",
            "tanh : [[-0.8237668  -0.79776347 -0.10062718  0.8608308  -0.64701325]]\n",
            "shape : (1, 5)\n",
            "tanh self : [[-0.8237667  -0.7977635  -0.10062722  0.8608307  -0.6470132 ]]\n",
            "shape : (1, 5)\n",
            "----------------------------------------------------------------------------------------------------\n",
            "ReLU : [[0.       0.       0.       1.296544 0.      ]]\n",
            "shape : (1, 5)\n",
            "ReLU self : [[0.       0.       0.       1.296544 0.      ]]\n",
            "shape : (1, 5)\n",
            "----------------------------------------------------------------------------------------------------\n"
          ]
        }
      ]
    },
    {
      "cell_type": "code",
      "source": [
        "import tensorflow as tf\n",
        "from tensorflow.keras.layers import Dense\n",
        "\n",
        "# input\n",
        "x = tf.random.normal(shape=(1, 5))\n",
        "\n",
        "# affine to activation(= artificial neurons)\n",
        "dense_sigmoid = Dense(units=1, activation='sigmoid')\n",
        "dense_tanh = Dense(units=1, activation='tanh')\n",
        "dense_relu = Dense(units=1, activation='relu')\n",
        "\n",
        "# in TF\n",
        "z_sigmoid = dense_sigmoid(x)\n",
        "z_tanh = dense_tanh(x)\n",
        "z_relu = dense_relu(x)\n",
        "\n",
        "# self\n",
        "W, B = dense_sigmoid.get_weights()\n",
        "z = tf.linalg.matmul(x, W) + B\n",
        "a = 1/(1+exp(-z))\n",
        "\n",
        "\n",
        "print('-'*50)\n",
        "print(f'sigmoid : {z_sigmoid}\\nshape : {z_sigmoid.shape}')\n",
        "print(f'sigomid self : {a}\\nshape : {a.shape}')\n",
        "print('-'*50)\n",
        "print(f'tanh : {z_tanh}\\nshape : {z_tanh.shape}')\n",
        "print('-'*50)\n",
        "print(f'relu : {z_relu}\\nshape : {z_relu.shape}')\n",
        "print('-'*50)"
      ],
      "metadata": {
        "colab": {
          "base_uri": "https://localhost:8080/"
        },
        "id": "ODvpVdjke4Ht",
        "outputId": "3113b1b7-3019-44ca-f766-40d1a709629b"
      },
      "execution_count": 44,
      "outputs": [
        {
          "output_type": "stream",
          "name": "stdout",
          "text": [
            "--------------------------------------------------\n",
            "sigmoid : [[0.72893363]]\n",
            "shape : (1, 1)\n",
            "sigomid self : [[0.7289337]]\n",
            "shape : (1, 1)\n",
            "--------------------------------------------------\n",
            "tanh : [[-0.17096911]]\n",
            "shape : (1, 1)\n",
            "--------------------------------------------------\n",
            "relu : [[0.62950206]]\n",
            "shape : (1, 1)\n",
            "--------------------------------------------------\n"
          ]
        }
      ]
    },
    {
      "cell_type": "markdown",
      "source": [
        "# Artificial Neurons"
      ],
      "metadata": {
        "id": "21lLpaOFopy0"
      }
    },
    {
      "cell_type": "code",
      "source": [
        "import tensorflow as tf\n",
        "from tensorflow.keras.layers import Dense\n",
        "from tensorflow.math import exp, maximum\n",
        "\n",
        "# actiations\n",
        "#activation = 'sigmoid'\n",
        "activation = 'tanh'\n",
        "#activation = 'relu'\n",
        "\n",
        "# input\n",
        "x = tf.random.uniform(shape=(1, 10))\n",
        "\n",
        "dense = Dense(units=1, activation=activation)\n",
        "\n",
        "# activation values (tf)\n",
        "a_tf = dense(x)\n",
        "\n",
        "W, B = dense.get_weights()\n",
        "\n",
        "# affine function\n",
        "z = tf.linalg.matmul(x, W) + B\n",
        "\n",
        "# activation function (self)\n",
        "if activation == 'sigmoid':\n",
        "  a_self = 1 / (1+exp(-z))\n",
        "elif activation == 'tanh':\n",
        "  a_self = (exp(z) - exp(-z)) / (exp(z) + exp(-z))\n",
        "elif activation == 'relu':\n",
        "  a_self = maximum(z, 0)\n",
        "\n",
        "# tf와 self의 결과 비교\n",
        "print('activation :', activation)\n",
        "print('-' * 50)\n",
        "print(f'tensorflow values : {a_tf}\\ntensorflow shape : {a_tf.shape}')\n",
        "print('-' * 50)\n",
        "print(f'self values : {a_self}\\nself shape : {a_self.shape}')"
      ],
      "metadata": {
        "colab": {
          "base_uri": "https://localhost:8080/"
        },
        "id": "yzek7xsLrh63",
        "outputId": "7dc74e8f-d54b-47cb-bfb2-fc9a367a0ecc"
      },
      "execution_count": 55,
      "outputs": [
        {
          "output_type": "stream",
          "name": "stdout",
          "text": [
            "activation : tanh\n",
            "--------------------------------------------------\n",
            "tensorflow values : [[0.26253963]]\n",
            "tensorflow shape : (1, 1)\n",
            "--------------------------------------------------\n",
            "self values : [[0.26253965]]\n",
            "self shape : (1, 1)\n"
          ]
        }
      ]
    },
    {
      "cell_type": "markdown",
      "source": [
        "# Minibatches"
      ],
      "metadata": {
        "id": "oqMpQhA14MqJ"
      }
    },
    {
      "cell_type": "code",
      "source": [
        "import tensorflow as tf\n",
        "from tensorflow.keras.layers import Dense\n",
        "\n",
        "rows, columns = (10, 5)\n",
        "x = tf.random.normal(shape=(rows, columns))\n",
        "\n",
        "dense = Dense(units=1, activation='relu')\n",
        "\n",
        "a = dense(x)\n",
        "\n",
        "W, B = dense.get_weights()\n",
        "# weight vector와 x vector의 원소의 수가 같다.\n",
        "# input의 값이 매우 크더라도 weight와 bias에는 영향을 미치지 않는다.\n",
        "\n",
        "print(f'input : {x}\\ninput shape : {x.shape}')\n",
        "print('-'*100)\n",
        "print(f'AN result : {a}\\nAN result shape : {a.shape}')\n",
        "print('-'*100)\n",
        "print(f'weight : {W}\\nweight shape : {W.shape}')\n",
        "print('-'*100)\n",
        "print(f'bias : {B}\\nbias shape : {B.shape}')"
      ],
      "metadata": {
        "colab": {
          "base_uri": "https://localhost:8080/"
        },
        "id": "3wqKvwyO4QLD",
        "outputId": "12937914-ea2b-48d6-b484-1cf84fe18fa6"
      },
      "execution_count": 73,
      "outputs": [
        {
          "output_type": "stream",
          "name": "stdout",
          "text": [
            "input : [[-0.13798486 -0.8627733   0.7121647  -1.0419962  -1.2714546 ]\n",
            " [-1.4203466   1.5138279  -0.18936908 -1.9050298   0.24263842]\n",
            " [ 0.29847926  1.1178148  -0.23357949  1.6604189   0.2085779 ]\n",
            " [-1.2465956  -1.7881794   0.19560383 -1.4737003   0.80441195]\n",
            " [ 0.16830213  0.63466066 -1.1224179   1.6603878  -0.3011508 ]\n",
            " [ 0.01422106  0.2750876  -0.39066204  1.2619158  -0.6976057 ]\n",
            " [-1.6843828   1.752625    2.2481673  -0.59669095 -2.4951553 ]\n",
            " [ 0.46834317 -0.11470162  0.38362548  1.2190887   0.27743915]\n",
            " [-0.12113705  0.146509    1.6190236  -0.0957462   2.3193278 ]\n",
            " [ 0.7542803   1.1805868  -0.26500744  0.15817168  0.537815  ]]\n",
            "input shape : (10, 5)\n",
            "----------------------------------------------------------------------------------------------------\n",
            "AN result : [[0.       ]\n",
            " [1.1159724]\n",
            " [0.       ]\n",
            " [2.508444 ]\n",
            " [0.       ]\n",
            " [0.       ]\n",
            " [0.       ]\n",
            " [0.       ]\n",
            " [2.5538898]\n",
            " [0.       ]]\n",
            "AN result shape : (10, 1)\n",
            "----------------------------------------------------------------------------------------------------\n",
            "weight : [[-0.2834034 ]\n",
            " [-0.32147646]\n",
            " [ 0.193542  ]\n",
            " [-0.52823925]\n",
            " [ 0.9497287 ]]\n",
            "weight shape : (5, 1)\n",
            "----------------------------------------------------------------------------------------------------\n",
            "bias : [0.]\n",
            "bias shape : (1,)\n"
          ]
        }
      ]
    },
    {
      "cell_type": "code",
      "source": [
        "import tensorflow as tf\n",
        "from tensorflow.keras.layers import Dense\n",
        "from tensorflow.math import exp, maximum\n",
        "\n",
        "# activations\n",
        "#activation = 'sigmoid'\n",
        "activation = 'tanh'\n",
        "#activation = 'relu'\n",
        "\n",
        "# tensorflow\n",
        "rows, columns = (8, 5)\n",
        "x = tf.random.normal(shape=(rows, columns))\n",
        "dense = Dense(units=1, activation=activation)\n",
        "a = dense(x)\n",
        "W, B = dense.get_weights()\n",
        "\n",
        "# self\n",
        "z = tf.linalg.matmul(x, W) + B\n",
        "\n",
        "if activation == 'sigmoid':\n",
        "  aa = 1 / (1+exp(-z))\n",
        "elif activation == 'tanh':\n",
        "  aa = (exp(z) - exp(-z)) / (exp(z) + exp(-z))\n",
        "elif activation == 'relu':\n",
        "  aa = maximum(z, 0)\n",
        "\n",
        "# 결과확인\n",
        "print(f'input data : {x}\\ninput data shape{x.shape}')\n",
        "print('-' * 50)\n",
        "print('activation :', activation)\n",
        "print('-' * 50)\n",
        "print(f'tensorflow values : {a}\\ntensorflow shape : {a.shape}')\n",
        "print('-' * 50)\n",
        "print(f'self values : {aa}\\nself shape : {aa.shape}')"
      ],
      "metadata": {
        "colab": {
          "base_uri": "https://localhost:8080/"
        },
        "id": "c9kk5ZHd5iFm",
        "outputId": "c5c46e8f-741b-4fcf-ee3d-9b3a362a05cd"
      },
      "execution_count": 80,
      "outputs": [
        {
          "output_type": "stream",
          "name": "stdout",
          "text": [
            "input data : [[-0.30836308  0.39828965  0.3355299  -0.8995933   1.9336692 ]\n",
            " [-2.2704241  -0.16890718  0.8711445  -0.9117264   1.61569   ]\n",
            " [ 0.0048891   0.42538434 -1.0626311   1.2942739   0.4300091 ]\n",
            " [-0.18490323  0.29024556 -0.7636409  -0.23308073 -0.3172304 ]\n",
            " [ 1.640871    0.10306201 -0.4999066   0.48209673 -0.17698506]\n",
            " [ 0.33717853 -0.67567885 -1.135925   -0.55840194 -0.4015542 ]\n",
            " [ 0.3060402   1.3459566   0.03700842  0.73016626 -0.51937664]\n",
            " [ 0.59074306 -0.75387174 -0.54591477 -0.27347305  0.05438825]]\n",
            "input data shape(8, 5)\n",
            "--------------------------------------------------\n",
            "activation : tanh\n",
            "--------------------------------------------------\n",
            "tensorflow values : [[ 0.87749785]\n",
            " [-0.2797238 ]\n",
            " [ 0.90921277]\n",
            " [ 0.25181752]\n",
            " [ 0.7441951 ]\n",
            " [ 0.21056496]\n",
            " [ 0.27786103]\n",
            " [ 0.31054795]]\n",
            "tensorflow shape : (8, 1)\n",
            "--------------------------------------------------\n",
            "self values : [[ 0.87749785]\n",
            " [-0.27972376]\n",
            " [ 0.9092127 ]\n",
            " [ 0.25181755]\n",
            " [ 0.74419504]\n",
            " [ 0.21056502]\n",
            " [ 0.27786106]\n",
            " [ 0.31054798]]\n",
            "self shape : (8, 1)\n"
          ]
        }
      ]
    },
    {
      "cell_type": "code",
      "source": [
        ""
      ],
      "metadata": {
        "id": "XNgcNYH69yJr"
      },
      "execution_count": null,
      "outputs": []
    }
  ]
}