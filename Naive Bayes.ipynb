{
 "cells": [
  {
   "cell_type": "markdown",
   "id": "9aef2616",
   "metadata": {},
   "source": [
    "# Naive Bayes\n",
    "= 특성들 사이의 독립(=한 특성의 결과가 다른 특성에 영향을 주지 않는다)을 가정하는 베이즈 정리를 적용한 확률적인 알고리즘이다.\n",
    "\n",
    "> 입력 특성에 따라 3개의 분류기가 존재한다.\n",
    "> - 가우시안 나이브 베이즈 분류기\n",
    "> - 베르누이 나이브 베이즈 분류기\n",
    "> - 다항 나이브 베이즈 분류기\n",
    "\n",
    "> ***parameter***  \n",
    "> *BernoulliNB, MultinomialNB는 모델의 복잡도를 조절 가능한 **alpha**를 갖는다.*  \n",
    "\n",
    "\n",
    "> GaussianNB의 경우 대부분 고차원인 데이터셋에 사용되고,  \n",
    "> BernoulliNB, MultinomialNB은 텍스트와 같은 희소한 데이터를 카운트하는 데 사용된다."
   ]
  },
  {
   "cell_type": "code",
   "execution_count": 21,
   "id": "6c60f1ae",
   "metadata": {
    "ExecuteTime": {
     "end_time": "2022-02-15T03:43:14.239673Z",
     "start_time": "2022-02-15T03:43:13.176090Z"
    }
   },
   "outputs": [],
   "source": [
    "import warnings\n",
    "warnings.filterwarnings(action='ignore')\n",
    "import numpy as np\n",
    "import pandas as pd\n",
    "from sklearn.naive_bayes import GaussianNB, BernoulliNB, MultinomialNB\n",
    "from sklearn.datasets import fetch_covtype, fetch_20newsgroups\n",
    "from sklearn.model_selection import train_test_split\n",
    "from sklearn.preprocessing import StandardScaler\n",
    "from sklearn.feature_extraction.text import CountVectorizer, HashingVectorizer, TfidfVectorizer\n",
    "from sklearn import metrics\n",
    "import matplotlib.pyplot as plt"
   ]
  },
  {
   "cell_type": "markdown",
   "id": "efe639cb",
   "metadata": {},
   "source": [
    "## covtype dataset"
   ]
  },
  {
   "cell_type": "code",
   "execution_count": 2,
   "id": "b3629b63",
   "metadata": {
    "ExecuteTime": {
     "end_time": "2022-02-15T03:14:24.368832Z",
     "start_time": "2022-02-15T03:14:23.663692Z"
    }
   },
   "outputs": [
    {
     "name": "stdout",
     "output_type": "stream",
     "text": [
      ".. _covtype_dataset:\n",
      "\n",
      "Forest covertypes\n",
      "-----------------\n",
      "\n",
      "The samples in this dataset correspond to 30×30m patches of forest in the US,\n",
      "collected for the task of predicting each patch's cover type,\n",
      "i.e. the dominant species of tree.\n",
      "There are seven covertypes, making this a multiclass classification problem.\n",
      "Each sample has 54 features, described on the\n",
      "`dataset's homepage <https://archive.ics.uci.edu/ml/datasets/Covertype>`__.\n",
      "Some of the features are boolean indicators,\n",
      "while others are discrete or continuous measurements.\n",
      "\n",
      "**Data Set Characteristics:**\n",
      "\n",
      "    =================   ============\n",
      "    Classes                        7\n",
      "    Samples total             581012\n",
      "    Dimensionality                54\n",
      "    Features                     int\n",
      "    =================   ============\n",
      "\n",
      ":func:`sklearn.datasets.fetch_covtype` will load the covertype dataset;\n",
      "it returns a dictionary-like 'Bunch' object\n",
      "with the feature matrix in the ``data`` member\n",
      "and the target values in ``target``. If optional argument 'as_frame' is\n",
      "set to 'True', it will return ``data`` and ``target`` as pandas\n",
      "data frame, and there will be an additional member ``frame`` as well.\n",
      "The dataset will be downloaded from the web if necessary.\n",
      "\n"
     ]
    }
   ],
   "source": [
    "covtype = fetch_covtype()\n",
    "print(covtype.DESCR)"
   ]
  },
  {
   "cell_type": "code",
   "execution_count": 3,
   "id": "86551fe9",
   "metadata": {
    "ExecuteTime": {
     "end_time": "2022-02-15T03:14:25.378548Z",
     "start_time": "2022-02-15T03:14:24.846968Z"
    }
   },
   "outputs": [
    {
     "data": {
      "text/html": [
       "<div>\n",
       "<style scoped>\n",
       "    .dataframe tbody tr th:only-of-type {\n",
       "        vertical-align: middle;\n",
       "    }\n",
       "\n",
       "    .dataframe tbody tr th {\n",
       "        vertical-align: top;\n",
       "    }\n",
       "\n",
       "    .dataframe thead th {\n",
       "        text-align: right;\n",
       "    }\n",
       "</style>\n",
       "<table border=\"1\" class=\"dataframe\">\n",
       "  <thead>\n",
       "    <tr style=\"text-align: right;\">\n",
       "      <th></th>\n",
       "      <th>0</th>\n",
       "      <th>1</th>\n",
       "      <th>2</th>\n",
       "      <th>3</th>\n",
       "      <th>4</th>\n",
       "      <th>5</th>\n",
       "      <th>6</th>\n",
       "      <th>7</th>\n",
       "      <th>8</th>\n",
       "      <th>9</th>\n",
       "      <th>...</th>\n",
       "      <th>44</th>\n",
       "      <th>45</th>\n",
       "      <th>46</th>\n",
       "      <th>47</th>\n",
       "      <th>48</th>\n",
       "      <th>49</th>\n",
       "      <th>50</th>\n",
       "      <th>51</th>\n",
       "      <th>52</th>\n",
       "      <th>53</th>\n",
       "    </tr>\n",
       "  </thead>\n",
       "  <tbody>\n",
       "    <tr>\n",
       "      <th>0</th>\n",
       "      <td>2596.0</td>\n",
       "      <td>51.0</td>\n",
       "      <td>3.0</td>\n",
       "      <td>258.0</td>\n",
       "      <td>0.0</td>\n",
       "      <td>510.0</td>\n",
       "      <td>221.0</td>\n",
       "      <td>232.0</td>\n",
       "      <td>148.0</td>\n",
       "      <td>6279.0</td>\n",
       "      <td>...</td>\n",
       "      <td>0.0</td>\n",
       "      <td>0.0</td>\n",
       "      <td>0.0</td>\n",
       "      <td>0.0</td>\n",
       "      <td>0.0</td>\n",
       "      <td>0.0</td>\n",
       "      <td>0.0</td>\n",
       "      <td>0.0</td>\n",
       "      <td>0.0</td>\n",
       "      <td>0.0</td>\n",
       "    </tr>\n",
       "    <tr>\n",
       "      <th>1</th>\n",
       "      <td>2590.0</td>\n",
       "      <td>56.0</td>\n",
       "      <td>2.0</td>\n",
       "      <td>212.0</td>\n",
       "      <td>-6.0</td>\n",
       "      <td>390.0</td>\n",
       "      <td>220.0</td>\n",
       "      <td>235.0</td>\n",
       "      <td>151.0</td>\n",
       "      <td>6225.0</td>\n",
       "      <td>...</td>\n",
       "      <td>0.0</td>\n",
       "      <td>0.0</td>\n",
       "      <td>0.0</td>\n",
       "      <td>0.0</td>\n",
       "      <td>0.0</td>\n",
       "      <td>0.0</td>\n",
       "      <td>0.0</td>\n",
       "      <td>0.0</td>\n",
       "      <td>0.0</td>\n",
       "      <td>0.0</td>\n",
       "    </tr>\n",
       "    <tr>\n",
       "      <th>2</th>\n",
       "      <td>2804.0</td>\n",
       "      <td>139.0</td>\n",
       "      <td>9.0</td>\n",
       "      <td>268.0</td>\n",
       "      <td>65.0</td>\n",
       "      <td>3180.0</td>\n",
       "      <td>234.0</td>\n",
       "      <td>238.0</td>\n",
       "      <td>135.0</td>\n",
       "      <td>6121.0</td>\n",
       "      <td>...</td>\n",
       "      <td>0.0</td>\n",
       "      <td>0.0</td>\n",
       "      <td>0.0</td>\n",
       "      <td>0.0</td>\n",
       "      <td>0.0</td>\n",
       "      <td>0.0</td>\n",
       "      <td>0.0</td>\n",
       "      <td>0.0</td>\n",
       "      <td>0.0</td>\n",
       "      <td>0.0</td>\n",
       "    </tr>\n",
       "    <tr>\n",
       "      <th>3</th>\n",
       "      <td>2785.0</td>\n",
       "      <td>155.0</td>\n",
       "      <td>18.0</td>\n",
       "      <td>242.0</td>\n",
       "      <td>118.0</td>\n",
       "      <td>3090.0</td>\n",
       "      <td>238.0</td>\n",
       "      <td>238.0</td>\n",
       "      <td>122.0</td>\n",
       "      <td>6211.0</td>\n",
       "      <td>...</td>\n",
       "      <td>0.0</td>\n",
       "      <td>0.0</td>\n",
       "      <td>0.0</td>\n",
       "      <td>0.0</td>\n",
       "      <td>0.0</td>\n",
       "      <td>0.0</td>\n",
       "      <td>0.0</td>\n",
       "      <td>0.0</td>\n",
       "      <td>0.0</td>\n",
       "      <td>0.0</td>\n",
       "    </tr>\n",
       "    <tr>\n",
       "      <th>4</th>\n",
       "      <td>2595.0</td>\n",
       "      <td>45.0</td>\n",
       "      <td>2.0</td>\n",
       "      <td>153.0</td>\n",
       "      <td>-1.0</td>\n",
       "      <td>391.0</td>\n",
       "      <td>220.0</td>\n",
       "      <td>234.0</td>\n",
       "      <td>150.0</td>\n",
       "      <td>6172.0</td>\n",
       "      <td>...</td>\n",
       "      <td>0.0</td>\n",
       "      <td>0.0</td>\n",
       "      <td>0.0</td>\n",
       "      <td>0.0</td>\n",
       "      <td>0.0</td>\n",
       "      <td>0.0</td>\n",
       "      <td>0.0</td>\n",
       "      <td>0.0</td>\n",
       "      <td>0.0</td>\n",
       "      <td>0.0</td>\n",
       "    </tr>\n",
       "    <tr>\n",
       "      <th>...</th>\n",
       "      <td>...</td>\n",
       "      <td>...</td>\n",
       "      <td>...</td>\n",
       "      <td>...</td>\n",
       "      <td>...</td>\n",
       "      <td>...</td>\n",
       "      <td>...</td>\n",
       "      <td>...</td>\n",
       "      <td>...</td>\n",
       "      <td>...</td>\n",
       "      <td>...</td>\n",
       "      <td>...</td>\n",
       "      <td>...</td>\n",
       "      <td>...</td>\n",
       "      <td>...</td>\n",
       "      <td>...</td>\n",
       "      <td>...</td>\n",
       "      <td>...</td>\n",
       "      <td>...</td>\n",
       "      <td>...</td>\n",
       "      <td>...</td>\n",
       "    </tr>\n",
       "    <tr>\n",
       "      <th>581007</th>\n",
       "      <td>2396.0</td>\n",
       "      <td>153.0</td>\n",
       "      <td>20.0</td>\n",
       "      <td>85.0</td>\n",
       "      <td>17.0</td>\n",
       "      <td>108.0</td>\n",
       "      <td>240.0</td>\n",
       "      <td>237.0</td>\n",
       "      <td>118.0</td>\n",
       "      <td>837.0</td>\n",
       "      <td>...</td>\n",
       "      <td>0.0</td>\n",
       "      <td>0.0</td>\n",
       "      <td>0.0</td>\n",
       "      <td>0.0</td>\n",
       "      <td>0.0</td>\n",
       "      <td>0.0</td>\n",
       "      <td>0.0</td>\n",
       "      <td>0.0</td>\n",
       "      <td>0.0</td>\n",
       "      <td>0.0</td>\n",
       "    </tr>\n",
       "    <tr>\n",
       "      <th>581008</th>\n",
       "      <td>2391.0</td>\n",
       "      <td>152.0</td>\n",
       "      <td>19.0</td>\n",
       "      <td>67.0</td>\n",
       "      <td>12.0</td>\n",
       "      <td>95.0</td>\n",
       "      <td>240.0</td>\n",
       "      <td>237.0</td>\n",
       "      <td>119.0</td>\n",
       "      <td>845.0</td>\n",
       "      <td>...</td>\n",
       "      <td>0.0</td>\n",
       "      <td>0.0</td>\n",
       "      <td>0.0</td>\n",
       "      <td>0.0</td>\n",
       "      <td>0.0</td>\n",
       "      <td>0.0</td>\n",
       "      <td>0.0</td>\n",
       "      <td>0.0</td>\n",
       "      <td>0.0</td>\n",
       "      <td>0.0</td>\n",
       "    </tr>\n",
       "    <tr>\n",
       "      <th>581009</th>\n",
       "      <td>2386.0</td>\n",
       "      <td>159.0</td>\n",
       "      <td>17.0</td>\n",
       "      <td>60.0</td>\n",
       "      <td>7.0</td>\n",
       "      <td>90.0</td>\n",
       "      <td>236.0</td>\n",
       "      <td>241.0</td>\n",
       "      <td>130.0</td>\n",
       "      <td>854.0</td>\n",
       "      <td>...</td>\n",
       "      <td>0.0</td>\n",
       "      <td>0.0</td>\n",
       "      <td>0.0</td>\n",
       "      <td>0.0</td>\n",
       "      <td>0.0</td>\n",
       "      <td>0.0</td>\n",
       "      <td>0.0</td>\n",
       "      <td>0.0</td>\n",
       "      <td>0.0</td>\n",
       "      <td>0.0</td>\n",
       "    </tr>\n",
       "    <tr>\n",
       "      <th>581010</th>\n",
       "      <td>2384.0</td>\n",
       "      <td>170.0</td>\n",
       "      <td>15.0</td>\n",
       "      <td>60.0</td>\n",
       "      <td>5.0</td>\n",
       "      <td>90.0</td>\n",
       "      <td>230.0</td>\n",
       "      <td>245.0</td>\n",
       "      <td>143.0</td>\n",
       "      <td>864.0</td>\n",
       "      <td>...</td>\n",
       "      <td>0.0</td>\n",
       "      <td>0.0</td>\n",
       "      <td>0.0</td>\n",
       "      <td>0.0</td>\n",
       "      <td>0.0</td>\n",
       "      <td>0.0</td>\n",
       "      <td>0.0</td>\n",
       "      <td>0.0</td>\n",
       "      <td>0.0</td>\n",
       "      <td>0.0</td>\n",
       "    </tr>\n",
       "    <tr>\n",
       "      <th>581011</th>\n",
       "      <td>2383.0</td>\n",
       "      <td>165.0</td>\n",
       "      <td>13.0</td>\n",
       "      <td>60.0</td>\n",
       "      <td>4.0</td>\n",
       "      <td>67.0</td>\n",
       "      <td>231.0</td>\n",
       "      <td>244.0</td>\n",
       "      <td>141.0</td>\n",
       "      <td>875.0</td>\n",
       "      <td>...</td>\n",
       "      <td>0.0</td>\n",
       "      <td>0.0</td>\n",
       "      <td>0.0</td>\n",
       "      <td>0.0</td>\n",
       "      <td>0.0</td>\n",
       "      <td>0.0</td>\n",
       "      <td>0.0</td>\n",
       "      <td>0.0</td>\n",
       "      <td>0.0</td>\n",
       "      <td>0.0</td>\n",
       "    </tr>\n",
       "  </tbody>\n",
       "</table>\n",
       "<p>581012 rows × 54 columns</p>\n",
       "</div>"
      ],
      "text/plain": [
       "            0      1     2      3      4       5      6      7      8   \\\n",
       "0       2596.0   51.0   3.0  258.0    0.0   510.0  221.0  232.0  148.0   \n",
       "1       2590.0   56.0   2.0  212.0   -6.0   390.0  220.0  235.0  151.0   \n",
       "2       2804.0  139.0   9.0  268.0   65.0  3180.0  234.0  238.0  135.0   \n",
       "3       2785.0  155.0  18.0  242.0  118.0  3090.0  238.0  238.0  122.0   \n",
       "4       2595.0   45.0   2.0  153.0   -1.0   391.0  220.0  234.0  150.0   \n",
       "...        ...    ...   ...    ...    ...     ...    ...    ...    ...   \n",
       "581007  2396.0  153.0  20.0   85.0   17.0   108.0  240.0  237.0  118.0   \n",
       "581008  2391.0  152.0  19.0   67.0   12.0    95.0  240.0  237.0  119.0   \n",
       "581009  2386.0  159.0  17.0   60.0    7.0    90.0  236.0  241.0  130.0   \n",
       "581010  2384.0  170.0  15.0   60.0    5.0    90.0  230.0  245.0  143.0   \n",
       "581011  2383.0  165.0  13.0   60.0    4.0    67.0  231.0  244.0  141.0   \n",
       "\n",
       "            9   ...   44   45   46   47   48   49   50   51   52   53  \n",
       "0       6279.0  ...  0.0  0.0  0.0  0.0  0.0  0.0  0.0  0.0  0.0  0.0  \n",
       "1       6225.0  ...  0.0  0.0  0.0  0.0  0.0  0.0  0.0  0.0  0.0  0.0  \n",
       "2       6121.0  ...  0.0  0.0  0.0  0.0  0.0  0.0  0.0  0.0  0.0  0.0  \n",
       "3       6211.0  ...  0.0  0.0  0.0  0.0  0.0  0.0  0.0  0.0  0.0  0.0  \n",
       "4       6172.0  ...  0.0  0.0  0.0  0.0  0.0  0.0  0.0  0.0  0.0  0.0  \n",
       "...        ...  ...  ...  ...  ...  ...  ...  ...  ...  ...  ...  ...  \n",
       "581007   837.0  ...  0.0  0.0  0.0  0.0  0.0  0.0  0.0  0.0  0.0  0.0  \n",
       "581008   845.0  ...  0.0  0.0  0.0  0.0  0.0  0.0  0.0  0.0  0.0  0.0  \n",
       "581009   854.0  ...  0.0  0.0  0.0  0.0  0.0  0.0  0.0  0.0  0.0  0.0  \n",
       "581010   864.0  ...  0.0  0.0  0.0  0.0  0.0  0.0  0.0  0.0  0.0  0.0  \n",
       "581011   875.0  ...  0.0  0.0  0.0  0.0  0.0  0.0  0.0  0.0  0.0  0.0  \n",
       "\n",
       "[581012 rows x 54 columns]"
      ]
     },
     "execution_count": 3,
     "metadata": {},
     "output_type": "execute_result"
    }
   ],
   "source": [
    "covtype_df = pd.DataFrame(data = covtype.data)\n",
    "covtype_df"
   ]
  },
  {
   "cell_type": "code",
   "execution_count": 4,
   "id": "4c29a36e",
   "metadata": {
    "ExecuteTime": {
     "end_time": "2022-02-15T03:14:29.420745Z",
     "start_time": "2022-02-15T03:14:25.988914Z"
    }
   },
   "outputs": [
    {
     "data": {
      "text/html": [
       "<div>\n",
       "<style scoped>\n",
       "    .dataframe tbody tr th:only-of-type {\n",
       "        vertical-align: middle;\n",
       "    }\n",
       "\n",
       "    .dataframe tbody tr th {\n",
       "        vertical-align: top;\n",
       "    }\n",
       "\n",
       "    .dataframe thead th {\n",
       "        text-align: right;\n",
       "    }\n",
       "</style>\n",
       "<table border=\"1\" class=\"dataframe\">\n",
       "  <thead>\n",
       "    <tr style=\"text-align: right;\">\n",
       "      <th></th>\n",
       "      <th>0</th>\n",
       "      <th>1</th>\n",
       "      <th>2</th>\n",
       "      <th>3</th>\n",
       "      <th>4</th>\n",
       "      <th>5</th>\n",
       "      <th>6</th>\n",
       "      <th>7</th>\n",
       "      <th>8</th>\n",
       "      <th>9</th>\n",
       "      <th>...</th>\n",
       "      <th>44</th>\n",
       "      <th>45</th>\n",
       "      <th>46</th>\n",
       "      <th>47</th>\n",
       "      <th>48</th>\n",
       "      <th>49</th>\n",
       "      <th>50</th>\n",
       "      <th>51</th>\n",
       "      <th>52</th>\n",
       "      <th>53</th>\n",
       "    </tr>\n",
       "  </thead>\n",
       "  <tbody>\n",
       "    <tr>\n",
       "      <th>count</th>\n",
       "      <td>581012.000000</td>\n",
       "      <td>581012.000000</td>\n",
       "      <td>581012.000000</td>\n",
       "      <td>581012.000000</td>\n",
       "      <td>581012.000000</td>\n",
       "      <td>581012.000000</td>\n",
       "      <td>581012.000000</td>\n",
       "      <td>581012.000000</td>\n",
       "      <td>581012.000000</td>\n",
       "      <td>581012.000000</td>\n",
       "      <td>...</td>\n",
       "      <td>581012.000000</td>\n",
       "      <td>581012.000000</td>\n",
       "      <td>581012.000000</td>\n",
       "      <td>581012.000000</td>\n",
       "      <td>581012.000000</td>\n",
       "      <td>581012.000000</td>\n",
       "      <td>581012.000000</td>\n",
       "      <td>581012.000000</td>\n",
       "      <td>581012.000000</td>\n",
       "      <td>581012.000000</td>\n",
       "    </tr>\n",
       "    <tr>\n",
       "      <th>mean</th>\n",
       "      <td>2959.365301</td>\n",
       "      <td>155.656807</td>\n",
       "      <td>14.103704</td>\n",
       "      <td>269.428217</td>\n",
       "      <td>46.418855</td>\n",
       "      <td>2350.146611</td>\n",
       "      <td>212.146049</td>\n",
       "      <td>223.318716</td>\n",
       "      <td>142.528263</td>\n",
       "      <td>1980.291226</td>\n",
       "      <td>...</td>\n",
       "      <td>0.044175</td>\n",
       "      <td>0.090392</td>\n",
       "      <td>0.077716</td>\n",
       "      <td>0.002773</td>\n",
       "      <td>0.003255</td>\n",
       "      <td>0.000205</td>\n",
       "      <td>0.000513</td>\n",
       "      <td>0.026803</td>\n",
       "      <td>0.023762</td>\n",
       "      <td>0.015060</td>\n",
       "    </tr>\n",
       "    <tr>\n",
       "      <th>std</th>\n",
       "      <td>279.984734</td>\n",
       "      <td>111.913721</td>\n",
       "      <td>7.488242</td>\n",
       "      <td>212.549356</td>\n",
       "      <td>58.295232</td>\n",
       "      <td>1559.254870</td>\n",
       "      <td>26.769889</td>\n",
       "      <td>19.768697</td>\n",
       "      <td>38.274529</td>\n",
       "      <td>1324.195210</td>\n",
       "      <td>...</td>\n",
       "      <td>0.205483</td>\n",
       "      <td>0.286743</td>\n",
       "      <td>0.267725</td>\n",
       "      <td>0.052584</td>\n",
       "      <td>0.056957</td>\n",
       "      <td>0.014310</td>\n",
       "      <td>0.022641</td>\n",
       "      <td>0.161508</td>\n",
       "      <td>0.152307</td>\n",
       "      <td>0.121791</td>\n",
       "    </tr>\n",
       "    <tr>\n",
       "      <th>min</th>\n",
       "      <td>1859.000000</td>\n",
       "      <td>0.000000</td>\n",
       "      <td>0.000000</td>\n",
       "      <td>0.000000</td>\n",
       "      <td>-173.000000</td>\n",
       "      <td>0.000000</td>\n",
       "      <td>0.000000</td>\n",
       "      <td>0.000000</td>\n",
       "      <td>0.000000</td>\n",
       "      <td>0.000000</td>\n",
       "      <td>...</td>\n",
       "      <td>0.000000</td>\n",
       "      <td>0.000000</td>\n",
       "      <td>0.000000</td>\n",
       "      <td>0.000000</td>\n",
       "      <td>0.000000</td>\n",
       "      <td>0.000000</td>\n",
       "      <td>0.000000</td>\n",
       "      <td>0.000000</td>\n",
       "      <td>0.000000</td>\n",
       "      <td>0.000000</td>\n",
       "    </tr>\n",
       "    <tr>\n",
       "      <th>25%</th>\n",
       "      <td>2809.000000</td>\n",
       "      <td>58.000000</td>\n",
       "      <td>9.000000</td>\n",
       "      <td>108.000000</td>\n",
       "      <td>7.000000</td>\n",
       "      <td>1106.000000</td>\n",
       "      <td>198.000000</td>\n",
       "      <td>213.000000</td>\n",
       "      <td>119.000000</td>\n",
       "      <td>1024.000000</td>\n",
       "      <td>...</td>\n",
       "      <td>0.000000</td>\n",
       "      <td>0.000000</td>\n",
       "      <td>0.000000</td>\n",
       "      <td>0.000000</td>\n",
       "      <td>0.000000</td>\n",
       "      <td>0.000000</td>\n",
       "      <td>0.000000</td>\n",
       "      <td>0.000000</td>\n",
       "      <td>0.000000</td>\n",
       "      <td>0.000000</td>\n",
       "    </tr>\n",
       "    <tr>\n",
       "      <th>50%</th>\n",
       "      <td>2996.000000</td>\n",
       "      <td>127.000000</td>\n",
       "      <td>13.000000</td>\n",
       "      <td>218.000000</td>\n",
       "      <td>30.000000</td>\n",
       "      <td>1997.000000</td>\n",
       "      <td>218.000000</td>\n",
       "      <td>226.000000</td>\n",
       "      <td>143.000000</td>\n",
       "      <td>1710.000000</td>\n",
       "      <td>...</td>\n",
       "      <td>0.000000</td>\n",
       "      <td>0.000000</td>\n",
       "      <td>0.000000</td>\n",
       "      <td>0.000000</td>\n",
       "      <td>0.000000</td>\n",
       "      <td>0.000000</td>\n",
       "      <td>0.000000</td>\n",
       "      <td>0.000000</td>\n",
       "      <td>0.000000</td>\n",
       "      <td>0.000000</td>\n",
       "    </tr>\n",
       "    <tr>\n",
       "      <th>75%</th>\n",
       "      <td>3163.000000</td>\n",
       "      <td>260.000000</td>\n",
       "      <td>18.000000</td>\n",
       "      <td>384.000000</td>\n",
       "      <td>69.000000</td>\n",
       "      <td>3328.000000</td>\n",
       "      <td>231.000000</td>\n",
       "      <td>237.000000</td>\n",
       "      <td>168.000000</td>\n",
       "      <td>2550.000000</td>\n",
       "      <td>...</td>\n",
       "      <td>0.000000</td>\n",
       "      <td>0.000000</td>\n",
       "      <td>0.000000</td>\n",
       "      <td>0.000000</td>\n",
       "      <td>0.000000</td>\n",
       "      <td>0.000000</td>\n",
       "      <td>0.000000</td>\n",
       "      <td>0.000000</td>\n",
       "      <td>0.000000</td>\n",
       "      <td>0.000000</td>\n",
       "    </tr>\n",
       "    <tr>\n",
       "      <th>max</th>\n",
       "      <td>3858.000000</td>\n",
       "      <td>360.000000</td>\n",
       "      <td>66.000000</td>\n",
       "      <td>1397.000000</td>\n",
       "      <td>601.000000</td>\n",
       "      <td>7117.000000</td>\n",
       "      <td>254.000000</td>\n",
       "      <td>254.000000</td>\n",
       "      <td>254.000000</td>\n",
       "      <td>7173.000000</td>\n",
       "      <td>...</td>\n",
       "      <td>1.000000</td>\n",
       "      <td>1.000000</td>\n",
       "      <td>1.000000</td>\n",
       "      <td>1.000000</td>\n",
       "      <td>1.000000</td>\n",
       "      <td>1.000000</td>\n",
       "      <td>1.000000</td>\n",
       "      <td>1.000000</td>\n",
       "      <td>1.000000</td>\n",
       "      <td>1.000000</td>\n",
       "    </tr>\n",
       "  </tbody>\n",
       "</table>\n",
       "<p>8 rows × 54 columns</p>\n",
       "</div>"
      ],
      "text/plain": [
       "                  0              1              2              3   \\\n",
       "count  581012.000000  581012.000000  581012.000000  581012.000000   \n",
       "mean     2959.365301     155.656807      14.103704     269.428217   \n",
       "std       279.984734     111.913721       7.488242     212.549356   \n",
       "min      1859.000000       0.000000       0.000000       0.000000   \n",
       "25%      2809.000000      58.000000       9.000000     108.000000   \n",
       "50%      2996.000000     127.000000      13.000000     218.000000   \n",
       "75%      3163.000000     260.000000      18.000000     384.000000   \n",
       "max      3858.000000     360.000000      66.000000    1397.000000   \n",
       "\n",
       "                  4              5              6              7   \\\n",
       "count  581012.000000  581012.000000  581012.000000  581012.000000   \n",
       "mean       46.418855    2350.146611     212.146049     223.318716   \n",
       "std        58.295232    1559.254870      26.769889      19.768697   \n",
       "min      -173.000000       0.000000       0.000000       0.000000   \n",
       "25%         7.000000    1106.000000     198.000000     213.000000   \n",
       "50%        30.000000    1997.000000     218.000000     226.000000   \n",
       "75%        69.000000    3328.000000     231.000000     237.000000   \n",
       "max       601.000000    7117.000000     254.000000     254.000000   \n",
       "\n",
       "                  8              9   ...             44             45  \\\n",
       "count  581012.000000  581012.000000  ...  581012.000000  581012.000000   \n",
       "mean      142.528263    1980.291226  ...       0.044175       0.090392   \n",
       "std        38.274529    1324.195210  ...       0.205483       0.286743   \n",
       "min         0.000000       0.000000  ...       0.000000       0.000000   \n",
       "25%       119.000000    1024.000000  ...       0.000000       0.000000   \n",
       "50%       143.000000    1710.000000  ...       0.000000       0.000000   \n",
       "75%       168.000000    2550.000000  ...       0.000000       0.000000   \n",
       "max       254.000000    7173.000000  ...       1.000000       1.000000   \n",
       "\n",
       "                  46             47             48             49  \\\n",
       "count  581012.000000  581012.000000  581012.000000  581012.000000   \n",
       "mean        0.077716       0.002773       0.003255       0.000205   \n",
       "std         0.267725       0.052584       0.056957       0.014310   \n",
       "min         0.000000       0.000000       0.000000       0.000000   \n",
       "25%         0.000000       0.000000       0.000000       0.000000   \n",
       "50%         0.000000       0.000000       0.000000       0.000000   \n",
       "75%         0.000000       0.000000       0.000000       0.000000   \n",
       "max         1.000000       1.000000       1.000000       1.000000   \n",
       "\n",
       "                  50             51             52             53  \n",
       "count  581012.000000  581012.000000  581012.000000  581012.000000  \n",
       "mean        0.000513       0.026803       0.023762       0.015060  \n",
       "std         0.022641       0.161508       0.152307       0.121791  \n",
       "min         0.000000       0.000000       0.000000       0.000000  \n",
       "25%         0.000000       0.000000       0.000000       0.000000  \n",
       "50%         0.000000       0.000000       0.000000       0.000000  \n",
       "75%         0.000000       0.000000       0.000000       0.000000  \n",
       "max         1.000000       1.000000       1.000000       1.000000  \n",
       "\n",
       "[8 rows x 54 columns]"
      ]
     },
     "execution_count": 4,
     "metadata": {},
     "output_type": "execute_result"
    }
   ],
   "source": [
    "covtype_df.describe()"
   ]
  },
  {
   "cell_type": "code",
   "execution_count": 5,
   "id": "55e760b3",
   "metadata": {
    "ExecuteTime": {
     "end_time": "2022-02-15T03:14:29.969270Z",
     "start_time": "2022-02-15T03:14:29.957299Z"
    }
   },
   "outputs": [
    {
     "data": {
      "text/plain": [
       "array([5, 5, 2, ..., 3, 3, 3])"
      ]
     },
     "execution_count": 5,
     "metadata": {},
     "output_type": "execute_result"
    }
   ],
   "source": [
    "covtype.target"
   ]
  },
  {
   "cell_type": "code",
   "execution_count": 6,
   "id": "e33c9d9b",
   "metadata": {
    "ExecuteTime": {
     "end_time": "2022-02-15T03:14:30.535108Z",
     "start_time": "2022-02-15T03:14:30.523141Z"
    }
   },
   "outputs": [],
   "source": [
    "covtype_X = covtype.data\n",
    "covtype_y = covtype.target"
   ]
  },
  {
   "cell_type": "code",
   "execution_count": 7,
   "id": "f67ffc8d",
   "metadata": {
    "ExecuteTime": {
     "end_time": "2022-02-15T03:14:31.214586Z",
     "start_time": "2022-02-15T03:14:31.023260Z"
    }
   },
   "outputs": [],
   "source": [
    "covtype_X_train, covtype_X_test, covtype_y_train, covtype_y_test = train_test_split(covtype_X, covtype_y, \n",
    "                                                                                    test_size = 0.2, random_state = 1999)"
   ]
  },
  {
   "cell_type": "code",
   "execution_count": 8,
   "id": "33ac0e0e",
   "metadata": {
    "ExecuteTime": {
     "end_time": "2022-02-15T03:14:31.744403Z",
     "start_time": "2022-02-15T03:14:31.732429Z"
    }
   },
   "outputs": [
    {
     "name": "stdout",
     "output_type": "stream",
     "text": [
      "dataset shape : (581012, 54)\n",
      "train shape : (464809, 54)\n",
      "test shape : (116203, 54)\n"
     ]
    }
   ],
   "source": [
    "print(\"dataset shape : {}\".format(covtype_X.shape))\n",
    "print(\"train shape : {}\".format(covtype_X_train.shape))\n",
    "print(\"test shape : {}\".format(covtype_X_test.shape))"
   ]
  },
  {
   "cell_type": "code",
   "execution_count": 9,
   "id": "2f6f1b00",
   "metadata": {
    "ExecuteTime": {
     "end_time": "2022-02-15T03:14:32.840610Z",
     "start_time": "2022-02-15T03:14:32.297014Z"
    }
   },
   "outputs": [],
   "source": [
    "scaler = StandardScaler()\n",
    "\n",
    "covtype_X_train_scaler = scaler.fit_transform(covtype_X_train)\n",
    "covtype_X_test_scaler = scaler.transform(covtype_X_test)"
   ]
  },
  {
   "cell_type": "code",
   "execution_count": 10,
   "id": "9e09cee4",
   "metadata": {
    "ExecuteTime": {
     "end_time": "2022-02-15T03:14:36.194838Z",
     "start_time": "2022-02-15T03:14:33.390332Z"
    }
   },
   "outputs": [
    {
     "data": {
      "text/html": [
       "<div>\n",
       "<style scoped>\n",
       "    .dataframe tbody tr th:only-of-type {\n",
       "        vertical-align: middle;\n",
       "    }\n",
       "\n",
       "    .dataframe tbody tr th {\n",
       "        vertical-align: top;\n",
       "    }\n",
       "\n",
       "    .dataframe thead th {\n",
       "        text-align: right;\n",
       "    }\n",
       "</style>\n",
       "<table border=\"1\" class=\"dataframe\">\n",
       "  <thead>\n",
       "    <tr style=\"text-align: right;\">\n",
       "      <th></th>\n",
       "      <th>0</th>\n",
       "      <th>1</th>\n",
       "      <th>2</th>\n",
       "      <th>3</th>\n",
       "      <th>4</th>\n",
       "      <th>5</th>\n",
       "      <th>6</th>\n",
       "      <th>7</th>\n",
       "      <th>8</th>\n",
       "      <th>9</th>\n",
       "      <th>...</th>\n",
       "      <th>44</th>\n",
       "      <th>45</th>\n",
       "      <th>46</th>\n",
       "      <th>47</th>\n",
       "      <th>48</th>\n",
       "      <th>49</th>\n",
       "      <th>50</th>\n",
       "      <th>51</th>\n",
       "      <th>52</th>\n",
       "      <th>53</th>\n",
       "    </tr>\n",
       "  </thead>\n",
       "  <tbody>\n",
       "    <tr>\n",
       "      <th>count</th>\n",
       "      <td>4.648090e+05</td>\n",
       "      <td>4.648090e+05</td>\n",
       "      <td>4.648090e+05</td>\n",
       "      <td>4.648090e+05</td>\n",
       "      <td>4.648090e+05</td>\n",
       "      <td>4.648090e+05</td>\n",
       "      <td>4.648090e+05</td>\n",
       "      <td>4.648090e+05</td>\n",
       "      <td>4.648090e+05</td>\n",
       "      <td>4.648090e+05</td>\n",
       "      <td>...</td>\n",
       "      <td>4.648090e+05</td>\n",
       "      <td>4.648090e+05</td>\n",
       "      <td>4.648090e+05</td>\n",
       "      <td>4.648090e+05</td>\n",
       "      <td>4.648090e+05</td>\n",
       "      <td>4.648090e+05</td>\n",
       "      <td>4.648090e+05</td>\n",
       "      <td>4.648090e+05</td>\n",
       "      <td>4.648090e+05</td>\n",
       "      <td>4.648090e+05</td>\n",
       "    </tr>\n",
       "    <tr>\n",
       "      <th>mean</th>\n",
       "      <td>-4.900202e-16</td>\n",
       "      <td>2.808848e-17</td>\n",
       "      <td>8.061444e-16</td>\n",
       "      <td>-7.330369e-16</td>\n",
       "      <td>-2.087621e-16</td>\n",
       "      <td>-2.280752e-16</td>\n",
       "      <td>1.184295e-17</td>\n",
       "      <td>2.415142e-16</td>\n",
       "      <td>1.383988e-16</td>\n",
       "      <td>-8.443742e-17</td>\n",
       "      <td>...</td>\n",
       "      <td>3.001460e-16</td>\n",
       "      <td>9.170598e-15</td>\n",
       "      <td>8.068721e-15</td>\n",
       "      <td>-1.960082e-14</td>\n",
       "      <td>8.387920e-15</td>\n",
       "      <td>-5.053533e-15</td>\n",
       "      <td>-1.404638e-15</td>\n",
       "      <td>1.912168e-15</td>\n",
       "      <td>7.757928e-15</td>\n",
       "      <td>-1.058551e-16</td>\n",
       "    </tr>\n",
       "    <tr>\n",
       "      <th>std</th>\n",
       "      <td>1.000001e+00</td>\n",
       "      <td>1.000001e+00</td>\n",
       "      <td>1.000001e+00</td>\n",
       "      <td>1.000001e+00</td>\n",
       "      <td>1.000001e+00</td>\n",
       "      <td>1.000001e+00</td>\n",
       "      <td>1.000001e+00</td>\n",
       "      <td>1.000001e+00</td>\n",
       "      <td>1.000001e+00</td>\n",
       "      <td>1.000001e+00</td>\n",
       "      <td>...</td>\n",
       "      <td>1.000001e+00</td>\n",
       "      <td>1.000001e+00</td>\n",
       "      <td>1.000001e+00</td>\n",
       "      <td>1.000001e+00</td>\n",
       "      <td>1.000001e+00</td>\n",
       "      <td>1.000001e+00</td>\n",
       "      <td>1.000001e+00</td>\n",
       "      <td>1.000001e+00</td>\n",
       "      <td>1.000001e+00</td>\n",
       "      <td>1.000001e+00</td>\n",
       "    </tr>\n",
       "    <tr>\n",
       "      <th>min</th>\n",
       "      <td>-3.931815e+00</td>\n",
       "      <td>-1.390707e+00</td>\n",
       "      <td>-1.881546e+00</td>\n",
       "      <td>-1.267732e+00</td>\n",
       "      <td>-3.765307e+00</td>\n",
       "      <td>-1.508202e+00</td>\n",
       "      <td>-7.915910e+00</td>\n",
       "      <td>-1.128356e+01</td>\n",
       "      <td>-3.722965e+00</td>\n",
       "      <td>-1.495339e+00</td>\n",
       "      <td>...</td>\n",
       "      <td>-2.151944e-01</td>\n",
       "      <td>-3.145730e-01</td>\n",
       "      <td>-2.910973e-01</td>\n",
       "      <td>-5.269314e-02</td>\n",
       "      <td>-5.733573e-02</td>\n",
       "      <td>-1.414646e-02</td>\n",
       "      <td>-2.277634e-02</td>\n",
       "      <td>-1.661724e-01</td>\n",
       "      <td>-1.560155e-01</td>\n",
       "      <td>-1.234023e-01</td>\n",
       "    </tr>\n",
       "    <tr>\n",
       "      <th>25%</th>\n",
       "      <td>-5.373816e-01</td>\n",
       "      <td>-8.722141e-01</td>\n",
       "      <td>-6.812554e-01</td>\n",
       "      <td>-7.595780e-01</td>\n",
       "      <td>-6.769576e-01</td>\n",
       "      <td>-7.986879e-01</td>\n",
       "      <td>-5.279288e-01</td>\n",
       "      <td>-5.207186e-01</td>\n",
       "      <td>-6.140992e-01</td>\n",
       "      <td>-7.232763e-01</td>\n",
       "      <td>...</td>\n",
       "      <td>-2.151944e-01</td>\n",
       "      <td>-3.145730e-01</td>\n",
       "      <td>-2.910973e-01</td>\n",
       "      <td>-5.269314e-02</td>\n",
       "      <td>-5.733573e-02</td>\n",
       "      <td>-1.414646e-02</td>\n",
       "      <td>-2.277634e-02</td>\n",
       "      <td>-1.661724e-01</td>\n",
       "      <td>-1.560155e-01</td>\n",
       "      <td>-1.234023e-01</td>\n",
       "    </tr>\n",
       "    <tr>\n",
       "      <th>50%</th>\n",
       "      <td>1.307858e-01</td>\n",
       "      <td>-2.553866e-01</td>\n",
       "      <td>-1.477928e-01</td>\n",
       "      <td>-2.420133e-01</td>\n",
       "      <td>-2.823351e-01</td>\n",
       "      <td>-2.258162e-01</td>\n",
       "      <td>2.183319e-01</td>\n",
       "      <td>1.361686e-01</td>\n",
       "      <td>1.289899e-02</td>\n",
       "      <td>-2.035314e-01</td>\n",
       "      <td>...</td>\n",
       "      <td>-2.151944e-01</td>\n",
       "      <td>-3.145730e-01</td>\n",
       "      <td>-2.910973e-01</td>\n",
       "      <td>-5.269314e-02</td>\n",
       "      <td>-5.733573e-02</td>\n",
       "      <td>-1.414646e-02</td>\n",
       "      <td>-2.277634e-02</td>\n",
       "      <td>-1.661724e-01</td>\n",
       "      <td>-1.560155e-01</td>\n",
       "      <td>-1.234023e-01</td>\n",
       "    </tr>\n",
       "    <tr>\n",
       "      <th>75%</th>\n",
       "      <td>7.310645e-01</td>\n",
       "      <td>9.335709e-01</td>\n",
       "      <td>5.190353e-01</td>\n",
       "      <td>5.390387e-01</td>\n",
       "      <td>3.868073e-01</td>\n",
       "      <td>6.267554e-01</td>\n",
       "      <td>7.034014e-01</td>\n",
       "      <td>6.919963e-01</td>\n",
       "      <td>6.660221e-01</td>\n",
       "      <td>4.302853e-01</td>\n",
       "      <td>...</td>\n",
       "      <td>-2.151944e-01</td>\n",
       "      <td>-3.145730e-01</td>\n",
       "      <td>-2.910973e-01</td>\n",
       "      <td>-5.269314e-02</td>\n",
       "      <td>-5.733573e-02</td>\n",
       "      <td>-1.414646e-02</td>\n",
       "      <td>-2.277634e-02</td>\n",
       "      <td>-1.661724e-01</td>\n",
       "      <td>-1.560155e-01</td>\n",
       "      <td>-1.234023e-01</td>\n",
       "    </tr>\n",
       "    <tr>\n",
       "      <th>max</th>\n",
       "      <td>3.210787e+00</td>\n",
       "      <td>1.827524e+00</td>\n",
       "      <td>6.920586e+00</td>\n",
       "      <td>5.272402e+00</td>\n",
       "      <td>9.514597e+00</td>\n",
       "      <td>3.057451e+00</td>\n",
       "      <td>1.561601e+00</td>\n",
       "      <td>1.551003e+00</td>\n",
       "      <td>2.912766e+00</td>\n",
       "      <td>3.923454e+00</td>\n",
       "      <td>...</td>\n",
       "      <td>4.646962e+00</td>\n",
       "      <td>3.178913e+00</td>\n",
       "      <td>3.435277e+00</td>\n",
       "      <td>1.897780e+01</td>\n",
       "      <td>1.744113e+01</td>\n",
       "      <td>7.068908e+01</td>\n",
       "      <td>4.390522e+01</td>\n",
       "      <td>6.017848e+00</td>\n",
       "      <td>6.409618e+00</td>\n",
       "      <td>8.103577e+00</td>\n",
       "    </tr>\n",
       "  </tbody>\n",
       "</table>\n",
       "<p>8 rows × 54 columns</p>\n",
       "</div>"
      ],
      "text/plain": [
       "                 0             1             2             3             4   \\\n",
       "count  4.648090e+05  4.648090e+05  4.648090e+05  4.648090e+05  4.648090e+05   \n",
       "mean  -4.900202e-16  2.808848e-17  8.061444e-16 -7.330369e-16 -2.087621e-16   \n",
       "std    1.000001e+00  1.000001e+00  1.000001e+00  1.000001e+00  1.000001e+00   \n",
       "min   -3.931815e+00 -1.390707e+00 -1.881546e+00 -1.267732e+00 -3.765307e+00   \n",
       "25%   -5.373816e-01 -8.722141e-01 -6.812554e-01 -7.595780e-01 -6.769576e-01   \n",
       "50%    1.307858e-01 -2.553866e-01 -1.477928e-01 -2.420133e-01 -2.823351e-01   \n",
       "75%    7.310645e-01  9.335709e-01  5.190353e-01  5.390387e-01  3.868073e-01   \n",
       "max    3.210787e+00  1.827524e+00  6.920586e+00  5.272402e+00  9.514597e+00   \n",
       "\n",
       "                 5             6             7             8             9   \\\n",
       "count  4.648090e+05  4.648090e+05  4.648090e+05  4.648090e+05  4.648090e+05   \n",
       "mean  -2.280752e-16  1.184295e-17  2.415142e-16  1.383988e-16 -8.443742e-17   \n",
       "std    1.000001e+00  1.000001e+00  1.000001e+00  1.000001e+00  1.000001e+00   \n",
       "min   -1.508202e+00 -7.915910e+00 -1.128356e+01 -3.722965e+00 -1.495339e+00   \n",
       "25%   -7.986879e-01 -5.279288e-01 -5.207186e-01 -6.140992e-01 -7.232763e-01   \n",
       "50%   -2.258162e-01  2.183319e-01  1.361686e-01  1.289899e-02 -2.035314e-01   \n",
       "75%    6.267554e-01  7.034014e-01  6.919963e-01  6.660221e-01  4.302853e-01   \n",
       "max    3.057451e+00  1.561601e+00  1.551003e+00  2.912766e+00  3.923454e+00   \n",
       "\n",
       "       ...            44            45            46            47  \\\n",
       "count  ...  4.648090e+05  4.648090e+05  4.648090e+05  4.648090e+05   \n",
       "mean   ...  3.001460e-16  9.170598e-15  8.068721e-15 -1.960082e-14   \n",
       "std    ...  1.000001e+00  1.000001e+00  1.000001e+00  1.000001e+00   \n",
       "min    ... -2.151944e-01 -3.145730e-01 -2.910973e-01 -5.269314e-02   \n",
       "25%    ... -2.151944e-01 -3.145730e-01 -2.910973e-01 -5.269314e-02   \n",
       "50%    ... -2.151944e-01 -3.145730e-01 -2.910973e-01 -5.269314e-02   \n",
       "75%    ... -2.151944e-01 -3.145730e-01 -2.910973e-01 -5.269314e-02   \n",
       "max    ...  4.646962e+00  3.178913e+00  3.435277e+00  1.897780e+01   \n",
       "\n",
       "                 48            49            50            51            52  \\\n",
       "count  4.648090e+05  4.648090e+05  4.648090e+05  4.648090e+05  4.648090e+05   \n",
       "mean   8.387920e-15 -5.053533e-15 -1.404638e-15  1.912168e-15  7.757928e-15   \n",
       "std    1.000001e+00  1.000001e+00  1.000001e+00  1.000001e+00  1.000001e+00   \n",
       "min   -5.733573e-02 -1.414646e-02 -2.277634e-02 -1.661724e-01 -1.560155e-01   \n",
       "25%   -5.733573e-02 -1.414646e-02 -2.277634e-02 -1.661724e-01 -1.560155e-01   \n",
       "50%   -5.733573e-02 -1.414646e-02 -2.277634e-02 -1.661724e-01 -1.560155e-01   \n",
       "75%   -5.733573e-02 -1.414646e-02 -2.277634e-02 -1.661724e-01 -1.560155e-01   \n",
       "max    1.744113e+01  7.068908e+01  4.390522e+01  6.017848e+00  6.409618e+00   \n",
       "\n",
       "                 53  \n",
       "count  4.648090e+05  \n",
       "mean  -1.058551e-16  \n",
       "std    1.000001e+00  \n",
       "min   -1.234023e-01  \n",
       "25%   -1.234023e-01  \n",
       "50%   -1.234023e-01  \n",
       "75%   -1.234023e-01  \n",
       "max    8.103577e+00  \n",
       "\n",
       "[8 rows x 54 columns]"
      ]
     },
     "execution_count": 10,
     "metadata": {},
     "output_type": "execute_result"
    }
   ],
   "source": [
    "covtype_scaler_df = pd.DataFrame(data = covtype_X_train_scaler)\n",
    "covtype_scaler_df.describe()"
   ]
  },
  {
   "cell_type": "markdown",
   "id": "bbe9b0f7",
   "metadata": {},
   "source": [
    "## newsgroup dataset"
   ]
  },
  {
   "cell_type": "code",
   "execution_count": 11,
   "id": "a2f88ec9",
   "metadata": {
    "ExecuteTime": {
     "end_time": "2022-02-15T03:14:37.382221Z",
     "start_time": "2022-02-15T03:14:37.068076Z"
    }
   },
   "outputs": [
    {
     "name": "stdout",
     "output_type": "stream",
     "text": [
      ".. _20newsgroups_dataset:\n",
      "\n",
      "The 20 newsgroups text dataset\n",
      "------------------------------\n",
      "\n",
      "The 20 newsgroups dataset comprises around 18000 newsgroups posts on\n",
      "20 topics split in two subsets: one for training (or development)\n",
      "and the other one for testing (or for performance evaluation). The split\n",
      "between the train and test set is based upon a messages posted before\n",
      "and after a specific date.\n",
      "\n",
      "This module contains two loaders. The first one,\n",
      ":func:`sklearn.datasets.fetch_20newsgroups`,\n",
      "returns a list of the raw texts that can be fed to text feature\n",
      "extractors such as :class:`~sklearn.feature_extraction.text.CountVectorizer`\n",
      "with custom parameters so as to extract feature vectors.\n",
      "The second one, :func:`sklearn.datasets.fetch_20newsgroups_vectorized`,\n",
      "returns ready-to-use features, i.e., it is not necessary to use a feature\n",
      "extractor.\n",
      "\n",
      "**Data Set Characteristics:**\n",
      "\n",
      "    =================   ==========\n",
      "    Classes                     20\n",
      "    Samples total            18846\n",
      "    Dimensionality               1\n",
      "    Features                  text\n",
      "    =================   ==========\n",
      "\n",
      "Usage\n",
      "~~~~~\n",
      "\n",
      "The :func:`sklearn.datasets.fetch_20newsgroups` function is a data\n",
      "fetching / caching functions that downloads the data archive from\n",
      "the original `20 newsgroups website`_, extracts the archive contents\n",
      "in the ``~/scikit_learn_data/20news_home`` folder and calls the\n",
      ":func:`sklearn.datasets.load_files` on either the training or\n",
      "testing set folder, or both of them::\n",
      "\n",
      "  >>> from sklearn.datasets import fetch_20newsgroups\n",
      "  >>> newsgroups_train = fetch_20newsgroups(subset='train')\n",
      "\n",
      "  >>> from pprint import pprint\n",
      "  >>> pprint(list(newsgroups_train.target_names))\n",
      "  ['alt.atheism',\n",
      "   'comp.graphics',\n",
      "   'comp.os.ms-windows.misc',\n",
      "   'comp.sys.ibm.pc.hardware',\n",
      "   'comp.sys.mac.hardware',\n",
      "   'comp.windows.x',\n",
      "   'misc.forsale',\n",
      "   'rec.autos',\n",
      "   'rec.motorcycles',\n",
      "   'rec.sport.baseball',\n",
      "   'rec.sport.hockey',\n",
      "   'sci.crypt',\n",
      "   'sci.electronics',\n",
      "   'sci.med',\n",
      "   'sci.space',\n",
      "   'soc.religion.christian',\n",
      "   'talk.politics.guns',\n",
      "   'talk.politics.mideast',\n",
      "   'talk.politics.misc',\n",
      "   'talk.religion.misc']\n",
      "\n",
      "The real data lies in the ``filenames`` and ``target`` attributes. The target\n",
      "attribute is the integer index of the category::\n",
      "\n",
      "  >>> newsgroups_train.filenames.shape\n",
      "  (11314,)\n",
      "  >>> newsgroups_train.target.shape\n",
      "  (11314,)\n",
      "  >>> newsgroups_train.target[:10]\n",
      "  array([ 7,  4,  4,  1, 14, 16, 13,  3,  2,  4])\n",
      "\n",
      "It is possible to load only a sub-selection of the categories by passing the\n",
      "list of the categories to load to the\n",
      ":func:`sklearn.datasets.fetch_20newsgroups` function::\n",
      "\n",
      "  >>> cats = ['alt.atheism', 'sci.space']\n",
      "  >>> newsgroups_train = fetch_20newsgroups(subset='train', categories=cats)\n",
      "\n",
      "  >>> list(newsgroups_train.target_names)\n",
      "  ['alt.atheism', 'sci.space']\n",
      "  >>> newsgroups_train.filenames.shape\n",
      "  (1073,)\n",
      "  >>> newsgroups_train.target.shape\n",
      "  (1073,)\n",
      "  >>> newsgroups_train.target[:10]\n",
      "  array([0, 1, 1, 1, 0, 1, 1, 0, 0, 0])\n",
      "\n",
      "Converting text to vectors\n",
      "~~~~~~~~~~~~~~~~~~~~~~~~~~\n",
      "\n",
      "In order to feed predictive or clustering models with the text data,\n",
      "one first need to turn the text into vectors of numerical values suitable\n",
      "for statistical analysis. This can be achieved with the utilities of the\n",
      "``sklearn.feature_extraction.text`` as demonstrated in the following\n",
      "example that extract `TF-IDF`_ vectors of unigram tokens\n",
      "from a subset of 20news::\n",
      "\n",
      "  >>> from sklearn.feature_extraction.text import TfidfVectorizer\n",
      "  >>> categories = ['alt.atheism', 'talk.religion.misc',\n",
      "  ...               'comp.graphics', 'sci.space']\n",
      "  >>> newsgroups_train = fetch_20newsgroups(subset='train',\n",
      "  ...                                       categories=categories)\n",
      "  >>> vectorizer = TfidfVectorizer()\n",
      "  >>> vectors = vectorizer.fit_transform(newsgroups_train.data)\n",
      "  >>> vectors.shape\n",
      "  (2034, 34118)\n",
      "\n",
      "The extracted TF-IDF vectors are very sparse, with an average of 159 non-zero\n",
      "components by sample in a more than 30000-dimensional space\n",
      "(less than .5% non-zero features)::\n",
      "\n",
      "  >>> vectors.nnz / float(vectors.shape[0])\n",
      "  159.01327...\n",
      "\n",
      ":func:`sklearn.datasets.fetch_20newsgroups_vectorized` is a function which\n",
      "returns ready-to-use token counts features instead of file names.\n",
      "\n",
      ".. _`20 newsgroups website`: http://people.csail.mit.edu/jrennie/20Newsgroups/\n",
      ".. _`TF-IDF`: https://en.wikipedia.org/wiki/Tf-idf\n",
      "\n",
      "\n",
      "Filtering text for more realistic training\n",
      "~~~~~~~~~~~~~~~~~~~~~~~~~~~~~~~~~~~~~~~~~~\n",
      "\n",
      "It is easy for a classifier to overfit on particular things that appear in the\n",
      "20 Newsgroups data, such as newsgroup headers. Many classifiers achieve very\n",
      "high F-scores, but their results would not generalize to other documents that\n",
      "aren't from this window of time.\n",
      "\n",
      "For example, let's look at the results of a multinomial Naive Bayes classifier,\n",
      "which is fast to train and achieves a decent F-score::\n",
      "\n",
      "  >>> from sklearn.naive_bayes import MultinomialNB\n",
      "  >>> from sklearn import metrics\n",
      "  >>> newsgroups_test = fetch_20newsgroups(subset='test',\n",
      "  ...                                      categories=categories)\n",
      "  >>> vectors_test = vectorizer.transform(newsgroups_test.data)\n",
      "  >>> clf = MultinomialNB(alpha=.01)\n",
      "  >>> clf.fit(vectors, newsgroups_train.target)\n",
      "  MultinomialNB(alpha=0.01, class_prior=None, fit_prior=True)\n",
      "\n",
      "  >>> pred = clf.predict(vectors_test)\n",
      "  >>> metrics.f1_score(newsgroups_test.target, pred, average='macro')\n",
      "  0.88213...\n",
      "\n",
      "(The example :ref:`sphx_glr_auto_examples_text_plot_document_classification_20newsgroups.py` shuffles\n",
      "the training and test data, instead of segmenting by time, and in that case\n",
      "multinomial Naive Bayes gets a much higher F-score of 0.88. Are you suspicious\n",
      "yet of what's going on inside this classifier?)\n",
      "\n",
      "Let's take a look at what the most informative features are:\n",
      "\n",
      "  >>> import numpy as np\n",
      "  >>> def show_top10(classifier, vectorizer, categories):\n",
      "  ...     feature_names = vectorizer.get_feature_names_out()\n",
      "  ...     for i, category in enumerate(categories):\n",
      "  ...         top10 = np.argsort(classifier.coef_[i])[-10:]\n",
      "  ...         print(\"%s: %s\" % (category, \" \".join(feature_names[top10])))\n",
      "  ...\n",
      "  >>> show_top10(clf, vectorizer, newsgroups_train.target_names)\n",
      "  alt.atheism: edu it and in you that is of to the\n",
      "  comp.graphics: edu in graphics it is for and of to the\n",
      "  sci.space: edu it that is in and space to of the\n",
      "  talk.religion.misc: not it you in is that and to of the\n",
      "\n",
      "\n",
      "You can now see many things that these features have overfit to:\n",
      "\n",
      "- Almost every group is distinguished by whether headers such as\n",
      "  ``NNTP-Posting-Host:`` and ``Distribution:`` appear more or less often.\n",
      "- Another significant feature involves whether the sender is affiliated with\n",
      "  a university, as indicated either by their headers or their signature.\n",
      "- The word \"article\" is a significant feature, based on how often people quote\n",
      "  previous posts like this: \"In article [article ID], [name] <[e-mail address]>\n",
      "  wrote:\"\n",
      "- Other features match the names and e-mail addresses of particular people who\n",
      "  were posting at the time.\n",
      "\n",
      "With such an abundance of clues that distinguish newsgroups, the classifiers\n",
      "barely have to identify topics from text at all, and they all perform at the\n",
      "same high level.\n",
      "\n",
      "For this reason, the functions that load 20 Newsgroups data provide a\n",
      "parameter called **remove**, telling it what kinds of information to strip out\n",
      "of each file. **remove** should be a tuple containing any subset of\n",
      "``('headers', 'footers', 'quotes')``, telling it to remove headers, signature\n",
      "blocks, and quotation blocks respectively.\n",
      "\n",
      "  >>> newsgroups_test = fetch_20newsgroups(subset='test',\n",
      "  ...                                      remove=('headers', 'footers', 'quotes'),\n",
      "  ...                                      categories=categories)\n",
      "  >>> vectors_test = vectorizer.transform(newsgroups_test.data)\n",
      "  >>> pred = clf.predict(vectors_test)\n",
      "  >>> metrics.f1_score(pred, newsgroups_test.target, average='macro')\n",
      "  0.77310...\n",
      "\n",
      "This classifier lost over a lot of its F-score, just because we removed\n",
      "metadata that has little to do with topic classification.\n",
      "It loses even more if we also strip this metadata from the training data:\n",
      "\n",
      "  >>> newsgroups_train = fetch_20newsgroups(subset='train',\n",
      "  ...                                       remove=('headers', 'footers', 'quotes'),\n",
      "  ...                                       categories=categories)\n",
      "  >>> vectors = vectorizer.fit_transform(newsgroups_train.data)\n",
      "  >>> clf = MultinomialNB(alpha=.01)\n",
      "  >>> clf.fit(vectors, newsgroups_train.target)\n",
      "  MultinomialNB(alpha=0.01, class_prior=None, fit_prior=True)\n",
      "\n",
      "  >>> vectors_test = vectorizer.transform(newsgroups_test.data)\n",
      "  >>> pred = clf.predict(vectors_test)\n",
      "  >>> metrics.f1_score(newsgroups_test.target, pred, average='macro')\n",
      "  0.76995...\n",
      "\n",
      "Some other classifiers cope better with this harder version of the task. Try\n",
      "running :ref:`sphx_glr_auto_examples_model_selection_grid_search_text_feature_extraction.py` with and without\n",
      "the ``--filter`` option to compare the results.\n",
      "\n",
      ".. topic:: Data Considerations\n",
      "\n",
      "  The Cleveland Indians is a major league baseball team based in Cleveland,\n",
      "  Ohio, USA. In December 2020, it was reported that \"After several months of\n",
      "  discussion sparked by the death of George Floyd and a national reckoning over\n",
      "  race and colonialism, the Cleveland Indians have decided to change their\n",
      "  name.\" Team owner Paul Dolan \"did make it clear that the team will not make\n",
      "  its informal nickname -- the Tribe -- its new team name.\" \"It’s not going to\n",
      "  be a half-step away from the Indians,\" Dolan said.\"We will not have a Native\n",
      "  American-themed name.\"\n",
      "\n",
      "  https://www.mlb.com/news/cleveland-indians-team-name-change\n",
      "\n",
      ".. topic:: Recommendation\n",
      "\n",
      "  - When evaluating text classifiers on the 20 Newsgroups data, you\n",
      "    should strip newsgroup-related metadata. In scikit-learn, you can do this\n",
      "    by setting ``remove=('headers', 'footers', 'quotes')``. The F-score will be\n",
      "    lower because it is more realistic.\n",
      "  - This text dataset contains data which may be inappropriate for certain NLP\n",
      "    applications. An example is listed in the \"Data Considerations\" section\n",
      "    above. The challenge with using current text datasets in NLP for tasks such\n",
      "    as sentence completion, clustering, and other applications is that text\n",
      "    that is culturally biased and inflammatory will propagate biases. This\n",
      "    should be taken into consideration when using the dataset, reviewing the\n",
      "    output, and the bias should be documented.\n",
      "\n",
      ".. topic:: Examples\n",
      "\n",
      "   * :ref:`sphx_glr_auto_examples_model_selection_grid_search_text_feature_extraction.py`\n",
      "\n",
      "   * :ref:`sphx_glr_auto_examples_text_plot_document_classification_20newsgroups.py`\n",
      "\n"
     ]
    }
   ],
   "source": [
    "newsgroup = fetch_20newsgroups()\n",
    "print(newsgroup.DESCR)"
   ]
  },
  {
   "cell_type": "code",
   "execution_count": 12,
   "id": "fc34bd77",
   "metadata": {
    "ExecuteTime": {
     "end_time": "2022-02-15T03:14:39.241826Z",
     "start_time": "2022-02-15T03:14:38.710765Z"
    }
   },
   "outputs": [],
   "source": [
    "newsgroup_train = fetch_20newsgroups(subset = \"train\")\n",
    "newsgroup_test = fetch_20newsgroups(subset = \"test\")"
   ]
  },
  {
   "cell_type": "code",
   "execution_count": 13,
   "id": "e56a05a3",
   "metadata": {
    "ExecuteTime": {
     "end_time": "2022-02-15T03:14:41.470521Z",
     "start_time": "2022-02-15T03:14:41.457556Z"
    }
   },
   "outputs": [],
   "source": [
    "X_train, y_train = newsgroup_train.data, newsgroup_train.target\n",
    "X_test, y_test = newsgroup_test.data, newsgroup_test.target"
   ]
  },
  {
   "cell_type": "markdown",
   "id": "dad97b76",
   "metadata": {},
   "source": [
    "### Vectorization\n",
    "\n",
    "- 텍스트 데이터는 기계하습 모델에 입력 할 수 없다.\n",
    "- 벡터화하는 과정은 텍스트 데이터를 실수 벡터로 변환하여 기계학습 모델에 입력 할 수 있도록 하는 전처리 과정이다.\n",
    "- sklearn에서는 Count, Tf-idf, Hashing의 세가지 방법을 지원한다."
   ]
  },
  {
   "cell_type": "markdown",
   "id": "89542cdb",
   "metadata": {},
   "source": [
    "#### CountVectorizer\n",
    "- 문서에 존재하는 단어의 수를 세서 벡터를 생성하는 방식이다."
   ]
  },
  {
   "cell_type": "code",
   "execution_count": 14,
   "id": "235f372c",
   "metadata": {
    "ExecuteTime": {
     "end_time": "2022-02-15T03:14:51.758827Z",
     "start_time": "2022-02-15T03:14:44.349004Z"
    }
   },
   "outputs": [],
   "source": [
    "count_vectorizer = CountVectorizer()\n",
    "\n",
    "X_train_count = count_vectorizer.fit_transform(X_train)\n",
    "X_test_count = count_vectorizer.transform(X_test)"
   ]
  },
  {
   "cell_type": "markdown",
   "id": "4ef7b445",
   "metadata": {},
   "source": [
    "#### HashingVectorizer\n",
    "- 각 단어를 해쉬값으로 표현한다.\n",
    "- 미리 정해진 크기의 벡터로 표현한다."
   ]
  },
  {
   "cell_type": "code",
   "execution_count": 15,
   "id": "ceecb8d0",
   "metadata": {
    "ExecuteTime": {
     "end_time": "2022-02-15T03:15:00.082099Z",
     "start_time": "2022-02-15T03:14:54.819113Z"
    }
   },
   "outputs": [],
   "source": [
    "hash_vectorizer = HashingVectorizer(n_features = 1000)\n",
    "\n",
    "X_train_hash = hash_vectorizer.fit_transform(X_train)\n",
    "X_test_hash = hash_vectorizer.transform(X_test)"
   ]
  },
  {
   "cell_type": "markdown",
   "id": "039c6052",
   "metadata": {},
   "source": [
    "#### TfidfVectorizer\n",
    "\n",
    "- 문서에 나온 단어의 빈도(term frequency)와 역문서 빈도(inverse document frequency)를 곱해서 계산한다.\n",
    "- 각 빈도는 일반적으로 로그 스케일링후 사용된다."
   ]
  },
  {
   "cell_type": "code",
   "execution_count": 16,
   "id": "d919dab1",
   "metadata": {
    "ExecuteTime": {
     "end_time": "2022-02-15T03:15:19.789744Z",
     "start_time": "2022-02-15T03:15:06.011248Z"
    }
   },
   "outputs": [],
   "source": [
    "tfidf_vectorizer = TfidfVectorizer()\n",
    "\n",
    "X_train_tfidf = tfidf_vectorizer.fit_transform(X_train)\n",
    "X_test_tfidf = tfidf_vectorizer.transform(X_test)"
   ]
  },
  {
   "cell_type": "markdown",
   "id": "edf2683c",
   "metadata": {},
   "source": [
    "# Gaussian NB\n",
    "= 입력 특성이 가우시안(정규)분포를 갖는다고 가정"
   ]
  },
  {
   "cell_type": "code",
   "execution_count": 30,
   "id": "33bb9b17",
   "metadata": {
    "ExecuteTime": {
     "end_time": "2022-02-15T03:48:24.572542Z",
     "start_time": "2022-02-15T03:48:24.012384Z"
    }
   },
   "outputs": [
    {
     "data": {
      "text/plain": [
       "GaussianNB()"
      ]
     },
     "execution_count": 30,
     "metadata": {},
     "output_type": "execute_result"
    }
   ],
   "source": [
    "GaussianNB_model = GaussianNB()\n",
    "GaussianNB_model.fit(covtype_X_train_scaler, covtype_y_train)"
   ]
  },
  {
   "cell_type": "code",
   "execution_count": 32,
   "id": "3b2f6e16",
   "metadata": {
    "ExecuteTime": {
     "end_time": "2022-02-15T03:48:56.193160Z",
     "start_time": "2022-02-15T03:48:53.307869Z"
    }
   },
   "outputs": [],
   "source": [
    "train_predict = GaussianNB_model.predict(covtype_X_train_scaler)\n",
    "test_predict = GaussianNB_model.predict(covtype_X_test_scaler)"
   ]
  },
  {
   "cell_type": "code",
   "execution_count": 36,
   "id": "79ed7cfe",
   "metadata": {
    "ExecuteTime": {
     "end_time": "2022-02-15T03:51:31.787276Z",
     "start_time": "2022-02-15T03:51:31.591798Z"
    }
   },
   "outputs": [
    {
     "name": "stdout",
     "output_type": "stream",
     "text": [
      "train accuracy : 0.08784038174820195\n",
      "train f1 score : [0.04057288 0.01784529 0.33400414 0.13626012 0.04334818 0.07134045\n",
      " 0.23557879]\n"
     ]
    }
   ],
   "source": [
    "accuracy = metrics.accuracy_score(covtype_y_train, train_predict)\n",
    "f1 = metrics.f1_score(covtype_y_train, predict, average = None)\n",
    "\n",
    "print(\"train accuracy : {}\".format(accuracy))\n",
    "print(\"train f1 score : {}\".format(f1))"
   ]
  },
  {
   "cell_type": "markdown",
   "id": "bd642b37",
   "metadata": {},
   "source": [
    "# Bernoulli NB \n",
    "= 입력 특성이 베르누이 분포에 의해 생성된 이진 값을 갖는 다고 가정"
   ]
  },
  {
   "cell_type": "markdown",
   "id": "af27c779",
   "metadata": {},
   "source": [
    "## count"
   ]
  },
  {
   "cell_type": "code",
   "execution_count": 38,
   "id": "792f3a8f",
   "metadata": {
    "ExecuteTime": {
     "end_time": "2022-02-15T03:55:27.013198Z",
     "start_time": "2022-02-15T03:55:26.711004Z"
    }
   },
   "outputs": [
    {
     "data": {
      "text/plain": [
       "BernoulliNB()"
      ]
     },
     "execution_count": 38,
     "metadata": {},
     "output_type": "execute_result"
    }
   ],
   "source": [
    "count_model = BernoulliNB()\n",
    "count_model.fit(X_train_count, y_train)"
   ]
  },
  {
   "cell_type": "code",
   "execution_count": 39,
   "id": "788450ce",
   "metadata": {
    "ExecuteTime": {
     "end_time": "2022-02-15T03:58:15.152857Z",
     "start_time": "2022-02-15T03:58:14.950150Z"
    }
   },
   "outputs": [
    {
     "name": "stdout",
     "output_type": "stream",
     "text": [
      "count accuracy : 0.7821283365741559\n",
      "count f1_score : [0.80096502 0.8538398  0.13858268 0.70686337 0.85220126 0.87944493\n",
      " 0.51627694 0.84532672 0.89064976 0.87179487 0.94561404 0.91331546\n",
      " 0.84627832 0.89825848 0.9047619  0.79242424 0.84693878 0.84489796\n",
      " 0.67329545 0.14742015]\n"
     ]
    }
   ],
   "source": [
    "count_predict = count_model.predict(X_train_count)\n",
    "count_accuracy = metrics.accuracy_score(y_train, count_predict)\n",
    "count_f1_score = metrics.f1_score(y_train, count_predict, average = None)\n",
    "\n",
    "print(\"count accuracy : {}\".format(count_accuracy))\n",
    "print(\"count f1_score : {}\".format(count_f1_score))"
   ]
  },
  {
   "cell_type": "code",
   "execution_count": 40,
   "id": "eae3d8a5",
   "metadata": {
    "ExecuteTime": {
     "end_time": "2022-02-15T03:59:07.102029Z",
     "start_time": "2022-02-15T03:59:06.939539Z"
    }
   },
   "outputs": [
    {
     "name": "stdout",
     "output_type": "stream",
     "text": [
      "count accuracy : 0.6307753584705258\n",
      "count f1_score : [0.47086247 0.60643564 0.01       0.56014047 0.6953405  0.70381232\n",
      " 0.44829721 0.71878646 0.81797753 0.81893491 0.90287278 0.74794521\n",
      " 0.61647059 0.64174455 0.76967096 0.63555114 0.64285714 0.77971474\n",
      " 0.31382979 0.00793651]\n"
     ]
    }
   ],
   "source": [
    "count_predict = count_model.predict(X_test_count)\n",
    "count_accuracy = metrics.accuracy_score(y_test, count_predict)\n",
    "count_f1_score = metrics.f1_score(y_test, count_predict, average = None)\n",
    "\n",
    "print(\"count accuracy : {}\".format(count_accuracy))\n",
    "print(\"count f1_score : {}\".format(count_f1_score))"
   ]
  },
  {
   "cell_type": "markdown",
   "id": "bb85b44d",
   "metadata": {},
   "source": [
    "## hash"
   ]
  },
  {
   "cell_type": "code",
   "execution_count": 46,
   "id": "e2611ea9",
   "metadata": {
    "ExecuteTime": {
     "end_time": "2022-02-15T04:12:41.200968Z",
     "start_time": "2022-02-15T04:12:41.112876Z"
    }
   },
   "outputs": [
    {
     "data": {
      "text/plain": [
       "BernoulliNB()"
      ]
     },
     "execution_count": 46,
     "metadata": {},
     "output_type": "execute_result"
    }
   ],
   "source": [
    "hash_model = BernoulliNB()\n",
    "hash_model.fit(X_train_hash, y_train)"
   ]
  },
  {
   "cell_type": "code",
   "execution_count": 47,
   "id": "5a5aaa9d",
   "metadata": {
    "ExecuteTime": {
     "end_time": "2022-02-15T04:12:44.444286Z",
     "start_time": "2022-02-15T04:12:44.357366Z"
    }
   },
   "outputs": [
    {
     "name": "stdout",
     "output_type": "stream",
     "text": [
      "hash accuracy : 0.5951917977726711\n",
      "hash f1_score : [0.74226804 0.49415205 0.45039019 0.59878155 0.57327935 0.63929619\n",
      " 0.35390947 0.59851301 0.72695347 0.68123862 0.79809524 0.70532319\n",
      " 0.54703833 0.66862745 0.61889927 0.74707471 0.6518668  0.60485269\n",
      " 0.5324165  0.54576271]\n"
     ]
    }
   ],
   "source": [
    "hash_predict = hash_model.predict(X_train_hash)\n",
    "hash_accuracy = metrics.accuracy_score(y_train, hash_predict)\n",
    "hash_f1_score = metrics.f1_score(y_train, hash_predict, average = None)\n",
    "\n",
    "print(\"hash accuracy : {}\".format(hash_accuracy))\n",
    "print(\"hash f1_score : {}\".format(hash_f1_score))"
   ]
  },
  {
   "cell_type": "code",
   "execution_count": 48,
   "id": "fa643c2d",
   "metadata": {
    "ExecuteTime": {
     "end_time": "2022-02-15T04:12:47.770971Z",
     "start_time": "2022-02-15T04:12:47.713128Z"
    }
   },
   "outputs": [
    {
     "name": "stdout",
     "output_type": "stream",
     "text": [
      "hash accuracy : 0.4430430164630908\n",
      "hash f1_score : [0.46678636 0.33826638 0.29391892 0.45743329 0.41939121 0.46540881\n",
      " 0.34440068 0.46464646 0.62849873 0.53038674 0.63782051 0.55251799\n",
      " 0.32635983 0.34266886 0.46105919 0.61780105 0.46197991 0.54591837\n",
      " 0.27513228 0.3307888 ]\n"
     ]
    }
   ],
   "source": [
    "hash_predict = hash_model.predict(X_test_hash)\n",
    "hash_accuracy = metrics.accuracy_score(y_test, hash_predict)\n",
    "hash_f1_score = metrics.f1_score(y_test, hash_predict, average = None)\n",
    "\n",
    "print(\"hash accuracy : {}\".format(hash_accuracy))\n",
    "print(\"hash f1_score : {}\".format(hash_f1_score))"
   ]
  },
  {
   "cell_type": "markdown",
   "id": "835acd2d",
   "metadata": {},
   "source": [
    "## tfidf"
   ]
  },
  {
   "cell_type": "code",
   "execution_count": 49,
   "id": "f0ccff92",
   "metadata": {
    "ExecuteTime": {
     "end_time": "2022-02-15T04:13:06.989342Z",
     "start_time": "2022-02-15T04:13:06.792866Z"
    }
   },
   "outputs": [
    {
     "data": {
      "text/plain": [
       "BernoulliNB()"
      ]
     },
     "execution_count": 49,
     "metadata": {},
     "output_type": "execute_result"
    }
   ],
   "source": [
    "tfidf_model = BernoulliNB()\n",
    "tfidf_model.fit(X_train_tfidf, y_train)"
   ]
  },
  {
   "cell_type": "code",
   "execution_count": 50,
   "id": "a0f56910",
   "metadata": {
    "ExecuteTime": {
     "end_time": "2022-02-15T04:13:53.887032Z",
     "start_time": "2022-02-15T04:13:53.568887Z"
    }
   },
   "outputs": [
    {
     "name": "stdout",
     "output_type": "stream",
     "text": [
      "tfidf accuracy : 0.7821283365741559\n",
      "tfidf f1_score : [0.80096502 0.8538398  0.13858268 0.70686337 0.85220126 0.87944493\n",
      " 0.51627694 0.84532672 0.89064976 0.87179487 0.94561404 0.91331546\n",
      " 0.84627832 0.89825848 0.9047619  0.79242424 0.84693878 0.84489796\n",
      " 0.67329545 0.14742015]\n"
     ]
    }
   ],
   "source": [
    "tfidf_predict = tfidf_model.predict(X_train_tfidf)\n",
    "tfidf_accuracy = metrics.accuracy_score(y_train, tfidf_predict)\n",
    "tfidf_f1_score = metrics.f1_score(y_train, tfidf_predict, average = None)\n",
    "\n",
    "print(\"tfidf accuracy : {}\".format(tfidf_accuracy))\n",
    "print(\"tfidf f1_score : {}\".format(tfidf_f1_score))"
   ]
  },
  {
   "cell_type": "code",
   "execution_count": 51,
   "id": "ac4c6d8c",
   "metadata": {
    "ExecuteTime": {
     "end_time": "2022-02-15T04:14:50.173783Z",
     "start_time": "2022-02-15T04:14:50.012121Z"
    }
   },
   "outputs": [
    {
     "name": "stdout",
     "output_type": "stream",
     "text": [
      "tfidf accuracy : 0.6307753584705258\n",
      "tfidf f1_score : [0.47086247 0.60643564 0.01       0.56014047 0.6953405  0.70381232\n",
      " 0.44829721 0.71878646 0.81797753 0.81893491 0.90287278 0.74794521\n",
      " 0.61647059 0.64174455 0.76967096 0.63555114 0.64285714 0.77971474\n",
      " 0.31382979 0.00793651]\n"
     ]
    }
   ],
   "source": [
    "tfidf_predict = tfidf_model.predict(X_test_tfidf)\n",
    "tfidf_accuracy = metrics.accuracy_score(y_test, tfidf_predict)\n",
    "tfidf_f1_score = metrics.f1_score(y_test, tfidf_predict, average = None)\n",
    "\n",
    "print(\"tfidf accuracy : {}\".format(tfidf_accuracy))\n",
    "print(\"tfidf f1_score : {}\".format(tfidf_f1_score))"
   ]
  },
  {
   "cell_type": "markdown",
   "id": "f96acaf7",
   "metadata": {},
   "source": [
    "## Multinomial NB\n",
    "= 입력 특성이 다항분포에 의해 생성된 빈도수 값을 갖는다고 가정"
   ]
  },
  {
   "cell_type": "markdown",
   "id": "067422a3",
   "metadata": {},
   "source": [
    "## count"
   ]
  },
  {
   "cell_type": "code",
   "execution_count": 52,
   "id": "e1959f33",
   "metadata": {
    "ExecuteTime": {
     "end_time": "2022-02-15T04:18:01.245696Z",
     "start_time": "2022-02-15T04:18:01.057164Z"
    }
   },
   "outputs": [
    {
     "data": {
      "text/plain": [
       "MultinomialNB()"
      ]
     },
     "execution_count": 52,
     "metadata": {},
     "output_type": "execute_result"
    }
   ],
   "source": [
    "multi_model = MultinomialNB()\n",
    "multi_model.fit(X_train_count, y_train)"
   ]
  },
  {
   "cell_type": "code",
   "execution_count": 53,
   "id": "25fbcdc9",
   "metadata": {
    "ExecuteTime": {
     "end_time": "2022-02-15T04:20:43.146363Z",
     "start_time": "2022-02-15T04:20:43.033698Z"
    }
   },
   "outputs": [
    {
     "name": "stdout",
     "output_type": "stream",
     "text": [
      "train accuracy : 0.9245182959165635\n",
      "train f1_score : [0.95228426 0.904      0.25073746 0.81402003 0.96669513 0.88350983\n",
      " 0.90710383 0.97014925 0.98567818 0.99325464 0.98423237 0.95399516\n",
      " 0.95703454 0.98319328 0.98584513 0.95352564 0.97307002 0.97467249\n",
      " 0.95157895 0.86526946]\n"
     ]
    }
   ],
   "source": [
    "multi_predict = multi_model.predict(X_train_count)\n",
    "multi_accuracy = metrics.accuracy_score(y_train, multi_predict)\n",
    "multi_f1_score = metrics.f1_score(y_train, multi_predict, average = None)\n",
    "\n",
    "print(\"train accuracy : {}\".format(multi_accuracy))\n",
    "print(\"train f1_score : {}\".format(multi_f1_score))"
   ]
  },
  {
   "cell_type": "code",
   "execution_count": 54,
   "id": "e9c84e42",
   "metadata": {
    "ExecuteTime": {
     "end_time": "2022-02-15T04:22:07.580167Z",
     "start_time": "2022-02-15T04:22:07.489449Z"
    }
   },
   "outputs": [
    {
     "name": "stdout",
     "output_type": "stream",
     "text": [
      "test accuracy : 0.7728359001593202\n",
      "test f1_score : [0.77901431 0.7008547  0.00501253 0.64516129 0.79178082 0.73370166\n",
      " 0.76550681 0.88779285 0.93951094 0.91390728 0.94594595 0.78459938\n",
      " 0.72299169 0.84635417 0.86029412 0.80846561 0.78665077 0.89281211\n",
      " 0.60465116 0.48695652]\n"
     ]
    }
   ],
   "source": [
    "multi_predict = multi_model.predict(X_train_count)\n",
    "multi_accuracy = metrics.accuracy_score(y_train, multi_predict)\n",
    "multi_f1_score = metrics.f1_score(y_train, multi_predict, average = None)\n",
    "\n",
    "print(\"train accuracy : {}\".format(multi_accuracy))\n",
    "print(\"train f1_score : {}\".format(multi_f1_score))"
   ]
  },
  {
   "cell_type": "markdown",
   "id": "b6b29608",
   "metadata": {},
   "source": [
    "## tfidf"
   ]
  },
  {
   "cell_type": "code",
   "execution_count": 56,
   "id": "b4a0b7ee",
   "metadata": {
    "ExecuteTime": {
     "end_time": "2022-02-15T04:23:26.304139Z",
     "start_time": "2022-02-15T04:23:26.097689Z"
    }
   },
   "outputs": [
    {
     "data": {
      "text/plain": [
       "MultinomialNB()"
      ]
     },
     "execution_count": 56,
     "metadata": {},
     "output_type": "execute_result"
    }
   ],
   "source": [
    "multi_model = MultinomialNB()\n",
    "multi_model.fit(X_train_tfidf, y_train)"
   ]
  },
  {
   "cell_type": "code",
   "execution_count": 57,
   "id": "484422f6",
   "metadata": {
    "ExecuteTime": {
     "end_time": "2022-02-15T04:24:15.560826Z",
     "start_time": "2022-02-15T04:24:15.448162Z"
    }
   },
   "outputs": [
    {
     "name": "stdout",
     "output_type": "stream",
     "text": [
      "train accuracy : 0.9326498143892522\n",
      "train f1_score : [0.87404162 0.95414462 0.95726496 0.92863002 0.97812773 0.97440273\n",
      " 0.91090909 0.97261411 0.98659966 0.98575021 0.98026316 0.94033413\n",
      " 0.9594478  0.98032506 0.97755611 0.77411003 0.93506494 0.97453907\n",
      " 0.90163934 0.45081967]\n"
     ]
    }
   ],
   "source": [
    "multi_predict = multi_model.predict(X_train_tfidf)\n",
    "multi_accuracy = metrics.accuracy_score(y_train, multi_predict)\n",
    "multi_f1_score = metrics.f1_score(y_train, multi_predict, average = None)\n",
    "\n",
    "print(\"train accuracy : {}\".format(multi_accuracy))\n",
    "print(\"train f1_score : {}\".format(multi_f1_score))"
   ]
  },
  {
   "cell_type": "code",
   "execution_count": 59,
   "id": "c0cae183",
   "metadata": {
    "ExecuteTime": {
     "end_time": "2022-02-15T04:24:43.041035Z",
     "start_time": "2022-02-15T04:24:42.954302Z"
    }
   },
   "outputs": [
    {
     "name": "stdout",
     "output_type": "stream",
     "text": [
      "train accuracy : 0.7738980350504514\n",
      "train f1_score : [0.63117871 0.72       0.72778561 0.72104019 0.81309686 0.81643836\n",
      " 0.7958884  0.88135593 0.93450882 0.91071429 0.92917167 0.73583093\n",
      " 0.69732938 0.81907433 0.86559803 0.60728118 0.76286353 0.92225201\n",
      " 0.57977528 0.24390244]\n"
     ]
    }
   ],
   "source": [
    "multi_predict = multi_model.predict(X_test_tfidf)\n",
    "multi_accuracy = metrics.accuracy_score(y_test, multi_predict)\n",
    "multi_f1_score = metrics.f1_score(y_test, multi_predict, average = None)\n",
    "\n",
    "print(\"train accuracy : {}\".format(multi_accuracy))\n",
    "print(\"train f1_score : {}\".format(multi_f1_score))"
   ]
  }
 ],
 "metadata": {
  "kernelspec": {
   "display_name": "Python 3 (ipykernel)",
   "language": "python",
   "name": "python3"
  },
  "language_info": {
   "codemirror_mode": {
    "name": "ipython",
    "version": 3
   },
   "file_extension": ".py",
   "mimetype": "text/x-python",
   "name": "python",
   "nbconvert_exporter": "python",
   "pygments_lexer": "ipython3",
   "version": "3.8.12"
  },
  "toc": {
   "base_numbering": 1,
   "nav_menu": {},
   "number_sections": true,
   "sideBar": true,
   "skip_h1_title": false,
   "title_cell": "Table of Contents",
   "title_sidebar": "Contents",
   "toc_cell": false,
   "toc_position": {
    "height": "calc(100% - 180px)",
    "left": "10px",
    "top": "150px",
    "width": "409.6px"
   },
   "toc_section_display": true,
   "toc_window_display": true
  },
  "varInspector": {
   "cols": {
    "lenName": 16,
    "lenType": 16,
    "lenVar": 40
   },
   "kernels_config": {
    "python": {
     "delete_cmd_postfix": "",
     "delete_cmd_prefix": "del ",
     "library": "var_list.py",
     "varRefreshCmd": "print(var_dic_list())"
    },
    "r": {
     "delete_cmd_postfix": ") ",
     "delete_cmd_prefix": "rm(",
     "library": "var_list.r",
     "varRefreshCmd": "cat(var_dic_list()) "
    }
   },
   "types_to_exclude": [
    "module",
    "function",
    "builtin_function_or_method",
    "instance",
    "_Feature"
   ],
   "window_display": false
  }
 },
 "nbformat": 4,
 "nbformat_minor": 5
}
