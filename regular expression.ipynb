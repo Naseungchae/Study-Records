{
 "cells": [
  {
   "cell_type": "markdown",
   "id": "15c90087",
   "metadata": {},
   "source": [
    "**정규표현식**  \n",
    ": regular expression \n",
    "- 특정한 패턴과 일치하는 문자열을 '검색', '치환', '제거'하는 기능을 지원  \n",
    "- 정규표현식의 도움 없이 패턴은 찾는 작업은 부완전하거나 작업의 비용이 높다.\n",
    "\n",
    "**raw string**  \n",
    "- 문자열 앞에 r이 붙으면 해당 문자열이 구성된 그대로 문자열로 변환된다."
   ]
  },
  {
   "cell_type": "code",
   "execution_count": 127,
   "id": "3a6bad5e",
   "metadata": {},
   "outputs": [
    {
     "name": "stdout",
     "output_type": "stream",
     "text": [
      "안녕하세요,\n",
      "반갑습니다.\n",
      "--------------------------------------------------\n",
      "안녕하세요,\\n반갑습니다.\n"
     ]
    }
   ],
   "source": [
    "test1 = '안녕하세요,\\n반갑습니다.' # \\n은 escape 문자열 이기 때문에 엔터 한번이 출력\n",
    "test2 = r'안녕하세요,\\n반갑습니다.' # raw srting : 구성 그대로 문자열로 반환\n",
    "\n",
    "print(test1)\n",
    "print('-' * 50)\n",
    "print(test2)"
   ]
  },
  {
   "cell_type": "markdown",
   "id": "85a9c8c4",
   "metadata": {},
   "source": [
    "**search**  \n",
    "- 첫번째로 패턴을 찾으면 match 객체를 반환\n",
    "- 패턴을 찾지 못하면 None를 반환"
   ]
  },
  {
   "cell_type": "code",
   "execution_count": 128,
   "id": "6965978e",
   "metadata": {},
   "outputs": [
    {
     "data": {
      "text/plain": [
       "<re.Match object; span=(5, 7), match='ab'>"
      ]
     },
     "execution_count": 128,
     "metadata": {},
     "output_type": "execute_result"
    }
   ],
   "source": [
    "import re \n",
    "\n",
    "match = re.search(r'ab', '12345abcdefg')\n",
    "match"
   ]
  },
  {
   "cell_type": "code",
   "execution_count": 129,
   "id": "4de36af6",
   "metadata": {},
   "outputs": [
    {
     "name": "stdout",
     "output_type": "stream",
     "text": [
      "5\n",
      "7\n",
      "ab\n"
     ]
    }
   ],
   "source": [
    "print(match.start()) # 0부터 시작\n",
    "print(match.end()) # n-1 까지 반환\n",
    "print(match.group())"
   ]
  },
  {
   "cell_type": "code",
   "execution_count": 130,
   "id": "c9ffa638",
   "metadata": {},
   "outputs": [
    {
     "data": {
      "text/plain": [
       "<re.Match object; span=(0, 2), match='11'>"
      ]
     },
     "execution_count": 130,
     "metadata": {},
     "output_type": "execute_result"
    }
   ],
   "source": [
    "match = re.search(r'\\d\\d', '112abcedfg119') # \\d는 숫자, \\d\\d는 연속되는 2개의 숫자(11, 12, 11, 19)\n",
    "match # 결과는 맨 앞의 2개의 결과만 나타낸다. (11)"
   ]
  },
  {
   "cell_type": "code",
   "execution_count": 131,
   "id": "5a9035ad",
   "metadata": {},
   "outputs": [
    {
     "data": {
      "text/plain": [
       "<re.Match object; span=(2, 6), match='#$%q'>"
      ]
     },
     "execution_count": 131,
     "metadata": {},
     "output_type": "execute_result"
    }
   ],
   "source": [
    "re.search(r'...\\w', '!@#$%qwer!@#$') # 연속되는 3개의 문자(모든 문자 포함) + [a-zA-Z0-9]의 문자 1개"
   ]
  },
  {
   "cell_type": "markdown",
   "id": "3130fb9e",
   "metadata": {},
   "source": [
    "**[ ]**  \n",
    ": 문자들의 범위를 나타내기 위해 사용한다. (or 의미)  \n",
    "- [abcd] : a or b or c or d\n",
    "- [abc.^] : a or b or c or , or ^\n",
    "- [0-9] : -(hyphen)과 함께 사용되면 해당 문자 사이의 범위에 속하는 문자를 의미한다.(0~9)\n",
    "- [a-zA-Z0-9] : 모든(대, 소) 알파벳과 모든 숫자\n",
    "- [^0-9] : ^은 not을 의미한다. 즉, 숫자가 아닌것"
   ]
  },
  {
   "cell_type": "code",
   "execution_count": 132,
   "id": "2fada261",
   "metadata": {},
   "outputs": [
    {
     "data": {
      "text/plain": [
       "<re.Match object; span=(0, 3), match='cat'>"
      ]
     },
     "execution_count": 132,
     "metadata": {},
     "output_type": "execute_result"
    }
   ],
   "source": [
    "re.search(r'[abc]at', 'cat') # cat에서 a/b/c+at를 찾는다"
   ]
  },
  {
   "cell_type": "code",
   "execution_count": 133,
   "id": "5438a0db",
   "metadata": {},
   "outputs": [],
   "source": [
    "re.search(r'[0-4]', '56789') # 56789에서 0~4까지 찾기"
   ]
  },
  {
   "cell_type": "markdown",
   "id": "0e0f1015",
   "metadata": {},
   "source": [
    "**\\**  \n",
    "1. 다른 문자와 함께 사용되어 특수한 의미를 지닌다.\n",
    "- \\d : 모든 숫자, [0-9]와 동일\n",
    "- \\D : 숫자가 아닌 문자, [^0-9]와 동일\n",
    "- \\s : 공백 문자(띄어쓰기, 엔터, 탭 등)\n",
    "- \\S : 공백이 아닌 문자\n",
    "- \\w : 알파벳 대소문자와 모든 숫자, [A-Za-z0-9]와 동일\n",
    "- \\W : \\w의 반대, [^A-Za-z0-9]와 동일\n",
    "\n",
    "2. 메타 케릭터가 케릭터 자체(. , \\\\)를 표현하도록 할 경우 사용\n",
    "- \\\\., \\\\\\"
   ]
  },
  {
   "cell_type": "code",
   "execution_count": 134,
   "id": "5ee35323",
   "metadata": {},
   "outputs": [
    {
     "data": {
      "text/plain": [
       "<re.Match object; span=(5, 9), match=' and'>"
      ]
     },
     "execution_count": 134,
     "metadata": {},
     "output_type": "execute_result"
    }
   ],
   "source": [
    "re.search(r'\\sand', 'apple and banana') # apple and banana에서 띄어쓰기+and를 찾는다."
   ]
  },
  {
   "cell_type": "markdown",
   "id": "20d71232",
   "metadata": {},
   "source": [
    "**반복패턴**  \n",
    "- 패턴 뒤에 위치하는 *, +, ?는 해당 패턴이 반복적으로 존재하는지 검사를 할 수 있다.\n",
    " - ' * ' : 0번 이상의 패턴이 발생 (반복하지 않는 경우를 포함)\n",
    " - ' + ' : 1번 이상의 패턴이 발생 (한번이라도 반복되는 경우를 포함)\n",
    " - ' ? ' : 0번 혹은 1번의 패턴이 발생  \n",
    "   \n",
    "- 반복 패턴의 경우 greedy하게 검색한다. (즉, 가능한 많은 부분이 매칭되도록 한다.)  \n",
    " - a[bcd]*b 패턴을 abcbdccb에서 검색하는 경우  \n",
    "   : ab, abcd, abcbdccb 전부 가능하지만 최대한 많은 부분이 매칭된 abcbdccb이 검색된다."
   ]
  },
  {
   "cell_type": "code",
   "execution_count": 135,
   "id": "ef479ae8",
   "metadata": {},
   "outputs": [
    {
     "data": {
      "text/plain": [
       "<re.Match object; span=(0, 8), match='abcbdccb'>"
      ]
     },
     "execution_count": 135,
     "metadata": {},
     "output_type": "execute_result"
    }
   ],
   "source": [
    "re.search(r'a[bcd]*b', 'abcbdccb') # a로 시작해서 b/c/d중 한개가 0번 이상 반복하고 b로 끝나는 경우를 찾는다."
   ]
  },
  {
   "cell_type": "code",
   "execution_count": 136,
   "id": "5cab77a7",
   "metadata": {},
   "outputs": [
    {
     "data": {
      "text/plain": [
       "<re.Match object; span=(0, 6), match='banana'>"
      ]
     },
     "execution_count": 136,
     "metadata": {},
     "output_type": "execute_result"
    }
   ],
   "source": [
    "re.search(r'b\\w+a', 'banana') # b로 시작하고 어떤 문자라도 1번이상 반복되며 a로 끝나는 경우를 찾는다."
   ]
  },
  {
   "cell_type": "code",
   "execution_count": 137,
   "id": "c95ddbfa",
   "metadata": {},
   "outputs": [
    {
     "data": {
      "text/plain": [
       "<re.Match object; span=(1, 3), match='ii'>"
      ]
     },
     "execution_count": 137,
     "metadata": {},
     "output_type": "execute_result"
    }
   ],
   "source": [
    "re.search(r'i+', 'piigpiiigpiiiiig') # search함수는 가장 먼저 등장하는 패턴을 반환하다."
   ]
  },
  {
   "cell_type": "code",
   "execution_count": 138,
   "id": "538a972b",
   "metadata": {},
   "outputs": [
    {
     "data": {
      "text/plain": [
       "<re.Match object; span=(0, 0), match=''>"
      ]
     },
     "execution_count": 138,
     "metadata": {},
     "output_type": "execute_result"
    }
   ],
   "source": [
    "re.search(r'i*', 'pg') # *와 +의 차이"
   ]
  },
  {
   "cell_type": "code",
   "execution_count": 139,
   "id": "b472b168",
   "metadata": {},
   "outputs": [],
   "source": [
    "re.search(r'i+', 'pg')"
   ]
  },
  {
   "cell_type": "code",
   "execution_count": 140,
   "id": "22ed8aa2",
   "metadata": {},
   "outputs": [
    {
     "data": {
      "text/plain": [
       "<re.Match object; span=(0, 4), match='http'>"
      ]
     },
     "execution_count": 140,
     "metadata": {},
     "output_type": "execute_result"
    }
   ],
   "source": [
    "re.search(r'https?', 'http://www.naver.com') # ?가 s에 걸려 0번 혹은 1번의 검색결과를 반환한다."
   ]
  },
  {
   "cell_type": "markdown",
   "id": "7be6e9ac",
   "metadata": {},
   "source": [
    "**^*, *$**   \n",
    "\n",
    "\n",
    "- ^ : 문자열의 맨 앞부터 일치하는 경우 검색\n",
    "-  $ : 문자열의 맨 뒤부터 일치하는 경우 검색"
   ]
  },
  {
   "cell_type": "code",
   "execution_count": 141,
   "id": "726d5c64",
   "metadata": {},
   "outputs": [
    {
     "data": {
      "text/plain": [
       "<re.Match object; span=(2, 6), match='anne'>"
      ]
     },
     "execution_count": 141,
     "metadata": {},
     "output_type": "execute_result"
    }
   ],
   "source": [
    "re.search(r'a\\w+e', 'channel')"
   ]
  },
  {
   "cell_type": "code",
   "execution_count": 142,
   "id": "ae71628b",
   "metadata": {},
   "outputs": [],
   "source": [
    "re.search(r'^a\\w+e', 'channel') "
   ]
  },
  {
   "cell_type": "code",
   "execution_count": 143,
   "id": "8596d018",
   "metadata": {},
   "outputs": [],
   "source": [
    "re.search(r'a\\w+e$', 'channel')"
   ]
  },
  {
   "cell_type": "markdown",
   "id": "47ce531e",
   "metadata": {},
   "source": [
    "**grouping**  \n",
    "- ( )을 사용하여 그루핑  \n",
    "- 매칭 결과를 각 그룹별로 분리 가능하다.\n",
    "- 패턴을 명시할 때, 각 그룹을 괄호안에 넣어 분리하여 사용한다."
   ]
  },
  {
   "cell_type": "code",
   "execution_count": 145,
   "id": "afbf036e",
   "metadata": {},
   "outputs": [
    {
     "name": "stdout",
     "output_type": "stream",
     "text": [
      "test_email@naver.com\n",
      "test_email\n",
      "naver.com\n"
     ]
    }
   ],
   "source": [
    "match = re.search(r'(\\w+)@(.+)', 'test_email@naver.com')\n",
    "print(match.group(0))\n",
    "print(match.group(1))\n",
    "print(match.group(2))"
   ]
  },
  {
   "cell_type": "markdown",
   "id": "7605435d",
   "metadata": {},
   "source": [
    "**{ }**  \n",
    "- *, +, ?을 사용하여 반복적인 패턴을 찾아내는것이 가능하지만, 반복의 횟수를 제한할 수가 없다.  \n",
    "- 패턴 뒤에 위치하는 중괄호에 숫자를 ㅁㅇ시하면 해당 숫자만큼의 반복인 경우에만 매칭이 발생한다.  \n",
    "- {3} : 3번 반복  \n",
    "- {3, 4} : 최소 3번 ~ 최대 4번 반복"
   ]
  },
  {
   "cell_type": "code",
   "execution_count": 146,
   "id": "02d84b21",
   "metadata": {},
   "outputs": [
    {
     "data": {
      "text/plain": [
       "<re.Match object; span=(22, 26), match='    '>"
      ]
     },
     "execution_count": 146,
     "metadata": {},
     "output_type": "execute_result"
    }
   ],
   "source": [
    "re.search(r'\\s{4}', 'a b c  d  e  f   g   h    y    r     q')"
   ]
  },
  {
   "cell_type": "code",
   "execution_count": 147,
   "id": "4a9a1d19",
   "metadata": {},
   "outputs": [
    {
     "data": {
      "text/plain": [
       "<re.Match object; span=(3, 7), match='....'>"
      ]
     },
     "execution_count": 147,
     "metadata": {},
     "output_type": "execute_result"
    }
   ],
   "source": [
    "re.search(r'\\.{2,4}', '1.2....3....end') # 가장 먼저 매칭되는 결과를 n-1까지 반환"
   ]
  },
  {
   "cell_type": "markdown",
   "id": "361d4a73",
   "metadata": {},
   "source": [
    "**미니멈 매칭(non-greedy)**  \n",
    "- 기본적으로 *, +, ?을 사용하면 greedy하게 동작하지만,  \n",
    "- *?, +?를 이용하여 해당 기능을 구현할 수 있다."
   ]
  },
  {
   "cell_type": "code",
   "execution_count": 148,
   "id": "a36e03d9",
   "metadata": {},
   "outputs": [
    {
     "data": {
      "text/plain": [
       "<re.Match object; span=(0, 17), match='<html>hello<html>'>"
      ]
     },
     "execution_count": 148,
     "metadata": {},
     "output_type": "execute_result"
    }
   ],
   "source": [
    "re.search(r'<.+>', '<html>hello<html>') # greedy match"
   ]
  },
  {
   "cell_type": "code",
   "execution_count": 149,
   "id": "d9c4600c",
   "metadata": {},
   "outputs": [
    {
     "data": {
      "text/plain": [
       "<re.Match object; span=(0, 6), match='<html>'>"
      ]
     },
     "execution_count": 149,
     "metadata": {},
     "output_type": "execute_result"
    }
   ],
   "source": [
    "re.search(r'<.+?>', '<html>hello<html>') # non-greedy match"
   ]
  },
  {
   "cell_type": "code",
   "execution_count": 150,
   "id": "d184570d",
   "metadata": {},
   "outputs": [
    {
     "data": {
      "text/plain": [
       "<re.Match object; span=(0, 5), match='.....'>"
      ]
     },
     "execution_count": 150,
     "metadata": {},
     "output_type": "execute_result"
    }
   ],
   "source": [
    "re.search(r'\\.{3,5}', '.......')"
   ]
  },
  {
   "cell_type": "code",
   "execution_count": 151,
   "id": "9dedea47",
   "metadata": {},
   "outputs": [
    {
     "data": {
      "text/plain": [
       "<re.Match object; span=(0, 3), match='...'>"
      ]
     },
     "execution_count": 151,
     "metadata": {},
     "output_type": "execute_result"
    }
   ],
   "source": [
    "re.search(r'\\.{3,5}?', '.......')"
   ]
  },
  {
   "cell_type": "markdown",
   "id": "b52f8a08",
   "metadata": {},
   "source": [
    "**match**  \n",
    ": search와 유사하지만, 주어진 문자열의 시작부터 비교하여 패턴이 있는지 확인한다.  \n",
    "- 시작부터 해당 패턴이 존재하지 않는다면 None를 반환한다."
   ]
  },
  {
   "cell_type": "code",
   "execution_count": 152,
   "id": "6a67b7f8",
   "metadata": {},
   "outputs": [
    {
     "data": {
      "text/plain": [
       "<re.Match object; span=(0, 3), match='201'>"
      ]
     },
     "execution_count": 152,
     "metadata": {},
     "output_type": "execute_result"
    }
   ],
   "source": [
    "re.match(r'\\d\\d\\d', '201804200 is my number')"
   ]
  },
  {
   "cell_type": "code",
   "execution_count": 153,
   "id": "ac7ae87b",
   "metadata": {},
   "outputs": [],
   "source": [
    "re.match(r'\\d\\d\\d', 'my number is 201804200')"
   ]
  },
  {
   "cell_type": "markdown",
   "id": "1a66d91a",
   "metadata": {},
   "source": [
    "**findall**  \n",
    "- search의 경우 최초로 매칭되는 패턴을 반환하지만 findall의 경우 매칭되는 전체의 패턴을 반환한다.  \n",
    "- 매칭되는 모든 결과를 리스트 형태로 반환한다."
   ]
  },
  {
   "cell_type": "code",
   "execution_count": 154,
   "id": "e5a2ceb6",
   "metadata": {},
   "outputs": [
    {
     "data": {
      "text/plain": [
       "['test_email@naver.com', 'test_email@gmail.com']"
      ]
     },
     "execution_count": 154,
     "metadata": {},
     "output_type": "execute_result"
    }
   ],
   "source": [
    "re.findall(r'[\\w-]+@[\\w.]+', 'email1 : test_email@naver.com / email2 = test_email@gmail.com')"
   ]
  },
  {
   "cell_type": "markdown",
   "id": "610adb23",
   "metadata": {},
   "source": [
    "**sub**  \n",
    "- 주어진 문자열에서 일치하는 모든 패턴을 치환하고 결과를 문자열로 반환한다.\n",
    "- 두번째 인자는 특정 문자열이 될 수도 있고, 함수가 될 수도 있다.\n",
    "- count가 0인 경우(디폴트)는 전체를. 1 이상이면 해당 숫자만큼 치환된다."
   ]
  },
  {
   "cell_type": "code",
   "execution_count": 155,
   "id": "924b459c",
   "metadata": {},
   "outputs": [
    {
     "data": {
      "text/plain": [
       "'email1 : privacy / email2 = privacy'"
      ]
     },
     "execution_count": 155,
     "metadata": {},
     "output_type": "execute_result"
    }
   ],
   "source": [
    "re.sub(r'[\\w-]+@[\\w.]+', 'privacy', 'email1 : test_email@naver.com / email2 = test_email@gmail.com')"
   ]
  },
  {
   "cell_type": "code",
   "execution_count": 156,
   "id": "addfeb97",
   "metadata": {},
   "outputs": [
    {
     "data": {
      "text/plain": [
       "'email1 : privacy / email2 = test_email@gmail.com'"
      ]
     },
     "execution_count": 156,
     "metadata": {},
     "output_type": "execute_result"
    }
   ],
   "source": [
    "re.sub(r'[\\w-]+@[\\w.]+', 'privacy', 'email1 : test_email@naver.com / email2 = test_email@gmail.com', count=1)"
   ]
  },
  {
   "cell_type": "markdown",
   "id": "809b60ab",
   "metadata": {},
   "source": [
    "**compile** \n",
    "- 동일한 정규표현식을 매번 다시 쓰기 번거로울때 사용 가능하다.\n",
    "- compile로 해당 표현식을 re.RegexObject 객체로 저장하여 사용 가능하다."
   ]
  },
  {
   "cell_type": "code",
   "execution_count": 157,
   "id": "32972839",
   "metadata": {},
   "outputs": [
    {
     "data": {
      "text/plain": [
       "<re.Match object; span=(12, 32), match='test_email@naver.com'>"
      ]
     },
     "execution_count": 157,
     "metadata": {},
     "output_type": "execute_result"
    }
   ],
   "source": [
    "email_regex = re.compile(r'[\\w-]+@[\\w.]+')\n",
    "\n",
    "email_regex.search('my email is test_email@naver.com')"
   ]
  }
 ],
 "metadata": {
  "kernelspec": {
   "display_name": "Python 3 (ipykernel)",
   "language": "python",
   "name": "python3"
  },
  "language_info": {
   "codemirror_mode": {
    "name": "ipython",
    "version": 3
   },
   "file_extension": ".py",
   "mimetype": "text/x-python",
   "name": "python",
   "nbconvert_exporter": "python",
   "pygments_lexer": "ipython3",
   "version": "3.9.7"
  },
  "toc": {
   "base_numbering": 1,
   "nav_menu": {},
   "number_sections": true,
   "sideBar": true,
   "skip_h1_title": false,
   "title_cell": "Table of Contents",
   "title_sidebar": "Contents",
   "toc_cell": false,
   "toc_position": {},
   "toc_section_display": true,
   "toc_window_display": false
  },
  "varInspector": {
   "cols": {
    "lenName": 16,
    "lenType": 16,
    "lenVar": 40
   },
   "kernels_config": {
    "python": {
     "delete_cmd_postfix": "",
     "delete_cmd_prefix": "del ",
     "library": "var_list.py",
     "varRefreshCmd": "print(var_dic_list())"
    },
    "r": {
     "delete_cmd_postfix": ") ",
     "delete_cmd_prefix": "rm(",
     "library": "var_list.r",
     "varRefreshCmd": "cat(var_dic_list()) "
    }
   },
   "types_to_exclude": [
    "module",
    "function",
    "builtin_function_or_method",
    "instance",
    "_Feature"
   ],
   "window_display": false
  }
 },
 "nbformat": 4,
 "nbformat_minor": 5
}
