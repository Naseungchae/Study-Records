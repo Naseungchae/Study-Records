{
  "nbformat": 4,
  "nbformat_minor": 0,
  "metadata": {
    "colab": {
      "name": "Model Implementation.ipynb",
      "provenance": [],
      "collapsed_sections": [],
      "toc_visible": true,
      "authorship_tag": "ABX9TyM5+egiM12i+RHhLU6vdbyQ",
      "include_colab_link": true
    },
    "kernelspec": {
      "name": "python3",
      "display_name": "Python 3"
    },
    "language_info": {
      "name": "python"
    }
  },
  "cells": [
    {
      "cell_type": "markdown",
      "metadata": {
        "id": "view-in-github",
        "colab_type": "text"
      },
      "source": [
        "<a href=\"https://colab.research.google.com/github/Naseungchae/Study-Records/blob/main/Model_Implementation.ipynb\" target=\"_parent\"><img src=\"https://colab.research.google.com/assets/colab-badge.svg\" alt=\"Open In Colab\"/></a>"
      ]
    },
    {
      "cell_type": "markdown",
      "source": [
        "# Model Implementation"
      ],
      "metadata": {
        "id": "YDPL9bQVMnh4"
      }
    },
    {
      "cell_type": "markdown",
      "source": [
        "## Sequential Method\n",
        ": layer들이 순차적으로 쌓이는 방식"
      ],
      "metadata": {
        "id": "9d6_XjBENWAl"
      }
    },
    {
      "cell_type": "code",
      "source": [
        "from tensorflow.keras.layers import Dense\n",
        "from tensorflow.keras.models import Sequential\n",
        "\n",
        "# 1\n",
        "model = Sequential() # 여러 layer들을 포함하고 있는 sequential object = 틀\n",
        "model.add(Dense(units=5, activation='sigmoid'))\n",
        "model.add(Dense(units=3, activation='sigmoid'))\n",
        "\n",
        "# 2\n",
        "n_nuerons = [5, 3]\n",
        "for unit in n_nuerons:\n",
        "  model.add(Dense(units=unit, activation='sigmoid'))"
      ],
      "metadata": {
        "id": "2ub_lwJ6MuIz"
      },
      "execution_count": 1,
      "outputs": []
    },
    {
      "cell_type": "markdown",
      "source": [
        "## Model subclassing\n",
        ": 모델을 상속받는 방식"
      ],
      "metadata": {
        "id": "Jz92AgkqSOF-"
      }
    },
    {
      "cell_type": "code",
      "source": [
        "from tensorflow.keras.layers import Dense\n",
        "from tensorflow.keras.models import Model\n",
        "\n",
        "class MyModel(Model):\n",
        "  def __init__(self):\n",
        "    super(MyModel, self).__init__()\n",
        "    \n",
        "    self.dense1 = Dense(units=5, activation='sigmoid')\n",
        "    self.dense2 = Dense(units=3, activation='sigmoid')\n",
        "\n",
        "model = MyModel()\n",
        "print(model.dense1)\n",
        "print(model.dense2)"
      ],
      "metadata": {
        "colab": {
          "base_uri": "https://localhost:8080/"
        },
        "id": "exn6fT5xSSWl",
        "outputId": "daf7cbe4-7af5-427d-d20b-485aa11b5430"
      },
      "execution_count": 2,
      "outputs": [
        {
          "output_type": "stream",
          "name": "stdout",
          "text": [
            "<keras.layers.core.dense.Dense object at 0x7f9a256e0150>\n",
            "<keras.layers.core.dense.Dense object at 0x7f9a26e80850>\n"
          ]
        }
      ]
    },
    {
      "cell_type": "markdown",
      "source": [
        "## Forward Propagation"
      ],
      "metadata": {
        "id": "08QlXcd3UXCq"
      }
    },
    {
      "cell_type": "code",
      "source": [
        "import tensorflow as tf\n",
        "from tensorflow.keras.layers import Dense\n",
        "from tensorflow.keras.models import Sequential\n",
        "from tensorflow.keras.models import Model\n",
        "\n",
        "# input\n",
        "x = tf.random.normal(shape=(4, 6))\n",
        "\n",
        "# sequential method\n",
        "model = Sequential()\n",
        "model.add(Dense(units=3, activation='sigmoid')) # output shape : 4행3열\n",
        "model.add(Dense(units=5, activation='sigmoid')) # output shape : 4행5열\n",
        "\n",
        "# forward propagation\n",
        "Y = model(x)\n",
        "\n",
        "#----------------------------------------------------------------------\n",
        "\n",
        "# model subclassing\n",
        "class MyModel(Model):\n",
        "  def __init__(self):\n",
        "    super(MyModel, self).__init__()\n",
        "    \n",
        "    self.dense1 = Dense(units=5, activation='sigmoid')\n",
        "    self.dense2 = Dense(units=3, activation='sigmoid')\n",
        "# forward propagation\n",
        "  def call(self, x): # 인스턴스가 호출되었을때 해당 연산이 수행된다.\n",
        "    x = self.dense1(x)\n",
        "    x = self.dense2(x)\n",
        "    return x\n",
        "\n",
        "model = MyModel()\n",
        "Y = model(x)"
      ],
      "metadata": {
        "id": "CSAdMHEVUb-m"
      },
      "execution_count": 3,
      "outputs": []
    },
    {
      "cell_type": "code",
      "source": [
        "class MyModel(Model):\n",
        "  def __init__(self, n_nuerons):\n",
        "    super(MyModel, self).__init__()\n",
        "    self.n_nuerons = n_nuerons\n",
        "    self.model = Sequential()\n",
        "    self.model.add(Dense(units=3, activation='sigmoid'))\n",
        "    self.model.add(Dense(units=5, activation='sigmoid'))\n",
        "    \n",
        "  def call(self, x):\n",
        "    x = self.model(x)\n",
        "    return x"
      ],
      "metadata": {
        "id": "5lEjq-eUVcX6"
      },
      "execution_count": 4,
      "outputs": []
    },
    {
      "cell_type": "markdown",
      "source": [
        "# layers in model"
      ],
      "metadata": {
        "id": "R3-E7xk9aXXi"
      }
    },
    {
      "cell_type": "code",
      "source": [
        "import tensorflow as tf\n",
        "from tensorflow.keras.layers import Dense\n",
        "from tensorflow.keras.models import Sequential\n",
        "\n",
        "x = tf.random.normal(shape=(4, 6))\n",
        "\n",
        "model = Sequential() \n",
        "model.add(Dense(units=5, activation='sigmoid'))\n",
        "model.add(Dense(units=3, activation='sigmoid'))\n",
        "\n",
        "Y = model(x)\n",
        "\n",
        "print(type(model.layers)) # 리스트\n",
        "print(model.layers) # 2개의 dense layers로 구성"
      ],
      "metadata": {
        "colab": {
          "base_uri": "https://localhost:8080/"
        },
        "id": "n4JEFHK_abWM",
        "outputId": "9207bce5-c991-4c4c-e298-4ea755679ac5"
      },
      "execution_count": 26,
      "outputs": [
        {
          "output_type": "stream",
          "name": "stdout",
          "text": [
            "<class 'list'>\n",
            "[<keras.layers.core.dense.Dense object at 0x7f9a1ffb5050>, <keras.layers.core.dense.Dense object at 0x7f9a2000cbd0>]\n"
          ]
        }
      ]
    },
    {
      "cell_type": "code",
      "source": [
        "for layer in model.layers:\n",
        "  w, b = layer.get_weights()\n",
        "  print(w.shape, b.shape)"
      ],
      "metadata": {
        "colab": {
          "base_uri": "https://localhost:8080/"
        },
        "id": "yPdD2CF4ClUF",
        "outputId": "88791800-b5f7-4581-e108-afcd4bd18ab2"
      },
      "execution_count": 28,
      "outputs": [
        {
          "output_type": "stream",
          "name": "stdout",
          "text": [
            "(6, 5) (5,)\n",
            "(5, 3) (3,)\n"
          ]
        }
      ]
    },
    {
      "cell_type": "code",
      "source": [
        "print(type(model.trainable_variables))\n",
        "print('-'*50)\n",
        "print(len(model.trainable_variables))\n",
        "print('-'*50)\n",
        "for train_var in model.trainable_variables:\n",
        "  print(train_var.shape) # weight, bias\n",
        "print('-'*50)"
      ],
      "metadata": {
        "colab": {
          "base_uri": "https://localhost:8080/"
        },
        "id": "AT1tVDFjGWMo",
        "outputId": "9aacba32-2daf-4767-f4ad-1ac9629ccf88"
      },
      "execution_count": 33,
      "outputs": [
        {
          "output_type": "stream",
          "name": "stdout",
          "text": [
            "<class 'list'>\n",
            "--------------------------------------------------\n",
            "4\n",
            "--------------------------------------------------\n",
            "(6, 5)\n",
            "(5,)\n",
            "(5, 3)\n",
            "(3,)\n",
            "--------------------------------------------------\n"
          ]
        }
      ]
    }
  ]
}