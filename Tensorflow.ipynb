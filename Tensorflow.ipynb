{
 "cells": [
  {
   "cell_type": "markdown",
   "id": "d0e6b538",
   "metadata": {},
   "source": [
    "# 텐서플로우 시작하기"
   ]
  },
  {
   "cell_type": "code",
   "execution_count": 1,
   "id": "5c4275df",
   "metadata": {
    "ExecuteTime": {
     "end_time": "2022-03-17T03:13:16.408007Z",
     "start_time": "2022-03-17T03:12:46.812588Z"
    }
   },
   "outputs": [],
   "source": [
    "import tensorflow as tf\n",
    "import numpy as np"
   ]
  },
  {
   "cell_type": "code",
   "execution_count": 2,
   "id": "75367d9e",
   "metadata": {
    "ExecuteTime": {
     "end_time": "2022-03-17T03:13:20.943474Z",
     "start_time": "2022-03-17T03:13:20.924524Z"
    }
   },
   "outputs": [
    {
     "name": "stdout",
     "output_type": "stream",
     "text": [
      "2.8.0\n"
     ]
    }
   ],
   "source": [
    "print(tf.__version__)"
   ]
  },
  {
   "cell_type": "markdown",
   "id": "6de71cee",
   "metadata": {},
   "source": [
    "# 텐서의 객체\n",
    "- **타입(type)** : string, float32, float16, int32, int8 등등  \n",
    "- **형상(shape)** : 0, 1, 2차원 등의 데이터 차원\n",
    "- **축(rank)** : 차원의 개수"
   ]
  },
  {
   "cell_type": "markdown",
   "id": "e7df4c20",
   "metadata": {},
   "source": [
    "## 텐서의 차원과 연산"
   ]
  },
  {
   "cell_type": "code",
   "execution_count": 3,
   "id": "36e443f8",
   "metadata": {
    "ExecuteTime": {
     "end_time": "2022-03-16T14:04:12.837781Z",
     "start_time": "2022-03-16T14:04:12.811853Z"
    }
   },
   "outputs": [
    {
     "name": "stdout",
     "output_type": "stream",
     "text": [
      "tf.Tensor(0, shape=(), dtype=int32)\n",
      "tf.Tensor(2, shape=(), dtype=int32)\n"
     ]
    }
   ],
   "source": [
    "a = tf.constant(2)\n",
    "print(tf.rank(a))\n",
    "print(a)\n",
    "\n",
    "# 상수 역할의 텐서 선언\n",
    "# 0차원\n",
    "# a = 2"
   ]
  },
  {
   "cell_type": "code",
   "execution_count": 4,
   "id": "64d41365",
   "metadata": {
    "ExecuteTime": {
     "end_time": "2022-03-16T14:05:55.304589Z",
     "start_time": "2022-03-16T14:05:55.293618Z"
    }
   },
   "outputs": [
    {
     "name": "stdout",
     "output_type": "stream",
     "text": [
      "tf.Tensor(1, shape=(), dtype=int32)\n",
      "tf.Tensor([2 3], shape=(2,), dtype=int32)\n"
     ]
    }
   ],
   "source": [
    "b = tf.constant([2, 3])\n",
    "print(tf.rank(b))\n",
    "print(b)\n",
    "\n",
    "# 1차원\n",
    "# b = [2, 3]"
   ]
  },
  {
   "cell_type": "code",
   "execution_count": 8,
   "id": "45d4c487",
   "metadata": {
    "ExecuteTime": {
     "end_time": "2022-03-16T14:07:57.866332Z",
     "start_time": "2022-03-16T14:07:57.852370Z"
    }
   },
   "outputs": [
    {
     "name": "stdout",
     "output_type": "stream",
     "text": [
      "tf.Tensor(2, shape=(), dtype=int32)\n",
      "tf.Tensor(\n",
      "[[2 3]\n",
      " [6 7]], shape=(2, 2), dtype=int32)\n"
     ]
    }
   ],
   "source": [
    "c = tf.constant([[2, 3], [6, 7]]) \n",
    "print(tf.rank(c))\n",
    "print(c)\n",
    "\n",
    "# 2차원\n",
    "# c = [[2, 3], [6, 7]]"
   ]
  },
  {
   "cell_type": "code",
   "execution_count": 10,
   "id": "a2538b93",
   "metadata": {
    "ExecuteTime": {
     "end_time": "2022-03-16T14:09:41.092944Z",
     "start_time": "2022-03-16T14:09:41.071999Z"
    }
   },
   "outputs": [
    {
     "name": "stdout",
     "output_type": "stream",
     "text": [
      "tf.Tensor(1, shape=(), dtype=int32)\n",
      "tf.Tensor([b'tensorflow'], shape=(1,), dtype=string)\n"
     ]
    }
   ],
   "source": [
    "d = tf.constant([\"tensorflow\"])\n",
    "print(tf.rank(d))\n",
    "print(d)\n",
    "\n",
    "# 1차원\n",
    "# d = \"tensorflow\""
   ]
  },
  {
   "cell_type": "markdown",
   "id": "d23fd116",
   "metadata": {},
   "source": [
    "# 난수생성"
   ]
  },
  {
   "cell_type": "code",
   "execution_count": 15,
   "id": "40e4b3ce",
   "metadata": {
    "ExecuteTime": {
     "end_time": "2022-03-16T14:14:48.685723Z",
     "start_time": "2022-03-16T14:14:48.673753Z"
    }
   },
   "outputs": [
    {
     "name": "stdout",
     "output_type": "stream",
     "text": [
      "(1,)\n",
      "tf.Tensor([0.6491188], shape=(1,), dtype=float32)\n"
     ]
    }
   ],
   "source": [
    "random_uniform = tf.random.uniform([1], 0, 1)\n",
    "print(random_uniform.shape)\n",
    "print(random_uniform)\n",
    "\n",
    "# random은 shape [1], 0 ~ 1사이인 값(균등분포)"
   ]
  },
  {
   "cell_type": "code",
   "execution_count": 25,
   "id": "7d7a3176",
   "metadata": {
    "ExecuteTime": {
     "end_time": "2022-03-16T14:17:51.682456Z",
     "start_time": "2022-03-16T14:17:51.668530Z"
    }
   },
   "outputs": [
    {
     "name": "stdout",
     "output_type": "stream",
     "text": [
      "(1, 2)\n",
      "tf.Tensor([[-0.979869   0.8118605]], shape=(1, 2), dtype=float32)\n"
     ]
    }
   ],
   "source": [
    "random_normal = tf.random.normal([1, 2], 0, 1)\n",
    "print(random_normal.shape)\n",
    "print(random_normal)\n",
    "\n",
    "# random은 shape [1, 2], 평균 0, 표준편차 1인 값(정규분포)"
   ]
  },
  {
   "cell_type": "markdown",
   "id": "30673aa3",
   "metadata": {},
   "source": [
    "# 즉시 실행 모드(Eager Mode) 지원\n",
    "\n",
    "- 즉시 실행모드를 통해 텐서플로우를 파이썬처럼 사용할 수 있다.\n",
    "- 1.x 버전에서는 \"그래프\"를 생성하고, 초기화 한 뒤에 세션을 통해 **값을 흐르게 하는 작업**을 진행해야 한다."
   ]
  },
  {
   "cell_type": "code",
   "execution_count": 29,
   "id": "7d0e596c",
   "metadata": {
    "ExecuteTime": {
     "end_time": "2022-03-16T14:23:34.186660Z",
     "start_time": "2022-03-16T14:23:34.172699Z"
    }
   },
   "outputs": [
    {
     "name": "stdout",
     "output_type": "stream",
     "text": [
      "+\n",
      "tf.Tensor(5, shape=(), dtype=int32)\n",
      "tf.Tensor(5, shape=(), dtype=int32)\n",
      "\n",
      "-\n",
      "tf.Tensor(1, shape=(), dtype=int32)\n",
      "tf.Tensor(1, shape=(), dtype=int32)\n",
      "\n",
      "*\n",
      "tf.Tensor(6, shape=(), dtype=int32)\n",
      "tf.Tensor(6, shape=(), dtype=int32)\n"
     ]
    }
   ],
   "source": [
    "a = tf.constant(3)\n",
    "b = tf.constant(2)\n",
    "\n",
    "print(\"+\")\n",
    "print(tf.add(a, b))\n",
    "print(a + b)\n",
    "print()\n",
    "print(\"-\")\n",
    "print(tf.subtract(a, b))\n",
    "print(a - b)\n",
    "print()\n",
    "print(\"*\")\n",
    "print(tf.multiply(a, b))\n",
    "print(a * b)"
   ]
  },
  {
   "cell_type": "markdown",
   "id": "f41ba07c",
   "metadata": {},
   "source": [
    "# 텐서플로우 ↔ 넘파이\n",
    "\n",
    "- **numpy()**\n",
    "- **tf.convet_to_tensor()**"
   ]
  },
  {
   "cell_type": "code",
   "execution_count": 31,
   "id": "f3dce712",
   "metadata": {
    "ExecuteTime": {
     "end_time": "2022-03-16T14:26:20.558043Z",
     "start_time": "2022-03-16T14:26:20.544078Z"
    }
   },
   "outputs": [
    {
     "name": "stdout",
     "output_type": "stream",
     "text": [
      "<class 'numpy.int32'>\n"
     ]
    }
   ],
   "source": [
    "c = tf.add(a, b).numpy()\n",
    "print(type(c))"
   ]
  },
  {
   "cell_type": "code",
   "execution_count": 32,
   "id": "34cb4254",
   "metadata": {
    "ExecuteTime": {
     "end_time": "2022-03-16T14:28:38.184851Z",
     "start_time": "2022-03-16T14:28:38.163903Z"
    }
   },
   "outputs": [
    {
     "name": "stdout",
     "output_type": "stream",
     "text": [
      "tf.Tensor(25.0, shape=(), dtype=float32)\n",
      "<class 'tensorflow.python.framework.ops.EagerTensor'>\n"
     ]
    }
   ],
   "source": [
    "c_sqaure = np.square(c, dtype = np.float32)\n",
    "c_tensor = tf.convert_to_tensor(c_sqaure)\n",
    "\n",
    "print(c_tensor)\n",
    "print(type(c_tensor))"
   ]
  },
  {
   "cell_type": "markdown",
   "id": "e4a9c38b",
   "metadata": {},
   "source": [
    "# 넘파이처럼 사용하기"
   ]
  },
  {
   "cell_type": "code",
   "execution_count": 35,
   "id": "7831e631",
   "metadata": {
    "ExecuteTime": {
     "end_time": "2022-03-16T14:31:43.733401Z",
     "start_time": "2022-03-16T14:31:43.725421Z"
    }
   },
   "outputs": [
    {
     "name": "stdout",
     "output_type": "stream",
     "text": [
      "(2, 3)\n",
      "<dtype: 'float32'>\n"
     ]
    }
   ],
   "source": [
    "t = tf.constant([[1.0, 2.0, 3.0], [4.0, 5.0, 6.0]])\n",
    "\n",
    "print(t.shape)\n",
    "print(t.dtype)"
   ]
  },
  {
   "cell_type": "code",
   "execution_count": 36,
   "id": "cd388b72",
   "metadata": {
    "ExecuteTime": {
     "end_time": "2022-03-16T14:32:17.567089Z",
     "start_time": "2022-03-16T14:32:17.552125Z"
    }
   },
   "outputs": [
    {
     "name": "stdout",
     "output_type": "stream",
     "text": [
      "tf.Tensor(\n",
      "[[2. 3.]\n",
      " [5. 6.]], shape=(2, 2), dtype=float32)\n"
     ]
    }
   ],
   "source": [
    "print(t[:, 1:])"
   ]
  },
  {
   "cell_type": "code",
   "execution_count": 37,
   "id": "fe64444d",
   "metadata": {
    "ExecuteTime": {
     "end_time": "2022-03-16T14:32:59.340586Z",
     "start_time": "2022-03-16T14:32:59.304679Z"
    }
   },
   "outputs": [
    {
     "data": {
      "text/plain": [
       "<tf.Tensor: shape=(2, 1), dtype=float32, numpy=\n",
       "array([[2.],\n",
       "       [5.]], dtype=float32)>"
      ]
     },
     "execution_count": 37,
     "metadata": {},
     "output_type": "execute_result"
    }
   ],
   "source": [
    "t[..., 1, tf.newaxis]"
   ]
  },
  {
   "cell_type": "code",
   "execution_count": 38,
   "id": "8bc30752",
   "metadata": {
    "ExecuteTime": {
     "end_time": "2022-03-16T14:33:32.560202Z",
     "start_time": "2022-03-16T14:33:32.538261Z"
    }
   },
   "outputs": [
    {
     "data": {
      "text/plain": [
       "<tf.Tensor: shape=(2, 3), dtype=float32, numpy=\n",
       "array([[11., 12., 13.],\n",
       "       [14., 15., 16.]], dtype=float32)>"
      ]
     },
     "execution_count": 38,
     "metadata": {},
     "output_type": "execute_result"
    }
   ],
   "source": [
    "t + 10"
   ]
  },
  {
   "cell_type": "code",
   "execution_count": 39,
   "id": "4cfe6c34",
   "metadata": {
    "ExecuteTime": {
     "end_time": "2022-03-16T14:34:04.913183Z",
     "start_time": "2022-03-16T14:34:04.896192Z"
    }
   },
   "outputs": [
    {
     "data": {
      "text/plain": [
       "<tf.Tensor: shape=(2, 3), dtype=float32, numpy=\n",
       "array([[ 1.,  4.,  9.],\n",
       "       [16., 25., 36.]], dtype=float32)>"
      ]
     },
     "execution_count": 39,
     "metadata": {},
     "output_type": "execute_result"
    }
   ],
   "source": [
    "tf.square(t)"
   ]
  },
  {
   "cell_type": "code",
   "execution_count": 40,
   "id": "941d28aa",
   "metadata": {
    "ExecuteTime": {
     "end_time": "2022-03-16T14:34:48.840191Z",
     "start_time": "2022-03-16T14:34:48.774368Z"
    }
   },
   "outputs": [
    {
     "data": {
      "text/plain": [
       "<tf.Tensor: shape=(2, 2), dtype=float32, numpy=\n",
       "array([[14., 32.],\n",
       "       [32., 77.]], dtype=float32)>"
      ]
     },
     "execution_count": 40,
     "metadata": {},
     "output_type": "execute_result"
    }
   ],
   "source": [
    "t @ tf.transpose(t)"
   ]
  },
  {
   "cell_type": "markdown",
   "id": "66e51c6b",
   "metadata": {},
   "source": [
    "# 타입 변환\n",
    "- **텐서의 기본 dtype**\n",
    "> - float형 텐서 : float32\n",
    "> - int형 텐서 : int32\n",
    "\n",
    "- **연산시 텐서의 타입을 맞춰줘야 함**\n",
    "> - float32 ~ float32 : O\n",
    "> - int32 ~ int32 : O\n",
    "> - float32 ~ int32 : X\n",
    "\n",
    "- **타입 변환에는 tf.cast() 사용**"
   ]
  },
  {
   "cell_type": "code",
   "execution_count": 7,
   "id": "e22342ce",
   "metadata": {
    "ExecuteTime": {
     "end_time": "2022-03-17T03:15:05.650889Z",
     "start_time": "2022-03-17T03:15:05.641911Z"
    },
    "scrolled": true
   },
   "outputs": [],
   "source": [
    "# tf.constant(2.0) + tf.constant(40)\n",
    "\n",
    "# 타입이 다르기 때문에 에러가 발생"
   ]
  },
  {
   "cell_type": "code",
   "execution_count": 9,
   "id": "c6bf8cab",
   "metadata": {
    "ExecuteTime": {
     "end_time": "2022-03-17T03:16:09.987877Z",
     "start_time": "2022-03-17T03:16:09.976940Z"
    }
   },
   "outputs": [],
   "source": [
    "# tf.constant(2.0) + tf.constant(3.0, dtype=tf.float64)\n",
    "\n",
    "# 데이터타입이 같은 float형 이지만, 비트가 달라도 에러가 발생"
   ]
  },
  {
   "cell_type": "code",
   "execution_count": 10,
   "id": "df3b75d6",
   "metadata": {
    "ExecuteTime": {
     "end_time": "2022-03-17T03:18:06.662394Z",
     "start_time": "2022-03-17T03:18:06.636425Z"
    }
   },
   "outputs": [
    {
     "name": "stdout",
     "output_type": "stream",
     "text": [
      "tf.Tensor(34.0, shape=(), dtype=float32)\n"
     ]
    }
   ],
   "source": [
    "a = tf.constant(30.0, dtype=tf.float64)\n",
    "b = tf.constant(4.0)\n",
    "\n",
    "print(tf.cast(a, tf.float32) + b)\n",
    "\n",
    "# a의 타입을 맞추어 실행이 가능"
   ]
  },
  {
   "cell_type": "markdown",
   "id": "a27a6b65",
   "metadata": {},
   "source": [
    "# 오토그래프\n",
    "\n",
    "- **tf.Graph**\n",
    "- tensorflow가 작업을 좀 더 빠르게 동작하게 하기 위한 방법으로 graph로 만들어 연산을 진행\n",
    "- 유연성"
   ]
  },
  {
   "cell_type": "code",
   "execution_count": 11,
   "id": "ba905324",
   "metadata": {
    "ExecuteTime": {
     "end_time": "2022-03-17T03:21:11.241323Z",
     "start_time": "2022-03-17T03:21:11.232347Z"
    }
   },
   "outputs": [],
   "source": [
    "import timeit"
   ]
  },
  {
   "cell_type": "markdown",
   "id": "dc3fac07",
   "metadata": {},
   "source": [
    "## @tf.function\n",
    "\n",
    "- 자동으로 그래프를 생성\n",
    "- 그래프로 변환하여 사용하기때문에 GPU연산이 가능\n",
    "- 파이썬으로 구성된 함수를 텐서플로우의 그래프로 다루고 싶을 떄 사용가능\n",
    "- 원본 함수가 필요하다면 (tf.function).python_function()"
   ]
  },
  {
   "cell_type": "code",
   "execution_count": 12,
   "id": "96cba183",
   "metadata": {
    "ExecuteTime": {
     "end_time": "2022-03-17T03:24:45.135021Z",
     "start_time": "2022-03-17T03:24:44.869757Z"
    }
   },
   "outputs": [
    {
     "name": "stdout",
     "output_type": "stream",
     "text": [
      "tf.Tensor(-13, shape=(), dtype=int32)\n",
      "tf.Tensor(-13, shape=(), dtype=int32)\n"
     ]
    }
   ],
   "source": [
    "@tf.function\n",
    "def test_f(x):\n",
    "    return x**2 - 10*x + 3\n",
    "\n",
    "print(test_f(2))\n",
    "print(test_f(tf.constant(2)))\n",
    "\n",
    "# 모두 텐서 형태의 결과가 나옴"
   ]
  },
  {
   "cell_type": "code",
   "execution_count": 14,
   "id": "8d5b7ad3",
   "metadata": {
    "ExecuteTime": {
     "end_time": "2022-03-17T03:26:45.170167Z",
     "start_time": "2022-03-17T03:26:45.150203Z"
    }
   },
   "outputs": [
    {
     "name": "stdout",
     "output_type": "stream",
     "text": [
      "-13\n",
      "tf.Tensor(-13, shape=(), dtype=int32)\n"
     ]
    }
   ],
   "source": [
    "def test_f_n(x):\n",
    "    return x**2 - 10*x + 3\n",
    "\n",
    "print(test_f_n(2))\n",
    "print(test_f_n(tf.constant(2)))\n",
    "\n",
    "# 다른 결과가 나옴"
   ]
  },
  {
   "cell_type": "code",
   "execution_count": 15,
   "id": "225b8ad6",
   "metadata": {
    "ExecuteTime": {
     "end_time": "2022-03-17T03:28:31.473793Z",
     "start_time": "2022-03-17T03:28:31.427918Z"
    }
   },
   "outputs": [
    {
     "name": "stdout",
     "output_type": "stream",
     "text": [
      "<tensorflow.python.eager.def_function.Function object at 0x0000024637887EE0>\n",
      "tf.Tensor(-13, shape=(), dtype=int32)\n"
     ]
    }
   ],
   "source": [
    "test_change = tf.function(test_f_n)\n",
    "\n",
    "print(test_change)\n",
    "print(test_change(2))\n",
    "\n",
    "# 해당 방식으로 변환하는 것도 가능하다."
   ]
  },
  {
   "cell_type": "code",
   "execution_count": 16,
   "id": "78645fdb",
   "metadata": {
    "ExecuteTime": {
     "end_time": "2022-03-17T03:29:56.515784Z",
     "start_time": "2022-03-17T03:29:56.494861Z"
    }
   },
   "outputs": [
    {
     "data": {
      "text/plain": [
       "-13"
      ]
     },
     "execution_count": 16,
     "metadata": {},
     "output_type": "execute_result"
    }
   ],
   "source": [
    "test_change.python_function(2)\n",
    "\n",
    "# 변환하기 전의 함수의 기능이 필요하다면\n",
    "# 해당 방식으로 활용이 가능하다."
   ]
  },
  {
   "cell_type": "code",
   "execution_count": 19,
   "id": "5e4bfb8d",
   "metadata": {
    "ExecuteTime": {
     "end_time": "2022-03-17T03:34:59.176068Z",
     "start_time": "2022-03-17T03:34:59.091625Z"
    }
   },
   "outputs": [
    {
     "data": {
      "text/plain": [
       "array([[12.]], dtype=float32)"
      ]
     },
     "execution_count": 19,
     "metadata": {},
     "output_type": "execute_result"
    }
   ],
   "source": [
    "def get_faster(x, y, b):\n",
    "    x = tf.matmul(x, y)\n",
    "    x = x+b\n",
    "    return x\n",
    "\n",
    "use_graph = tf.function(get_faster)\n",
    "\n",
    "x1 = tf.constant([[1.0, 2.0]])\n",
    "y1 = tf.constant([[2.0], [3.0]])\n",
    "b1 = tf.constant(4.0)\n",
    "\n",
    "use_graph(x1, y1, b1).numpy()"
   ]
  },
  {
   "cell_type": "code",
   "execution_count": 21,
   "id": "3739e02b",
   "metadata": {
    "ExecuteTime": {
     "end_time": "2022-03-17T03:38:53.803571Z",
     "start_time": "2022-03-17T03:38:53.768661Z"
    }
   },
   "outputs": [
    {
     "data": {
      "text/plain": [
       "array([[12.]], dtype=float32)"
      ]
     },
     "execution_count": 21,
     "metadata": {},
     "output_type": "execute_result"
    }
   ],
   "source": [
    "def inner_function(x, y, b):\n",
    "    x = tf.matmul(x, y)\n",
    "    x = x+b\n",
    "    return x\n",
    "\n",
    "@tf.function\n",
    "def outer_function(x):\n",
    "    y = tf.constant([[2.0], [3.0]])\n",
    "    b = tf.constant(4.0)\n",
    "    return inner_function(x, y, b)\n",
    "\n",
    "outer_function(tf.constant([[1.0, 2.0]])).numpy()"
   ]
  },
  {
   "cell_type": "markdown",
   "id": "ac1e7b8d",
   "metadata": {},
   "source": [
    "텐서플로우가 **tf.function**으로 변환한 코드"
   ]
  },
  {
   "cell_type": "code",
   "execution_count": 23,
   "id": "ce025fe3",
   "metadata": {
    "ExecuteTime": {
     "end_time": "2022-03-17T03:43:01.394005Z",
     "start_time": "2022-03-17T03:43:01.383071Z"
    }
   },
   "outputs": [
    {
     "name": "stdout",
     "output_type": "stream",
     "text": [
      "def tf__test_f_n(x):\n",
      "    with ag__.FunctionScope('test_f_n', 'fscope', ag__.ConversionOptions(recursive=True, user_requested=True, optional_features=(), internal_convert_user_code=True)) as fscope:\n",
      "        do_return = False\n",
      "        retval_ = ag__.UndefinedReturnValue()\n",
      "        try:\n",
      "            do_return = True\n",
      "            retval_ = ag__.ld(x) ** 2 - 10 * ag__.ld(x) + 3\n",
      "        except:\n",
      "            do_return = False\n",
      "            raise\n",
      "        return fscope.ret(retval_, do_return)\n",
      "\n",
      "\n",
      "def tf__outer_function(x):\n",
      "    with ag__.FunctionScope('outer_function', 'fscope', ag__.ConversionOptions(recursive=True, user_requested=True, optional_features=(), internal_convert_user_code=True)) as fscope:\n",
      "        do_return = False\n",
      "        retval_ = ag__.UndefinedReturnValue()\n",
      "        y = ag__.converted_call(ag__.ld(tf).constant, ([[2.0], [3.0]],), None, fscope)\n",
      "        b = ag__.converted_call(ag__.ld(tf).constant, (4.0,), None, fscope)\n",
      "        try:\n",
      "            do_return = True\n",
      "            retval_ = ag__.converted_call(ag__.ld(inner_function), (ag__.ld(x), ag__.ld(y), ag__.ld(b)), None, fscope)\n",
      "        except:\n",
      "            do_return = False\n",
      "            raise\n",
      "        return fscope.ret(retval_, do_return)\n",
      "\n"
     ]
    }
   ],
   "source": [
    "print(tf.autograph.to_code(test_change.python_function))\n",
    "print()\n",
    "print(tf.autograph.to_code(outer_function.python_function))"
   ]
  },
  {
   "cell_type": "markdown",
   "id": "6336a375",
   "metadata": {},
   "source": [
    "**속도 향상**"
   ]
  },
  {
   "cell_type": "code",
   "execution_count": 27,
   "id": "39d15ed0",
   "metadata": {
    "ExecuteTime": {
     "end_time": "2022-03-17T03:52:29.298113Z",
     "start_time": "2022-03-17T03:52:10.763271Z"
    }
   },
   "outputs": [
    {
     "name": "stdout",
     "output_type": "stream",
     "text": [
      "Eager model time :  13.160503999999946\n",
      "Graph model time :  5.34745410000005\n"
     ]
    }
   ],
   "source": [
    "class SequentialModel(tf.keras.Model):\n",
    "    def __init__(self, **kwargs):\n",
    "        super(SequentialModel, self).__init__(**kwargs)\n",
    "        self.flatten = tf.keras.layers.Flatten(input_shape=(28, 28))\n",
    "        self.dense_1 = tf.keras.layers.Dense(128, activation=\"relu\")\n",
    "        self.dropout = tf.keras.layers.Dropout(0.2)\n",
    "        self.dense_2 = tf.keras.layers.Dense(10)\n",
    "        \n",
    "    def call(self, x):\n",
    "        x = self.flatten(x)\n",
    "        x = self.dense_1(x)\n",
    "        x = self.dropout(x)\n",
    "        x = self.dense_2(x)\n",
    "        return x\n",
    "    \n",
    "input_data = tf.random.uniform([60, 28, 28])\n",
    "\n",
    "eager_model = SequentialModel()\n",
    "graph_model = tf.function(eager_model)\n",
    "\n",
    "print(\"Eager model time : \", timeit.timeit(lambda: eager_model(input_data), number=10000))\n",
    "print(\"Graph model time : \", timeit.timeit(lambda: graph_model(input_data), number=10000))\n",
    "\n",
    "# eager 모드로는 동작을 확인하고\n",
    "# 실제의 동작은 graph로 동작하는게 좋다"
   ]
  },
  {
   "cell_type": "code",
   "execution_count": null,
   "id": "d340d12b",
   "metadata": {},
   "outputs": [],
   "source": []
  }
 ],
 "metadata": {
  "kernelspec": {
   "display_name": "Python 3 (ipykernel)",
   "language": "python",
   "name": "python3"
  },
  "language_info": {
   "codemirror_mode": {
    "name": "ipython",
    "version": 3
   },
   "file_extension": ".py",
   "mimetype": "text/x-python",
   "name": "python",
   "nbconvert_exporter": "python",
   "pygments_lexer": "ipython3",
   "version": "3.9.7"
  },
  "toc": {
   "base_numbering": 1,
   "nav_menu": {},
   "number_sections": true,
   "sideBar": true,
   "skip_h1_title": false,
   "title_cell": "Table of Contents",
   "title_sidebar": "Contents",
   "toc_cell": false,
   "toc_position": {},
   "toc_section_display": true,
   "toc_window_display": true
  },
  "varInspector": {
   "cols": {
    "lenName": 16,
    "lenType": 16,
    "lenVar": 40
   },
   "kernels_config": {
    "python": {
     "delete_cmd_postfix": "",
     "delete_cmd_prefix": "del ",
     "library": "var_list.py",
     "varRefreshCmd": "print(var_dic_list())"
    },
    "r": {
     "delete_cmd_postfix": ") ",
     "delete_cmd_prefix": "rm(",
     "library": "var_list.r",
     "varRefreshCmd": "cat(var_dic_list()) "
    }
   },
   "types_to_exclude": [
    "module",
    "function",
    "builtin_function_or_method",
    "instance",
    "_Feature"
   ],
   "window_display": false
  }
 },
 "nbformat": 4,
 "nbformat_minor": 5
}
