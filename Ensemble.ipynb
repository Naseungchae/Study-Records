{
 "cells": [
  {
   "cell_type": "markdown",
   "id": "285ab2b8",
   "metadata": {},
   "source": [
    "# Ensemble\n",
    "= 여러 개의 분류기를 생성하고, 그 예측을 결합함으로써 보다 정확한 예측을 도출하는 기법\n",
    "\n",
    "- 앙상블에는 크게 두가지의 종류가 존재한다\n",
    "\n",
    "> **평균 방법**\n",
    "> - 여러개의 추정값을 독립적으로 구한뒤 평균을 취하는 방법이다.  \n",
    "> - 결합 추정값은 분산이 줄어들기 때문에 단일 추정값보다 좋은 성능을 보인다.\n",
    "\n",
    "\n",
    "> **부스팅 방법**  \n",
    "> - 순차적으로 모델을 생성  \n",
    "> - 결합된 모델의 편향을 감소 시키기 위해 노력\n",
    "> - 부스팅 방법의 목표는 여러개의 약한 모델들을 결합하여 하나의 강력한 앙상블 모델을 구축하는 것"
   ]
  },
  {
   "cell_type": "code",
   "execution_count": 51,
   "id": "916419e3",
   "metadata": {
    "ExecuteTime": {
     "end_time": "2022-02-17T05:09:54.932774Z",
     "start_time": "2022-02-17T05:09:54.920794Z"
    }
   },
   "outputs": [],
   "source": [
    "from sklearn.datasets import load_iris, load_boston\n",
    "from sklearn.preprocessing import StandardScaler\n",
    "from sklearn.pipeline import make_pipeline\n",
    "from sklearn.model_selection import cross_validate"
   ]
  },
  {
   "cell_type": "code",
   "execution_count": 9,
   "id": "3c65014b",
   "metadata": {
    "ExecuteTime": {
     "end_time": "2022-02-17T04:34:48.001075Z",
     "start_time": "2022-02-17T04:34:47.989107Z"
    }
   },
   "outputs": [],
   "source": [
    "from sklearn.ensemble import BaggingClassifier\n",
    "from sklearn.neighbors import KNeighborsClassifier\n",
    "from sklearn.svm import SVC\n",
    "from sklearn.tree import DecisionTreeClassifier"
   ]
  },
  {
   "cell_type": "code",
   "execution_count": 7,
   "id": "704634a2",
   "metadata": {
    "ExecuteTime": {
     "end_time": "2022-02-17T04:28:34.401332Z",
     "start_time": "2022-02-17T04:28:34.394337Z"
    }
   },
   "outputs": [],
   "source": [
    "from sklearn.ensemble import BaggingRegressor\n",
    "from sklearn.neighbors import KNeighborsRegressor\n",
    "from sklearn.svm import SVR\n",
    "from sklearn.tree import DecisionTreeRegressor"
   ]
  },
  {
   "cell_type": "markdown",
   "id": "6fdf10f2",
   "metadata": {},
   "source": [
    "## Bagging\n",
    "- **원래 훈련 데이터셋의 일부를 사용하여 여러 모델을 훈련시킨다.**\n",
    "- 각각의 결과를 결합하여 최종 결과를 생성한다.\n",
    "- 분산을 줄이고 과대적합을 막을 수 있다.\n",
    "- 강력하며, 복잡한 모델에서도 잘 동작한다."
   ]
  },
  {
   "cell_type": "code",
   "execution_count": 41,
   "id": "1472dde4",
   "metadata": {
    "ExecuteTime": {
     "end_time": "2022-02-17T05:00:46.074409Z",
     "start_time": "2022-02-17T05:00:46.049516Z"
    }
   },
   "outputs": [],
   "source": [
    "import warnings\n",
    "warnings.filterwarnings(action='ignore')\n",
    "iris = load_iris()\n",
    "boston = load_boston()"
   ]
  },
  {
   "cell_type": "markdown",
   "id": "d15a8890",
   "metadata": {},
   "source": [
    "### Classification"
   ]
  },
  {
   "cell_type": "markdown",
   "id": "224ee713",
   "metadata": {},
   "source": [
    "#### iris KNN"
   ]
  },
  {
   "cell_type": "code",
   "execution_count": 43,
   "id": "0e616279",
   "metadata": {
    "ExecuteTime": {
     "end_time": "2022-02-17T05:02:07.150700Z",
     "start_time": "2022-02-17T05:02:07.139728Z"
    }
   },
   "outputs": [],
   "source": [
    "iris_knn = make_pipeline(StandardScaler(), \n",
    "                          KNeighborsClassifier()\n",
    "                          )\n",
    "\n",
    "iris_knn_bagging = BaggingClassifier(base_estimator = iris_model, n_estimators = 10, \n",
    "                                max_features = 0.5, max_samples = 0.5)\n",
    "\n",
    "# 기본의iris_knn에서 0.5정도만 사용"
   ]
  },
  {
   "cell_type": "code",
   "execution_count": 45,
   "id": "3dd2b76e",
   "metadata": {
    "ExecuteTime": {
     "end_time": "2022-02-17T05:05:58.957778Z",
     "start_time": "2022-02-17T05:05:58.911868Z"
    }
   },
   "outputs": [
    {
     "name": "stdout",
     "output_type": "stream",
     "text": [
      "average fit time : 0.0019933223724365235 (+/- 2.7746842433883964e-06)\n",
      "average score time : 0.004004192352294922 (+/- 0.0011065113818782804)\n",
      "average test score : 0.96 (+/- 0.024944382578492935)\n"
     ]
    }
   ],
   "source": [
    "cross_val = cross_validate(estimator = iris_knn,\n",
    "                          X = iris.data, y = iris.target,\n",
    "                          cv = 5)\n",
    "\n",
    "print(\"average fit time : {} (+/- {})\".format(cross_val[\"fit_time\"].mean(), cross_val[\"fit_time\"].std()))\n",
    "print(\"average score time : {} (+/- {})\".format(cross_val[\"score_time\"].mean(), cross_val[\"score_time\"].std()))\n",
    "print(\"average test score : {} (+/- {})\".format(cross_val[\"test_score\"].mean(), cross_val[\"test_score\"].std()))"
   ]
  },
  {
   "cell_type": "markdown",
   "id": "5144ca0c",
   "metadata": {},
   "source": [
    "#### iris KNN Bagging"
   ]
  },
  {
   "cell_type": "code",
   "execution_count": 30,
   "id": "d85ee93d",
   "metadata": {
    "ExecuteTime": {
     "end_time": "2022-02-17T04:47:18.944675Z",
     "start_time": "2022-02-17T04:47:18.772838Z"
    }
   },
   "outputs": [
    {
     "name": "stdout",
     "output_type": "stream",
     "text": [
      "average fit time : 0.021535062789916994 (+/- 0.004797821733570343)\n",
      "average score time : 0.007786417007446289 (+/- 0.00040252209768852805)\n",
      "average test score : 0.9533333333333334 (+/- 0.03399346342395189)\n"
     ]
    }
   ],
   "source": [
    "cross_val = cross_validate(estimator = iris_knn_bagging,\n",
    "                          X = iris.data, y = iris.target,\n",
    "                          cv = 5)\n",
    "\n",
    "print(\"average fit time : {} (+/- {})\".format(cross_val[\"fit_time\"].mean(), cross_val[\"fit_time\"].std()))\n",
    "print(\"average score time : {} (+/- {})\".format(cross_val[\"score_time\"].mean(), cross_val[\"score_time\"].std()))\n",
    "print(\"average test score : {} (+/- {})\".format(cross_val[\"test_score\"].mean(), cross_val[\"test_score\"].std()))"
   ]
  },
  {
   "cell_type": "markdown",
   "id": "749df444",
   "metadata": {},
   "source": [
    "#### iris SVC"
   ]
  },
  {
   "cell_type": "code",
   "execution_count": 31,
   "id": "a72ae01b",
   "metadata": {
    "ExecuteTime": {
     "end_time": "2022-02-17T04:48:12.015871Z",
     "start_time": "2022-02-17T04:48:11.995914Z"
    }
   },
   "outputs": [],
   "source": [
    "iris_svc = make_pipeline(StandardScaler(),\n",
    "                        SVC()\n",
    "                        )\n",
    "\n",
    "iris_svc_bagging = BaggingClassifier(base_estimator = iris_svc, n_estimators = 10,\n",
    "                                    max_features = 0.5, max_samples = 0.5)"
   ]
  },
  {
   "cell_type": "code",
   "execution_count": 33,
   "id": "32ad7f92",
   "metadata": {
    "ExecuteTime": {
     "end_time": "2022-02-17T04:50:53.001707Z",
     "start_time": "2022-02-17T04:50:52.969791Z"
    }
   },
   "outputs": [
    {
     "name": "stdout",
     "output_type": "stream",
     "text": [
      "average fit time : 0.0021936893463134766 (+/- 0.0007455882741681918)\n",
      "average score time : 0.0009976863861083985 (+/- 0.000631052762736764)\n",
      "average test score : 0.9666666666666666 (+/- 0.02108185106778919)\n"
     ]
    }
   ],
   "source": [
    "cross_val = cross_validate(estimator = iris_svc,\n",
    "                          X = iris.data, y = iris.target,\n",
    "                          cv = 5)\n",
    "\n",
    "print(\"average fit time : {} (+/- {})\".format(cross_val[\"fit_time\"].mean(), cross_val[\"fit_time\"].std()))\n",
    "print(\"average score time : {} (+/- {})\".format(cross_val[\"score_time\"].mean(), cross_val[\"score_time\"].std()))\n",
    "print(\"average test score : {} (+/- {})\".format(cross_val[\"test_score\"].mean(), cross_val[\"test_score\"].std()))"
   ]
  },
  {
   "cell_type": "markdown",
   "id": "bac1e82b",
   "metadata": {},
   "source": [
    "#### iris SVC Bagging"
   ]
  },
  {
   "cell_type": "code",
   "execution_count": 34,
   "id": "b1155544",
   "metadata": {
    "ExecuteTime": {
     "end_time": "2022-02-17T04:51:48.244284Z",
     "start_time": "2022-02-17T04:51:48.047557Z"
    }
   },
   "outputs": [
    {
     "name": "stdout",
     "output_type": "stream",
     "text": [
      "average fit time : 0.02992706298828125 (+/- 0.006490435433792393)\n",
      "average score time : 0.004191255569458008 (+/- 0.0003982642200416217)\n",
      "average test score : 0.96 (+/- 0.024944382578492935)\n"
     ]
    }
   ],
   "source": [
    "cross_val = cross_validate(estimator = iris_svc_bagging,\n",
    "                          X = iris.data, y = iris.target,\n",
    "                          cv = 5)\n",
    "\n",
    "print(\"average fit time : {} (+/- {})\".format(cross_val[\"fit_time\"].mean(), cross_val[\"fit_time\"].std()))\n",
    "print(\"average score time : {} (+/- {})\".format(cross_val[\"score_time\"].mean(), cross_val[\"score_time\"].std()))\n",
    "print(\"average test score : {} (+/- {})\".format(cross_val[\"test_score\"].mean(), cross_val[\"test_score\"].std()))"
   ]
  },
  {
   "cell_type": "markdown",
   "id": "5f94ea81",
   "metadata": {},
   "source": [
    "#### iris DecisionTree"
   ]
  },
  {
   "cell_type": "code",
   "execution_count": 35,
   "id": "4d3f879f",
   "metadata": {
    "ExecuteTime": {
     "end_time": "2022-02-17T04:56:07.184437Z",
     "start_time": "2022-02-17T04:56:07.170436Z"
    }
   },
   "outputs": [],
   "source": [
    "iris_tree = make_pipeline(StandardScaler(),\n",
    "                         DecisionTreeClassifier()\n",
    "                         )\n",
    "\n",
    "iris_tree_bagging = BaggingClassifier(base_estimator = iris_tree, n_estimators = 10,\n",
    "                                     max_features = 0.5, max_samples = 0.5)"
   ]
  },
  {
   "cell_type": "code",
   "execution_count": 65,
   "id": "d5507d39",
   "metadata": {
    "ExecuteTime": {
     "end_time": "2022-02-17T05:18:35.517884Z",
     "start_time": "2022-02-17T05:18:35.480981Z"
    }
   },
   "outputs": [
    {
     "name": "stdout",
     "output_type": "stream",
     "text": [
      "average fit time : 0.02412114143371582 (+/- 0.007954490027704174)\n",
      "average score time : 0.009182357788085937 (+/- 0.0003956886163107236)\n",
      "average test score : 0.44556487915030996 (+/- 0.13415137085068926)\n"
     ]
    }
   ],
   "source": [
    "corss_val = cross_validate(estimator = iris_tree,\n",
    "                          X = iris.data, y = iris.target,\n",
    "                          cv = 5)\n",
    "\n",
    "print(\"average fit time : {} (+/- {})\".format(cross_val[\"fit_time\"].mean(), cross_val[\"fit_time\"].std()))\n",
    "print(\"average score time : {} (+/- {})\".format(cross_val[\"score_time\"].mean(), cross_val[\"score_time\"].std()))\n",
    "print(\"average test score : {} (+/- {})\".format(cross_val[\"test_score\"].mean(), cross_val[\"test_score\"].std()))"
   ]
  },
  {
   "cell_type": "markdown",
   "id": "b6cb427d",
   "metadata": {},
   "source": [
    "#### iris DecisionTree Bagging"
   ]
  },
  {
   "cell_type": "code",
   "execution_count": 68,
   "id": "8007f0d1",
   "metadata": {
    "ExecuteTime": {
     "end_time": "2022-02-17T05:18:38.480812Z",
     "start_time": "2022-02-17T05:18:38.283337Z"
    }
   },
   "outputs": [
    {
     "name": "stdout",
     "output_type": "stream",
     "text": [
      "average fit time : 0.02412114143371582 (+/- 0.007954490027704174)\n",
      "average score time : 0.009182357788085937 (+/- 0.0003956886163107236)\n",
      "average test score : 0.44556487915030996 (+/- 0.13415137085068926)\n"
     ]
    }
   ],
   "source": [
    "corss_val = cross_validate(estimator = iris_tree_bagging,\n",
    "                          X = iris.data, y = iris.target,\n",
    "                          cv = 5)\n",
    "\n",
    "print(\"average fit time : {} (+/- {})\".format(cross_val[\"fit_time\"].mean(), cross_val[\"fit_time\"].std()))\n",
    "print(\"average score time : {} (+/- {})\".format(cross_val[\"score_time\"].mean(), cross_val[\"score_time\"].std()))\n",
    "print(\"average test score : {} (+/- {})\".format(cross_val[\"test_score\"].mean(), cross_val[\"test_score\"].std()))"
   ]
  },
  {
   "cell_type": "markdown",
   "id": "83ca42a4",
   "metadata": {},
   "source": [
    "### Regression"
   ]
  },
  {
   "cell_type": "markdown",
   "id": "db5d9e51",
   "metadata": {},
   "source": [
    "#### boston knn"
   ]
  },
  {
   "cell_type": "code",
   "execution_count": 48,
   "id": "8747a2b2",
   "metadata": {
    "ExecuteTime": {
     "end_time": "2022-02-17T05:08:41.202059Z",
     "start_time": "2022-02-17T05:08:41.183111Z"
    }
   },
   "outputs": [],
   "source": [
    "boston_knn = make_pipeline(StandardScaler(),\n",
    "                          KNeighborsRegressor()\n",
    "                          )\n",
    "\n",
    "boston_knn_bagging = BaggingRegressor(base_estimator = boston_knn, n_estimators = 10,\n",
    "                                      max_features = 0.5, max_samples = 0.5)"
   ]
  },
  {
   "cell_type": "code",
   "execution_count": 49,
   "id": "a5efec81",
   "metadata": {
    "ExecuteTime": {
     "end_time": "2022-02-17T05:08:42.269267Z",
     "start_time": "2022-02-17T05:08:42.216407Z"
    }
   },
   "outputs": [
    {
     "name": "stdout",
     "output_type": "stream",
     "text": [
      "average fit time : 0.0027962207794189455 (+/- 0.0007418829424542464)\n",
      "average score time : 0.003586435317993164 (+/- 0.0004916793146278901)\n",
      "average test score : 0.47357748833823543 (+/- 0.13243123464477455)\n"
     ]
    }
   ],
   "source": [
    "cross_val = cross_validate(estimator = boston_knn,\n",
    "                          X = boston.data, y = boston.target,\n",
    "                          cv = 5)\n",
    "\n",
    "print(\"average fit time : {} (+/- {})\".format(cross_val[\"fit_time\"].mean(), cross_val[\"fit_time\"].std()))\n",
    "print(\"average score time : {} (+/- {})\".format(cross_val[\"score_time\"].mean(), cross_val[\"score_time\"].std()))\n",
    "print(\"average test score : {} (+/- {})\".format(cross_val[\"test_score\"].mean(), cross_val[\"test_score\"].std()))"
   ]
  },
  {
   "cell_type": "markdown",
   "id": "be8f623e",
   "metadata": {},
   "source": [
    "#### boston knn bagging"
   ]
  },
  {
   "cell_type": "code",
   "execution_count": 50,
   "id": "b2c375ff",
   "metadata": {
    "ExecuteTime": {
     "end_time": "2022-02-17T05:08:43.448629Z",
     "start_time": "2022-02-17T05:08:43.268726Z"
    }
   },
   "outputs": [
    {
     "name": "stdout",
     "output_type": "stream",
     "text": [
      "average fit time : 0.022930669784545898 (+/- 0.0070117737310611845)\n",
      "average score time : 0.008983230590820313 (+/- 2.503581267199729e-05)\n",
      "average test score : 0.4989683535998036 (+/- 0.1084425246780574)\n"
     ]
    }
   ],
   "source": [
    "cross_val = cross_validate(estimator = boston_knn_bagging,\n",
    "                          X = boston.data, y = boston.target,\n",
    "                          cv = 5)\n",
    "\n",
    "print(\"average fit time : {} (+/- {})\".format(cross_val[\"fit_time\"].mean(), cross_val[\"fit_time\"].std()))\n",
    "print(\"average score time : {} (+/- {})\".format(cross_val[\"score_time\"].mean(), cross_val[\"score_time\"].std()))\n",
    "print(\"average test score : {} (+/- {})\".format(cross_val[\"test_score\"].mean(), cross_val[\"test_score\"].std()))"
   ]
  },
  {
   "cell_type": "markdown",
   "id": "025a6ac7",
   "metadata": {},
   "source": [
    "#### boston SVR"
   ]
  },
  {
   "cell_type": "code",
   "execution_count": 52,
   "id": "d74907c5",
   "metadata": {
    "ExecuteTime": {
     "end_time": "2022-02-17T05:10:55.833923Z",
     "start_time": "2022-02-17T05:10:55.813976Z"
    }
   },
   "outputs": [],
   "source": [
    "boston_svr = make_pipeline(StandardScaler(),\n",
    "                          SVR()\n",
    "                          )\n",
    "\n",
    "boston_svr_bagging = BaggingRegressor(base_estimator = boston_knn, n_estimators = 10,\n",
    "                                      max_features = 0.5, max_samples = 0.5)"
   ]
  },
  {
   "cell_type": "code",
   "execution_count": 53,
   "id": "1d053863",
   "metadata": {
    "ExecuteTime": {
     "end_time": "2022-02-17T05:11:24.990648Z",
     "start_time": "2022-02-17T05:11:24.871966Z"
    }
   },
   "outputs": [
    {
     "name": "stdout",
     "output_type": "stream",
     "text": [
      "average fit time : 0.013968229293823242 (+/- 0.002751560513061811)\n",
      "average score time : 0.005778646469116211 (+/- 0.0011632634527032667)\n",
      "average test score : 0.17631266230186618 (+/- 0.5224914915128981)\n"
     ]
    }
   ],
   "source": [
    "cross_val = cross_validate(estimator = boston_svr,\n",
    "                          X = boston.data, y = boston.target,\n",
    "                          cv = 5)\n",
    "\n",
    "print(\"average fit time : {} (+/- {})\".format(cross_val[\"fit_time\"].mean(), cross_val[\"fit_time\"].std()))\n",
    "print(\"average score time : {} (+/- {})\".format(cross_val[\"score_time\"].mean(), cross_val[\"score_time\"].std()))\n",
    "print(\"average test score : {} (+/- {})\".format(cross_val[\"test_score\"].mean(), cross_val[\"test_score\"].std()))"
   ]
  },
  {
   "cell_type": "markdown",
   "id": "c031dcfb",
   "metadata": {},
   "source": [
    "#### boston SVR Bagging"
   ]
  },
  {
   "cell_type": "code",
   "execution_count": 54,
   "id": "9f75836a",
   "metadata": {
    "ExecuteTime": {
     "end_time": "2022-02-17T05:11:41.543822Z",
     "start_time": "2022-02-17T05:11:41.357619Z"
    }
   },
   "outputs": [
    {
     "name": "stdout",
     "output_type": "stream",
     "text": [
      "average fit time : 0.023935794830322266 (+/- 0.008052494211595275)\n",
      "average score time : 0.009773540496826171 (+/- 0.001162875697232742)\n",
      "average test score : 0.38587448537050645 (+/- 0.12392405727203822)\n"
     ]
    }
   ],
   "source": [
    "cross_val = cross_validate(estimator = boston_svr_bagging,\n",
    "                          X = boston.data, y = boston.target,\n",
    "                          cv = 5)\n",
    "\n",
    "print(\"average fit time : {} (+/- {})\".format(cross_val[\"fit_time\"].mean(), cross_val[\"fit_time\"].std()))\n",
    "print(\"average score time : {} (+/- {})\".format(cross_val[\"score_time\"].mean(), cross_val[\"score_time\"].std()))\n",
    "print(\"average test score : {} (+/- {})\".format(cross_val[\"test_score\"].mean(), cross_val[\"test_score\"].std()))"
   ]
  },
  {
   "cell_type": "markdown",
   "id": "c8dfe0a8",
   "metadata": {},
   "source": [
    "#### boston DecisionTree "
   ]
  },
  {
   "cell_type": "code",
   "execution_count": 56,
   "id": "d49c68e8",
   "metadata": {
    "ExecuteTime": {
     "end_time": "2022-02-17T05:14:02.092672Z",
     "start_time": "2022-02-17T05:14:02.073721Z"
    }
   },
   "outputs": [],
   "source": [
    "boston_tree = make_pipeline(StandardScaler(),\n",
    "                          DecisionTreeRegressor()\n",
    "                          )\n",
    "\n",
    "boston_tree_bagging = BaggingRegressor(base_estimator = boston_knn, n_estimators = 10,\n",
    "                                      max_features = 0.5, max_samples = 0.5)"
   ]
  },
  {
   "cell_type": "code",
   "execution_count": 57,
   "id": "afdf640a",
   "metadata": {
    "ExecuteTime": {
     "end_time": "2022-02-17T05:14:25.992714Z",
     "start_time": "2022-02-17T05:14:25.929918Z"
    }
   },
   "outputs": [
    {
     "name": "stdout",
     "output_type": "stream",
     "text": [
      "average fit time : 0.005784845352172852 (+/- 0.0007482912194524381)\n",
      "average score time : 0.001196432113647461 (+/- 0.00039957472675885484)\n",
      "average test score : 0.21915663487761144 (+/- 0.6225445810950914)\n"
     ]
    }
   ],
   "source": [
    "cross_val = cross_validate(estimator = boston_tree,\n",
    "                          X = boston.data, y = boston.target,\n",
    "                          cv = 5)\n",
    "\n",
    "print(\"average fit time : {} (+/- {})\".format(cross_val[\"fit_time\"].mean(), cross_val[\"fit_time\"].std()))\n",
    "print(\"average score time : {} (+/- {})\".format(cross_val[\"score_time\"].mean(), cross_val[\"score_time\"].std()))\n",
    "print(\"average test score : {} (+/- {})\".format(cross_val[\"test_score\"].mean(), cross_val[\"test_score\"].std()))"
   ]
  },
  {
   "cell_type": "markdown",
   "id": "d345acc1",
   "metadata": {},
   "source": [
    "#### boston DecisionTree Bagging"
   ]
  },
  {
   "cell_type": "code",
   "execution_count": 58,
   "id": "96db047b",
   "metadata": {
    "ExecuteTime": {
     "end_time": "2022-02-17T05:14:38.381304Z",
     "start_time": "2022-02-17T05:14:38.195838Z"
    }
   },
   "outputs": [
    {
     "name": "stdout",
     "output_type": "stream",
     "text": [
      "average fit time : 0.02412114143371582 (+/- 0.007954490027704174)\n",
      "average score time : 0.009182357788085937 (+/- 0.0003956886163107236)\n",
      "average test score : 0.44556487915030996 (+/- 0.13415137085068926)\n"
     ]
    }
   ],
   "source": [
    "cross_val = cross_validate(estimator = boston_tree_bagging,\n",
    "                          X = boston.data, y = boston.target,\n",
    "                          cv = 5)\n",
    "\n",
    "print(\"average fit time : {} (+/- {})\".format(cross_val[\"fit_time\"].mean(), cross_val[\"fit_time\"].std()))\n",
    "print(\"average score time : {} (+/- {})\".format(cross_val[\"score_time\"].mean(), cross_val[\"score_time\"].std()))\n",
    "print(\"average test score : {} (+/- {})\".format(cross_val[\"test_score\"].mean(), cross_val[\"test_score\"].std()))"
   ]
  },
  {
   "cell_type": "markdown",
   "id": "0de3774a",
   "metadata": {},
   "source": [
    "## Forests of randomized trees\n",
    "= 훈련 과정에서 구성한 다수의 결정 트리로부터 분류 또는 평균 회귀를 출력함으로써 동작한다.\n",
    "\n",
    "- sklearn 모듈에는 무작위 결정 트리를 기반으로하는 두개의 평균화 알고리즘이 존재한다.\n",
    "> - RandomForest  \n",
    "> - Extra-Trees"
   ]
  },
  {
   "cell_type": "code",
   "execution_count": 69,
   "id": "f7da1f83",
   "metadata": {
    "ExecuteTime": {
     "end_time": "2022-02-17T05:26:42.553639Z",
     "start_time": "2022-02-17T05:26:42.542669Z"
    }
   },
   "outputs": [],
   "source": [
    "from sklearn.ensemble import RandomForestClassifier, ExtraTreesClassifier\n",
    "from sklearn.ensemble import RandomForestRegressor, ExtraTreesRegressor"
   ]
  },
  {
   "cell_type": "markdown",
   "id": "86300f52",
   "metadata": {},
   "source": [
    "## RandomForest"
   ]
  },
  {
   "cell_type": "markdown",
   "id": "f835dd3a",
   "metadata": {},
   "source": [
    "### Classification"
   ]
  },
  {
   "cell_type": "code",
   "execution_count": 70,
   "id": "f2c52368",
   "metadata": {
    "ExecuteTime": {
     "end_time": "2022-02-17T05:28:09.278261Z",
     "start_time": "2022-02-17T05:28:09.266256Z"
    }
   },
   "outputs": [],
   "source": [
    "randomforest_c = make_pipeline(StandardScaler(),\n",
    "                              RandomForestClassifier()\n",
    "                              )"
   ]
  },
  {
   "cell_type": "code",
   "execution_count": 73,
   "id": "b14d2508",
   "metadata": {
    "ExecuteTime": {
     "end_time": "2022-02-17T05:31:43.052262Z",
     "start_time": "2022-02-17T05:31:42.313237Z"
    }
   },
   "outputs": [
    {
     "name": "stdout",
     "output_type": "stream",
     "text": [
      "average fit time : 0.13385615348815919 (+/- 0.020059034488315777)\n",
      "average score time : 0.010163593292236327 (+/- 0.00040684257710672746)\n",
      "average test score : 0.96 (+/- 0.024944382578492935)\n"
     ]
    }
   ],
   "source": [
    "cross_val = cross_validate(estimator = randomforest_c,\n",
    "                          X = iris.data, y = iris.target,\n",
    "                          cv = 5)\n",
    "\n",
    "print(\"average fit time : {} (+/- {})\".format(cross_val[\"fit_time\"].mean(), cross_val[\"fit_time\"].std()))\n",
    "print(\"average score time : {} (+/- {})\".format(cross_val[\"score_time\"].mean(), cross_val[\"score_time\"].std()))\n",
    "print(\"average test score : {} (+/- {})\".format(cross_val[\"test_score\"].mean(), cross_val[\"test_score\"].std()))\n",
    "\n",
    "# 성능이 향상"
   ]
  },
  {
   "cell_type": "markdown",
   "id": "be7e7613",
   "metadata": {},
   "source": [
    "###  Regression"
   ]
  },
  {
   "cell_type": "code",
   "execution_count": 75,
   "id": "df2732ae",
   "metadata": {
    "ExecuteTime": {
     "end_time": "2022-02-17T05:32:22.943746Z",
     "start_time": "2022-02-17T05:32:22.932775Z"
    }
   },
   "outputs": [],
   "source": [
    "randomforest_r = make_pipeline(StandardScaler(),\n",
    "                              RandomForestRegressor()\n",
    "                              )"
   ]
  },
  {
   "cell_type": "code",
   "execution_count": 77,
   "id": "4ee531f7",
   "metadata": {
    "ExecuteTime": {
     "end_time": "2022-02-17T05:33:15.765738Z",
     "start_time": "2022-02-17T05:33:14.266246Z"
    }
   },
   "outputs": [
    {
     "name": "stdout",
     "output_type": "stream",
     "text": [
      "average fit time : 0.28603382110595704 (+/- 0.02261478515490323)\n",
      "average score time : 0.010172796249389649 (+/- 0.0011639402947409513)\n",
      "average test score : 0.623148569100421 (+/- 0.23222488470273897)\n"
     ]
    }
   ],
   "source": [
    "cross_val = cross_validate(estimator = randomforest_r,\n",
    "                          X = boston.data, y = boston.target,\n",
    "                          cv = 5)\n",
    "\n",
    "print(\"average fit time : {} (+/- {})\".format(cross_val[\"fit_time\"].mean(), cross_val[\"fit_time\"].std()))\n",
    "print(\"average score time : {} (+/- {})\".format(cross_val[\"score_time\"].mean(), cross_val[\"score_time\"].std()))\n",
    "print(\"average test score : {} (+/- {})\".format(cross_val[\"test_score\"].mean(), cross_val[\"test_score\"].std()))\n",
    "\n",
    "# 성능이 향상"
   ]
  },
  {
   "cell_type": "markdown",
   "id": "3cd8810d",
   "metadata": {},
   "source": [
    "## Extra-Trees"
   ]
  },
  {
   "cell_type": "markdown",
   "id": "b593ff72",
   "metadata": {},
   "source": [
    "### Classification"
   ]
  },
  {
   "cell_type": "code",
   "execution_count": 78,
   "id": "2a6e9090",
   "metadata": {
    "ExecuteTime": {
     "end_time": "2022-02-17T05:36:00.698669Z",
     "start_time": "2022-02-17T05:36:00.688695Z"
    }
   },
   "outputs": [],
   "source": [
    "extra_c = make_pipeline(StandardScaler(),\n",
    "                              ExtraTreesClassifier()\n",
    "                              )"
   ]
  },
  {
   "cell_type": "code",
   "execution_count": 83,
   "id": "db6370ad",
   "metadata": {
    "ExecuteTime": {
     "end_time": "2022-02-17T05:36:27.578967Z",
     "start_time": "2022-02-17T05:36:27.044184Z"
    }
   },
   "outputs": [
    {
     "name": "stdout",
     "output_type": "stream",
     "text": [
      "average fit time : 0.09295186996459961 (+/- 0.00693884215397248)\n",
      "average score time : 0.0107696533203125 (+/- 0.00039830351965931246)\n",
      "average test score : 0.9533333333333334 (+/- 0.03399346342395189)\n"
     ]
    }
   ],
   "source": [
    "cross_val = cross_validate(estimator = extra_c,\n",
    "                          X = iris.data, y = iris.target,\n",
    "                          cv = 5)\n",
    "\n",
    "print(\"average fit time : {} (+/- {})\".format(cross_val[\"fit_time\"].mean(), cross_val[\"fit_time\"].std()))\n",
    "print(\"average score time : {} (+/- {})\".format(cross_val[\"score_time\"].mean(), cross_val[\"score_time\"].std()))\n",
    "print(\"average test score : {} (+/- {})\".format(cross_val[\"test_score\"].mean(), cross_val[\"test_score\"].std()))"
   ]
  },
  {
   "cell_type": "markdown",
   "id": "8fa6f944",
   "metadata": {},
   "source": [
    "### Regression"
   ]
  },
  {
   "cell_type": "code",
   "execution_count": 89,
   "id": "c7190993",
   "metadata": {
    "ExecuteTime": {
     "end_time": "2022-02-17T05:38:13.781055Z",
     "start_time": "2022-02-17T05:38:13.770085Z"
    }
   },
   "outputs": [],
   "source": [
    "extra_r = make_pipeline(StandardScaler(),\n",
    "                              ExtraTreesRegressor()\n",
    "                              )"
   ]
  },
  {
   "cell_type": "code",
   "execution_count": 106,
   "id": "c6863f9d",
   "metadata": {
    "ExecuteTime": {
     "end_time": "2022-02-17T06:58:45.809627Z",
     "start_time": "2022-02-17T06:58:44.791382Z"
    }
   },
   "outputs": [
    {
     "name": "stdout",
     "output_type": "stream",
     "text": [
      "average fit time : 0.1883028507232666 (+/- 0.008917615360325438)\n",
      "average score time : 0.009766912460327149 (+/- 0.0003955036578596711)\n",
      "average test score : 0.6354965106421536 (+/- 0.2593049813175649)\n"
     ]
    }
   ],
   "source": [
    "cross_val = cross_validate(estimator = extra_r,\n",
    "                          X = boston.data, y = boston.target,\n",
    "                          cv = 5)\n",
    "\n",
    "print(\"average fit time : {} (+/- {})\".format(cross_val[\"fit_time\"].mean(), cross_val[\"fit_time\"].std()))\n",
    "print(\"average score time : {} (+/- {})\".format(cross_val[\"score_time\"].mean(), cross_val[\"score_time\"].std()))\n",
    "print(\"average test score : {} (+/- {})\".format(cross_val[\"test_score\"].mean(), cross_val[\"test_score\"].std()))"
   ]
  },
  {
   "cell_type": "markdown",
   "id": "ce031ea0",
   "metadata": {},
   "source": [
    "## AdaBoost\n",
    "= 일련의 약한 모델들을 학습하고, 수정된 버전의 데이터를 반복 학습한다(가중치 적용)\n",
    "\n",
    "- 가중치 투표(합)을 통해 각 모델의 예측 값을 결합\n",
    "- 첫 단계에서는 원본 데이터를 학습하고 연속적인 반복마다 개별 샘플에 대한 가중치가 수정되고 다시 모델이 학습된다.\n",
    "- 잘못 예측된 샘플을 가중치가 증가, 올바르게 예측된 샘플은 가중치가 감소한다.\n",
    "- 각각의 약한 모델들은 예측하기 어려운 샘플에 집중하게 된다."
   ]
  },
  {
   "cell_type": "code",
   "execution_count": 92,
   "id": "994261a2",
   "metadata": {
    "ExecuteTime": {
     "end_time": "2022-02-17T06:33:32.787058Z",
     "start_time": "2022-02-17T06:33:32.770068Z"
    }
   },
   "outputs": [],
   "source": [
    "from sklearn.ensemble import AdaBoostClassifier\n",
    "from sklearn.ensemble import AdaBoostRegressor"
   ]
  },
  {
   "cell_type": "markdown",
   "id": "fa77f6c1",
   "metadata": {},
   "source": [
    "### Classification"
   ]
  },
  {
   "cell_type": "code",
   "execution_count": 93,
   "id": "544ff815",
   "metadata": {
    "ExecuteTime": {
     "end_time": "2022-02-17T06:34:34.712934Z",
     "start_time": "2022-02-17T06:34:34.699969Z"
    }
   },
   "outputs": [],
   "source": [
    "ada_c = make_pipeline(StandardScaler(),\n",
    "                     AdaBoostClassifier()\n",
    "                     )"
   ]
  },
  {
   "cell_type": "code",
   "execution_count": 94,
   "id": "897f04e4",
   "metadata": {
    "ExecuteTime": {
     "end_time": "2022-02-17T06:35:22.589920Z",
     "start_time": "2022-02-17T06:35:22.167004Z"
    }
   },
   "outputs": [
    {
     "name": "stdout",
     "output_type": "stream",
     "text": [
      "average fit time : 0.07201619148254394 (+/- 0.01305048609306411)\n",
      "average score time : 0.008774471282958985 (+/- 0.0014650649177584778)\n",
      "average test score : 0.9466666666666667 (+/- 0.03399346342395189)\n"
     ]
    }
   ],
   "source": [
    "cross_val = cross_validate(estimator = ada_c,\n",
    "                          X = iris.data, y = iris.target,\n",
    "                          cv = 5)\n",
    "\n",
    "print(\"average fit time : {} (+/- {})\".format(cross_val[\"fit_time\"].mean(), cross_val[\"fit_time\"].std()))\n",
    "print(\"average score time : {} (+/- {})\".format(cross_val[\"score_time\"].mean(), cross_val[\"score_time\"].std()))\n",
    "print(\"average test score : {} (+/- {})\".format(cross_val[\"test_score\"].mean(), cross_val[\"test_score\"].std()))"
   ]
  },
  {
   "cell_type": "markdown",
   "id": "9d4ca91a",
   "metadata": {},
   "source": [
    "### Regression"
   ]
  },
  {
   "cell_type": "code",
   "execution_count": 95,
   "id": "07875f9a",
   "metadata": {
    "ExecuteTime": {
     "end_time": "2022-02-17T06:36:19.481905Z",
     "start_time": "2022-02-17T06:36:19.473928Z"
    }
   },
   "outputs": [],
   "source": [
    "ada_r = make_pipeline(StandardScaler(),\n",
    "                     AdaBoostRegressor()\n",
    "                     )"
   ]
  },
  {
   "cell_type": "code",
   "execution_count": 114,
   "id": "c3d79759",
   "metadata": {
    "ExecuteTime": {
     "end_time": "2022-02-17T06:59:03.379210Z",
     "start_time": "2022-02-17T06:59:02.878212Z"
    }
   },
   "outputs": [
    {
     "name": "stdout",
     "output_type": "stream",
     "text": [
      "average fit time : 0.09035835266113282 (+/- 0.013714208168123142)\n",
      "average score time : 0.004786348342895508 (+/- 0.0003985654047703985)\n",
      "average test score : 0.5934762459746185 (+/- 0.20548122707660724)\n"
     ]
    }
   ],
   "source": [
    "cross_val = cross_validate(estimator = ada_r,\n",
    "                          X = boston.data, y = boston.target,\n",
    "                          cv = 5)\n",
    "\n",
    "print(\"average fit time : {} (+/- {})\".format(cross_val[\"fit_time\"].mean(), cross_val[\"fit_time\"].std()))\n",
    "print(\"average score time : {} (+/- {})\".format(cross_val[\"score_time\"].mean(), cross_val[\"score_time\"].std()))\n",
    "print(\"average test score : {} (+/- {})\".format(cross_val[\"test_score\"].mean(), cross_val[\"test_score\"].std()))"
   ]
  },
  {
   "cell_type": "markdown",
   "id": "3ba07633",
   "metadata": {},
   "source": [
    "## GradientBoost\n",
    "= 임의의 차별화 가능한 손실함수로 일반화한 부스팅 알고리즘\n",
    "\n",
    "- 웹 검색, 분류 및 회귀 등 다양한 분야에서 모두 사용이 가능하다."
   ]
  },
  {
   "cell_type": "code",
   "execution_count": 98,
   "id": "9be87e18",
   "metadata": {
    "ExecuteTime": {
     "end_time": "2022-02-17T06:55:07.043110Z",
     "start_time": "2022-02-17T06:55:07.036129Z"
    }
   },
   "outputs": [],
   "source": [
    "from sklearn.ensemble import GradientBoostingClassifier\n",
    "from sklearn.ensemble import GradientBoostingRegressor"
   ]
  },
  {
   "cell_type": "markdown",
   "id": "624f8828",
   "metadata": {},
   "source": [
    "### Classification"
   ]
  },
  {
   "cell_type": "code",
   "execution_count": 99,
   "id": "733b5955",
   "metadata": {
    "ExecuteTime": {
     "end_time": "2022-02-17T06:56:44.595657Z",
     "start_time": "2022-02-17T06:56:44.580663Z"
    }
   },
   "outputs": [],
   "source": [
    "gb_c = make_pipeline(StandardScaler(),\n",
    "                     GradientBoostingClassifier()\n",
    "                     )"
   ]
  },
  {
   "cell_type": "code",
   "execution_count": 100,
   "id": "7b825d9a",
   "metadata": {
    "ExecuteTime": {
     "end_time": "2022-02-17T06:57:07.273834Z",
     "start_time": "2022-02-17T06:57:06.271514Z"
    }
   },
   "outputs": [
    {
     "name": "stdout",
     "output_type": "stream",
     "text": [
      "average fit time : 0.1966726303100586 (+/- 0.020000318288203093)\n",
      "average score time : 0.0009993553161621095 (+/- 1.910921565009487e-06)\n",
      "average test score : 0.9666666666666668 (+/- 0.02108185106778919)\n"
     ]
    }
   ],
   "source": [
    "cross_val = cross_validate(estimator = gb_c,\n",
    "                          X = iris.data, y = iris.target,\n",
    "                          cv = 5)\n",
    "\n",
    "print(\"average fit time : {} (+/- {})\".format(cross_val[\"fit_time\"].mean(), cross_val[\"fit_time\"].std()))\n",
    "print(\"average score time : {} (+/- {})\".format(cross_val[\"score_time\"].mean(), cross_val[\"score_time\"].std()))\n",
    "print(\"average test score : {} (+/- {})\".format(cross_val[\"test_score\"].mean(), cross_val[\"test_score\"].std()))"
   ]
  },
  {
   "cell_type": "markdown",
   "id": "af434f6b",
   "metadata": {},
   "source": [
    "### Regression"
   ]
  },
  {
   "cell_type": "code",
   "execution_count": 103,
   "id": "3a955f5e",
   "metadata": {
    "ExecuteTime": {
     "end_time": "2022-02-17T06:57:54.235428Z",
     "start_time": "2022-02-17T06:57:54.217477Z"
    }
   },
   "outputs": [],
   "source": [
    "gb_r = make_pipeline(StandardScaler(),\n",
    "                     GradientBoostingRegressor()\n",
    "                     )"
   ]
  },
  {
   "cell_type": "code",
   "execution_count": 104,
   "id": "f5088c95",
   "metadata": {
    "ExecuteTime": {
     "end_time": "2022-02-17T06:57:55.853778Z",
     "start_time": "2022-02-17T06:57:55.234428Z"
    }
   },
   "outputs": [
    {
     "name": "stdout",
     "output_type": "stream",
     "text": [
      "average fit time : 0.11708593368530273 (+/- 0.0068690894225995605)\n",
      "average score time : 0.00079803466796875 (+/- 0.0003990175334262532)\n",
      "average test score : 0.6802070477119095 (+/- 0.1497104387996135)\n"
     ]
    }
   ],
   "source": [
    "cross_val = cross_validate(estimator = gb_r,\n",
    "                          X = boston.data, y = boston.target,\n",
    "                          cv = 5)\n",
    "\n",
    "print(\"average fit time : {} (+/- {})\".format(cross_val[\"fit_time\"].mean(), cross_val[\"fit_time\"].std()))\n",
    "print(\"average score time : {} (+/- {})\".format(cross_val[\"score_time\"].mean(), cross_val[\"score_time\"].std()))\n",
    "print(\"average test score : {} (+/- {})\".format(cross_val[\"test_score\"].mean(), cross_val[\"test_score\"].std()))\n",
    "\n",
    "# test score가 향상"
   ]
  },
  {
   "cell_type": "markdown",
   "id": "6c6540c5",
   "metadata": {},
   "source": [
    "## Voting\n",
    "= 서로 다른 모델들의 결과를 투표를 통해 결합하는 방식이다.\n",
    "- 두가지의 방식으로 투표 가능하다.\n",
    "> - 다수의 분류기가 예측한 결과값을 최종 결과로 선정(hard voting)\n",
    "> - 모든 분류기가 예측한 레이블 값의 결정 확률 평균을 구한 뒤 가장 확률이 높은 레이블 값을 최종 결과로 선정(soft voting)"
   ]
  },
  {
   "cell_type": "code",
   "execution_count": 132,
   "id": "41f36840",
   "metadata": {
    "ExecuteTime": {
     "end_time": "2022-02-17T07:25:09.999624Z",
     "start_time": "2022-02-17T07:25:09.991644Z"
    }
   },
   "outputs": [],
   "source": [
    "from sklearn.ensemble import VotingClassifier\n",
    "from sklearn.svm import SVC\n",
    "from sklearn.naive_bayes import GaussianNB\n",
    "from sklearn.ensemble import RandomForestClassifier\n",
    "from sklearn.model_selection import cross_val_score\n",
    "from sklearn.linear_model import LinearRegression\n",
    "from sklearn.ensemble import GradientBoostingRegressor\n",
    "from sklearn.ensemble import RandomForestRegressor\n",
    "from sklearn.ensemble import VotingRegressor"
   ]
  },
  {
   "cell_type": "markdown",
   "id": "e093aaae",
   "metadata": {},
   "source": [
    "### Classification"
   ]
  },
  {
   "cell_type": "markdown",
   "id": "02c3084f",
   "metadata": {},
   "source": [
    "#### hard voting"
   ]
  },
  {
   "cell_type": "code",
   "execution_count": 116,
   "id": "feb1fbce",
   "metadata": {
    "ExecuteTime": {
     "end_time": "2022-02-17T07:12:15.489174Z",
     "start_time": "2022-02-17T07:12:15.469269Z"
    }
   },
   "outputs": [],
   "source": [
    "model1 = SVC()\n",
    "model2 = GaussianNB()\n",
    "model3 = RandomForestClassifier()\n",
    "hard_voting = VotingClassifier(estimators = [(\"SVC\", model1), (\"GaussianNB\", model2), (\"RandomForest\", model3)],\n",
    "                              voting = \"hard\")"
   ]
  },
  {
   "cell_type": "code",
   "execution_count": 127,
   "id": "179dbd58",
   "metadata": {
    "ExecuteTime": {
     "end_time": "2022-02-17T07:17:36.616178Z",
     "start_time": "2022-02-17T07:17:35.193018Z"
    }
   },
   "outputs": [
    {
     "name": "stdout",
     "output_type": "stream",
     "text": [
      "[SVC] : Accuracy = 0.97\n",
      "[GaussianNB] : Accuracy = 0.95\n",
      "[RandomForestClassifier] : Accuracy = 0.97\n",
      "[VotingClassifier] : Accuracy = 0.97\n"
     ]
    }
   ],
   "source": [
    "for i in (model1, model2, model3, hard_voting):\n",
    "    model_name = str(type(i)).split(\".\")[-1][:-2]\n",
    "    scores = cross_val_score( i, iris.data, iris.target, cv = 5)\n",
    "    print(\"[%s] : Accuracy = %0.2f\" %(model_name, scores.mean()))\n",
    "    \n",
    "# 다수의 분류기가 0.97로 예측하여 해당 결과를 최종 결과로 선정"
   ]
  },
  {
   "cell_type": "markdown",
   "id": "88206e3a",
   "metadata": {},
   "source": [
    "#### soft voting"
   ]
  },
  {
   "cell_type": "code",
   "execution_count": 128,
   "id": "ca4aa199",
   "metadata": {
    "ExecuteTime": {
     "end_time": "2022-02-17T07:20:38.543981Z",
     "start_time": "2022-02-17T07:20:38.529019Z"
    }
   },
   "outputs": [],
   "source": [
    "model1 = SVC(probability = True)\n",
    "model2 = GaussianNB()\n",
    "model3 = RandomForestClassifier()\n",
    "soft_voting = VotingClassifier(estimators = [(\"SVC\", model1), (\"GaussianNB\", model2), (\"RandomForest\", model3)],\n",
    "                              voting = \"soft\",\n",
    "                              weights = [2, 1, 2])"
   ]
  },
  {
   "cell_type": "code",
   "execution_count": 130,
   "id": "0ed2e391",
   "metadata": {
    "ExecuteTime": {
     "end_time": "2022-02-17T07:21:03.342416Z",
     "start_time": "2022-02-17T07:21:01.901283Z"
    }
   },
   "outputs": [
    {
     "name": "stdout",
     "output_type": "stream",
     "text": [
      "[SVC] : Accuracy = 0.97\n",
      "[GaussianNB] : Accuracy = 0.95\n",
      "[RandomForestClassifier] : Accuracy = 0.97\n",
      "[VotingClassifier] : Accuracy = 0.96\n"
     ]
    }
   ],
   "source": [
    "for i in (model1, model2, model3, hard_voting):\n",
    "    model_name = str(type(i)).split(\".\")[-1][:-2]\n",
    "    scores = cross_val_score( i, iris.data, iris.target, cv = 5)\n",
    "    print(\"[%s] : Accuracy = %0.2f\" %(model_name, scores.mean()))\n",
    "    \n",
    "# 다수의 분류기가 예측한 결과를 평균내어 해당 결과를 최종 결과로 선정  "
   ]
  },
  {
   "cell_type": "markdown",
   "id": "e085f3e5",
   "metadata": {},
   "source": [
    "### Regression"
   ]
  },
  {
   "cell_type": "code",
   "execution_count": 136,
   "id": "e6ef4c70",
   "metadata": {
    "ExecuteTime": {
     "end_time": "2022-02-17T07:30:37.796262Z",
     "start_time": "2022-02-17T07:30:37.788282Z"
    }
   },
   "outputs": [],
   "source": [
    "model1 = LinearRegression()\n",
    "model2 = GradientBoostingRegressor()\n",
    "model3 = RandomForestRegressor()\n",
    "voting = VotingRegressor(estimators = [(\"Linear\", model1), (\"GB\", model2), (\"RF\", model3)],\n",
    "                             weights = [1, 1, 1])"
   ]
  },
  {
   "cell_type": "code",
   "execution_count": 137,
   "id": "6aecc54b",
   "metadata": {
    "ExecuteTime": {
     "end_time": "2022-02-17T07:30:47.033447Z",
     "start_time": "2022-02-17T07:30:42.958273Z"
    }
   },
   "outputs": [
    {
     "name": "stdout",
     "output_type": "stream",
     "text": [
      "[LinearRegression] : R2 = 0.35\n",
      "[GradientBoostingRegressor] : R2 = 0.67\n",
      "[RandomForestRegressor] : R2 = 0.62\n",
      "[VotingRegressor] : R2 = 0.66\n"
     ]
    }
   ],
   "source": [
    "for i in (model1, model2, model3, voting):\n",
    "    model_name = str(type(i)).split(\".\")[-1][:-2]\n",
    "    scores = cross_val_score( i, boston.data, boston.target, cv = 5)\n",
    "    print(\"[%s] : R2 = %0.2f\" %(model_name, scores.mean()))"
   ]
  },
  {
   "cell_type": "markdown",
   "id": "893ba532",
   "metadata": {},
   "source": [
    "## Stacked Generalization\n",
    "= 각 모델의 예측값을 최종 모델의 입력으로 사용한다\n",
    "\n",
    "- 모델의 편향을 줄이는데 효과적이다."
   ]
  },
  {
   "cell_type": "code",
   "execution_count": 141,
   "id": "9195ec13",
   "metadata": {
    "ExecuteTime": {
     "end_time": "2022-02-17T07:42:23.347452Z",
     "start_time": "2022-02-17T07:42:23.329503Z"
    }
   },
   "outputs": [],
   "source": [
    "from sklearn.linear_model import Ridge, Lasso, LogisticRegression\n",
    "from sklearn.svm import SVR, SVC\n",
    "from sklearn.naive_bayes import GaussianNB\n",
    "from sklearn.ensemble import RandomForestClassifier\n",
    "from sklearn.ensemble import GradientBoostingRegressor\n",
    "from sklearn.ensemble import StackingRegressor, StackingClassifier"
   ]
  },
  {
   "cell_type": "markdown",
   "id": "82ef3e25",
   "metadata": {},
   "source": [
    "### Classification"
   ]
  },
  {
   "cell_type": "code",
   "execution_count": 144,
   "id": "1de5d323",
   "metadata": {
    "ExecuteTime": {
     "end_time": "2022-02-17T07:46:40.481176Z",
     "start_time": "2022-02-17T07:46:40.464184Z"
    }
   },
   "outputs": [],
   "source": [
    "estimators = [(\"logistic\", LogisticRegression(max_iter = 10000)),\n",
    "              (\"svc\", SVC()),\n",
    "              (\"GNB\", GaussianNB())]\n",
    "\n",
    "clf = StackingClassifier(estimators = estimators,\n",
    "                        final_estimator = RandomForestClassifier())"
   ]
  },
  {
   "cell_type": "code",
   "execution_count": 145,
   "id": "f0eb040e",
   "metadata": {
    "ExecuteTime": {
     "end_time": "2022-02-17T07:46:43.945822Z",
     "start_time": "2022-02-17T07:46:42.195501Z"
    }
   },
   "outputs": [
    {
     "name": "stdout",
     "output_type": "stream",
     "text": [
      "average fit time : 0.33370089530944824 (+/- 0.036935397695164775)\n",
      "average score time : 0.011574554443359374 (+/- 0.0007919144996185815)\n",
      "average test score : 0.9666666666666666 (+/- 0.02108185106778919)\n"
     ]
    }
   ],
   "source": [
    "cross_val = cross_validate(estimator = clf,\n",
    "                          X = iris.data, y = iris.target,\n",
    "                          cv = 5)\n",
    "\n",
    "print(\"average fit time : {} (+/- {})\".format(cross_val[\"fit_time\"].mean(), cross_val[\"fit_time\"].std()))\n",
    "print(\"average score time : {} (+/- {})\".format(cross_val[\"score_time\"].mean(), cross_val[\"score_time\"].std()))\n",
    "print(\"average test score : {} (+/- {})\".format(cross_val[\"test_score\"].mean(), cross_val[\"test_score\"].std()))"
   ]
  },
  {
   "cell_type": "markdown",
   "id": "2c813b82",
   "metadata": {},
   "source": [
    "### Regression"
   ]
  },
  {
   "cell_type": "code",
   "execution_count": 139,
   "id": "36c0911b",
   "metadata": {
    "ExecuteTime": {
     "end_time": "2022-02-17T07:39:30.421998Z",
     "start_time": "2022-02-17T07:39:30.406041Z"
    }
   },
   "outputs": [],
   "source": [
    "estimators = [(\"ridge\", Ridge()),\n",
    "             (\"lasso\", Lasso()),\n",
    "             (\"svr\", SVR())]\n",
    "\n",
    "reg = make_pipeline(StandardScaler(),\n",
    "                   StackingRegressor(estimators = estimators,\n",
    "                                    final_estimator = GradientBoostingRegressor()),\n",
    "                   )"
   ]
  },
  {
   "cell_type": "code",
   "execution_count": 140,
   "id": "946bd6b5",
   "metadata": {
    "ExecuteTime": {
     "end_time": "2022-02-17T07:40:20.390706Z",
     "start_time": "2022-02-17T07:40:19.353514Z"
    }
   },
   "outputs": [
    {
     "name": "stdout",
     "output_type": "stream",
     "text": [
      "average fit time : 0.19128780364990233 (+/- 0.01856398236198369)\n",
      "average score time : 0.009375762939453126 (+/- 0.0017377884978557812)\n",
      "average test score : 0.3262265367383581 (+/- 0.33062351487314573)\n"
     ]
    }
   ],
   "source": [
    "cross_val = cross_validate(estimator = reg,\n",
    "                          X = boston.data, y = boston.target,\n",
    "                          cv = 5)\n",
    "\n",
    "print(\"average fit time : {} (+/- {})\".format(cross_val[\"fit_time\"].mean(), cross_val[\"fit_time\"].std()))\n",
    "print(\"average score time : {} (+/- {})\".format(cross_val[\"score_time\"].mean(), cross_val[\"score_time\"].std()))\n",
    "print(\"average test score : {} (+/- {})\".format(cross_val[\"test_score\"].mean(), cross_val[\"test_score\"].std()))"
   ]
  }
 ],
 "metadata": {
  "kernelspec": {
   "display_name": "Python 3 (ipykernel)",
   "language": "python",
   "name": "python3"
  },
  "language_info": {
   "codemirror_mode": {
    "name": "ipython",
    "version": 3
   },
   "file_extension": ".py",
   "mimetype": "text/x-python",
   "name": "python",
   "nbconvert_exporter": "python",
   "pygments_lexer": "ipython3",
   "version": "3.8.12"
  },
  "toc": {
   "base_numbering": 1,
   "nav_menu": {},
   "number_sections": true,
   "sideBar": true,
   "skip_h1_title": false,
   "title_cell": "Table of Contents",
   "title_sidebar": "Contents",
   "toc_cell": false,
   "toc_position": {
    "height": "calc(100% - 180px)",
    "left": "10px",
    "top": "150px",
    "width": "409.6px"
   },
   "toc_section_display": true,
   "toc_window_display": true
  },
  "varInspector": {
   "cols": {
    "lenName": 16,
    "lenType": 16,
    "lenVar": 40
   },
   "kernels_config": {
    "python": {
     "delete_cmd_postfix": "",
     "delete_cmd_prefix": "del ",
     "library": "var_list.py",
     "varRefreshCmd": "print(var_dic_list())"
    },
    "r": {
     "delete_cmd_postfix": ") ",
     "delete_cmd_prefix": "rm(",
     "library": "var_list.r",
     "varRefreshCmd": "cat(var_dic_list()) "
    }
   },
   "types_to_exclude": [
    "module",
    "function",
    "builtin_function_or_method",
    "instance",
    "_Feature"
   ],
   "window_display": false
  }
 },
 "nbformat": 4,
 "nbformat_minor": 5
}
